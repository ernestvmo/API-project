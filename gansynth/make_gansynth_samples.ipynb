{
  "cells": [
    {
      "cell_type": "markdown",
      "metadata": {
        "id": "0J2z5Sh6wZrP"
      },
      "source": [
        "## 1: Environment Setup\n",
        "\n",
        "\n",
        "This notebook synthesizes audio from uploaded MIDI files. There are two different flavors:\n",
        "* Interpolate between random instruments\n",
        "* Interpolate between two chosen instruments\n",
        "\n",
        "\n",
        "Have fun! And please feel free to hack this notebook to make your own creative interactions.\n",
        "\n",
        "### Instructions for running:\n",
        "\n",
        "* Make sure to use a GPU runtime, click:  __Runtime >> Change Runtime Type >> GPU__\n",
        "* Then press the **Play** button on the left of each of the cells\n",
        "* Double-click any of the cells to view the code\n",
        "\n"
      ]
    },
    {
      "cell_type": "code",
      "execution_count": null,
      "metadata": {
        "id": "dwQleTRmCoE5",
        "colab": {
          "base_uri": "https://localhost:8080/"
        },
        "outputId": "464b2874-1e57-41d4-b8cd-5712ed1123c1"
      },
      "outputs": [
        {
          "output_type": "stream",
          "name": "stdout",
          "text": [
            "Copying data from GCS...\n",
            "  % Total    % Received % Xferd  Average Speed   Time    Time     Time  Current\n",
            "                                 Dload  Upload   Total   Spent    Left  Speed\n",
            "100  4922  100  4922    0     0  27651      0 --:--:-- --:--:-- --:--:-- 27651\n",
            "  % Total    % Received % Xferd  Average Speed   Time    Time     Time  Current\n",
            "                                 Dload  Upload   Total   Spent    Left  Speed\n",
            "100  1083  100  1083    0     0   151k      0 --:--:-- --:--:-- --:--:--  151k\n",
            "  % Total    % Received % Xferd  Average Speed   Time    Time     Time  Current\n",
            "                                 Dload  Upload   Total   Spent    Left  Speed\n",
            "100  174M  100  174M    0     0   106M      0  0:00:01  0:00:01 --:--:--  106M\n",
            "Archive:  /content/all_instruments.zip\n",
            "replace all_instruments/experiment.json? [y]es, [n]o, [A]ll, [N]one, [r]ename: N\n",
            "\tadam_beta1: 0.0\n",
            "\tadam_beta2: 0.99\n",
            "\taudio_length: 64000\n",
            "\tbatch_size_schedule: [8]\n",
            "\td_fn: specgram\n",
            "\tdata_normalizer: specgrams_prespecified_normalizer\n",
            "\tdata_type: mel\n",
            "\tdataset_name: nsynth_tfds\n",
            "\tdebug_hook: False\n",
            "\tdiscriminator_ac_loss_weight: 10.0\n",
            "\tdiscriminator_learning_rate: 0.0008\n",
            "\tfake_batch_size: 61\n",
            "\tfmap_base: 4096\n",
            "\tfmap_decay: 1.0\n",
            "\tfmap_max: 256\n",
            "\tg_fn: specgram\n",
            "\tgan:\n",
            "\tgen_gl_consistency_loss_weight: 0.0\n",
            "\tgenerator_ac_loss_weight: 10.0\n",
            "\tgenerator_learning_rate: 0.0008\n",
            "\tgradient_penalty_target: 1.0\n",
            "\tgradient_penalty_weight: 10.0\n",
            "\tkernel_size: 3\n",
            "\tlatent_vector_size: 256\n",
            "\tmag_normalizer_a: 0.0661371661726\n",
            "\tmag_normalizer_b: 0.113718730221\n",
            "\tmaster: \n",
            "\tnormalizer_margin: 0.8\n",
            "\tnormalizer_num_examples: 1000\n",
            "\tnum_resolutions: 7\n",
            "\tp_normalizer_a: 0.8\n",
            "\tp_normalizer_b: 0.0\n",
            "\tps_tasks: 0\n",
            "\treal_score_penalty_weight: 0.001\n",
            "\tsample_rate: 16000\n",
            "\tsave_summaries_num_images: 10000\n",
            "\tscale_base: 2\n",
            "\tscale_mode: ALL\n",
            "\tsimple_arch: False\n",
            "\tstable_stage_num_images: 800000\n",
            "\tstart_height: 2\n",
            "\tstart_width: 16\n",
            "\ttask: 0\n",
            "\ttfds_data_dir: gs://tfds-data/datasets\n",
            "\tto_rgb_activation: tanh\n",
            "\ttotal_num_images: 11000000\n",
            "\ttrain_data_path: /tmp/gansynth/nsynth-train.tfrecord\n",
            "\ttrain_progressive: True\n",
            "\ttrain_root_dir: /content/all_instruments\n",
            "\ttrain_time_limit: None\n",
            "\ttrain_time_stage_multiplier: 1.0\n",
            "\ttransition_stage_num_images: 800000\n",
            "Load model from /content/all_instruments/stage_00012/./model.ckpt-11000000\n"
          ]
        },
        {
          "output_type": "stream",
          "name": "stderr",
          "text": [
            "/usr/local/lib/python3.7/dist-packages/tensorflow/python/keras/legacy_tf_layers/core.py:332: UserWarning: `tf.layers.flatten` is deprecated and will be removed in a future version. Please use `tf.keras.layers.Flatten` instead.\n",
            "  warnings.warn('`tf.layers.flatten` is deprecated and '\n",
            "/usr/local/lib/python3.7/dist-packages/tensorflow/python/keras/engine/base_layer_v1.py:1694: UserWarning: `layer.apply` is deprecated and will be removed in a future version. Please use `layer.__call__` method instead.\n",
            "  warnings.warn('`layer.apply` is deprecated and '\n",
            "/usr/local/lib/python3.7/dist-packages/magenta/models/gansynth/lib/layers.py:284: UserWarning: `tf.layers.conv2d` is deprecated and will be removed in a future version. Please Use `tf.keras.layers.Conv2D` instead.\n",
            "  kernel_initializer=kernel_initializer)\n",
            "/usr/local/lib/python3.7/dist-packages/keras/legacy_tf_layers/convolutional.py:575: UserWarning: `layer.apply` is deprecated and will be removed in a future version. Please use `layer.__call__` method instead.\n",
            "  return layer.apply(inputs)\n",
            "/usr/local/lib/python3.7/dist-packages/magenta/models/gansynth/lib/layers.py:323: UserWarning: `tf.layers.flatten` is deprecated and will be removed in a future version. Please use `tf.keras.layers.Flatten` instead.\n",
            "  x = tf.layers.flatten(x)\n",
            "/usr/local/lib/python3.7/dist-packages/keras/legacy_tf_layers/core.py:541: UserWarning: `layer.apply` is deprecated and will be removed in a future version. Please use `layer.__call__` method instead.\n",
            "  return layer.apply(inputs)\n",
            "/usr/local/lib/python3.7/dist-packages/magenta/models/gansynth/lib/layers.py:330: UserWarning: `tf.layers.dense` is deprecated and will be removed in a future version. Please use `tf.keras.layers.Dense` instead.\n",
            "  kernel_initializer=kernel_initializer)\n",
            "/usr/local/lib/python3.7/dist-packages/keras/legacy_tf_layers/core.py:261: UserWarning: `layer.apply` is deprecated and will be removed in a future version. Please use `layer.__call__` method instead.\n",
            "  return layer.apply(inputs)\n",
            "/usr/local/lib/python3.7/dist-packages/magenta/models/gansynth/lib/network_functions.py:75: UserWarning: `tf.layers.flatten` is deprecated and will be removed in a future version. Please use `tf.keras.layers.Flatten` instead.\n",
            "  x = tf.layers.flatten(end_points['last_conv'])\n"
          ]
        },
        {
          "output_type": "stream",
          "name": "stdout",
          "text": [
            "INFO:tensorflow:Restoring parameters from /content/all_instruments/stage_00012/./model.ckpt-11000000\n"
          ]
        },
        {
          "output_type": "stream",
          "name": "stderr",
          "text": [
            "INFO:tensorflow:Restoring parameters from /content/all_instruments/stage_00012/./model.ckpt-11000000\n"
          ]
        },
        {
          "output_type": "stream",
          "name": "stdout",
          "text": [
            "And...... Done!\n"
          ]
        }
      ],
      "source": [
        "#@title Install\n",
        "\n",
        "#@markdown Install magenta, define some helper functions, and download the model. This transfers a lot of data and _should take a minute or two_.\n",
        "\n",
        "# Install Magenta\n",
        "print('Copying data from GCS...')\n",
        "!rm -r /content/gansynth &>/dev/null\n",
        "!mkdir /content/gansynth\n",
        "!mkdir /content/gansynth/midi\n",
        "!mkdir /content/gansynth/samples\n",
        "\n",
        "# Get default MIDI (Bach Prelude)\n",
        "!curl -o /content/gansynth/midi/bach.mid http://www.jsbach.net/midi/cs1-1pre.mid\n",
        "MIDI_SONG_DEFAULT = '/content/gansynth/midi/bach.mid'\n",
        "!curl -o /content/gansynth/midi/riff-default.mid http://storage.googleapis.com/magentadata/papers/gansynth/midi/arp.mid\n",
        "MIDI_RIFF_DEFAULT = '/content/gansynth/midi/riff-default.mid'\n",
        "\n",
        "# All instruments\n",
        "!curl -o /content/all_instruments.zip https://storage.googleapis.com/magentadata/models/gansynth/all_instruments.zip\n",
        "!unzip /content/all_instruments.zip\n",
        "\n",
        "!pip install -q -U magenta\n",
        "\n",
        "import os\n",
        "from google.colab import files\n",
        "import librosa\n",
        "from magenta.models.nsynth.utils import load_audio\n",
        "from magenta.models.gansynth.lib import flags as lib_flags\n",
        "from magenta.models.gansynth.lib import generate_util as gu\n",
        "from magenta.models.gansynth.lib import model as lib_model\n",
        "from magenta.models.gansynth.lib import util\n",
        "import matplotlib.pyplot as plt\n",
        "import note_seq\n",
        "from note_seq.notebook_utils import colab_play as play\n",
        "import numpy as np\n",
        "import tensorflow.compat.v1 as tf\n",
        "\n",
        "tf.disable_v2_behavior()\n",
        "\n",
        "# File IO\n",
        "download = files.download\n",
        "\n",
        "def upload():\n",
        "  '''Upload a .wav file.'''\n",
        "  filemap = files.upload()\n",
        "  file_list = []\n",
        "  for key, value in filemap.items():\n",
        "    fname = os.path.join('/content/gansynth/midi', key)\n",
        "    with open(fname, 'wb') as f:\n",
        "      f.write(value)\n",
        "      print('Writing {}'.format(fname))\n",
        "    file_list.append(fname)\n",
        "  return file_list\n",
        "\n",
        "# GLOBALS\n",
        "CKPT_DIR = 'gs://magentadata/models/gansynth/acoustic_only'\n",
        "CKPT_DIR = '/content/all_instruments'\n",
        "\n",
        "output_dir = '/content/gansynth/samples'\n",
        "BATCH_SIZE = 16\n",
        "SR = 16000\n",
        "\n",
        "# Make an output directory if it doesn't exist\n",
        "OUTPUT_DIR = util.expand_path(output_dir)\n",
        "if not tf.gfile.Exists(OUTPUT_DIR):\n",
        "  tf.gfile.MakeDirs(OUTPUT_DIR)\n",
        "\n",
        "# Load the model\n",
        "tf.reset_default_graph()\n",
        "flags = lib_flags.Flags({\n",
        "    'batch_size_schedule': [BATCH_SIZE],\n",
        "    'tfds_data_dir': \"gs://tfds-data/datasets\",\n",
        "})\n",
        "model = lib_model.Model.load_from_path(CKPT_DIR, flags)\n",
        "\n",
        "# Helper functions\n",
        "def load_midi(midi_path, min_pitch=36, max_pitch=84):\n",
        "  \"\"\"Load midi as a notesequence.\"\"\"\n",
        "  midi_path = util.expand_path(midi_path)\n",
        "  ns = note_seq.midi_file_to_sequence_proto(midi_path)\n",
        "  pitches = np.array([n.pitch for n in ns.notes])\n",
        "  velocities = np.array([n.velocity for n in ns.notes])\n",
        "  start_times = np.array([n.start_time for n in ns.notes])\n",
        "  end_times = np.array([n.end_time for n in ns.notes])\n",
        "  valid = np.logical_and(pitches >= min_pitch, pitches <= max_pitch)\n",
        "  notes = {'pitches': pitches[valid],\n",
        "           'velocities': velocities[valid],\n",
        "           'start_times': start_times[valid],\n",
        "           'end_times': end_times[valid]}\n",
        "  return ns, notes\n",
        "\n",
        "def get_envelope(t_note_length, t_attack=0.010, t_release=0.3, sr=16000):\n",
        "  \"\"\"Create an attack sustain release amplitude envelope.\"\"\"\n",
        "  t_note_length = min(t_note_length, 3.0)\n",
        "  i_attack = int(sr * t_attack)\n",
        "  i_sustain = int(sr * t_note_length)\n",
        "  i_release = int(sr * t_release)\n",
        "  i_tot = i_sustain + i_release  # attack envelope doesn't add to sound length\n",
        "  envelope = np.ones(i_tot)\n",
        "  # Linear attack\n",
        "  envelope[:i_attack] = np.linspace(0.0, 1.0, i_attack)\n",
        "  # Linear release\n",
        "  envelope[i_sustain:i_tot] = np.linspace(1.0, 0.0, i_release)\n",
        "  return envelope\n",
        "\n",
        "def combine_notes(audio_notes, start_times, end_times, velocities, sr=16000):\n",
        "  \"\"\"Combine audio from multiple notes into a single audio clip.\n",
        "\n",
        "  Args:\n",
        "    audio_notes: Array of audio [n_notes, audio_samples].\n",
        "    start_times: Array of note starts in seconds [n_notes].\n",
        "    end_times: Array of note ends in seconds [n_notes].\n",
        "    sr: Integer, sample rate.\n",
        "\n",
        "  Returns:\n",
        "    audio_clip: Array of combined audio clip [audio_samples]\n",
        "  \"\"\"\n",
        "  n_notes = len(audio_notes)\n",
        "  clip_length = end_times.max() + 3.0\n",
        "  audio_clip = np.zeros(int(clip_length) * sr)\n",
        "\n",
        "  for t_start, t_end, vel, i in zip(start_times, end_times, velocities, range(n_notes)):\n",
        "    # Generate an amplitude envelope\n",
        "    t_note_length = t_end - t_start\n",
        "    envelope = get_envelope(t_note_length)\n",
        "    length = len(envelope)\n",
        "    audio_note = audio_notes[i, :length] * envelope\n",
        "    # Normalize\n",
        "    audio_note /= audio_note.max()\n",
        "    audio_note *= (vel / 127.0)\n",
        "    # Add to clip buffer\n",
        "    clip_start = int(t_start * sr)\n",
        "    clip_end = clip_start + length\n",
        "    audio_clip[clip_start:clip_end] += audio_note\n",
        "\n",
        "  # Normalize\n",
        "  audio_clip /= audio_clip.max()\n",
        "  audio_clip /= 2.0\n",
        "  return audio_clip\n",
        "\n",
        "# Plotting tools\n",
        "def specplot(audio_clip):\n",
        "  p_min = np.min(36)\n",
        "  p_max = np.max(84)\n",
        "  f_min = librosa.midi_to_hz(p_min)\n",
        "  f_max = 2 * librosa.midi_to_hz(p_max)\n",
        "  octaves = int(np.ceil(np.log2(f_max) - np.log2(f_min)))\n",
        "  bins_per_octave = 36\n",
        "  n_bins = int(bins_per_octave * octaves)\n",
        "  C = librosa.cqt(audio_clip, sr=SR, hop_length=2048, fmin=f_min, n_bins=n_bins, bins_per_octave=bins_per_octave)\n",
        "  power = 10 * np.log10(np.abs(C)**2 + 1e-6)\n",
        "  plt.matshow(power[::-1, 2:-2], aspect='auto', cmap=plt.cm.magma)\n",
        "  plt.yticks([])\n",
        "  plt.xticks([])\n",
        "\n",
        "print('And...... Done!')"
      ]
    },
    {
      "cell_type": "markdown",
      "metadata": {
        "id": "d5y37_qrlQos"
      },
      "source": [
        "**MY CODE**\n",
        "\n",
        "\n",
        "1.   Upload midi\n",
        "2.   Generates N versions of the midi from its pitches\n",
        "3.   Scores them and chooses the most rock one\n",
        "4.   \n",
        "\n"
      ]
    },
    {
      "cell_type": "code",
      "execution_count": null,
      "metadata": {
        "colab": {
          "base_uri": "https://localhost:8080/",
          "height": 1000,
          "resources": {
            "http://localhost:8080/nbextensions/google.colab/files.js": {
              "data": "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",
              "headers": [
                [
                  "content-type",
                  "application/javascript"
                ]
              ],
              "ok": true,
              "status": 200,
              "status_text": ""
            }
          }
        },
        "id": "c8KPvLp3lQHf",
        "outputId": "f5571036-ab9f-42bd-e2b9-a875bfc552eb"
      },
      "outputs": [
        {
          "data": {
            "text/html": [
              "\n",
              "     <input type=\"file\" id=\"files-8c7ae736-b37b-49c3-98b0-49ba9a73645d\" name=\"files[]\" multiple disabled\n",
              "        style=\"border:none\" />\n",
              "     <output id=\"result-8c7ae736-b37b-49c3-98b0-49ba9a73645d\">\n",
              "      Upload widget is only available when the cell has been executed in the\n",
              "      current browser session. Please rerun this cell to enable.\n",
              "      </output>\n",
              "      <script src=\"/nbextensions/google.colab/files.js\"></script> "
            ],
            "text/plain": [
              "<IPython.core.display.HTML object>"
            ]
          },
          "metadata": {},
          "output_type": "display_data"
        },
        {
          "metadata": {
            "tags": null
          },
          "name": "stdout",
          "output_type": "stream",
          "text": [
            "Saving anthem.mid to anthem (3).mid\n",
            "Writing /content/gansynth/midi/anthem.mid\n",
            "Loaded /content/gansynth/midi/anthem.mid\n"
          ]
        },
        {
          "data": {
            "application/javascript": [
              "\n",
              "(function(root) {\n",
              "  function now() {\n",
              "    return new Date();\n",
              "  }\n",
              "\n",
              "  var force = true;\n",
              "\n",
              "  if (typeof root._bokeh_onload_callbacks === \"undefined\" || force === true) {\n",
              "    root._bokeh_onload_callbacks = [];\n",
              "    root._bokeh_is_loading = undefined;\n",
              "  }\n",
              "\n",
              "  var JS_MIME_TYPE = 'application/javascript';\n",
              "  var HTML_MIME_TYPE = 'text/html';\n",
              "  var EXEC_MIME_TYPE = 'application/vnd.bokehjs_exec.v0+json';\n",
              "  var CLASS_NAME = 'output_bokeh rendered_html';\n",
              "\n",
              "  /**\n",
              "   * Render data to the DOM node\n",
              "   */\n",
              "  function render(props, node) {\n",
              "    var script = document.createElement(\"script\");\n",
              "    node.appendChild(script);\n",
              "  }\n",
              "\n",
              "  /**\n",
              "   * Handle when an output is cleared or removed\n",
              "   */\n",
              "  function handleClearOutput(event, handle) {\n",
              "    var cell = handle.cell;\n",
              "\n",
              "    var id = cell.output_area._bokeh_element_id;\n",
              "    var server_id = cell.output_area._bokeh_server_id;\n",
              "    // Clean up Bokeh references\n",
              "    if (id != null && id in Bokeh.index) {\n",
              "      Bokeh.index[id].model.document.clear();\n",
              "      delete Bokeh.index[id];\n",
              "    }\n",
              "\n",
              "    if (server_id !== undefined) {\n",
              "      // Clean up Bokeh references\n",
              "      var cmd = \"from bokeh.io.state import curstate; print(curstate().uuid_to_server['\" + server_id + \"'].get_sessions()[0].document.roots[0]._id)\";\n",
              "      cell.notebook.kernel.execute(cmd, {\n",
              "        iopub: {\n",
              "          output: function(msg) {\n",
              "            var id = msg.content.text.trim();\n",
              "            if (id in Bokeh.index) {\n",
              "              Bokeh.index[id].model.document.clear();\n",
              "              delete Bokeh.index[id];\n",
              "            }\n",
              "          }\n",
              "        }\n",
              "      });\n",
              "      // Destroy server and session\n",
              "      var cmd = \"import bokeh.io.notebook as ion; ion.destroy_server('\" + server_id + \"')\";\n",
              "      cell.notebook.kernel.execute(cmd);\n",
              "    }\n",
              "  }\n",
              "\n",
              "  /**\n",
              "   * Handle when a new output is added\n",
              "   */\n",
              "  function handleAddOutput(event, handle) {\n",
              "    var output_area = handle.output_area;\n",
              "    var output = handle.output;\n",
              "\n",
              "    // limit handleAddOutput to display_data with EXEC_MIME_TYPE content only\n",
              "    if ((output.output_type != \"display_data\") || (!Object.prototype.hasOwnProperty.call(output.data, EXEC_MIME_TYPE))) {\n",
              "      return\n",
              "    }\n",
              "\n",
              "    var toinsert = output_area.element.find(\".\" + CLASS_NAME.split(' ')[0]);\n",
              "\n",
              "    if (output.metadata[EXEC_MIME_TYPE][\"id\"] !== undefined) {\n",
              "      toinsert[toinsert.length - 1].firstChild.textContent = output.data[JS_MIME_TYPE];\n",
              "      // store reference to embed id on output_area\n",
              "      output_area._bokeh_element_id = output.metadata[EXEC_MIME_TYPE][\"id\"];\n",
              "    }\n",
              "    if (output.metadata[EXEC_MIME_TYPE][\"server_id\"] !== undefined) {\n",
              "      var bk_div = document.createElement(\"div\");\n",
              "      bk_div.innerHTML = output.data[HTML_MIME_TYPE];\n",
              "      var script_attrs = bk_div.children[0].attributes;\n",
              "      for (var i = 0; i < script_attrs.length; i++) {\n",
              "        toinsert[toinsert.length - 1].firstChild.setAttribute(script_attrs[i].name, script_attrs[i].value);\n",
              "        toinsert[toinsert.length - 1].firstChild.textContent = bk_div.children[0].textContent\n",
              "      }\n",
              "      // store reference to server id on output_area\n",
              "      output_area._bokeh_server_id = output.metadata[EXEC_MIME_TYPE][\"server_id\"];\n",
              "    }\n",
              "  }\n",
              "\n",
              "  function register_renderer(events, OutputArea) {\n",
              "\n",
              "    function append_mime(data, metadata, element) {\n",
              "      // create a DOM node to render to\n",
              "      var toinsert = this.create_output_subarea(\n",
              "        metadata,\n",
              "        CLASS_NAME,\n",
              "        EXEC_MIME_TYPE\n",
              "      );\n",
              "      this.keyboard_manager.register_events(toinsert);\n",
              "      // Render to node\n",
              "      var props = {data: data, metadata: metadata[EXEC_MIME_TYPE]};\n",
              "      render(props, toinsert[toinsert.length - 1]);\n",
              "      element.append(toinsert);\n",
              "      return toinsert\n",
              "    }\n",
              "\n",
              "    /* Handle when an output is cleared or removed */\n",
              "    events.on('clear_output.CodeCell', handleClearOutput);\n",
              "    events.on('delete.Cell', handleClearOutput);\n",
              "\n",
              "    /* Handle when a new output is added */\n",
              "    events.on('output_added.OutputArea', handleAddOutput);\n",
              "\n",
              "    /**\n",
              "     * Register the mime type and append_mime function with output_area\n",
              "     */\n",
              "    OutputArea.prototype.register_mime_type(EXEC_MIME_TYPE, append_mime, {\n",
              "      /* Is output safe? */\n",
              "      safe: true,\n",
              "      /* Index of renderer in `output_area.display_order` */\n",
              "      index: 0\n",
              "    });\n",
              "  }\n",
              "\n",
              "  // register the mime type if in Jupyter Notebook environment and previously unregistered\n",
              "  if (root.Jupyter !== undefined) {\n",
              "    var events = require('base/js/events');\n",
              "    var OutputArea = require('notebook/js/outputarea').OutputArea;\n",
              "\n",
              "    if (OutputArea.prototype.mime_types().indexOf(EXEC_MIME_TYPE) == -1) {\n",
              "      register_renderer(events, OutputArea);\n",
              "    }\n",
              "  }\n",
              "\n",
              "  \n",
              "  if (typeof (root._bokeh_timeout) === \"undefined\" || force === true) {\n",
              "    root._bokeh_timeout = Date.now() + 5000;\n",
              "    root._bokeh_failed_load = false;\n",
              "  }\n",
              "\n",
              "  var NB_LOAD_WARNING = {'data': {'text/html':\n",
              "     \"<div style='background-color: #fdd'>\\n\"+\n",
              "     \"<p>\\n\"+\n",
              "     \"BokehJS does not appear to have successfully loaded. If loading BokehJS from CDN, this \\n\"+\n",
              "     \"may be due to a slow or bad network connection. Possible fixes:\\n\"+\n",
              "     \"</p>\\n\"+\n",
              "     \"<ul>\\n\"+\n",
              "     \"<li>re-rerun `output_notebook()` to attempt to load from CDN again, or</li>\\n\"+\n",
              "     \"<li>use INLINE resources instead, as so:</li>\\n\"+\n",
              "     \"</ul>\\n\"+\n",
              "     \"<code>\\n\"+\n",
              "     \"from bokeh.resources import INLINE\\n\"+\n",
              "     \"output_notebook(resources=INLINE)\\n\"+\n",
              "     \"</code>\\n\"+\n",
              "     \"</div>\"}};\n",
              "\n",
              "  function display_loaded() {\n",
              "    var el = document.getElementById(null);\n",
              "    if (el != null) {\n",
              "      el.textContent = \"BokehJS is loading...\";\n",
              "    }\n",
              "    if (root.Bokeh !== undefined) {\n",
              "      if (el != null) {\n",
              "        el.textContent = \"BokehJS \" + root.Bokeh.version + \" successfully loaded.\";\n",
              "      }\n",
              "    } else if (Date.now() < root._bokeh_timeout) {\n",
              "      setTimeout(display_loaded, 100)\n",
              "    }\n",
              "  }\n",
              "\n",
              "\n",
              "  function run_callbacks() {\n",
              "    try {\n",
              "      root._bokeh_onload_callbacks.forEach(function(callback) {\n",
              "        if (callback != null)\n",
              "          callback();\n",
              "      });\n",
              "    } finally {\n",
              "      delete root._bokeh_onload_callbacks\n",
              "    }\n",
              "    console.debug(\"Bokeh: all callbacks have finished\");\n",
              "  }\n",
              "\n",
              "  function load_libs(css_urls, js_urls, callback) {\n",
              "    if (css_urls == null) css_urls = [];\n",
              "    if (js_urls == null) js_urls = [];\n",
              "\n",
              "    root._bokeh_onload_callbacks.push(callback);\n",
              "    if (root._bokeh_is_loading > 0) {\n",
              "      console.debug(\"Bokeh: BokehJS is being loaded, scheduling callback at\", now());\n",
              "      return null;\n",
              "    }\n",
              "    if (js_urls == null || js_urls.length === 0) {\n",
              "      run_callbacks();\n",
              "      return null;\n",
              "    }\n",
              "    console.debug(\"Bokeh: BokehJS not loaded, scheduling load and callback at\", now());\n",
              "    root._bokeh_is_loading = css_urls.length + js_urls.length;\n",
              "\n",
              "    function on_load() {\n",
              "      root._bokeh_is_loading--;\n",
              "      if (root._bokeh_is_loading === 0) {\n",
              "        console.debug(\"Bokeh: all BokehJS libraries/stylesheets loaded\");\n",
              "        run_callbacks()\n",
              "      }\n",
              "    }\n",
              "\n",
              "    function on_error(url) {\n",
              "      console.error(\"failed to load \" + url);\n",
              "    }\n",
              "\n",
              "    for (let i = 0; i < css_urls.length; i++) {\n",
              "      const url = css_urls[i];\n",
              "      const element = document.createElement(\"link\");\n",
              "      element.onload = on_load;\n",
              "      element.onerror = on_error.bind(null, url);\n",
              "      element.rel = \"stylesheet\";\n",
              "      element.type = \"text/css\";\n",
              "      element.href = url;\n",
              "      console.debug(\"Bokeh: injecting link tag for BokehJS stylesheet: \", url);\n",
              "      document.body.appendChild(element);\n",
              "    }\n",
              "\n",
              "    const hashes = {\"https://cdn.bokeh.org/bokeh/release/bokeh-2.3.3.min.js\": \"dM3QQsP+wXdHg42wTqW85BjZQdLNNIXqlPw/BgKoExPmTG7ZLML4EGqLMfqHT6ON\", \"https://cdn.bokeh.org/bokeh/release/bokeh-tables-2.3.3.min.js\": \"8x57I4YuIfu8XyZfFo0XVr2WAT8EK4rh/uDe3wF7YuW2FNUSNEpJbsPaB1nJ2fz2\", \"https://cdn.bokeh.org/bokeh/release/bokeh-widgets-2.3.3.min.js\": \"3QTqdz9LyAm2i0sG5XTePsHec3UHWwVsrOL68SYRoAXsafvfAyqtQ+h440+qIBhS\"};\n",
              "\n",
              "    for (let i = 0; i < js_urls.length; i++) {\n",
              "      const url = js_urls[i];\n",
              "      const element = document.createElement('script');\n",
              "      element.onload = on_load;\n",
              "      element.onerror = on_error.bind(null, url);\n",
              "      element.async = false;\n",
              "      element.src = url;\n",
              "      if (url in hashes) {\n",
              "        element.crossOrigin = \"anonymous\";\n",
              "        element.integrity = \"sha384-\" + hashes[url];\n",
              "      }\n",
              "      console.debug(\"Bokeh: injecting script tag for BokehJS library: \", url);\n",
              "      document.head.appendChild(element);\n",
              "    }\n",
              "  };\n",
              "\n",
              "  function inject_raw_css(css) {\n",
              "    const element = document.createElement(\"style\");\n",
              "    element.appendChild(document.createTextNode(css));\n",
              "    document.body.appendChild(element);\n",
              "  }\n",
              "\n",
              "  \n",
              "  var js_urls = [\"https://cdn.bokeh.org/bokeh/release/bokeh-2.3.3.min.js\", \"https://cdn.bokeh.org/bokeh/release/bokeh-widgets-2.3.3.min.js\", \"https://cdn.bokeh.org/bokeh/release/bokeh-tables-2.3.3.min.js\"];\n",
              "  var css_urls = [];\n",
              "  \n",
              "\n",
              "  var inline_js = [\n",
              "    function(Bokeh) {\n",
              "      Bokeh.set_log_level(\"info\");\n",
              "    },\n",
              "    function(Bokeh) {\n",
              "    \n",
              "    \n",
              "    }\n",
              "  ];\n",
              "\n",
              "  function run_inline_js() {\n",
              "    \n",
              "    if (root.Bokeh !== undefined || force === true) {\n",
              "      \n",
              "    for (var i = 0; i < inline_js.length; i++) {\n",
              "      inline_js[i].call(root, root.Bokeh);\n",
              "    }\n",
              "    } else if (Date.now() < root._bokeh_timeout) {\n",
              "      setTimeout(run_inline_js, 100);\n",
              "    } else if (!root._bokeh_failed_load) {\n",
              "      console.log(\"Bokeh: BokehJS failed to load within specified timeout.\");\n",
              "      root._bokeh_failed_load = true;\n",
              "    } else if (force !== true) {\n",
              "      var cell = $(document.getElementById(null)).parents('.cell').data().cell;\n",
              "      cell.output_area.append_execute_result(NB_LOAD_WARNING)\n",
              "    }\n",
              "\n",
              "  }\n",
              "\n",
              "  if (root._bokeh_is_loading === 0) {\n",
              "    console.debug(\"Bokeh: BokehJS loaded, going straight to plotting\");\n",
              "    run_inline_js();\n",
              "  } else {\n",
              "    load_libs(css_urls, js_urls, function() {\n",
              "      console.debug(\"Bokeh: BokehJS plotting callback run at\", now());\n",
              "      run_inline_js();\n",
              "    });\n",
              "  }\n",
              "}(window));"
            ],
            "application/vnd.bokehjs_load.v0+json": "\n(function(root) {\n  function now() {\n    return new Date();\n  }\n\n  var force = true;\n\n  if (typeof root._bokeh_onload_callbacks === \"undefined\" || force === true) {\n    root._bokeh_onload_callbacks = [];\n    root._bokeh_is_loading = undefined;\n  }\n\n  \n\n  \n  if (typeof (root._bokeh_timeout) === \"undefined\" || force === true) {\n    root._bokeh_timeout = Date.now() + 5000;\n    root._bokeh_failed_load = false;\n  }\n\n  var NB_LOAD_WARNING = {'data': {'text/html':\n     \"<div style='background-color: #fdd'>\\n\"+\n     \"<p>\\n\"+\n     \"BokehJS does not appear to have successfully loaded. If loading BokehJS from CDN, this \\n\"+\n     \"may be due to a slow or bad network connection. Possible fixes:\\n\"+\n     \"</p>\\n\"+\n     \"<ul>\\n\"+\n     \"<li>re-rerun `output_notebook()` to attempt to load from CDN again, or</li>\\n\"+\n     \"<li>use INLINE resources instead, as so:</li>\\n\"+\n     \"</ul>\\n\"+\n     \"<code>\\n\"+\n     \"from bokeh.resources import INLINE\\n\"+\n     \"output_notebook(resources=INLINE)\\n\"+\n     \"</code>\\n\"+\n     \"</div>\"}};\n\n  function display_loaded() {\n    var el = document.getElementById(null);\n    if (el != null) {\n      el.textContent = \"BokehJS is loading...\";\n    }\n    if (root.Bokeh !== undefined) {\n      if (el != null) {\n        el.textContent = \"BokehJS \" + root.Bokeh.version + \" successfully loaded.\";\n      }\n    } else if (Date.now() < root._bokeh_timeout) {\n      setTimeout(display_loaded, 100)\n    }\n  }\n\n\n  function run_callbacks() {\n    try {\n      root._bokeh_onload_callbacks.forEach(function(callback) {\n        if (callback != null)\n          callback();\n      });\n    } finally {\n      delete root._bokeh_onload_callbacks\n    }\n    console.debug(\"Bokeh: all callbacks have finished\");\n  }\n\n  function load_libs(css_urls, js_urls, callback) {\n    if (css_urls == null) css_urls = [];\n    if (js_urls == null) js_urls = [];\n\n    root._bokeh_onload_callbacks.push(callback);\n    if (root._bokeh_is_loading > 0) {\n      console.debug(\"Bokeh: BokehJS is being loaded, scheduling callback at\", now());\n      return null;\n    }\n    if (js_urls == null || js_urls.length === 0) {\n      run_callbacks();\n      return null;\n    }\n    console.debug(\"Bokeh: BokehJS not loaded, scheduling load and callback at\", now());\n    root._bokeh_is_loading = css_urls.length + js_urls.length;\n\n    function on_load() {\n      root._bokeh_is_loading--;\n      if (root._bokeh_is_loading === 0) {\n        console.debug(\"Bokeh: all BokehJS libraries/stylesheets loaded\");\n        run_callbacks()\n      }\n    }\n\n    function on_error(url) {\n      console.error(\"failed to load \" + url);\n    }\n\n    for (let i = 0; i < css_urls.length; i++) {\n      const url = css_urls[i];\n      const element = document.createElement(\"link\");\n      element.onload = on_load;\n      element.onerror = on_error.bind(null, url);\n      element.rel = \"stylesheet\";\n      element.type = \"text/css\";\n      element.href = url;\n      console.debug(\"Bokeh: injecting link tag for BokehJS stylesheet: \", url);\n      document.body.appendChild(element);\n    }\n\n    const hashes = {\"https://cdn.bokeh.org/bokeh/release/bokeh-2.3.3.min.js\": \"dM3QQsP+wXdHg42wTqW85BjZQdLNNIXqlPw/BgKoExPmTG7ZLML4EGqLMfqHT6ON\", \"https://cdn.bokeh.org/bokeh/release/bokeh-tables-2.3.3.min.js\": \"8x57I4YuIfu8XyZfFo0XVr2WAT8EK4rh/uDe3wF7YuW2FNUSNEpJbsPaB1nJ2fz2\", \"https://cdn.bokeh.org/bokeh/release/bokeh-widgets-2.3.3.min.js\": \"3QTqdz9LyAm2i0sG5XTePsHec3UHWwVsrOL68SYRoAXsafvfAyqtQ+h440+qIBhS\"};\n\n    for (let i = 0; i < js_urls.length; i++) {\n      const url = js_urls[i];\n      const element = document.createElement('script');\n      element.onload = on_load;\n      element.onerror = on_error.bind(null, url);\n      element.async = false;\n      element.src = url;\n      if (url in hashes) {\n        element.crossOrigin = \"anonymous\";\n        element.integrity = \"sha384-\" + hashes[url];\n      }\n      console.debug(\"Bokeh: injecting script tag for BokehJS library: \", url);\n      document.head.appendChild(element);\n    }\n  };\n\n  function inject_raw_css(css) {\n    const element = document.createElement(\"style\");\n    element.appendChild(document.createTextNode(css));\n    document.body.appendChild(element);\n  }\n\n  \n  var js_urls = [\"https://cdn.bokeh.org/bokeh/release/bokeh-2.3.3.min.js\", \"https://cdn.bokeh.org/bokeh/release/bokeh-widgets-2.3.3.min.js\", \"https://cdn.bokeh.org/bokeh/release/bokeh-tables-2.3.3.min.js\"];\n  var css_urls = [];\n  \n\n  var inline_js = [\n    function(Bokeh) {\n      Bokeh.set_log_level(\"info\");\n    },\n    function(Bokeh) {\n    \n    \n    }\n  ];\n\n  function run_inline_js() {\n    \n    if (root.Bokeh !== undefined || force === true) {\n      \n    for (var i = 0; i < inline_js.length; i++) {\n      inline_js[i].call(root, root.Bokeh);\n    }\n    } else if (Date.now() < root._bokeh_timeout) {\n      setTimeout(run_inline_js, 100);\n    } else if (!root._bokeh_failed_load) {\n      console.log(\"Bokeh: BokehJS failed to load within specified timeout.\");\n      root._bokeh_failed_load = true;\n    } else if (force !== true) {\n      var cell = $(document.getElementById(null)).parents('.cell').data().cell;\n      cell.output_area.append_execute_result(NB_LOAD_WARNING)\n    }\n\n  }\n\n  if (root._bokeh_is_loading === 0) {\n    console.debug(\"Bokeh: BokehJS loaded, going straight to plotting\");\n    run_inline_js();\n  } else {\n    load_libs(css_urls, js_urls, function() {\n      console.debug(\"Bokeh: BokehJS plotting callback run at\", now());\n      run_inline_js();\n    });\n  }\n}(window));"
          },
          "metadata": {},
          "output_type": "display_data"
        },
        {
          "data": {
            "text/html": [
              "\n",
              "\n",
              "\n",
              "\n",
              "\n",
              "\n",
              "  <div class=\"bk-root\" id=\"6d89d7e2-e08f-40d9-ad98-5f6cecaa6b5a\" data-root-id=\"1150\"></div>\n"
            ]
          },
          "metadata": {},
          "output_type": "display_data"
        },
        {
          "data": {
            "application/javascript": [
              "(function(root) {\n",
              "  function embed_document(root) {\n",
              "    \n",
              "  var docs_json = {\"69730539-a4f5-46b6-a66a-148ae69911c7\":{\"defs\":[],\"roots\":{\"references\":[{\"attributes\":{\"below\":[{\"id\":\"1159\"}],\"center\":[{\"id\":\"1162\"},{\"id\":\"1166\"}],\"height\":200,\"left\":[{\"id\":\"1163\"}],\"renderers\":[{\"id\":\"1186\"},{\"id\":\"1192\"},{\"id\":\"1198\"}],\"title\":{\"id\":\"1201\"},\"toolbar\":{\"id\":\"1173\"},\"width\":500,\"x_range\":{\"id\":\"1151\"},\"x_scale\":{\"id\":\"1155\"},\"y_range\":{\"id\":\"1153\"},\"y_scale\":{\"id\":\"1157\"}},\"id\":\"1150\",\"subtype\":\"Figure\",\"type\":\"Plot\"},{\"attributes\":{\"data_source\":{\"id\":\"1188\"},\"glyph\":{\"id\":\"1190\"},\"hover_glyph\":null,\"muted_glyph\":null,\"nonselection_glyph\":{\"id\":\"1191\"},\"view\":{\"id\":\"1193\"}},\"id\":\"1192\",\"type\":\"GlyphRenderer\"},{\"attributes\":{},\"id\":\"1168\",\"type\":\"PanTool\"},{\"attributes\":{\"source\":{\"id\":\"1188\"}},\"id\":\"1193\",\"type\":\"CDSView\"},{\"attributes\":{\"overlay\":{\"id\":\"1172\"}},\"id\":\"1169\",\"type\":\"BoxZoomTool\"},{\"attributes\":{\"data\":{\"bottom\":{\"__ndarray__\":\"zczMzMxMS0DNzMzMzExLQGZmZmZmplBAzczMzMxMTEBmZmZmZiZRQM3MzMzMzEpAZmZmZmZmUEDNzMzMzExLQGZmZmZmplBAZmZmZmYmUUDNzMzMzExMQM3MzMzMTE1AZmZmZmamUUDNzMzMzExNQGZmZmZmplFAzczMzMzMTUBmZmZmZuZRQM3MzMzMTE1AZmZmZmamUUDNzMzMzExMQGZmZmZmJlFAzczMzMxMS0BmZmZmZqZQQM3MzMzMTExAZmZmZmYmUUDNzMzMzExLQGZmZmZmplBAZmZmZmZmUEDNzMzMzMxKQM3MzMzMTEtAZmZmZmamUEDNzMzMzMxOQGZmZmZmZlJAzczMzMzMTkBmZmZmZmZSQM3MzMzMzE5AZmZmZmZmUkDNzMzMzMxOQGZmZmZmZlJAZmZmZmbmUUDNzMzMzMxNQM3MzMzMTE1AZmZmZmamUUDNzMzMzMxNQGZmZmZm5lFAzczMzMzMTUBmZmZmZuZRQM3MzMzMzE1AZmZmZmbmUUDNzMzMzMxNQGZmZmZm5lFAzczMzMxMTUBmZmZmZqZRQGZmZmZmJlFAzczMzMxMTEBmZmZmZqZRQM3MzMzMTE1AzczMzMzMTUBmZmZmZuZRQGZmZmZmplFAzczMzMxMTUBmZmZmZiZRQM3MzMzMTExAZmZmZmamUEDNzMzMzExLQGZmZmZmplFAzczMzMxMTUBmZmZmZuZRQM3MzMzMzE1AzczMzMzMTkBmZmZmZmZSQM3MzMzMzE9AZmZmZmbmUkDNzMzMzMxNQGZmZmZm5lFAzczMzMxMTUBmZmZmZqZRQGZmZmZmJlFAzczMzMxMTEDNzMzMzExLQGZmZmZmplBA\",\"dtype\":\"float64\",\"order\":\"little\",\"shape\":[81]},\"duration\":{\"__ndarray__\":\"j7jtaAn/2j9Qlkck9znaP7g/Fw0Zb90/TH1Z2qkJ2j94RcopFIzbPzD/If32OeU//jdCGb2V5z8ACIhcg/G+P3D43XTLPsM/wFbjfwXj1T9AS31GD6nZP1CWRyT3Odo/qA07eX4O3T+o8ipY0CHVP2j6/0ss+9o/QGRrkFzZ2T+AXrhzYbzbP/gdw2M/h+M/ODH+kJGa5T/AB4hcg/G+PyDMtP0r+8A/QH1Z2qkJyj/Ao880TjDOP2DhEQLfyto/kJCUB/wc3D/gupunOqTWP5CQlAf8HNw/cBPulXkr2z9Q4REC38raP9gsS2HLvvA/KOWiR3kr8T8AOEIZvZXXP4AT7pV5K9s/4Ox3O9UE1z/APxcNGW/dP4AT7pV5K9s/oNte5eOt3D8gteiKP4foP9CiPskdUuo/gJQlTZZ9wj9AxgHhMN7CPyDlokd5K9E/YHs3A0lN0j8AUTBjCsbXP0AZobJ0SNk/wD31Nbiy1T8g58Qe2ufYP0CWRyT3Odo/gEXKKRSM2z8w/yH99jnlP5BEOb7jrec/AJrYaZGawD+A+N10yz7DPwC16Io/h8g/AB9Uz29lxz8Avb1+m2DePyDMtP0r++A/gCQH7GqCxT+A7Hc71QTHP4DGAeEw3sI/AMy0/Sv7wD8AaPzV9jnAP4CUJU2WfcI/gMYB4TDewj8AXZacAADEPwA4Qhm9lec/wAyqDU4w6T+AjnIwm2DEP4BclpwAAMQ/QGJJufsc0j/Ab9HJUhPWP4CUJU2WfcI/gKmCUUlNzD+A+N10yz7DP4CpglFJTcw/QCzc38Zb2z/ADTt5fg7dP0DII7iRmto/gF64c2G82z9AYkm5+xzyP1B7NwNJTfI/\",\"dtype\":\"float64\",\"order\":\"little\",\"shape\":[81]},\"end_time\":{\"__ndarray__\":\"wusgnDwy2z+VgJiECw3vP+CXDUWUL/A/KFKHAqNY+D9v8fCeA5X4P8M4pamLkAJAlP3zNGAVA0BO60lzPuAEQDNB+hOCCgVAD39N1qjiCEAiyhe0kHMJQMBURjZqWw5ASXorJd6jDkDR1UMh7zERQOvcx+RnfRFAQd6Yi+WrE0A0CfFbB8ETQAW4MybXwhZAH7+36U8OF0APpHiC6g4YQKCFF1fvERhAH6mrKEuLGUAS1AP5bKAZQBc0GuZxwxxAWbqVOIXPHEAZwdnAsMoeQMOp/FguGR9ANIP4wE6fIED880cr0aAgQCp2IUO0DiNAg8gPgjsTI0CcIUJJ7hIlQB8uOe4UKyVAR6KqHC0qJkCFSkn891gmQNh4w5CvaydAclEtIkp8J0C8ICI1LUopQI6IPFxFWSlAcAAQikCmKUCQw00zSqwpQNPhDsEegSpALDT9/6WFKkCYaftX1uMrQLksOQHg6StAIycmggv1LEAVUn5SLQotQJI6AU2EMC5AnDHMCRo+LkDJG2DmO+MvQBsuck93ATBAxoUDIZk+MECP9lKLG0AwQC15PC1fkjBAhssqbOaWMECRWjtkPW0xQCszpfXXfTFAwS0yFCqxMUCJnoF+rLIxQAnNm7CK7TFA0T3rGg3vMUCpvvOLci4yQJLygJ/+NTJAw8V3T+t5MkCs+QRjd4EyQGgt8tjcYDNAOpUMAPVvM0Dc9dIUgZ8zQKRmIn8DoTNA5rhAb3cRNECM9+P2Sx40QLns/TPwhDRAt32P+kuWNEDS84H3aNA0QECjdOm/3jRAabqxsxtoNUDCDKDyomw1QNRXatCK/TVAAIHhb87/NUBC/NZhX0o3QKa0/pYgSzdA\",\"dtype\":\"float64\",\"order\":\"little\",\"shape\":[81]},\"fill_alpha\":{\"__ndarray__\":\"AAAAAADA7j8AAAAAAIDvPwAAAAAAwO8/AAAAAABA7z8AAAAAAMDvPwAAAAAAgO8/AAAAAACA7z8AAAAAAMDvPwAAAAAAwO8/AAAAAADA7z8AAAAAAMDvPwAAAAAAwO8/AAAAAADA7z8AAAAAAMDvPwAAAAAAwO8/AAAAAACA7z8AAAAAAMDvPwAAAAAAwO8/AAAAAADA7z8AAAAAAMDvPwAAAAAAwO8/AAAAAADA7z8AAAAAAMDvPwAAAAAAwO8/AAAAAADA7z8AAAAAAMDvPwAAAAAAwO8/AAAAAABA7T8AAAAAAIDvPwAAAAAAwO8/AAAAAADA7z8AAAAAAADvPwAAAAAAwO8/AAAAAADA7z8AAAAAAMDvPwAAAAAAAO4/AAAAAADA7z8AAAAAAIDtPwAAAAAAwO8/AAAAAABA7z8AAAAAAMDvPwAAAAAAwO8/AAAAAADA7z8AAAAAAMDvPwAAAAAAwO8/AAAAAABA7z8AAAAAAMDvPwAAAAAAgO8/AAAAAADA7z8AAAAAAMDvPwAAAAAAwO8/AAAAAADA7z8AAAAAAMDvPwAAAAAAwO8/AAAAAADA7z8AAAAAAMDvPwAAAAAAwO8/AAAAAADA7z8AAAAAAMDvPwAAAAAAwO8/AAAAAADA7z8AAAAAAMDuPwAAAAAAAO8/AAAAAACA7z8AAAAAAIDvPwAAAAAAwO8/AAAAAADA7z8AAAAAAMDvPwAAAAAAwO8/AAAAAACA7z8AAAAAAMDvPwAAAAAAQO8/AAAAAADA7z8AAAAAAMDvPwAAAAAAwO8/AAAAAADA7z8AAAAAAMDvPwAAAAAAwO8/AAAAAACA7z8AAAAAAMDvPwAAAAAAgO8/\",\"dtype\":\"float64\",\"order\":\"little\",\"shape\":[81]},\"index\":[0,1,2,3,4,5,6,7,8,9,10,11,12,13,14,15,16,17,18,19,20,21,22,23,24,25,26,27,28,29,30,31,32,33,34,35,36,37,38,39,40,41,42,43,44,45,46,47,48,49,50,51,52,53,54,55,56,57,58,59,60,61,62,63,64,65,66,67,68,69,70,71,72,73,74,75,76,77,78,79,80],\"instrument\":[0,0,0,0,0,0,0,0,0,0,0,0,0,0,0,0,0,0,0,0,0,0,0,0,0,0,0,0,0,0,0,0,0,0,0,0,0,0,0,0,0,0,0,0,0,0,0,0,0,0,0,0,0,0,0,0,0,0,0,0,0,0,0,0,0,0,0,0,0,0,0,0,0,0,0,0,0,0,0,0,0],\"pitch\":[55,55,67,57,69,54,66,55,67,69,57,59,71,59,71,60,72,59,71,57,69,55,67,57,69,55,67,66,54,55,67,62,74,62,74,62,74,62,74,72,60,59,71,60,72,60,72,60,72,60,72,59,71,69,57,71,59,60,72,71,59,69,57,67,55,71,59,72,60,62,74,64,76,60,72,59,71,69,57,55,67],\"program\":[56,56,56,56,56,56,56,56,56,56,56,56,56,56,56,56,56,56,56,56,56,56,56,56,56,56,56,56,56,56,56,56,56,56,56,56,56,56,56,56,56,56,56,56,56,56,56,56,56,56,56,56,56,56,56,56,56,56,56,56,56,56,56,56,56,56,56,56,56,56,56,56,56,56,56,56,56,56,56,56,56],\"start_time\":{\"__ndarray__\":\"mpmZmZmZaT9ttXTyD/DhP+SPjwOcp+E/1fLwizjW8T8RYH6U/rHxP+5xudQbhPo/Kd9G3eFf+j8Oq2VYsugDQKxhrFyV1gNANxRRJkgmBkC6IEjLbj4GQPZhvVErFAtAlBgEVg4CC0BNTYI3pL8PQIm6D0Bqmw9A/SeSwk8OEkBMg7VEQQUSQEZUuznvURRA+PiXt/1aFEDwgwZ1JJMXQD/fKfcVihdANd3Y2f26GED0Vl2H6q4YQAEW+fXDFhtAUHEceLUNG0BrBWAWbWAdQLpgg5heVx1AMSWS6OWLH0DjyW5m9JQfQI8Q+Nba9iBA3msbWcztIEDcD3hgQFYkQIO9iSG5USRA4OLOcgZyJUCHkOAzf20lQDwIFMRTkiZAlVoCA9uWJkBqlXM8ucEnQGGeqH8jtCdAHmrbMEpcKUB3vMlv0WApQKrK0fbC9ylAUXjjtzvzKUAQ5+EEpiUrQO8jpFucHytANX12wHVHLEDcKoiB7kIsQOD93pO0Xi1AcN99aLlhLUDW+412nI8uQO3HAGMQiC5AktQv/mMdMECeOmn0nRkwQMOnJq5QYTBASCOMjBtoMECdY0D2uvMwQMqMt5X+9TBAeB9aPiWGMUCwrgrUooQxQHzJ2U7OxzFAOdTvwhbNMUDZxUee/g0yQGmn5nIDETJANsK17S5UMkDyzMthd1kyQKgbKPAupDJA1ESfj3KmMkC/EHLev3YzQOs56X0DeTNAXZNbgAPJM0DNsbyr/sUzQJChYwf1XzRAZHjsZ7FdNEDhN5hg66k0QO2d0VYlpjRAuEkymKz6NECLILv4aPg0QLPIiYkgkzVAhp8S6tyQNUAeZkKmjyg2QPE8ywZMJjZA\",\"dtype\":\"float64\",\"order\":\"little\",\"shape\":[81]},\"top\":{\"__ndarray__\":\"MzMzMzOzS0AzMzMzM7NLQJqZmZmZ2VBAMzMzMzOzTECamZmZmVlRQDMzMzMzM0tAmpmZmZmZUEAzMzMzM7NLQJqZmZmZ2VBAmpmZmZlZUUAzMzMzM7NMQDMzMzMzs01AmpmZmZnZUUAzMzMzM7NNQJqZmZmZ2VFAMzMzMzMzTkCamZmZmRlSQDMzMzMzs01AmpmZmZnZUUAzMzMzM7NMQJqZmZmZWVFAMzMzMzOzS0CamZmZmdlQQDMzMzMzs0xAmpmZmZlZUUAzMzMzM7NLQJqZmZmZ2VBAmpmZmZmZUEAzMzMzMzNLQDMzMzMzs0tAmpmZmZnZUEAzMzMzMzNPQJqZmZmZmVJAMzMzMzMzT0CamZmZmZlSQDMzMzMzM09AmpmZmZmZUkAzMzMzMzNPQJqZmZmZmVJAmpmZmZkZUkAzMzMzMzNOQDMzMzMzs01AmpmZmZnZUUAzMzMzMzNOQJqZmZmZGVJAMzMzMzMzTkCamZmZmRlSQDMzMzMzM05AmpmZmZkZUkAzMzMzMzNOQJqZmZmZGVJAMzMzMzOzTUCamZmZmdlRQJqZmZmZWVFAMzMzMzOzTECamZmZmdlRQDMzMzMzs01AMzMzMzMzTkCamZmZmRlSQJqZmZmZ2VFAMzMzMzOzTUCamZmZmVlRQDMzMzMzs0xAmpmZmZnZUEAzMzMzM7NLQJqZmZmZ2VFAMzMzMzOzTUCamZmZmRlSQDMzMzMzM05AMzMzMzMzT0CamZmZmZlSQJqZmZmZGVBAmpmZmZkZU0AzMzMzMzNOQJqZmZmZGVJAMzMzMzOzTUCamZmZmdlRQJqZmZmZWVFAMzMzMzOzTEAzMzMzM7NLQJqZmZmZ2VBA\",\"dtype\":\"float64\",\"order\":\"little\",\"shape\":[81]},\"velocity\":[123,126,127,125,127,126,126,127,127,127,127,127,127,127,127,126,127,127,127,127,127,127,127,127,127,127,127,117,126,127,127,124,127,127,127,120,127,118,127,125,127,127,127,127,127,125,127,126,127,127,127,127,127,127,127,127,127,127,127,127,127,123,124,126,126,127,127,127,127,126,127,125,127,127,127,127,127,127,126,127,126]},\"selected\":{\"id\":\"1209\"},\"selection_policy\":{\"id\":\"1208\"}},\"id\":\"1182\",\"type\":\"ColumnDataSource\"},{\"attributes\":{\"bottom\":{\"field\":\"bottom\"},\"fill_alpha\":{\"value\":0.1},\"fill_color\":{\"value\":\"#3288bd\"},\"left\":{\"field\":\"start_time\"},\"line_alpha\":{\"value\":0.1},\"right\":{\"field\":\"end_time\"},\"top\":{\"field\":\"top\"}},\"id\":\"1191\",\"type\":\"Quad\"},{\"attributes\":{},\"id\":\"1209\",\"type\":\"Selection\"},{\"attributes\":{\"data_source\":{\"id\":\"1182\"},\"glyph\":{\"id\":\"1184\"},\"hover_glyph\":null,\"muted_glyph\":null,\"nonselection_glyph\":{\"id\":\"1185\"},\"view\":{\"id\":\"1187\"}},\"id\":\"1186\",\"type\":\"GlyphRenderer\"},{\"attributes\":{\"bottom\":{\"field\":\"bottom\"},\"fill_alpha\":{\"value\":0.1},\"fill_color\":{\"value\":\"#d53e4f\"},\"left\":{\"field\":\"start_time\"},\"line_alpha\":{\"value\":0.1},\"right\":{\"field\":\"end_time\"},\"top\":{\"field\":\"top\"}},\"id\":\"1185\",\"type\":\"Quad\"},{\"attributes\":{},\"id\":\"1202\",\"type\":\"BasicTickFormatter\"},{\"attributes\":{\"source\":{\"id\":\"1182\"}},\"id\":\"1187\",\"type\":\"CDSView\"},{\"attributes\":{},\"id\":\"1153\",\"type\":\"DataRange1d\"},{\"attributes\":{},\"id\":\"1171\",\"type\":\"SaveTool\"},{\"attributes\":{},\"id\":\"1208\",\"type\":\"UnionRenderers\"},{\"attributes\":{\"data_source\":{\"id\":\"1194\"},\"glyph\":{\"id\":\"1196\"},\"hover_glyph\":null,\"muted_glyph\":null,\"nonselection_glyph\":{\"id\":\"1197\"},\"view\":{\"id\":\"1199\"}},\"id\":\"1198\",\"type\":\"GlyphRenderer\"},{\"attributes\":{},\"id\":\"1157\",\"type\":\"LinearScale\"},{\"attributes\":{},\"id\":\"1201\",\"type\":\"Title\"},{\"attributes\":{},\"id\":\"1212\",\"type\":\"UnionRenderers\"},{\"attributes\":{},\"id\":\"1213\",\"type\":\"Selection\"},{\"attributes\":{\"axis\":{\"id\":\"1159\"},\"ticker\":null},\"id\":\"1162\",\"type\":\"Grid\"},{\"attributes\":{\"bottom\":{\"field\":\"bottom\"},\"fill_alpha\":{\"value\":0.1},\"fill_color\":{\"value\":\"#f46d43\"},\"left\":{\"field\":\"start_time\"},\"line_alpha\":{\"value\":0.1},\"right\":{\"field\":\"end_time\"},\"top\":{\"field\":\"top\"}},\"id\":\"1197\",\"type\":\"Quad\"},{\"attributes\":{\"bottom\":{\"field\":\"bottom\"},\"fill_alpha\":{\"field\":\"fill_alpha\"},\"fill_color\":{\"value\":\"#d53e4f\"},\"left\":{\"field\":\"start_time\"},\"right\":{\"field\":\"end_time\"},\"top\":{\"field\":\"top\"}},\"id\":\"1184\",\"type\":\"Quad\"},{\"attributes\":{\"source\":{\"id\":\"1194\"}},\"id\":\"1199\",\"type\":\"CDSView\"},{\"attributes\":{},\"id\":\"1210\",\"type\":\"UnionRenderers\"},{\"attributes\":{},\"id\":\"1203\",\"type\":\"AllLabels\"},{\"attributes\":{},\"id\":\"1151\",\"type\":\"DataRange1d\"},{\"attributes\":{\"active_multi\":null,\"tools\":[{\"id\":\"1167\"},{\"id\":\"1168\"},{\"id\":\"1169\"},{\"id\":\"1170\"},{\"id\":\"1171\"}]},\"id\":\"1173\",\"type\":\"Toolbar\"},{\"attributes\":{\"axis\":{\"id\":\"1163\"},\"dimension\":1,\"ticker\":{\"id\":\"1181\"}},\"id\":\"1166\",\"type\":\"Grid\"},{\"attributes\":{},\"id\":\"1204\",\"type\":\"BasicTickFormatter\"},{\"attributes\":{},\"id\":\"1205\",\"type\":\"AllLabels\"},{\"attributes\":{\"data\":{\"bottom\":{\"__ndarray__\":\"zczMzMxMTUBmZmZmZqZQQM3MzMzMTEVAzczMzMzMTkDNzMzMzExNQM3MzMzMzE9AzczMzMzMQ0BmZmZmZqZQQM3MzMzMzE1AzczMzMzMQUBmZmZmZiZRQM3MzMzMzE9AZmZmZmZmUEDNzMzMzMxCQM3MzMzMTExAzczMzMzMTkBmZmZmZqZQQM3MzMzMzENAzczMzMzMT0DNzMzMzMxEQM3MzMzMzE5AZmZmZmZmUEBmZmZmZiZRQM3MzMzMzEJAzczMzMzMTkBmZmZmZqZQQM3MzMzMTEVAZmZmZmamUEDNzMzMzMxPQM3MzMzMzENAZmZmZmamUUBmZmZmZuZRQM3MzMzMzE9AZmZmZmYmUUDNzMzMzMxBQM3MzMzMzE5AZmZmZmamUUBmZmZmZqZQQM3MzMzMzEJAzczMzMxMT0DNzMzMzExDQGZmZmZmZlBAZmZmZmYmUUDNzMzMzExNQM3MzMzMzE9AZmZmZmamUEDNzMzMzMxDQM3MzMzMzEFAzczMzMzMTUDNzMzMzMxPQM3MzMzMzEdAZmZmZmYmUUDNzMzMzMxCQM3MzMzMzE5AZmZmZmamUEDNzMzMzMxCQM3MzMzMzE1AzczMzMzMTkDNzMzMzMxIQGZmZmZmZlBAzczMzMxMTUBmZmZmZqZQQM3MzMzMzE5AzczMzMxMRUDNzMzMzExLQM3MzMzMTExAzczMzMxMTUDNzMzMzMxNQM3MzMzMTEVAzczMzMzMTkDNzMzMzMxPQGZmZmZmZlBAZmZmZmamUEBmZmZmZiZRQGZmZmZmplFAZmZmZmbmUUDNzMzMzExFQGZmZmZm5lJAZmZmZmZmUkBmZmZmZmZTQGZmZmZmplFAZmZmZmamU0BmZmZmZmZSQM3MzMzMTEVAZmZmZmamUUBmZmZmZmZSQGZmZmZmplNAzczMzMxMR0BmZmZmZqZRQGZmZmZmplNAZmZmZmZmUkDNzMzMzMxIQGZmZmZmplFAZmZmZmZmUkDNzMzMzExLQGZmZmZmplNAZmZmZmamUEBmZmZmZuZRQGZmZmZm5lJAzczMzMzMSEBmZmZmZmZSQGZmZmZmplFAZmZmZmamUEDNzMzMzExFQGZmZmZmZlBAzczMzMzMTkDNzMzMzMxEQM3MzMzMzE5AZmZmZmbmUUBmZmZmZiZRQM3MzMzMzEhAZmZmZmamUUBmZmZmZqZQQGZmZmZm5lFAzczMzMzMTkDNzMzMzMxDQM3MzMzMzEhAzczMzMzMTkBmZmZmZuZRQGZmZmZmJlFAZmZmZmZmUEDNzMzMzMxCQM3MzMzMzE5AZmZmZmamUUBmZmZmZqZQQM3MzMzMTEVAzczMzMzMSEBmZmZmZiZRQM3MzMzMzE5AZmZmZmZmUEDNzMzMzMxCQGZmZmZmplBAzczMzMzMTkDNzMzMzExFQGZmZmZmplFAZmZmZmbmUUDNzMzMzMxOQGZmZmZmZlBAZmZmZmamUUDNzMzMzExGQGZmZmZmJlFAzczMzMzMTkBmZmZmZqZQQGZmZmZmplBAzczMzMxMRUBmZmZmZqZRQM3MzMzMzE5AZmZmZmbmUUBmZmZmZmZQQM3MzMzMTEZAzczMzMxMR0BmZmZmZiZQQGZmZmZmZlJAZmZmZmamUUBmZmZmZuZRQGZmZmZm5lJAzczMzMzMQUDNzMzMzMxHQM3MzMzMzE9AZmZmZmamUEBmZmZmZuZRQGZmZmZmplBAzczMzMzMSEBmZmZmZqZRQM3MzMzMzEJAzczMzMzMTkBmZmZmZiZRQM3MzMzMzE1AzczMzMzMSEDNzMzMzMxCQGZmZmZmZlBAzczMzMzMTkDNzMzMzExNQM3MzMzMTEVAzczMzMzMTkBmZmZmZqZQQA==\",\"dtype\":\"float64\",\"order\":\"little\",\"shape\":[176]},\"duration\":{\"__ndarray__\":\"8rOR66a03D8plfCEXmfeP5S2y5GoQuE/l2T39yxC4z96RcopFIzbP/Q5ZPAdUt8/uD8XDRlv3T/xBNUZ8lbjP6DbXuXjrdw/jJCUB/wc3D+4PxcNGW/dP2LGAeEw3uI/jHYVUn4O6D+4JZhXm2DpP8hv0clSE9Y/tiYpw8s+7T/QVuN/BePFP0hiSbn7HNI/cPjddMs+0z+wPxcNGW/NP8A/Fw0Zb80/QDBtJWG80T84MG0lYbzRP1CvNW5Easo/kJCUB/wc3D+YjeHEaoLgP7gjdoA6pOE/aBPulXkr2z+Y217l463cP9jVq8jokN4/HCeYRNCh8j9wRcopFIzbP5DCcJuWfdw/0Ly9fptg3j/AWAVXZp/dP/DumRI2wd4/uCQH7GqC5T9ASuza3srlPzAYEEdEauU/sA07eX4O3T+g217l463MP6DbXuXjrcw/wCQH7GqC1T8w/pCRxlvRP9CIvxOgQ9Y/EJz6QPJW2D/wHlTPb2XXPxCDDPekJtg/cPr/Syz72j/AWAVXZp/dPwBsQIS4st8/cPjddMs+4z9grzVuRGraP8A/Fw0Zb90/uAqINu1z4T/wHlTPb2XXPwCc+kDyVtg/MH1Z2qkJ2j9AyCO4kZraP+AgdqbQId8/wFbjfwXj1T9A58Qe2ufYPyDO1tSMt9g/oPRMLzHe3D9AlCVNln3CP0DMtP0r+8A/gGJJufscsj8AbECEuLK/P8C8vX6bYN4/AJrYaZGawD8A58Qe2ue4PwBiSbn7HLI/gCq6CGafsz8A/pCRxluxPwBLfUYPqak/QMy0/Sv7wD9Alkck9znaP0DGAeEw3sI/wHHzoLPPzT9A/pCRxlvBP7DxmeyfQ+E/wG5AXiI14j/goBzyvJXiP3Aqughmn+M/gHemva7s2z/AWAVXZp/dP8DVq8jokN4/AAiIXIPx3j9gE+6VeSvbP4CQlAf8HNw/EIHqH0Rq4D9QezcDSU3iP5B1hOZNMOQ/kI8DnMs+6D9QfVnaqQnqP9C7LBNrguo/QH1Z2qkJ2j9AS31GD6nJP0BiSbn7HNI/YElbb67s0T9AMG0lYbzRPyAXf9sTjNE/QBd/2xOM0T9AYkm5+xzSPwCa2GmRmsA/QEt9Rg+p2T/gvL1+m2DeP6DCcJuWfdw/GJrYaZGa8D9gIFS8pKbwP/Dr5s+kJuM/AB9Uz29ltz/AvL1+m2DeP8AmKcPLPt0/AGxAhLiy3z/g1avI6JDePwCkzzROMK4/gMYB4TDesj9AY9okLPvlPwAfVM9vZec/EFEwYwrG5z+QjwOcyz7oP+DTifGH1NY/AH1Z2qkJyj+ArzVuRGrKPwBPDoypCdA/AE8OjKkJ0D/A2TwOg/HUP4BclpwAANQ/wPIqWNAh1T+AjnIwm2DEP4As3N/GW9s/gCzc38Zb2z+gdPN6HVLgP+Dr5s+kJuM/AH1Z2qkJyj+ACxmiHVLVP4D0TC8x3tw/gD8XDRlvzT8AUJ/32efjP4DATsQ1wdQ/wLqbpzqk1j+A4REC38rKP0D/If32OeU/IACzaCcY6T+g217l463sPwC2efZvZew/ACUH7GqCxT8AH1TPb2XHPwCB6h9EatA/gJZHJPc52j+ALNzfxlvbP4CQlAf8HNw/IGj81fY54D8As8az3srQPwDMtP0r+9A/QOfEHtrn2D/ADTt5fg7dP8C8vX6bYN4/oL+9WAXj4D+A4REC38rKPwAfVM9vZdc/QM7W1Iy32D9ArzVuRGraPwC16Io/h9g/QPr/Syz72j+AE+6VeSvbP0CvNW5Eato/QEt9Rg+p2T9AZGuQXNnZP4BeuHNhvNs/wCYpw8s+3T8wi1BsBWPzP/AE1RnyVvM/8DaxrYy38z8QUJ/32efzPw==\",\"dtype\":\"float64\",\"order\":\"little\",\"shape\":[176]},\"end_time\":{\"__ndarray__\":\"8rOR66a03D8plfCEXmfeP2GDmF51j+E/l2T39yxC4z+t5FCsQM7vP2m98jMIePA/7Mnp2C6Q8D+s0C1hWovyPzqdUeCK6fg//i/E18QN+T8FSbIhEj75P32wjA3d/Po/f2ySH/FvA0DozjllW7IDQAAz8oyQcwRAxcVkhMqXBEB74GOw4kYFQJNEHNgXCAZAuiBIy24+BkDccEVPt0sIQD+6/krUXQhAJBCv6xeICECGWWjnNJoIQLch2TafHApAzYYiygS8DkD6ezwHqSIPQEc0lO1Wjw9AqVZMklRxEUCvbzrcoaERQKKakqzDthFAwroEuokyEkATRrOy/boTQJZSqlck0xNA2NglqjffE0A6It+lVPETQDXz5JoCPhZAe++Cmx/wFkDdODyXPAIXQP77eUBGCBdAV0PiHktLGEDaT9nDcWMYQDyZkr+OdRhA+m9L0TffGEAY7fFCutAZQGCMW98aDRpAReILgF43GkDVw6pUYzoaQMO/CBoznBxARsz/vlm0HEB6fdPhjtUcQKFZ/9TlCx1AS0IibWNaHUCP+Cg2+fceQORsOgI4Hx9AjlVdmrVtH0CxdgEcKIcgQEFYoPAsiiBA0Tk/xTGNIEBURjZqWKUgQEdxjjp6uiBAlIYaheScIUBm7jSs/KshQPbP04ABryFAsWt7u6XFIUAIG55e6T8iQJ8VK307cyJAiEm4kMd6IkD6oiqTx8oiQPbETSB/7SJAALwY3RT7IkDp76XwoAIjQGIF0tgxDSNAOobaSZdMI0C9ktHuvWQjQN5VD5jHaiNAysStgljFI0A//Pz3oPIjQIp5QwdKDCRAc63QGtYTJEAEj2/v2hYkQIF38ukxPSVA+owe0sJHJUDD/W08RUklQGbNoop1ZyVAnBa86GtRJkBNu5hmelomQN2cNzt/XSZAQObwNpxvJkBHlyS8qmgnQKng3bfHeidAZHyF8muRJ0CBYeYoLbonQBwvyllFCSlAIki4o5I5KUA/LRnaU2IpQM8OuK5YZSlAF64hS7mhKUBiK2haYrspQKDTBjot6ilAMbWlDjLtKUBDAHDsGX4qQNPhDsEegSpA9KRMaiiHKkDd2Nl9tI4qQLrPBJ0jdCtAi5RTKPj4K0CRrUFyRSksQEAMh7jMHS1Awxh+XfM1LUDk27sG/TstQJGiuxHDZy1AxVOPNPiILUAfPsOuQFYuQLAfYoNFWS5AQAEBWEpcLkDQ4p8sT18uQOrpI/DHqi5AesvCxMytLkDJG2DmO+MvQCxlGeJY9S9A2DiIw78GMED4+8VsyQwwQBXhJqOKNTBANDX2EvBMMEDFFpXn9E8wQLmwW/G6UzBAsIUz0oWqMEBWxNZZWrcwQLp8/o4buDBA5qV1Ll+6MECV2+NyydQwQKgmrlCxZTFA1E8l8PRnMUDzo/RfWn8xQCnENrwzjzFAqmG/J7a4MUDHRiBed+ExQK4LPzhf+jFA8JG6inIGMkCI+7XiaCgyQBOQCQuBXzJAKO0NvlBpMkAlDzFLCIwyQDINsHwDUTNA9p8idD11M0DpynpEX4ozQHmsGRlkjTNAxSlgKA2nM0Dl7J3RFq0zQNgX9qE4wjNAq0uzZrE1NEBzvALRMzc0QNd0Kgb1NzRAqdxELQ1HNEBcvDKCIKM0QH1/cCsqqTRAQhLjImTNNEAIFMRTQuA0QGzM64gD4TRAHXHIBhLqNEDm4RdxlOs0QIzsXZbJXDVA2dgS3xZlNUChSWJJmWY1QM1y2ejcaDVAtqZm/GhwNUDgvaPGxPk1QKgu8zBH+zVA1Fdq0Ir9NUBlOQmljwA2QJFigETTAjZAWdPPrlUENkCwq8lTtlg3QHgcGb44WjdAQI1oKLtbN0ClRZBdfFw3QA==\",\"dtype\":\"float64\",\"order\":\"little\",\"shape\":[176]},\"fill_alpha\":{\"__ndarray__\":\"AAAAAABA5z8AAAAAAEDnPwAAAAAAgOc/AAAAAACA5z8AAAAAAEDnPwAAAAAAAOc/AAAAAACA6D8AAAAAAADnPwAAAAAAAOc/AAAAAABA6D8AAAAAAEDnPwAAAAAAQOc/AAAAAADA5j8AAAAAAIDoPwAAAAAAAOY/AAAAAACA5z8AAAAAAEDnPwAAAAAAAOg/AAAAAACA5z8AAAAAAMDnPwAAAAAAQOc/AAAAAAAA5z8AAAAAAEDnPwAAAAAAgOg/AAAAAACA5z8AAAAAAEDoPwAAAAAAgOg/AAAAAABA5z8AAAAAAADnPwAAAAAAgOg/AAAAAAAA6D8AAAAAAEDnPwAAAAAAAOc/AAAAAAAA5z8AAAAAAEDoPwAAAAAAQOc/AAAAAADA5z8AAAAAAMDnPwAAAAAAQOg/AAAAAADA5j8AAAAAAMDnPwAAAAAAAOc/AAAAAACA5z8AAAAAAEDnPwAAAAAAgOc/AAAAAABA5z8AAAAAAEDoPwAAAAAAAOc/AAAAAACA5z8AAAAAAMDnPwAAAAAAAOg/AAAAAACA5z8AAAAAAADpPwAAAAAAgOc/AAAAAABA5z8AAAAAAMDnPwAAAAAAgOc/AAAAAADA5z8AAAAAAEDnPwAAAAAAQOc/AAAAAACA5z8AAAAAAEDoPwAAAAAAAOg/AAAAAAAA6T8AAAAAAADoPwAAAAAAAOg/AAAAAADA5z8AAAAAAIDnPwAAAAAAAOg/AAAAAABA5z8AAAAAAMDmPwAAAAAAwOY/AAAAAABA6D8AAAAAAEDnPwAAAAAAAOg/AAAAAAAA6D8AAAAAAIDoPwAAAAAAgOY/AAAAAAAA5z8AAAAAAIDmPwAAAAAAgOc/AAAAAACA5z8AAAAAAADmPwAAAAAAwOk/AAAAAAAA6D8AAAAAAIDoPwAAAAAAAOg/AAAAAACA5z8AAAAAAADoPwAAAAAAgOc/AAAAAACA6D8AAAAAAEDnPwAAAAAAQOg/AAAAAAAA6D8AAAAAAIDnPwAAAAAAAOg/AAAAAACA5T8AAAAAAIDnPwAAAAAAQOc/AAAAAACA5z8AAAAAAIDnPwAAAAAAwOc/AAAAAAAA6D8AAAAAAMDoPwAAAAAAAOc/AAAAAADA5z8AAAAAAEDoPwAAAAAAgOc/AAAAAAAA6D8AAAAAAMDnPwAAAAAAQOg/AAAAAABA5z8AAAAAAEDnPwAAAAAAwOY/AAAAAACA5z8AAAAAAADoPwAAAAAAAOc/AAAAAAAA5z8AAAAAAADoPwAAAAAAgOc/AAAAAADA5j8AAAAAAIDnPwAAAAAAAOY/AAAAAACA5z8AAAAAAIDnPwAAAAAAgOc/AAAAAACA5z8AAAAAAADoPwAAAAAAgOc/AAAAAACA5z8AAAAAAIDoPwAAAAAAAOg/AAAAAACA5z8AAAAAAEDoPwAAAAAAAOg/AAAAAABA5z8AAAAAAEDnPwAAAAAAQOc/AAAAAABA5z8AAAAAAADoPwAAAAAAgOc/AAAAAACA5z8AAAAAAIDnPwAAAAAAAOg/AAAAAACA6D8AAAAAAEDoPwAAAAAAAOg/AAAAAABA5z8AAAAAAMDmPwAAAAAAAOg/AAAAAAAA6D8AAAAAAADoPwAAAAAAQOg/AAAAAACA6D8AAAAAAADoPwAAAAAAAOg/AAAAAACA5z8AAAAAAIDoPwAAAAAAQOg/AAAAAAAA6D8AAAAAAIDnPwAAAAAAAOg/AAAAAABA6D8AAAAAAIDoPwAAAAAAAOg/AAAAAABA6D8AAAAAAIDoPwAAAAAAAOg/AAAAAACA6D8AAAAAAADoPwAAAAAAAOg/AAAAAADA5z8AAAAAAIDoPwAAAAAAwOg/AAAAAABA6D8AAAAAAEDoPw==\",\"dtype\":\"float64\",\"order\":\"little\",\"shape\":[176]},\"index\":[81,82,83,84,85,86,87,88,89,90,91,92,93,94,95,96,97,98,99,100,101,102,103,104,105,106,107,108,109,110,111,112,113,114,115,116,117,118,119,120,121,122,123,124,125,126,127,128,129,130,131,132,133,134,135,136,137,138,139,140,141,142,143,144,145,146,147,148,149,150,151,152,153,154,155,156,157,158,159,160,161,162,163,164,165,166,167,168,169,170,171,172,173,174,175,176,177,178,179,180,181,182,183,184,185,186,187,188,189,190,191,192,193,194,195,196,197,198,199,200,201,202,203,204,205,206,207,208,209,210,211,212,213,214,215,216,217,218,219,220,221,222,223,224,225,226,227,228,229,230,231,232,233,234,235,236,237,238,239,240,241,242,243,244,245,246,247,248,249,250,251,252,253,254,255,256],\"instrument\":[1,1,1,1,1,1,1,1,1,1,1,1,1,1,1,1,1,1,1,1,1,1,1,1,1,1,1,1,1,1,1,1,1,1,1,1,1,1,1,1,1,1,1,1,1,1,1,1,1,1,1,1,1,1,1,1,1,1,1,1,1,1,1,1,1,1,1,1,1,1,1,1,1,1,1,1,1,1,1,1,1,1,1,1,1,1,1,1,1,1,1,1,1,1,1,1,1,1,1,1,1,1,1,1,1,1,1,1,1,1,1,1,1,1,1,1,1,1,1,1,1,1,1,1,1,1,1,1,1,1,1,1,1,1,1,1,1,1,1,1,1,1,1,1,1,1,1,1,1,1,1,1,1,1,1,1,1,1,1,1,1,1,1,1,1,1,1,1,1,1,1,1,1,1,1,1],\"pitch\":[59,67,43,62,59,64,40,67,60,36,69,64,66,38,57,62,67,40,64,42,62,66,69,38,62,67,43,67,64,40,71,72,64,69,36,62,71,67,38,63,39,66,69,59,64,67,40,36,60,64,48,69,38,62,67,38,60,62,50,66,59,67,62,43,55,57,59,60,43,62,64,66,67,69,71,72,43,76,74,78,71,79,74,43,71,74,79,47,71,79,74,50,71,74,55,79,67,72,76,50,74,71,67,43,66,62,42,62,72,69,50,71,67,72,62,40,50,62,72,69,66,38,62,71,67,43,50,69,62,66,38,67,62,43,71,72,62,66,71,45,69,62,67,67,43,71,62,72,66,45,47,65,74,71,72,76,36,48,64,67,72,67,50,71,38,62,69,60,50,38,66,62,59,43,62,67],\"program\":[48,48,48,48,48,48,48,48,48,48,48,48,48,48,48,48,48,48,48,48,48,48,48,48,48,48,48,48,48,48,48,48,48,48,48,48,48,48,48,48,48,48,48,48,48,48,48,48,48,48,48,48,48,48,48,48,48,48,48,48,48,48,48,48,48,48,48,48,48,48,48,48,48,48,48,48,48,48,48,48,48,48,48,48,48,48,48,48,48,48,48,48,48,48,48,48,48,48,48,48,48,48,48,48,48,48,48,48,48,48,48,48,48,48,48,48,48,48,48,48,48,48,48,48,48,48,48,48,48,48,48,48,48,48,48,48,48,48,48,48,48,48,48,48,48,48,48,48,48,48,48,48,48,48,48,48,48,48,48,48,48,48,48,48,48,48,48,48,48,48,48,48,48,48,48,48],\"start_time\":{\"__ndarray__\":\"AAAAAAAAAAAAAAAAAAAAADQzMzMzM4M/AAAAAAAAAADwwWuXNgjiP9hds28BR+E//PNHK9Fo4j9nnIaowr/hP1Lm+eYRvvE/2wvf1YUG8j8XeWzeS+LxP0zNC53EjfE/uB0aFqPY+j/0iqceabT6PwcFuDMmsQFAL/g0Jy+Q+j8Oq2VYsugDQEoY82B4xANArGGsXJXWA0Dh/HO+xXQGQENGLbrihgZAHGoBx4tQBkB/s7rCqGIGQMLG9e/6dQhAu/QvSWU4C0CUGARWDgILQFmrdk1IJgtA5era8Tl9D0DrA8k7h60PQIm6D0Bqmw9A9mG9USsUC0C8oRZwPAISQG1G8+1KCxJAC/058i35EUCuzG5AXhcSQEZUuznvURRA5AoCPtI/FECVr9674EgUQPj4l7f9WhRAfJJON2N6FkD9WK6kAn4XQF+iZ6AfkBdArv2KIhGHF0A13djZ/boYQNOTH97gqBhAhDj8W++xGEDmgbVXDMQYQJL3l8rIGRtAn8w/+qYEG0DuJ2N8mPsaQOFSu0y6EBtAPYOG/onyGkCZnUXvVFEdQOj4aHFGSB1AN1SM8zc/HUBzqw07+ZcfQMIGMb3qjh9Az9vY7Mh5H0AkUOq4B6EfQICAtWrXgh9A3msbWcztIEAsxz7bveQgQIUZLRpF6SBADAQBMrTeIEC3hGkF8/UhQG5CNM1OLyJAw7ZFmY1WIkAiIiIiYosiQBDXV0R6+iFAmFlxl6q4IkAbZmg80dAiQJ5yX+H36CJA5RHJfVglI0DBcK5hBkIjQJPYyIgeUSNAmfG20muBI0CNv9o+0SAjQHFyv0PRwCNArN9MTJecI0ALSynVa9EjQGbYKOv3KCRADoY6rHAkJEC1M0xt6R8kQL8qFyp/LSRA4OLOcgZyJUCHkOAzf20lQC8+8vT3aCVAAKYMHBB4JUCsJnXvTo8mQCU8odffmSZAU9SGsMeKJkDM6bKYWJUmQMPnYXtAxidAKQ/46aW1J0BqlXM8ucEnQBJDhf0xvSdALeJO/GvRKEA1Nk4dvlQpQI6IPFxFWSlA5toqm8xdKUDBlkTjNvApQBrpMiK+9ClAOqxwy8f6KUDLjQ+gzP0pQFJtXVe5MStAMaofrq8rK0Cqv0uWQDYrQCuGqwPgOSxAgAVDMKEiK0DYVzFvKCcrQNIzvcRYNSxAh6vwVC1aLUA5UM3SO2MtQHrWSCVPby1A4P3ek7ReLUAhhFrmx2otQEYa76GXjC5A7ccAYxCILkCVdRIkiYMuQDwjJOUBfy5An2zd4B6RLkD3vssfppUuQItzwQZxtC9AOoJBv9wYMEBmq7heIBswQH13K0uUEzBAdEwDLF9qMEDv0J1NlGMwQEgjjIwbaDBAG/oU7ddlMEB49oI8CKwwQPa1LjVC+DBAIt+l1IX6MEBOCB10yfwwQMqMt5X+9TBAsK4K1KKEMUCZ4pfnLowxQNzXgXPmhjFAcWOgWJTLMUAIAfkSKokxQBFV+DN8DDJAPX5v078OMkBi6yyNclYyQDj9xsQzpzJA9QfdOHysMkAM1E8l8KQyQMneZZk4qjJAexuIUgh8M0CnRP/xS34zQNRtdpGPgDNAUS0iisnMM0DBS4O1xMkzQJUiDBaBxzNAaPmUdj3FM0CQoWMH9V80QE2seXs9ZTRApf5nusRpNEDRJ99ZCGw0QHnV8BqBZzRAIIMC3PliNEAjvhOz/rU0QBCcINcz/zRAoH2/qzgCNUDkcqk38Pw0QPnPreq/BjVAzaY2S3wENUCSBUzgFo01QOtXOh+ekTVAp2JQk+aWNUDUi8cyKpk1QBeBsb7hkzVAvi7Df1qPNUD9ogT9hSI2QCnMe5zJJDZA0XmNXUIgNkCkUBa+/h02QA==\",\"dtype\":\"float64\",\"order\":\"little\",\"shape\":[176]},\"top\":{\"__ndarray__\":\"MzMzMzOzTUCamZmZmdlQQDMzMzMzs0VAMzMzMzMzT0AzMzMzM7NNQJqZmZmZGVBAMzMzMzMzRECamZmZmdlQQDMzMzMzM05AMzMzMzMzQkCamZmZmVlRQJqZmZmZGVBAmpmZmZmZUEAzMzMzMzNDQDMzMzMzs0xAMzMzMzMzT0CamZmZmdlQQDMzMzMzM0RAmpmZmZkZUEAzMzMzMzNFQDMzMzMzM09AmpmZmZmZUECamZmZmVlRQDMzMzMzM0NAMzMzMzMzT0CamZmZmdlQQDMzMzMzs0VAmpmZmZnZUECamZmZmRlQQDMzMzMzM0RAmpmZmZnZUUCamZmZmRlSQJqZmZmZGVBAmpmZmZlZUUAzMzMzMzNCQDMzMzMzM09AmpmZmZnZUUCamZmZmdlQQDMzMzMzM0NAMzMzMzOzT0AzMzMzM7NDQJqZmZmZmVBAmpmZmZlZUUAzMzMzM7NNQJqZmZmZGVBAmpmZmZnZUEAzMzMzMzNEQDMzMzMzM0JAMzMzMzMzTkCamZmZmRlQQDMzMzMzM0hAmpmZmZlZUUAzMzMzMzNDQDMzMzMzM09AmpmZmZnZUEAzMzMzMzNDQDMzMzMzM05AMzMzMzMzT0AzMzMzMzNJQJqZmZmZmVBAMzMzMzOzTUCamZmZmdlQQDMzMzMzM09AMzMzMzOzRUAzMzMzM7NLQDMzMzMzs0xAMzMzMzOzTUAzMzMzMzNOQDMzMzMzs0VAMzMzMzMzT0CamZmZmRlQQJqZmZmZmVBAmpmZmZnZUECamZmZmVlRQJqZmZmZ2VFAmpmZmZkZUkAzMzMzM7NFQJqZmZmZGVNAmpmZmZmZUkCamZmZmZlTQJqZmZmZ2VFAmpmZmZnZU0CamZmZmZlSQDMzMzMzs0VAmpmZmZnZUUCamZmZmZlSQJqZmZmZ2VNAMzMzMzOzR0CamZmZmdlRQJqZmZmZ2VNAmpmZmZmZUkAzMzMzMzNJQJqZmZmZ2VFAmpmZmZmZUkAzMzMzM7NLQJqZmZmZ2VNAmpmZmZnZUECamZmZmRlSQJqZmZmZGVNAMzMzMzMzSUCamZmZmZlSQJqZmZmZ2VFAmpmZmZnZUEAzMzMzM7NFQJqZmZmZmVBAMzMzMzMzT0AzMzMzMzNFQDMzMzMzM09AmpmZmZkZUkCamZmZmVlRQDMzMzMzM0lAmpmZmZnZUUCamZmZmdlQQJqZmZmZGVJAMzMzMzMzT0AzMzMzMzNEQDMzMzMzM0lAMzMzMzMzT0CamZmZmRlSQJqZmZmZWVFAmpmZmZmZUEAzMzMzMzNDQDMzMzMzM09AmpmZmZnZUUCamZmZmdlQQDMzMzMzs0VAMzMzMzMzSUCamZmZmVlRQDMzMzMzM09AmpmZmZmZUEAzMzMzMzNDQJqZmZmZ2VBAMzMzMzMzT0AzMzMzM7NFQJqZmZmZ2VFAmpmZmZkZUkAzMzMzMzNPQJqZmZmZmVBAmpmZmZnZUUAzMzMzM7NGQJqZmZmZWVFAMzMzMzMzT0CamZmZmdlQQJqZmZmZ2VBAMzMzMzOzRUCamZmZmdlRQDMzMzMzM09AmpmZmZkZUkCamZmZmZlQQDMzMzMzs0ZAMzMzMzOzR0CamZmZmVlQQJqZmZmZmVJAmpmZmZnZUUCamZmZmRlSQJqZmZmZGVNAMzMzMzMzQkAzMzMzMzNIQJqZmZmZGVBAmpmZmZnZUECamZmZmRlSQJqZmZmZ2VBAMzMzMzMzSUCamZmZmdlRQDMzMzMzM0NAMzMzMzMzT0CamZmZmVlRQDMzMzMzM05AMzMzMzMzSUAzMzMzMzNDQJqZmZmZmVBAMzMzMzMzT0AzMzMzM7NNQDMzMzMzs0VAMzMzMzMzT0CamZmZmdlQQA==\",\"dtype\":\"float64\",\"order\":\"little\",\"shape\":[176]},\"velocity\":[93,93,94,94,93,92,98,92,92,97,93,93,91,98,88,94,93,96,94,95,93,92,93,98,94,97,98,93,92,98,96,93,92,92,97,93,95,95,97,91,95,92,94,93,94,93,97,92,94,95,96,94,100,94,93,95,94,95,93,93,94,97,96,100,96,96,95,94,96,93,91,91,97,93,96,96,98,90,92,90,94,94,88,103,96,98,96,94,96,94,98,93,97,96,94,96,86,94,93,94,94,95,96,99,92,95,97,94,96,95,97,93,93,91,94,96,92,92,96,94,91,94,88,94,94,94,94,96,94,94,98,96,94,97,96,93,93,93,93,96,94,94,94,96,98,97,96,93,91,96,96,96,97,98,96,96,94,98,97,96,94,96,97,98,96,97,98,96,98,96,96,95,98,99,97,97]},\"selected\":{\"id\":\"1211\"},\"selection_policy\":{\"id\":\"1210\"}},\"id\":\"1188\",\"type\":\"ColumnDataSource\"},{\"attributes\":{},\"id\":\"1211\",\"type\":\"Selection\"},{\"attributes\":{\"axis_label\":\"time (sec)\",\"formatter\":{\"id\":\"1204\"},\"major_label_policy\":{\"id\":\"1205\"},\"ticker\":{\"id\":\"1160\"}},\"id\":\"1159\",\"type\":\"LinearAxis\"},{\"attributes\":{\"axis_label\":\"pitch (MIDI)\",\"formatter\":{\"id\":\"1202\"},\"major_label_policy\":{\"id\":\"1203\"},\"ticker\":{\"id\":\"1179\"}},\"id\":\"1163\",\"type\":\"LinearAxis\"},{\"attributes\":{},\"id\":\"1155\",\"type\":\"LinearScale\"},{\"attributes\":{\"callback\":null,\"tooltips\":[[\"pitch\",\"@pitch\"],[\"program\",\"@program\"],[\"velo\",\"@velocity\"],[\"duration\",\"@duration\"],[\"start_time\",\"@start_time\"],[\"end_time\",\"@end_time\"],[\"velocity\",\"@velocity\"],[\"fill_alpha\",\"@fill_alpha\"]]},\"id\":\"1167\",\"type\":\"HoverTool\"},{\"attributes\":{\"interval\":12},\"id\":\"1181\",\"type\":\"SingleIntervalTicker\"},{\"attributes\":{\"bottom\":{\"field\":\"bottom\"},\"fill_alpha\":{\"field\":\"fill_alpha\"},\"fill_color\":{\"value\":\"#3288bd\"},\"left\":{\"field\":\"start_time\"},\"right\":{\"field\":\"end_time\"},\"top\":{\"field\":\"top\"}},\"id\":\"1190\",\"type\":\"Quad\"},{\"attributes\":{\"bottom\":{\"field\":\"bottom\"},\"fill_alpha\":{\"field\":\"fill_alpha\"},\"fill_color\":{\"value\":\"#f46d43\"},\"left\":{\"field\":\"start_time\"},\"right\":{\"field\":\"end_time\"},\"top\":{\"field\":\"top\"}},\"id\":\"1196\",\"type\":\"Quad\"},{\"attributes\":{\"interval\":12},\"id\":\"1179\",\"type\":\"SingleIntervalTicker\"},{\"attributes\":{},\"id\":\"1160\",\"type\":\"BasicTicker\"},{\"attributes\":{\"data\":{\"bottom\":{\"__ndarray__\":\"zczMzMzMQUDNzMzMzMxCQM3MzMzMzEFAzczMzMzMQkDNzMzMzMxBQM3MzMzMzEJAzczMzMzMRkDNzMzMzMxCQM3MzMzMzEJAzczMzMzMQkDNzMzMzMxBQM3MzMzMzEJAzczMzMzMQkDNzMzMzMxCQM3MzMzMzEJAzczMzMzMQkDNzMzMzMxCQM3MzMzMzEJAzczMzMzMQkDNzMzMzMxCQM3MzMzMzEJAzczMzMzMRkDNzMzMzMxCQM3MzMzMzEFAzczMzMzMQkDNzMzMzMxBQM3MzMzMzEJAzczMzMzMQUDNzMzMzMxGQM3MzMzMzEJAzczMzMzMQkDNzMzMzMxCQM3MzMzMzEJAzczMzMzMQUDNzMzMzMxCQM3MzMzMzEJAzczMzMzMQkDNzMzMzMxCQM3MzMzMzEJAzczMzMzMQkDNzMzMzMxCQM3MzMzMzEJAzczMzMzMQkDNzMzMzMxCQM3MzMzMzEZAzczMzMzMQkDNzMzMzMxBQM3MzMzMzEJAzczMzMzMQUDNzMzMzMxCQM3MzMzMzEZAzczMzMzMRkDNzMzMzMxBQM3MzMzMzEJAzczMzMzMQkDNzMzMzMxCQM3MzMzMzEJAzczMzMzMQUDNzMzMzMxCQM3MzMzMzEJAzczMzMzMQkDNzMzMzMxCQM3MzMzMzEJAzczMzMzMQkDNzMzMzMxCQM3MzMzMzEJAzczMzMzMQkDNzMzMzMxCQM3MzMzMzEJAzczMzMzMRkDNzMzMzMxCQM3MzMzMzEFAzczMzMzMQkDNzMzMzMxBQM3MzMzMzEJAzczMzMzMQUDNzMzMzMxCQM3MzMzMzEZAzczMzMzMQkDNzMzMzMxCQM3MzMzMzEJAzczMzMzMQkDNzMzMzMxCQM3MzMzMzEJAzczMzMzMQkDNzMzMzMxCQM3MzMzMzEJAzczMzMzMQkDNzMzMzMxCQM3MzMzMzEJAzczMzMzMQkDNzMzMzMxGQM3MzMzMzEJAzczMzMzMQUDNzMzMzMxCQM3MzMzMzEJAzczMzMzMQUDNzMzMzMxGQM3MzMzMzEJAzczMzMzMQkDNzMzMzMxCQM3MzMzMzEJAzczMzMzMQUDNzMzMzMxCQM3MzMzMzEJAzczMzMzMQkDNzMzMzMxCQM3MzMzMzEJAzczMzMzMQkDNzMzMzMxCQM3MzMzMzEJAzczMzMzMQkDNzMzMzMxCQM3MzMzMzEZAzczMzMzMQkDNzMzMzMxBQM3MzMzMzEJAzczMzMzMQkDNzMzMzMxGQM3MzMzMzEJAzczMzMzMQkDNzMzMzMxCQM3MzMzMzEZAzczMzMzMQkDNzMzMzMxCQM3MzMzMzEJAzczMzMzMQUDNzMzMzMxCQM3MzMzMzEJAzczMzMzMQkDNzMzMzMxCQM3MzMzMzEJAzczMzMzMQkDNzMzMzMxCQM3MzMzMzEJAzczMzMzMQkDNzMzMzMxGQM3MzMzMzEJAzczMzMzMRkDNzMzMzMxCQM3MzMzMzEFAzczMzMzMQkDNzMzMzMxCQM3MzMzMzEZAzczMzMzMRkDNzMzMzMxCQM3MzMzMzEJAzczMzMzMQkDNzMzMzMxCQM3MzMzMzEJAzczMzMzMQUDNzMzMzMxCQM3MzMzMzEJAzczMzMzMQkDNzMzMzMxCQM3MzMzMzEJAzczMzMzMQkDNzMzMzMxCQM3MzMzMzEJAzczMzMzMQkDNzMzMzMxCQM3MzMzMzEJAzczMzMzMQkDNzMzMzMxCQM3MzMzMzEZAzczMzMzMQkA=\",\"dtype\":\"float64\",\"order\":\"little\",\"shape\":[166]},\"duration\":{\"__ndarray__\":\"goYR1W6ezj/880cr0WjiP9CjzzROMM4/PTBtJWG84T/Qo880TjDOP0RJW2+u7OE/QkP/BBch+z+g217l462sP8CjzzROMJ4/UGJJufscsj/Qo880TjDOP1CvNW5Earo/4KPPNE4wrj+AS31GD6mpP6DyKljQIbU/IJrYaZGasD+AjnIwm2C0P8DyKljQIbU/AIMM96QmuD8AH1TPb2W3P2jf7yp+DtM/7Qb38FIT+z84F3/bE4zhP9CjzzROMM4/xDxkyofU4T/Qo880TjDOP8A8ZMqH1OE/wKPPNE4wzj8odIT5GO/6P0AwbSVhvOE/AEt9Rg+pqT8ApM80TjCOPwBsQIS4sq8/wKPPNE4wzj8AbECEuLK/PwBsQIS4sq8/gPIqWNAhpT+AKroIZp+zP4DGAeEw3rI/AJrYaZGasD/AVuN/BeO1PwC7m6c6pLY/gHemva7suz+AQ6hSs8/TP+wG9/BSE/s/wDxkyofU4T/go880TjDOPzgXf9sTjOE/wKPPNE4wzj84MG0lYbzhPxQOqvqCcfI/APIqWNAhlT+go880TjDOP7AjdoA6pOE/ABTulXkrqz8AFO6VeSubPwD+kJHGW7E/wKPPNE4wzj+ArzVuRGq6PwBLfUYPqak/gP6QkcZbsT+AjnIwm2C0PwCkzzROMK4/AJrYaZGasD+AxgHhMN6yPwC7m6c6pLY/QP6QkcZbwT8AmthpkZrQP2CUJU2WfdI/6Ab38FIT+z9glCVNln3SPwCkzzROMM4/sCN2gDqk4T/Ao880TjDOP9BVUhTVBOI/wKPPNE4wzj+wCog27XPhP/AG9/BSE/s/ANxe5eOtrD8A8ypY0CGlPwCkzzROMK4/AIMM96QmuD8A3F7l462sPwCkzzROMK4/gFbjfwXjtT+A/pCRxluxPwD+kJHGW7E/gMYB4TDesj+AupunOqS2PwCkzzROML4/QDBtJWG80T9g4REC38r6P0AXf9sTjOE/wKPPNE4wzj/AVVIU1QTiP+C5CjwKxuI/wKPPNE4wzj/oBvfwUhP7P1BiSbn7HOI/AIMM96QmqD8AKroIZp+jP4DGAeEw3rI/wKPPNE4wzj8Au5unOqS2PwCkzzROMK4/AP6QkcZbsT+AKroIZp+zPwBLfUYPqak/AGJJufscsj8Aj3Iwm2C0PwC7m6c6pLY/ABPulXkruz9AF3/bE4zRP+gG9/BSE/s/YHs3A0lN4j8ApM80TjDOP0AXf9sTjOE/QBHMvhhv0z9QSVtvruzxPwAXf9sTjNE/QDBtJWG80T9AgeofRGrQP0BiSbn7HOI/ANpe5eOtrD8ATH1GD6mpPwCkzzROMK4/AKTPNE4wzj8Agwz3pCa4PwBsQIS4sq8/AJrYaZGasD8Aj3Iwm2C0PwAS7pV5K6s/AGxAhLiyrz8A/5CRxluxPwDnxB7a57g/gMYB4TDewj8AYkm5+xyiP0BiSbn7HNI/QElbb67s4T9AlCVNln3iPwCkzzROMM4/QElbb67s0T+AlCVNln3SP+C5CjwKxvI/APIqWNAhpT9AYkm5+xziP0BJW2+u7OE/AIQM96QmqD8Aggz3pCaoPwCkzzROMK4/AKTPNE4wzj8Au5unOqS2PwCa2GmRmrA/AGxAhLiyrz8AY0m5+xyyPwBsQIS4sq8/AKTPNE4wrj8AxgHhMN6yPwBiSbn7HLI/ALybpzqkpj8AjnIwm2C0PwBsQIS4sq8/ACu6CGafsz8AjnIwm2C0P/AG9/BSE/s/MHSE+Rjv+j8=\",\"dtype\":\"float64\",\"order\":\"little\",\"shape\":[166]},\"end_time\":{\"__ndarray__\":\"goYR1W6ezj/880cr0WjiP+rDjW6XxOk/XhjWeqwe8j8ak+uTyfD1P0JD/wQXIfs/QkP/BBch+z8fOiokhgb8P+/+eK9ai/w/FJUNayqt/T8/RJBwR//+Pwnw8LHOU/8/tXkJO7IoAEAk9Z7KaZsAQLlMYE14RAFAihGv2EzJAUD+pTKyUWwCQJT98zRgFQNArGGsXJXWA0CkAifbwJEEQJH+hKCQ8wZAWat2TUgmC0BfxGSXlVYLQNcrP4NgFQ1AsJY7M8HRD0A1wsi4T84QQPBS6pJxIxJAfu7xL+8RE0DXNVoO9FQUQPj4l7f9WhRAjvMk1k+OFEBgWz/9Z50UQMi95kLS3xRAxxobp45VFUAJoZb5oWEVQOEhn2oHoRVAxndPC0vLFUBwYHKjyBkWQBpJlTtGaBZAgqs8gbCqFkDdODyXPAIXQMmn2oHNXBdANyNwEYXPF0Bvp5pGgAwZQGRfsvHgKBtAmBCGFBZKG0Cjn5YMbSAcQH/z9Y+Yex1A7Mu/gwxkHkCGmaO0JLMfQAmmmllLyx9ACaaaWUvLH0AafHT91VMgQP4uWQLW8yBAEh3vewEPIUDkhAmjGR4hQKgXfJpTQiFAPxIJuaV1IUDP86eNqnghQBpx7pxTkiFAF5MRKgu1IUA0eHJgzN0hQKC49hh//SFA1GnKO7QeIkBhbYydcEQiQJ8VK307cyJAmFlxl6q4IkBoHsAifz0jQAtLKdVr0SNAjbRU3k5fJECud5KHWGUkQK3UxusU2yRA6dmZL5x/JUDRalun5PwlQEb/3oDpnyZA9gDwYrQeJ0Dxf0dUKLcnQPt2EhG+xCdAzd4sONbTJ0CIetRyeuonQPS6WCstCihAirXlSX89KEBmFMstLVooQNJUT+bfeShAfxtP8aWlKEB8PXJ+XcgoQHhflQsV6yhABWNXbdEQKUB6mqbiGT4pQMI5EH96eilADBSL8t8JKkC3lPPFHiErQIAFQzChIitAiFlCUfOlK0DcKoiB7kIsQHrWSCVPby1A0YVryJLpLUDW+412nI8uQJ9s3eAekS5AInnUhUWpLkAUpCxWZ74uQKGn7rcj5C5A9hsAhGILL0AX3z0tbBEvQLuucnucLy9Af0HlctZTL0DUtfY+FXsvQB8zPU6+lC9ArDb/r3q6L0CSjK9QvuQvQGgaJ5jECTBAewi9EfAkMEA8vVKW4WswQCLfpdSF+jBAezGUEw3/MEAy717baDgxQJnil+cujDFAQsu6f6zaMUB/BOsl0xoyQAOAUASeITJAxDTmiI9oMkDJ3mWZOKoyQCExVNi/rjJANo5Yi4+4MkDczPsSZMUyQK40Fjp81DJAadC9dCDrMkAxQQ3fouwyQGdhTzt8/DJAATq5zBYNM0CQrOlndyEzQJmjtCQNLzNAz8P2gOY+M0DOVIhHQlAzQLUZpyEqaTNAQh1pg+aOM0BuRuAiKpEzQMtCTnJa1zNAkKFjB/VfNEBtb7ckR2s0QKCxHA7YnTRAktx03vmyNEDkcqk38Pw0QPa9cxXYjTVA9r1zFdiNNUD2vXMV2I01QECY7og9HTZA5taREBIqNkAnXQ1jJTY2QPnEJ4o9RTZA15J7p49QNkC0YM/E4Vs2QE45OVZ8bDZAhFl7slV8NkDnojSuco42QB3DdgpMnjZAU+O4ZiWuNkB9ncHMxME2QN/mesjh0zZAvbTO5TPfNkBLJ/+AlPM2QIFHQd1tAzdAELpxeM4XN0CeLKITLyw3QP5jITpkxTdA4XM6oyDbOEA=\",\"dtype\":\"float64\",\"order\":\"little\",\"shape\":[166]},\"fill_alpha\":{\"__ndarray__\":\"AAAAAADA5T8AAAAAAADZPwAAAAAAwOU/AAAAAACA2D8AAAAAAMDlPwAAAAAAANY/AAAAAACA3z8AAAAAAADdPwAAAAAAANM/AAAAAAAA1T8AAAAAAADlPwAAAAAAANE/AAAAAAAA0z8AAAAAAADLPwAAAAAAAM4/AAAAAAAAyz8AAAAAAADDPwAAAAAAAL4/AAAAAACA1T8AAAAAAADLPwAAAAAAANY/AAAAAACA3j8AAAAAAIDTPwAAAAAAwOU/AAAAAACA2T8AAAAAAIDkPwAAAAAAANw/AAAAAABA5T8AAAAAAADgPwAAAAAAgNg/AAAAAAAA3j8AAAAAAADSPwAAAAAAgNM/AAAAAADA5T8AAAAAAADOPwAAAAAAAMo/AAAAAAAAxj8AAAAAAADSPwAAAAAAAMU/AAAAAAAAyj8AAAAAAADAPwAAAAAAAMU/AAAAAAAAxD8AAAAAAIDePwAAAAAAgN8/AAAAAACA3D8AAAAAAMDlPwAAAAAAANg/AAAAAACA4z8AAAAAAADdPwAAAAAAAOA/AAAAAAAA3j8AAAAAAEDkPwAAAAAAANg/AAAAAACA3j8AAAAAAADSPwAAAAAAANI/AAAAAABA5T8AAAAAAADWPwAAAAAAAMw/AAAAAAAAxz8AAAAAAADNPwAAAAAAAMk/AAAAAACA0z8AAAAAAADFPwAAAAAAgNA/AAAAAACA0D8AAAAAAIDhPwAAAAAAANg/AAAAAAAA4T8AAAAAAADfPwAAAAAAwOU/AAAAAACA2z8AAAAAAIDkPwAAAAAAgNw/AAAAAABA5T8AAAAAAADdPwAAAAAAQOA/AAAAAACA2T8AAAAAAIDWPwAAAAAAANU/AAAAAAAAyz8AAAAAAIDQPwAAAAAAAMk/AAAAAAAAyT8AAAAAAIDQPwAAAAAAAMM/AAAAAAAAwj8AAAAAAIDRPwAAAAAAAMU/AAAAAAAA2D8AAAAAAEDgPwAAAAAAgOA/AAAAAADA5T8AAAAAAADhPwAAAAAAgNw/AAAAAABA5T8AAAAAAEDiPwAAAAAAgOE/AAAAAAAA2j8AAAAAAADUPwAAAAAAgNM/AAAAAADA5T8AAAAAAIDRPwAAAAAAAM4/AAAAAAAAyD8AAAAAAADUPwAAAAAAAMs/AAAAAAAAxj8AAAAAAADBPwAAAAAAgNA/AAAAAAAAxz8AAAAAAADWPwAAAAAAAN4/AAAAAACA4T8AAAAAAMDlPwAAAAAAAOM/AAAAAAAA3T8AAAAAAADiPwAAAAAAgN8/AAAAAACA2D8AAAAAAADgPwAAAAAAAN8/AAAAAACA2j8AAAAAAIDTPwAAAAAAANI/AAAAAADA5T8AAAAAAADOPwAAAAAAgNA/AAAAAAAAxz8AAAAAAIDTPwAAAAAAANE/AAAAAAAAyj8AAAAAAADFPwAAAAAAAMU/AAAAAAAAxz8AAAAAAIDfPwAAAAAAgN4/AAAAAACA4T8AAAAAAIDgPwAAAAAAwOU/AAAAAAAA5D8AAAAAAIDhPwAAAAAAwOU/AAAAAADA4z8AAAAAAMDkPwAAAAAAwOI/AAAAAAAA2z8AAAAAAIDUPwAAAAAAQOA/AAAAAADA5T8AAAAAAIDSPwAAAAAAANo/AAAAAACA0D8AAAAAAIDZPwAAAAAAgNI/AAAAAAAA0j8AAAAAAADIPwAAAAAAgNM/AAAAAAAAyz8AAAAAAADOPwAAAAAAAMI/AAAAAACA0z8AAAAAAADOPwAAAAAAQOI/AAAAAACA1T8=\",\"dtype\":\"float64\",\"order\":\"little\",\"shape\":[166]},\"index\":[257,258,259,260,261,262,263,264,265,266,267,268,269,270,271,272,273,274,275,276,277,278,279,280,281,282,283,284,285,286,287,288,289,290,291,292,293,294,295,296,297,298,299,300,301,302,303,304,305,306,307,308,309,310,311,312,313,314,315,316,317,318,319,320,321,322,323,324,325,326,327,328,329,330,331,332,333,334,335,336,337,338,339,340,341,342,343,344,345,346,347,348,349,350,351,352,353,354,355,356,357,358,359,360,361,362,363,364,365,366,367,368,369,370,371,372,373,374,375,376,377,378,379,380,381,382,383,384,385,386,387,388,389,390,391,392,393,394,395,396,397,398,399,400,401,402,403,404,405,406,407,408,409,410,411,412,413,414,415,416,417,418,419,420,421,422],\"instrument\":[2,2,2,2,2,2,2,2,2,2,2,2,2,2,2,2,2,2,2,2,2,2,2,2,2,2,2,2,2,2,2,2,2,2,2,2,2,2,2,2,2,2,2,2,2,2,2,2,2,2,2,2,2,2,2,2,2,2,2,2,2,2,2,2,2,2,2,2,2,2,2,2,2,2,2,2,2,2,2,2,2,2,2,2,2,2,2,2,2,2,2,2,2,2,2,2,2,2,2,2,2,2,2,2,2,2,2,2,2,2,2,2,2,2,2,2,2,2,2,2,2,2,2,2,2,2,2,2,2,2,2,2,2,2,2,2,2,2,2,2,2,2,2,2,2,2,2,2,2,2,2,2,2,2,2,2,2,2,2,2,2,2,2,2,2,2],\"pitch\":[36,38,36,38,36,38,46,38,38,38,36,38,38,38,38,38,38,38,38,38,38,46,38,36,38,36,38,36,46,38,38,38,38,36,38,38,38,38,38,38,38,38,38,38,46,38,36,38,36,38,46,46,36,38,38,38,38,36,38,38,38,38,38,38,38,38,38,38,38,46,38,36,38,36,38,36,38,46,38,38,38,38,38,38,38,38,38,38,38,38,38,46,38,36,38,38,36,46,38,38,38,38,36,38,38,38,38,38,38,38,38,38,38,46,38,36,38,38,46,38,38,38,46,38,38,38,36,38,38,38,38,38,38,38,38,38,46,38,46,38,36,38,38,46,46,38,38,38,38,38,36,38,38,38,38,38,38,38,38,38,38,38,38,38,46,38],\"program\":[9,9,9,9,9,9,9,9,9,9,9,9,9,9,9,9,9,9,9,9,9,9,9,9,9,9,9,9,9,9,9,9,9,9,9,9,9,9,9,9,9,9,9,9,9,9,9,9,9,9,9,9,9,9,9,9,9,9,9,9,9,9,9,9,9,9,9,9,9,9,9,9,9,9,9,9,9,9,9,9,9,9,9,9,9,9,9,9,9,9,9,9,9,9,9,9,9,9,9,9,9,9,9,9,9,9,9,9,9,9,9,9,9,9,9,9,9,9,9,9,9,9,9,9,9,9,9,9,9,9,9,9,9,9,9,9,9,9,9,9,9,9,9,9,9,9,9,9,9,9,9,9,9,9,9,9,9,9,9,9,9,9,9,9,9,9],\"start_time\":{\"__ndarray__\":\"AAAAAAAAAAAAAAAAAAAAAPbaWeGDOOI/fwA/0PeA4j+gnlHNvyryP6CeUc2/KvI/AAAAAAAAAABCQ/8EFyH7P2DApXaZEvw/7/54r1qL/D/FT/apPTn7PxSVDWsqrf0/S3ZsBOJf/z/2/4SNxTQAQCT1nsppmwBAuUxgTXhEAUCKEa/YTMkBQP6lMrJRbAJAlP3zNGAVA0CsYaxcldYDQKQCJ9vAkQRAxU/2qT05+z+R/oSgkPMGQJox8p9bMgtAf4eiQJ9cC0AtikSOmrkPQLCWOzPB0Q9AYHFLvmwgEkCaMfKfWzILQPBS6pJxIxJA+PiXt/1aFECO8yTWT44UQPA83tFsoBRAqZ10NQxkFEBZn4UX1+IUQAmhlvmhYRVA4SGfagehFUDGd08LS8sVQABCEXjNHBZAGkmVO0ZoFkCCqzyBsKoWQN04PJc8AhdAWYl5VtJfF0A3I3ARhc8XQKmddDUMZBRAAIk5G4UPGUCEIvCa6i4bQJgQhhQWShtAzk4ZEopyHUB/8/WPmHsdQIQi8JrqLhtAF3tCiSm2H0AXe0KJKbYfQIaZo7Qksx9A/i5ZAtbzIEDajT7mgxAhQKz1WA2cHyFAsNM1gOT8IEBwiMsE1kMhQM/zp42qeCFAGnHunFOSIUAXkxEqC7UhQPzowcpO3yFAoLj2GH/9IUDUaco7tB4iQCne2wfzRSJAnxUrfTtzIkCYWXGXqrgiQGgewCJ/PSNAsNM1gOT8IEALSynVa9EjQB2W87JTYiRArneSh1hlJEBCLIhuI4QlQOnZmS+cfyVAZ8IcKvOlJkBG/96A6Z8mQB2W87JTYiRA8X9HVCi3J0CVT3yiWNUnQFDrI9386ydAhJz3/zENKECKteVJfz0oQC6FGpivWyhA0lRP5t95KEB/G0/xpaUoQHw9cn5dyChAeF+VCxXrKEAFY1dt0RApQHqapuIZPilAiqpf6fx7KUCLWLHlwscnQAwUi/LfCSpA+RpvGDItK0CABUMwoSIrQNwqiIHuQixAQkeYj9FwLUD5Gm8YMi0rQHrWSCVPby1An2zd4B6RLkDq6SPwx6ouQBSkLFZnvi5AZ90sS6GSLkChp+63I+QuQBffPS1sES9Agx/C5R4xL0B/QeVy1lMvQNS19j4Vey9A6KOMuECWL0B0p04a/bsvQFr9/rpA5i9AaBonmMQJMEDfwORGsSUwQGfdLEuhki5AoHV6y6JsMEDqT/U+CPwwQN/pu0jO/zBA/Zq/HPCMMUDqT/U+CPwwQKeD4rRt2zFAA4BQBJ4hMkDENOaIj2gyQA/mifrXHTJAyd5lmTiqMkA2jliLj7gyQNzM+xJkxTJAITFU2L+uMkCuNBY6fNQyQDFBDd+i7DJAZ2FPO3z8MkABOrnMFg0zQJCs6Wd3ITNAmaO0JA0vM0DPw/aA5j4zQM5UiEdCUDNAtRmnISppM0C9oQOlG4gzQEIdaYPmjjNARsfok4/QM0DLQk5yWtczQFgSs3F3YTRAbW+3JEdrNECS3HTe+bI0QFgSs3F3YTRAfahHLUeDNUDkcqk38Pw0QPa9cxXYjTVApFAWvv4dNkDm1pEQEio2QCddDWMlNjZAj/MRCy8UNkD5xCeKPUU2QLRgz8ThWzZATjk5VnxsNkCEWXuyVXw2QOeiNK5yjjZAgXuePw2fNkC3m+Cb5q42QH2dwczEwTZA3+Z6yOHTNkC9tM7lM982QEsn/4CU8zZA5f9oEi8EN0AQunF4zhc3QI/zEQsvFDZAniyiEy8sN0A=\",\"dtype\":\"float64\",\"order\":\"little\",\"shape\":[166]},\"top\":{\"__ndarray__\":\"MzMzMzMzQkAzMzMzMzNDQDMzMzMzM0JAMzMzMzMzQ0AzMzMzMzNCQDMzMzMzM0NAMzMzMzMzR0AzMzMzMzNDQDMzMzMzM0NAMzMzMzMzQ0AzMzMzMzNCQDMzMzMzM0NAMzMzMzMzQ0AzMzMzMzNDQDMzMzMzM0NAMzMzMzMzQ0AzMzMzMzNDQDMzMzMzM0NAMzMzMzMzQ0AzMzMzMzNDQDMzMzMzM0NAMzMzMzMzR0AzMzMzMzNDQDMzMzMzM0JAMzMzMzMzQ0AzMzMzMzNCQDMzMzMzM0NAMzMzMzMzQkAzMzMzMzNHQDMzMzMzM0NAMzMzMzMzQ0AzMzMzMzNDQDMzMzMzM0NAMzMzMzMzQkAzMzMzMzNDQDMzMzMzM0NAMzMzMzMzQ0AzMzMzMzNDQDMzMzMzM0NAMzMzMzMzQ0AzMzMzMzNDQDMzMzMzM0NAMzMzMzMzQ0AzMzMzMzNDQDMzMzMzM0dAMzMzMzMzQ0AzMzMzMzNCQDMzMzMzM0NAMzMzMzMzQkAzMzMzMzNDQDMzMzMzM0dAMzMzMzMzR0AzMzMzMzNCQDMzMzMzM0NAMzMzMzMzQ0AzMzMzMzNDQDMzMzMzM0NAMzMzMzMzQkAzMzMzMzNDQDMzMzMzM0NAMzMzMzMzQ0AzMzMzMzNDQDMzMzMzM0NAMzMzMzMzQ0AzMzMzMzNDQDMzMzMzM0NAMzMzMzMzQ0AzMzMzMzNDQDMzMzMzM0NAMzMzMzMzR0AzMzMzMzNDQDMzMzMzM0JAMzMzMzMzQ0AzMzMzMzNCQDMzMzMzM0NAMzMzMzMzQkAzMzMzMzNDQDMzMzMzM0dAMzMzMzMzQ0AzMzMzMzNDQDMzMzMzM0NAMzMzMzMzQ0AzMzMzMzNDQDMzMzMzM0NAMzMzMzMzQ0AzMzMzMzNDQDMzMzMzM0NAMzMzMzMzQ0AzMzMzMzNDQDMzMzMzM0NAMzMzMzMzQ0AzMzMzMzNHQDMzMzMzM0NAMzMzMzMzQkAzMzMzMzNDQDMzMzMzM0NAMzMzMzMzQkAzMzMzMzNHQDMzMzMzM0NAMzMzMzMzQ0AzMzMzMzNDQDMzMzMzM0NAMzMzMzMzQkAzMzMzMzNDQDMzMzMzM0NAMzMzMzMzQ0AzMzMzMzNDQDMzMzMzM0NAMzMzMzMzQ0AzMzMzMzNDQDMzMzMzM0NAMzMzMzMzQ0AzMzMzMzNDQDMzMzMzM0dAMzMzMzMzQ0AzMzMzMzNCQDMzMzMzM0NAMzMzMzMzQ0AzMzMzMzNHQDMzMzMzM0NAMzMzMzMzQ0AzMzMzMzNDQDMzMzMzM0dAMzMzMzMzQ0AzMzMzMzNDQDMzMzMzM0NAMzMzMzMzQkAzMzMzMzNDQDMzMzMzM0NAMzMzMzMzQ0AzMzMzMzNDQDMzMzMzM0NAMzMzMzMzQ0AzMzMzMzNDQDMzMzMzM0NAMzMzMzMzQ0AzMzMzMzNHQDMzMzMzM0NAMzMzMzMzR0AzMzMzMzNDQDMzMzMzM0JAMzMzMzMzQ0AzMzMzMzNDQDMzMzMzM0dAMzMzMzMzR0AzMzMzMzNDQDMzMzMzM0NAMzMzMzMzQ0AzMzMzMzNDQDMzMzMzM0NAMzMzMzMzQkAzMzMzMzNDQDMzMzMzM0NAMzMzMzMzQ0AzMzMzMzNDQDMzMzMzM0NAMzMzMzMzQ0AzMzMzMzNDQDMzMzMzM0NAMzMzMzMzQ0AzMzMzMzNDQDMzMzMzM0NAMzMzMzMzQ0AzMzMzMzNDQDMzMzMzM0dAMzMzMzMzQ0A=\",\"dtype\":\"float64\",\"order\":\"little\",\"shape\":[166]},\"velocity\":[87,50,87,49,87,44,63,58,38,42,84,34,38,27,30,27,19,15,43,27,44,61,39,87,51,82,56,85,64,49,60,36,39,87,30,26,22,36,21,26,16,21,20,61,63,57,87,48,78,58,64,60,81,48,61,36,36,85,44,28,23,29,25,39,21,33,33,70,48,68,62,87,55,82,57,85,58,65,51,45,42,27,33,25,25,33,19,18,35,21,48,65,66,87,68,57,85,73,70,52,40,39,87,35,30,24,40,27,22,17,33,23,44,60,70,87,76,58,72,63,49,64,62,53,39,36,87,30,33,23,39,34,26,21,21,23,63,61,70,66,87,80,70,87,79,83,75,54,41,65,87,37,52,33,51,37,36,24,39,27,30,18,39,30,73,43]},\"selected\":{\"id\":\"1213\"},\"selection_policy\":{\"id\":\"1212\"}},\"id\":\"1194\",\"type\":\"ColumnDataSource\"},{\"attributes\":{\"bottom_units\":\"screen\",\"fill_alpha\":0.5,\"fill_color\":\"lightgrey\",\"left_units\":\"screen\",\"level\":\"overlay\",\"line_alpha\":1.0,\"line_color\":\"black\",\"line_dash\":[4,4],\"line_width\":2,\"right_units\":\"screen\",\"syncable\":false,\"top_units\":\"screen\"},\"id\":\"1172\",\"type\":\"BoxAnnotation\"},{\"attributes\":{},\"id\":\"1170\",\"type\":\"ResetTool\"}],\"root_ids\":[\"1150\"]},\"title\":\"Bokeh Application\",\"version\":\"2.3.3\"}};\n",
              "  var render_items = [{\"docid\":\"69730539-a4f5-46b6-a66a-148ae69911c7\",\"root_ids\":[\"1150\"],\"roots\":{\"1150\":\"6d89d7e2-e08f-40d9-ad98-5f6cecaa6b5a\"}}];\n",
              "  root.Bokeh.embed.embed_items_notebook(docs_json, render_items);\n",
              "\n",
              "  }\n",
              "  if (root.Bokeh !== undefined) {\n",
              "    embed_document(root);\n",
              "  } else {\n",
              "    var attempts = 0;\n",
              "    var timer = setInterval(function(root) {\n",
              "      if (root.Bokeh !== undefined) {\n",
              "        clearInterval(timer);\n",
              "        embed_document(root);\n",
              "      } else {\n",
              "        attempts++;\n",
              "        if (attempts > 100) {\n",
              "          clearInterval(timer);\n",
              "          console.log(\"Bokeh: ERROR: Unable to run BokehJS code because BokehJS library is missing\");\n",
              "        }\n",
              "      }\n",
              "    }, 10, root)\n",
              "  }\n",
              "})(window);"
            ],
            "application/vnd.bokehjs_exec.v0+json": ""
          },
          "metadata": {
            "application/vnd.bokehjs_exec.v0+json": {
              "id": "1150"
            }
          },
          "output_type": "display_data"
        },
        {
          "metadata": {
            "tags": null
          },
          "name": "stdout",
          "output_type": "stream",
          "text": [
            "generate_samples: generated 423 samples in 5.781778812408447s\n",
            "Instrument: 0\n"
          ]
        },
        {
          "data": {
            "text/html": [
              "<div id=\"id_1\"> </div>"
            ],
            "text/plain": [
              "<IPython.core.display.HTML object>"
            ]
          },
          "metadata": {},
          "output_type": "display_data"
        },
        {
          "metadata": {
            "tags": null
          },
          "name": "stdout",
          "output_type": "stream",
          "text": [
            "generate_samples: generated 423 samples in 5.755282640457153s\n",
            "Instrument: 1\n"
          ]
        },
        {
          "data": {
            "text/html": [
              "<div id=\"id_2\"> </div>"
            ],
            "text/plain": [
              "<IPython.core.display.HTML object>"
            ]
          },
          "metadata": {},
          "output_type": "display_data"
        },
        {
          "metadata": {
            "tags": null
          },
          "name": "stdout",
          "output_type": "stream",
          "text": [
            "generate_samples: generated 423 samples in 5.853934288024902s\n",
            "Instrument: 2\n"
          ]
        },
        {
          "data": {
            "text/html": [
              "<div id=\"id_3\"> </div>"
            ],
            "text/plain": [
              "<IPython.core.display.HTML object>"
            ]
          },
          "metadata": {},
          "output_type": "display_data"
        },
        {
          "metadata": {
            "tags": null
          },
          "name": "stdout",
          "output_type": "stream",
          "text": [
            "generate_samples: generated 423 samples in 5.9259467124938965s\n",
            "Instrument: 3\n"
          ]
        },
        {
          "data": {
            "text/html": [
              "<div id=\"id_4\"> </div>"
            ],
            "text/plain": [
              "<IPython.core.display.HTML object>"
            ]
          },
          "metadata": {},
          "output_type": "display_data"
        },
        {
          "metadata": {
            "tags": null
          },
          "name": "stdout",
          "output_type": "stream",
          "text": [
            "generate_samples: generated 423 samples in 5.984160423278809s\n",
            "Instrument: 4\n"
          ]
        },
        {
          "data": {
            "text/html": [
              "<div id=\"id_5\"> </div>"
            ],
            "text/plain": [
              "<IPython.core.display.HTML object>"
            ]
          },
          "metadata": {},
          "output_type": "display_data"
        },
        {
          "metadata": {
            "tags": null
          },
          "name": "stdout",
          "output_type": "stream",
          "text": [
            "generate_samples: generated 423 samples in 5.968074083328247s\n",
            "Instrument: 5\n"
          ]
        },
        {
          "data": {
            "text/html": [
              "<div id=\"id_6\"> </div>"
            ],
            "text/plain": [
              "<IPython.core.display.HTML object>"
            ]
          },
          "metadata": {},
          "output_type": "display_data"
        },
        {
          "metadata": {
            "tags": null
          },
          "name": "stdout",
          "output_type": "stream",
          "text": [
            "generate_samples: generated 423 samples in 5.8602454662323s\n",
            "Instrument: 6\n"
          ]
        },
        {
          "data": {
            "text/html": [
              "<div id=\"id_7\"> </div>"
            ],
            "text/plain": [
              "<IPython.core.display.HTML object>"
            ]
          },
          "metadata": {},
          "output_type": "display_data"
        },
        {
          "metadata": {
            "tags": null
          },
          "name": "stdout",
          "output_type": "stream",
          "text": [
            "generate_samples: generated 423 samples in 5.777025938034058s\n",
            "Instrument: 7\n"
          ]
        },
        {
          "data": {
            "text/html": [
              "<div id=\"id_8\"> </div>"
            ],
            "text/plain": [
              "<IPython.core.display.HTML object>"
            ]
          },
          "metadata": {},
          "output_type": "display_data"
        },
        {
          "metadata": {
            "tags": null
          },
          "name": "stdout",
          "output_type": "stream",
          "text": [
            "generate_samples: generated 423 samples in 5.7392778396606445s\n",
            "Instrument: 8\n"
          ]
        },
        {
          "data": {
            "text/html": [
              "<div id=\"id_9\"> </div>"
            ],
            "text/plain": [
              "<IPython.core.display.HTML object>"
            ]
          },
          "metadata": {},
          "output_type": "display_data"
        },
        {
          "metadata": {
            "tags": null
          },
          "name": "stdout",
          "output_type": "stream",
          "text": [
            "generate_samples: generated 423 samples in 5.7760467529296875s\n",
            "Instrument: 9\n"
          ]
        },
        {
          "data": {
            "text/html": [
              "<div id=\"id_10\"> </div>"
            ],
            "text/plain": [
              "<IPython.core.display.HTML object>"
            ]
          },
          "metadata": {},
          "output_type": "display_data"
        },
        {
          "metadata": {
            "tags": null
          },
          "name": "stdout",
          "output_type": "stream",
          "text": [
            "generate_samples: generated 423 samples in 5.702515125274658s\n",
            "Instrument: 10\n"
          ]
        },
        {
          "data": {
            "text/html": [
              "<div id=\"id_11\"> </div>"
            ],
            "text/plain": [
              "<IPython.core.display.HTML object>"
            ]
          },
          "metadata": {},
          "output_type": "display_data"
        },
        {
          "metadata": {
            "tags": null
          },
          "name": "stdout",
          "output_type": "stream",
          "text": [
            "generate_samples: generated 423 samples in 5.687553405761719s\n",
            "Instrument: 11\n"
          ]
        },
        {
          "data": {
            "text/html": [
              "<div id=\"id_12\"> </div>"
            ],
            "text/plain": [
              "<IPython.core.display.HTML object>"
            ]
          },
          "metadata": {},
          "output_type": "display_data"
        },
        {
          "metadata": {
            "tags": null
          },
          "name": "stdout",
          "output_type": "stream",
          "text": [
            "generate_samples: generated 423 samples in 5.695694446563721s\n",
            "Instrument: 12\n"
          ]
        },
        {
          "data": {
            "text/html": [
              "<div id=\"id_13\"> </div>"
            ],
            "text/plain": [
              "<IPython.core.display.HTML object>"
            ]
          },
          "metadata": {},
          "output_type": "display_data"
        },
        {
          "metadata": {
            "tags": null
          },
          "name": "stdout",
          "output_type": "stream",
          "text": [
            "generate_samples: generated 423 samples in 5.703931093215942s\n",
            "Instrument: 13\n"
          ]
        },
        {
          "data": {
            "text/html": [
              "<div id=\"id_14\"> </div>"
            ],
            "text/plain": [
              "<IPython.core.display.HTML object>"
            ]
          },
          "metadata": {},
          "output_type": "display_data"
        },
        {
          "metadata": {
            "tags": null
          },
          "name": "stdout",
          "output_type": "stream",
          "text": [
            "generate_samples: generated 423 samples in 5.746227502822876s\n",
            "Instrument: 14\n"
          ]
        },
        {
          "data": {
            "text/html": [
              "<div id=\"id_15\"> </div>"
            ],
            "text/plain": [
              "<IPython.core.display.HTML object>"
            ]
          },
          "metadata": {},
          "output_type": "display_data"
        },
        {
          "metadata": {
            "tags": null
          },
          "name": "stdout",
          "output_type": "stream",
          "text": [
            "generate_samples: generated 423 samples in 5.775771856307983s\n",
            "Instrument: 15\n"
          ]
        },
        {
          "data": {
            "text/html": [
              "<div id=\"id_16\"> </div>"
            ],
            "text/plain": [
              "<IPython.core.display.HTML object>"
            ]
          },
          "metadata": {},
          "output_type": "display_data"
        },
        {
          "metadata": {
            "tags": null
          },
          "name": "stdout",
          "output_type": "stream",
          "text": [
            "generate_samples: generated 423 samples in 5.776808023452759s\n",
            "Instrument: 16\n"
          ]
        },
        {
          "data": {
            "text/html": [
              "<div id=\"id_17\"> </div>"
            ],
            "text/plain": [
              "<IPython.core.display.HTML object>"
            ]
          },
          "metadata": {},
          "output_type": "display_data"
        },
        {
          "metadata": {
            "tags": null
          },
          "name": "stdout",
          "output_type": "stream",
          "text": [
            "generate_samples: generated 423 samples in 5.849665641784668s\n",
            "Instrument: 17\n"
          ]
        },
        {
          "data": {
            "text/html": [
              "<div id=\"id_18\"> </div>"
            ],
            "text/plain": [
              "<IPython.core.display.HTML object>"
            ]
          },
          "metadata": {},
          "output_type": "display_data"
        },
        {
          "metadata": {
            "tags": null
          },
          "name": "stdout",
          "output_type": "stream",
          "text": [
            "generate_samples: generated 423 samples in 5.823355436325073s\n",
            "Instrument: 18\n"
          ]
        },
        {
          "data": {
            "text/html": [
              "<div id=\"id_19\"> </div>"
            ],
            "text/plain": [
              "<IPython.core.display.HTML object>"
            ]
          },
          "metadata": {},
          "output_type": "display_data"
        },
        {
          "metadata": {
            "tags": null
          },
          "name": "stdout",
          "output_type": "stream",
          "text": [
            "generate_samples: generated 423 samples in 5.826263904571533s\n",
            "Instrument: 19\n"
          ]
        },
        {
          "data": {
            "text/html": [
              "<div id=\"id_20\"> </div>"
            ],
            "text/plain": [
              "<IPython.core.display.HTML object>"
            ]
          },
          "metadata": {},
          "output_type": "display_data"
        },
        {
          "metadata": {
            "tags": null
          },
          "name": "stdout",
          "output_type": "stream",
          "text": [
            "generate_samples: generated 423 samples in 5.809541463851929s\n",
            "Instrument: 20\n"
          ]
        },
        {
          "data": {
            "text/html": [
              "<div id=\"id_21\"> </div>"
            ],
            "text/plain": [
              "<IPython.core.display.HTML object>"
            ]
          },
          "metadata": {},
          "output_type": "display_data"
        },
        {
          "metadata": {
            "tags": null
          },
          "name": "stdout",
          "output_type": "stream",
          "text": [
            "generate_samples: generated 423 samples in 5.797687292098999s\n",
            "Instrument: 21\n"
          ]
        },
        {
          "data": {
            "text/html": [
              "<div id=\"id_22\"> </div>"
            ],
            "text/plain": [
              "<IPython.core.display.HTML object>"
            ]
          },
          "metadata": {},
          "output_type": "display_data"
        },
        {
          "metadata": {
            "tags": null
          },
          "name": "stdout",
          "output_type": "stream",
          "text": [
            "generate_samples: generated 423 samples in 5.7711029052734375s\n",
            "Instrument: 22\n"
          ]
        },
        {
          "data": {
            "text/html": [
              "<div id=\"id_23\"> </div>"
            ],
            "text/plain": [
              "<IPython.core.display.HTML object>"
            ]
          },
          "metadata": {},
          "output_type": "display_data"
        },
        {
          "metadata": {
            "tags": null
          },
          "name": "stdout",
          "output_type": "stream",
          "text": [
            "generate_samples: generated 423 samples in 5.772967100143433s\n",
            "Instrument: 23\n"
          ]
        },
        {
          "data": {
            "text/html": [
              "<div id=\"id_24\"> </div>"
            ],
            "text/plain": [
              "<IPython.core.display.HTML object>"
            ]
          },
          "metadata": {},
          "output_type": "display_data"
        },
        {
          "metadata": {
            "tags": null
          },
          "name": "stdout",
          "output_type": "stream",
          "text": [
            "generate_samples: generated 423 samples in 5.76507043838501s\n",
            "Instrument: 24\n"
          ]
        },
        {
          "data": {
            "text/html": [
              "<div id=\"id_25\"> </div>"
            ],
            "text/plain": [
              "<IPython.core.display.HTML object>"
            ]
          },
          "metadata": {},
          "output_type": "display_data"
        },
        {
          "metadata": {
            "tags": null
          },
          "name": "stdout",
          "output_type": "stream",
          "text": [
            "generate_samples: generated 423 samples in 5.71972131729126s\n",
            "Instrument: 25\n"
          ]
        },
        {
          "data": {
            "text/html": [
              "<div id=\"id_26\"> </div>"
            ],
            "text/plain": [
              "<IPython.core.display.HTML object>"
            ]
          },
          "metadata": {},
          "output_type": "display_data"
        },
        {
          "metadata": {
            "tags": null
          },
          "name": "stdout",
          "output_type": "stream",
          "text": [
            "generate_samples: generated 423 samples in 5.731461048126221s\n",
            "Instrument: 26\n"
          ]
        },
        {
          "data": {
            "text/html": [
              "<div id=\"id_27\"> </div>"
            ],
            "text/plain": [
              "<IPython.core.display.HTML object>"
            ]
          },
          "metadata": {},
          "output_type": "display_data"
        },
        {
          "metadata": {
            "tags": null
          },
          "name": "stdout",
          "output_type": "stream",
          "text": [
            "generate_samples: generated 423 samples in 5.7387590408325195s\n",
            "Instrument: 27\n"
          ]
        },
        {
          "data": {
            "text/html": [
              "<div id=\"id_28\"> </div>"
            ],
            "text/plain": [
              "<IPython.core.display.HTML object>"
            ]
          },
          "metadata": {},
          "output_type": "display_data"
        },
        {
          "metadata": {
            "tags": null
          },
          "name": "stdout",
          "output_type": "stream",
          "text": [
            "generate_samples: generated 423 samples in 5.76166296005249s\n",
            "Instrument: 28\n"
          ]
        },
        {
          "data": {
            "text/html": [
              "<div id=\"id_29\"> </div>"
            ],
            "text/plain": [
              "<IPython.core.display.HTML object>"
            ]
          },
          "metadata": {},
          "output_type": "display_data"
        },
        {
          "metadata": {
            "tags": null
          },
          "name": "stdout",
          "output_type": "stream",
          "text": [
            "generate_samples: generated 423 samples in 5.735519647598267s\n",
            "Instrument: 29\n"
          ]
        },
        {
          "data": {
            "text/html": [
              "<div id=\"id_30\"> </div>"
            ],
            "text/plain": [
              "<IPython.core.display.HTML object>"
            ]
          },
          "metadata": {},
          "output_type": "display_data"
        },
        {
          "metadata": {
            "tags": null
          },
          "name": "stdout",
          "output_type": "stream",
          "text": [
            "generate_samples: generated 423 samples in 5.766262531280518s\n",
            "Instrument: 30\n"
          ]
        },
        {
          "data": {
            "text/html": [
              "<div id=\"id_31\"> </div>"
            ],
            "text/plain": [
              "<IPython.core.display.HTML object>"
            ]
          },
          "metadata": {},
          "output_type": "display_data"
        },
        {
          "metadata": {
            "tags": null
          },
          "name": "stdout",
          "output_type": "stream",
          "text": [
            "generate_samples: generated 423 samples in 5.778171539306641s\n",
            "Instrument: 31\n"
          ]
        },
        {
          "data": {
            "text/html": [
              "<div id=\"id_32\"> </div>"
            ],
            "text/plain": [
              "<IPython.core.display.HTML object>"
            ]
          },
          "metadata": {},
          "output_type": "display_data"
        },
        {
          "metadata": {
            "tags": null
          },
          "name": "stdout",
          "output_type": "stream",
          "text": [
            "generate_samples: generated 423 samples in 5.794169664382935s\n",
            "Instrument: 32\n"
          ]
        },
        {
          "data": {
            "text/html": [
              "<div id=\"id_33\"> </div>"
            ],
            "text/plain": [
              "<IPython.core.display.HTML object>"
            ]
          },
          "metadata": {},
          "output_type": "display_data"
        },
        {
          "metadata": {
            "tags": null
          },
          "name": "stdout",
          "output_type": "stream",
          "text": [
            "generate_samples: generated 423 samples in 5.784464120864868s\n",
            "Instrument: 33\n"
          ]
        },
        {
          "data": {
            "text/html": [
              "<div id=\"id_34\"> </div>"
            ],
            "text/plain": [
              "<IPython.core.display.HTML object>"
            ]
          },
          "metadata": {},
          "output_type": "display_data"
        },
        {
          "metadata": {
            "tags": null
          },
          "name": "stdout",
          "output_type": "stream",
          "text": [
            "generate_samples: generated 423 samples in 5.789697170257568s\n",
            "Instrument: 34\n"
          ]
        },
        {
          "data": {
            "text/html": [
              "<div id=\"id_35\"> </div>"
            ],
            "text/plain": [
              "<IPython.core.display.HTML object>"
            ]
          },
          "metadata": {},
          "output_type": "display_data"
        },
        {
          "metadata": {
            "tags": null
          },
          "name": "stdout",
          "output_type": "stream",
          "text": [
            "generate_samples: generated 423 samples in 5.778152704238892s\n",
            "Instrument: 35\n"
          ]
        },
        {
          "data": {
            "text/html": [
              "<div id=\"id_36\"> </div>"
            ],
            "text/plain": [
              "<IPython.core.display.HTML object>"
            ]
          },
          "metadata": {},
          "output_type": "display_data"
        },
        {
          "metadata": {
            "tags": null
          },
          "name": "stdout",
          "output_type": "stream",
          "text": [
            "generate_samples: generated 423 samples in 5.780125856399536s\n",
            "Instrument: 36\n"
          ]
        },
        {
          "data": {
            "text/html": [
              "<div id=\"id_37\"> </div>"
            ],
            "text/plain": [
              "<IPython.core.display.HTML object>"
            ]
          },
          "metadata": {},
          "output_type": "display_data"
        },
        {
          "metadata": {
            "tags": null
          },
          "name": "stdout",
          "output_type": "stream",
          "text": [
            "generate_samples: generated 423 samples in 5.7769176959991455s\n",
            "Instrument: 37\n"
          ]
        },
        {
          "data": {
            "text/html": [
              "<div id=\"id_38\"> </div>"
            ],
            "text/plain": [
              "<IPython.core.display.HTML object>"
            ]
          },
          "metadata": {},
          "output_type": "display_data"
        },
        {
          "metadata": {
            "tags": null
          },
          "name": "stdout",
          "output_type": "stream",
          "text": [
            "generate_samples: generated 423 samples in 5.765624761581421s\n",
            "Instrument: 38\n"
          ]
        },
        {
          "data": {
            "text/html": [
              "<div id=\"id_39\"> </div>"
            ],
            "text/plain": [
              "<IPython.core.display.HTML object>"
            ]
          },
          "metadata": {},
          "output_type": "display_data"
        },
        {
          "metadata": {
            "tags": null
          },
          "name": "stdout",
          "output_type": "stream",
          "text": [
            "generate_samples: generated 423 samples in 5.763588905334473s\n",
            "Instrument: 39\n"
          ]
        },
        {
          "data": {
            "text/html": [
              "<div id=\"id_40\"> </div>"
            ],
            "text/plain": [
              "<IPython.core.display.HTML object>"
            ]
          },
          "metadata": {},
          "output_type": "display_data"
        },
        {
          "metadata": {
            "tags": null
          },
          "name": "stdout",
          "output_type": "stream",
          "text": [
            "generate_samples: generated 423 samples in 5.776524782180786s\n",
            "Instrument: 40\n"
          ]
        },
        {
          "data": {
            "text/html": [
              "<div id=\"id_41\"> </div>"
            ],
            "text/plain": [
              "<IPython.core.display.HTML object>"
            ]
          },
          "metadata": {},
          "output_type": "display_data"
        },
        {
          "metadata": {
            "tags": null
          },
          "name": "stdout",
          "output_type": "stream",
          "text": [
            "generate_samples: generated 423 samples in 5.772342920303345s\n",
            "Instrument: 41\n"
          ]
        },
        {
          "data": {
            "text/html": [
              "<div id=\"id_42\"> </div>"
            ],
            "text/plain": [
              "<IPython.core.display.HTML object>"
            ]
          },
          "metadata": {},
          "output_type": "display_data"
        },
        {
          "metadata": {
            "tags": null
          },
          "name": "stdout",
          "output_type": "stream",
          "text": [
            "generate_samples: generated 423 samples in 5.761732578277588s\n",
            "Instrument: 42\n"
          ]
        },
        {
          "data": {
            "text/html": [
              "<div id=\"id_43\"> </div>"
            ],
            "text/plain": [
              "<IPython.core.display.HTML object>"
            ]
          },
          "metadata": {},
          "output_type": "display_data"
        },
        {
          "metadata": {
            "tags": null
          },
          "name": "stdout",
          "output_type": "stream",
          "text": [
            "generate_samples: generated 423 samples in 5.781677722930908s\n",
            "Instrument: 43\n"
          ]
        },
        {
          "data": {
            "text/html": [
              "<div id=\"id_44\"> </div>"
            ],
            "text/plain": [
              "<IPython.core.display.HTML object>"
            ]
          },
          "metadata": {},
          "output_type": "display_data"
        },
        {
          "metadata": {
            "tags": null
          },
          "name": "stdout",
          "output_type": "stream",
          "text": [
            "generate_samples: generated 423 samples in 5.762646675109863s\n",
            "Instrument: 44\n"
          ]
        },
        {
          "data": {
            "text/html": [
              "<div id=\"id_45\"> </div>"
            ],
            "text/plain": [
              "<IPython.core.display.HTML object>"
            ]
          },
          "metadata": {},
          "output_type": "display_data"
        },
        {
          "metadata": {
            "tags": null
          },
          "name": "stdout",
          "output_type": "stream",
          "text": [
            "generate_samples: generated 423 samples in 5.7495646476745605s\n",
            "Instrument: 45\n"
          ]
        },
        {
          "data": {
            "text/html": [
              "<div id=\"id_46\"> </div>"
            ],
            "text/plain": [
              "<IPython.core.display.HTML object>"
            ]
          },
          "metadata": {},
          "output_type": "display_data"
        },
        {
          "metadata": {
            "tags": null
          },
          "name": "stdout",
          "output_type": "stream",
          "text": [
            "generate_samples: generated 423 samples in 5.771591424942017s\n",
            "Instrument: 46\n"
          ]
        },
        {
          "data": {
            "text/html": [
              "<div id=\"id_47\"> </div>"
            ],
            "text/plain": [
              "<IPython.core.display.HTML object>"
            ]
          },
          "metadata": {},
          "output_type": "display_data"
        },
        {
          "metadata": {
            "tags": null
          },
          "name": "stdout",
          "output_type": "stream",
          "text": [
            "generate_samples: generated 423 samples in 5.760888338088989s\n",
            "Instrument: 47\n"
          ]
        },
        {
          "data": {
            "text/html": [
              "<div id=\"id_48\"> </div>"
            ],
            "text/plain": [
              "<IPython.core.display.HTML object>"
            ]
          },
          "metadata": {},
          "output_type": "display_data"
        },
        {
          "metadata": {
            "tags": null
          },
          "name": "stdout",
          "output_type": "stream",
          "text": [
            "generate_samples: generated 423 samples in 5.756717920303345s\n",
            "Instrument: 48\n"
          ]
        },
        {
          "data": {
            "text/html": [
              "<div id=\"id_49\"> </div>"
            ],
            "text/plain": [
              "<IPython.core.display.HTML object>"
            ]
          },
          "metadata": {},
          "output_type": "display_data"
        },
        {
          "metadata": {
            "tags": null
          },
          "name": "stdout",
          "output_type": "stream",
          "text": [
            "generate_samples: generated 423 samples in 5.770348310470581s\n",
            "Instrument: 49\n"
          ]
        },
        {
          "data": {
            "text/html": [
              "<div id=\"id_50\"> </div>"
            ],
            "text/plain": [
              "<IPython.core.display.HTML object>"
            ]
          },
          "metadata": {},
          "output_type": "display_data"
        },
        {
          "metadata": {
            "tags": null
          },
          "name": "stdout",
          "output_type": "stream",
          "text": [
            "generate_samples: generated 423 samples in 5.770272970199585s\n",
            "Instrument: 50\n"
          ]
        },
        {
          "data": {
            "text/html": [
              "<div id=\"id_51\"> </div>"
            ],
            "text/plain": [
              "<IPython.core.display.HTML object>"
            ]
          },
          "metadata": {},
          "output_type": "display_data"
        },
        {
          "metadata": {
            "tags": null
          },
          "name": "stdout",
          "output_type": "stream",
          "text": [
            "generate_samples: generated 423 samples in 5.783483266830444s\n",
            "Instrument: 51\n"
          ]
        },
        {
          "data": {
            "text/html": [
              "<div id=\"id_52\"> </div>"
            ],
            "text/plain": [
              "<IPython.core.display.HTML object>"
            ]
          },
          "metadata": {},
          "output_type": "display_data"
        },
        {
          "metadata": {
            "tags": null
          },
          "name": "stdout",
          "output_type": "stream",
          "text": [
            "generate_samples: generated 423 samples in 5.782184839248657s\n",
            "Instrument: 52\n"
          ]
        },
        {
          "data": {
            "text/html": [
              "<div id=\"id_53\"> </div>"
            ],
            "text/plain": [
              "<IPython.core.display.HTML object>"
            ]
          },
          "metadata": {},
          "output_type": "display_data"
        },
        {
          "metadata": {
            "tags": null
          },
          "name": "stdout",
          "output_type": "stream",
          "text": [
            "generate_samples: generated 423 samples in 5.762518882751465s\n",
            "Instrument: 53\n"
          ]
        },
        {
          "data": {
            "text/html": [
              "<div id=\"id_54\"> </div>"
            ],
            "text/plain": [
              "<IPython.core.display.HTML object>"
            ]
          },
          "metadata": {},
          "output_type": "display_data"
        },
        {
          "metadata": {
            "tags": null
          },
          "name": "stdout",
          "output_type": "stream",
          "text": [
            "generate_samples: generated 423 samples in 5.78231954574585s\n",
            "Instrument: 54\n"
          ]
        },
        {
          "data": {
            "text/html": [
              "<div id=\"id_55\"> </div>"
            ],
            "text/plain": [
              "<IPython.core.display.HTML object>"
            ]
          },
          "metadata": {},
          "output_type": "display_data"
        },
        {
          "metadata": {
            "tags": null
          },
          "name": "stdout",
          "output_type": "stream",
          "text": [
            "generate_samples: generated 423 samples in 5.785965919494629s\n",
            "Instrument: 55\n"
          ]
        },
        {
          "data": {
            "text/html": [
              "<div id=\"id_56\"> </div>"
            ],
            "text/plain": [
              "<IPython.core.display.HTML object>"
            ]
          },
          "metadata": {},
          "output_type": "display_data"
        },
        {
          "metadata": {
            "tags": null
          },
          "name": "stdout",
          "output_type": "stream",
          "text": [
            "generate_samples: generated 423 samples in 5.774805307388306s\n",
            "Instrument: 56\n"
          ]
        },
        {
          "data": {
            "text/html": [
              "<div id=\"id_57\"> </div>"
            ],
            "text/plain": [
              "<IPython.core.display.HTML object>"
            ]
          },
          "metadata": {},
          "output_type": "display_data"
        },
        {
          "metadata": {
            "tags": null
          },
          "name": "stdout",
          "output_type": "stream",
          "text": [
            "generate_samples: generated 423 samples in 5.796035528182983s\n",
            "Instrument: 57\n"
          ]
        },
        {
          "data": {
            "text/html": [
              "<div id=\"id_58\"> </div>"
            ],
            "text/plain": [
              "<IPython.core.display.HTML object>"
            ]
          },
          "metadata": {},
          "output_type": "display_data"
        },
        {
          "metadata": {
            "tags": null
          },
          "name": "stdout",
          "output_type": "stream",
          "text": [
            "generate_samples: generated 423 samples in 5.783602952957153s\n",
            "Instrument: 58\n"
          ]
        },
        {
          "data": {
            "text/html": [
              "<div id=\"id_59\"> </div>"
            ],
            "text/plain": [
              "<IPython.core.display.HTML object>"
            ]
          },
          "metadata": {},
          "output_type": "display_data"
        },
        {
          "metadata": {
            "tags": null
          },
          "name": "stdout",
          "output_type": "stream",
          "text": [
            "generate_samples: generated 423 samples in 5.788337469100952s\n",
            "Instrument: 59\n"
          ]
        },
        {
          "data": {
            "text/html": [
              "<div id=\"id_60\"> </div>"
            ],
            "text/plain": [
              "<IPython.core.display.HTML object>"
            ]
          },
          "metadata": {},
          "output_type": "display_data"
        },
        {
          "metadata": {
            "tags": null
          },
          "name": "stdout",
          "output_type": "stream",
          "text": [
            "generate_samples: generated 423 samples in 5.792172193527222s\n",
            "Instrument: 60\n"
          ]
        },
        {
          "data": {
            "text/html": [
              "<div id=\"id_61\"> </div>"
            ],
            "text/plain": [
              "<IPython.core.display.HTML object>"
            ]
          },
          "metadata": {},
          "output_type": "display_data"
        },
        {
          "metadata": {
            "tags": null
          },
          "name": "stdout",
          "output_type": "stream",
          "text": [
            "generate_samples: generated 423 samples in 5.78748631477356s\n",
            "Instrument: 61\n"
          ]
        },
        {
          "data": {
            "text/html": [
              "<div id=\"id_62\"> </div>"
            ],
            "text/plain": [
              "<IPython.core.display.HTML object>"
            ]
          },
          "metadata": {},
          "output_type": "display_data"
        },
        {
          "metadata": {
            "tags": null
          },
          "name": "stdout",
          "output_type": "stream",
          "text": [
            "generate_samples: generated 423 samples in 5.785321235656738s\n",
            "Instrument: 62\n"
          ]
        },
        {
          "data": {
            "text/html": [
              "<div id=\"id_63\"> </div>"
            ],
            "text/plain": [
              "<IPython.core.display.HTML object>"
            ]
          },
          "metadata": {},
          "output_type": "display_data"
        },
        {
          "metadata": {
            "tags": null
          },
          "name": "stdout",
          "output_type": "stream",
          "text": [
            "generate_samples: generated 423 samples in 5.775237083435059s\n",
            "Instrument: 63\n"
          ]
        },
        {
          "data": {
            "text/html": [
              "<div id=\"id_64\"> </div>"
            ],
            "text/plain": [
              "<IPython.core.display.HTML object>"
            ]
          },
          "metadata": {},
          "output_type": "display_data"
        },
        {
          "metadata": {
            "tags": null
          },
          "name": "stdout",
          "output_type": "stream",
          "text": [
            "generate_samples: generated 423 samples in 5.774346113204956s\n",
            "Instrument: 64\n"
          ]
        },
        {
          "data": {
            "text/html": [
              "<div id=\"id_65\"> </div>"
            ],
            "text/plain": [
              "<IPython.core.display.HTML object>"
            ]
          },
          "metadata": {},
          "output_type": "display_data"
        },
        {
          "metadata": {
            "tags": null
          },
          "name": "stdout",
          "output_type": "stream",
          "text": [
            "generate_samples: generated 423 samples in 5.780533790588379s\n",
            "Instrument: 65\n"
          ]
        },
        {
          "data": {
            "text/html": [
              "<div id=\"id_66\"> </div>"
            ],
            "text/plain": [
              "<IPython.core.display.HTML object>"
            ]
          },
          "metadata": {},
          "output_type": "display_data"
        },
        {
          "metadata": {
            "tags": null
          },
          "name": "stdout",
          "output_type": "stream",
          "text": [
            "generate_samples: generated 423 samples in 5.767162322998047s\n",
            "Instrument: 66\n"
          ]
        },
        {
          "data": {
            "text/html": [
              "<div id=\"id_67\"> </div>"
            ],
            "text/plain": [
              "<IPython.core.display.HTML object>"
            ]
          },
          "metadata": {},
          "output_type": "display_data"
        },
        {
          "metadata": {
            "tags": null
          },
          "name": "stdout",
          "output_type": "stream",
          "text": [
            "generate_samples: generated 423 samples in 5.761077404022217s\n",
            "Instrument: 67\n"
          ]
        },
        {
          "data": {
            "text/html": [
              "<div id=\"id_68\"> </div>"
            ],
            "text/plain": [
              "<IPython.core.display.HTML object>"
            ]
          },
          "metadata": {},
          "output_type": "display_data"
        },
        {
          "metadata": {
            "tags": null
          },
          "name": "stdout",
          "output_type": "stream",
          "text": [
            "generate_samples: generated 423 samples in 5.785235643386841s\n",
            "Instrument: 68\n"
          ]
        },
        {
          "data": {
            "text/html": [
              "<div id=\"id_69\"> </div>"
            ],
            "text/plain": [
              "<IPython.core.display.HTML object>"
            ]
          },
          "metadata": {},
          "output_type": "display_data"
        },
        {
          "metadata": {
            "tags": null
          },
          "name": "stdout",
          "output_type": "stream",
          "text": [
            "generate_samples: generated 423 samples in 5.787297248840332s\n",
            "Instrument: 69\n"
          ]
        },
        {
          "data": {
            "text/html": [
              "<div id=\"id_70\"> </div>"
            ],
            "text/plain": [
              "<IPython.core.display.HTML object>"
            ]
          },
          "metadata": {},
          "output_type": "display_data"
        },
        {
          "metadata": {
            "tags": null
          },
          "name": "stdout",
          "output_type": "stream",
          "text": [
            "generate_samples: generated 423 samples in 5.794648170471191s\n",
            "Instrument: 70\n"
          ]
        },
        {
          "data": {
            "text/html": [
              "<div id=\"id_71\"> </div>"
            ],
            "text/plain": [
              "<IPython.core.display.HTML object>"
            ]
          },
          "metadata": {},
          "output_type": "display_data"
        },
        {
          "metadata": {
            "tags": null
          },
          "name": "stdout",
          "output_type": "stream",
          "text": [
            "generate_samples: generated 423 samples in 5.799877166748047s\n",
            "Instrument: 71\n"
          ]
        },
        {
          "data": {
            "text/html": [
              "<div id=\"id_72\"> </div>"
            ],
            "text/plain": [
              "<IPython.core.display.HTML object>"
            ]
          },
          "metadata": {},
          "output_type": "display_data"
        },
        {
          "metadata": {
            "tags": null
          },
          "name": "stdout",
          "output_type": "stream",
          "text": [
            "generate_samples: generated 423 samples in 5.84920072555542s\n",
            "Instrument: 72\n"
          ]
        },
        {
          "data": {
            "text/html": [
              "<div id=\"id_73\"> </div>"
            ],
            "text/plain": [
              "<IPython.core.display.HTML object>"
            ]
          },
          "metadata": {},
          "output_type": "display_data"
        },
        {
          "metadata": {
            "tags": null
          },
          "name": "stdout",
          "output_type": "stream",
          "text": [
            "generate_samples: generated 423 samples in 5.774072885513306s\n",
            "Instrument: 73\n"
          ]
        },
        {
          "data": {
            "text/html": [
              "<div id=\"id_74\"> </div>"
            ],
            "text/plain": [
              "<IPython.core.display.HTML object>"
            ]
          },
          "metadata": {},
          "output_type": "display_data"
        },
        {
          "metadata": {
            "tags": null
          },
          "name": "stdout",
          "output_type": "stream",
          "text": [
            "generate_samples: generated 423 samples in 5.768258571624756s\n",
            "Instrument: 74\n"
          ]
        },
        {
          "data": {
            "text/html": [
              "<div id=\"id_75\"> </div>"
            ],
            "text/plain": [
              "<IPython.core.display.HTML object>"
            ]
          },
          "metadata": {},
          "output_type": "display_data"
        },
        {
          "metadata": {
            "tags": null
          },
          "name": "stdout",
          "output_type": "stream",
          "text": [
            "generate_samples: generated 423 samples in 5.773020267486572s\n",
            "Instrument: 75\n"
          ]
        },
        {
          "data": {
            "text/html": [
              "<div id=\"id_76\"> </div>"
            ],
            "text/plain": [
              "<IPython.core.display.HTML object>"
            ]
          },
          "metadata": {},
          "output_type": "display_data"
        },
        {
          "metadata": {
            "tags": null
          },
          "name": "stdout",
          "output_type": "stream",
          "text": [
            "generate_samples: generated 423 samples in 5.770153522491455s\n",
            "Instrument: 76\n"
          ]
        },
        {
          "data": {
            "text/html": [
              "<div id=\"id_77\"> </div>"
            ],
            "text/plain": [
              "<IPython.core.display.HTML object>"
            ]
          },
          "metadata": {},
          "output_type": "display_data"
        },
        {
          "metadata": {
            "tags": null
          },
          "name": "stdout",
          "output_type": "stream",
          "text": [
            "generate_samples: generated 423 samples in 5.761817932128906s\n",
            "Instrument: 77\n"
          ]
        },
        {
          "data": {
            "text/html": [
              "<div id=\"id_78\"> </div>"
            ],
            "text/plain": [
              "<IPython.core.display.HTML object>"
            ]
          },
          "metadata": {},
          "output_type": "display_data"
        },
        {
          "metadata": {
            "tags": null
          },
          "name": "stdout",
          "output_type": "stream",
          "text": [
            "generate_samples: generated 423 samples in 5.78411340713501s\n",
            "Instrument: 78\n"
          ]
        },
        {
          "data": {
            "text/html": [
              "<div id=\"id_79\"> </div>"
            ],
            "text/plain": [
              "<IPython.core.display.HTML object>"
            ]
          },
          "metadata": {},
          "output_type": "display_data"
        },
        {
          "metadata": {
            "tags": null
          },
          "name": "stdout",
          "output_type": "stream",
          "text": [
            "generate_samples: generated 423 samples in 5.781152009963989s\n",
            "Instrument: 79\n"
          ]
        },
        {
          "data": {
            "text/html": [
              "<div id=\"id_80\"> </div>"
            ],
            "text/plain": [
              "<IPython.core.display.HTML object>"
            ]
          },
          "metadata": {},
          "output_type": "display_data"
        },
        {
          "metadata": {
            "tags": null
          },
          "name": "stdout",
          "output_type": "stream",
          "text": [
            "generate_samples: generated 423 samples in 5.758684158325195s\n",
            "Instrument: 80\n"
          ]
        },
        {
          "data": {
            "text/html": [
              "<div id=\"id_81\"> </div>"
            ],
            "text/plain": [
              "<IPython.core.display.HTML object>"
            ]
          },
          "metadata": {},
          "output_type": "display_data"
        },
        {
          "metadata": {
            "tags": null
          },
          "name": "stdout",
          "output_type": "stream",
          "text": [
            "generate_samples: generated 423 samples in 5.776754856109619s\n",
            "Instrument: 81\n"
          ]
        },
        {
          "data": {
            "text/html": [
              "<div id=\"id_82\"> </div>"
            ],
            "text/plain": [
              "<IPython.core.display.HTML object>"
            ]
          },
          "metadata": {},
          "output_type": "display_data"
        },
        {
          "metadata": {
            "tags": null
          },
          "name": "stdout",
          "output_type": "stream",
          "text": [
            "generate_samples: generated 423 samples in 5.758441925048828s\n",
            "Instrument: 82\n"
          ]
        },
        {
          "data": {
            "text/html": [
              "<div id=\"id_83\"> </div>"
            ],
            "text/plain": [
              "<IPython.core.display.HTML object>"
            ]
          },
          "metadata": {},
          "output_type": "display_data"
        },
        {
          "metadata": {
            "tags": null
          },
          "name": "stdout",
          "output_type": "stream",
          "text": [
            "generate_samples: generated 423 samples in 5.782085180282593s\n",
            "Instrument: 83\n"
          ]
        },
        {
          "data": {
            "text/html": [
              "<div id=\"id_84\"> </div>"
            ],
            "text/plain": [
              "<IPython.core.display.HTML object>"
            ]
          },
          "metadata": {},
          "output_type": "display_data"
        },
        {
          "metadata": {
            "tags": null
          },
          "name": "stdout",
          "output_type": "stream",
          "text": [
            "generate_samples: generated 423 samples in 5.770578384399414s\n",
            "Instrument: 84\n"
          ]
        },
        {
          "data": {
            "text/html": [
              "<div id=\"id_85\"> </div>"
            ],
            "text/plain": [
              "<IPython.core.display.HTML object>"
            ]
          },
          "metadata": {},
          "output_type": "display_data"
        },
        {
          "metadata": {
            "tags": null
          },
          "name": "stdout",
          "output_type": "stream",
          "text": [
            "generate_samples: generated 423 samples in 5.768539905548096s\n",
            "Instrument: 85\n"
          ]
        },
        {
          "data": {
            "text/html": [
              "<div id=\"id_86\"> </div>"
            ],
            "text/plain": [
              "<IPython.core.display.HTML object>"
            ]
          },
          "metadata": {},
          "output_type": "display_data"
        },
        {
          "metadata": {
            "tags": null
          },
          "name": "stdout",
          "output_type": "stream",
          "text": [
            "generate_samples: generated 423 samples in 5.765370607376099s\n",
            "Instrument: 86\n"
          ]
        },
        {
          "data": {
            "text/html": [
              "<div id=\"id_87\"> </div>"
            ],
            "text/plain": [
              "<IPython.core.display.HTML object>"
            ]
          },
          "metadata": {},
          "output_type": "display_data"
        },
        {
          "metadata": {
            "tags": null
          },
          "name": "stdout",
          "output_type": "stream",
          "text": [
            "generate_samples: generated 423 samples in 5.772021055221558s\n",
            "Instrument: 87\n"
          ]
        },
        {
          "data": {
            "text/html": [
              "<div id=\"id_88\"> </div>"
            ],
            "text/plain": [
              "<IPython.core.display.HTML object>"
            ]
          },
          "metadata": {},
          "output_type": "display_data"
        },
        {
          "metadata": {
            "tags": null
          },
          "name": "stdout",
          "output_type": "stream",
          "text": [
            "generate_samples: generated 423 samples in 5.768868446350098s\n",
            "Instrument: 88\n"
          ]
        },
        {
          "data": {
            "text/html": [
              "<div id=\"id_89\"> </div>"
            ],
            "text/plain": [
              "<IPython.core.display.HTML object>"
            ]
          },
          "metadata": {},
          "output_type": "display_data"
        },
        {
          "metadata": {
            "tags": null
          },
          "name": "stdout",
          "output_type": "stream",
          "text": [
            "generate_samples: generated 423 samples in 5.796588182449341s\n",
            "Instrument: 89\n"
          ]
        },
        {
          "data": {
            "text/html": [
              "<div id=\"id_90\"> </div>"
            ],
            "text/plain": [
              "<IPython.core.display.HTML object>"
            ]
          },
          "metadata": {},
          "output_type": "display_data"
        },
        {
          "metadata": {
            "tags": null
          },
          "name": "stdout",
          "output_type": "stream",
          "text": [
            "generate_samples: generated 423 samples in 5.77180290222168s\n",
            "Instrument: 90\n"
          ]
        },
        {
          "data": {
            "text/html": [
              "<div id=\"id_91\"> </div>"
            ],
            "text/plain": [
              "<IPython.core.display.HTML object>"
            ]
          },
          "metadata": {},
          "output_type": "display_data"
        },
        {
          "metadata": {
            "tags": null
          },
          "name": "stdout",
          "output_type": "stream",
          "text": [
            "generate_samples: generated 423 samples in 5.779684782028198s\n",
            "Instrument: 91\n"
          ]
        },
        {
          "data": {
            "text/html": [
              "<div id=\"id_92\"> </div>"
            ],
            "text/plain": [
              "<IPython.core.display.HTML object>"
            ]
          },
          "metadata": {},
          "output_type": "display_data"
        },
        {
          "metadata": {
            "tags": null
          },
          "name": "stdout",
          "output_type": "stream",
          "text": [
            "generate_samples: generated 423 samples in 5.779052257537842s\n",
            "Instrument: 92\n"
          ]
        },
        {
          "data": {
            "text/html": [
              "<div id=\"id_93\"> </div>"
            ],
            "text/plain": [
              "<IPython.core.display.HTML object>"
            ]
          },
          "metadata": {},
          "output_type": "display_data"
        },
        {
          "metadata": {
            "tags": null
          },
          "name": "stdout",
          "output_type": "stream",
          "text": [
            "generate_samples: generated 423 samples in 5.779921770095825s\n",
            "Instrument: 93\n"
          ]
        },
        {
          "data": {
            "text/html": [
              "<div id=\"id_94\"> </div>"
            ],
            "text/plain": [
              "<IPython.core.display.HTML object>"
            ]
          },
          "metadata": {},
          "output_type": "display_data"
        },
        {
          "metadata": {
            "tags": null
          },
          "name": "stdout",
          "output_type": "stream",
          "text": [
            "generate_samples: generated 423 samples in 5.790452003479004s\n",
            "Instrument: 94\n"
          ]
        },
        {
          "data": {
            "text/html": [
              "<div id=\"id_95\"> </div>"
            ],
            "text/plain": [
              "<IPython.core.display.HTML object>"
            ]
          },
          "metadata": {},
          "output_type": "display_data"
        },
        {
          "metadata": {
            "tags": null
          },
          "name": "stdout",
          "output_type": "stream",
          "text": [
            "generate_samples: generated 423 samples in 5.789615869522095s\n",
            "Instrument: 95\n"
          ]
        },
        {
          "data": {
            "text/html": [
              "<div id=\"id_96\"> </div>"
            ],
            "text/plain": [
              "<IPython.core.display.HTML object>"
            ]
          },
          "metadata": {},
          "output_type": "display_data"
        },
        {
          "metadata": {
            "tags": null
          },
          "name": "stdout",
          "output_type": "stream",
          "text": [
            "generate_samples: generated 423 samples in 5.781447887420654s\n",
            "Instrument: 96\n"
          ]
        },
        {
          "data": {
            "text/html": [
              "<div id=\"id_97\"> </div>"
            ],
            "text/plain": [
              "<IPython.core.display.HTML object>"
            ]
          },
          "metadata": {},
          "output_type": "display_data"
        },
        {
          "metadata": {
            "tags": null
          },
          "name": "stdout",
          "output_type": "stream",
          "text": [
            "generate_samples: generated 423 samples in 5.7697906494140625s\n",
            "Instrument: 97\n"
          ]
        },
        {
          "data": {
            "text/html": [
              "<div id=\"id_98\"> </div>"
            ],
            "text/plain": [
              "<IPython.core.display.HTML object>"
            ]
          },
          "metadata": {},
          "output_type": "display_data"
        },
        {
          "metadata": {
            "tags": null
          },
          "name": "stdout",
          "output_type": "stream",
          "text": [
            "generate_samples: generated 423 samples in 5.784184217453003s\n",
            "Instrument: 98\n"
          ]
        },
        {
          "data": {
            "text/html": [
              "<div id=\"id_99\"> </div>"
            ],
            "text/plain": [
              "<IPython.core.display.HTML object>"
            ]
          },
          "metadata": {},
          "output_type": "display_data"
        },
        {
          "metadata": {
            "tags": null
          },
          "name": "stdout",
          "output_type": "stream",
          "text": [
            "generate_samples: generated 423 samples in 5.772017240524292s\n",
            "Instrument: 99\n"
          ]
        },
        {
          "data": {
            "text/html": [
              "<div id=\"id_100\"> </div>"
            ],
            "text/plain": [
              "<IPython.core.display.HTML object>"
            ]
          },
          "metadata": {},
          "output_type": "display_data"
        },
        {
          "metadata": {
            "tags": null
          },
          "name": "stdout",
          "output_type": "stream",
          "text": [
            "generate_samples: generated 423 samples in 5.823382616043091s\n",
            "Instrument: 100\n"
          ]
        },
        {
          "data": {
            "text/html": [
              "<div id=\"id_101\"> </div>"
            ],
            "text/plain": [
              "<IPython.core.display.HTML object>"
            ]
          },
          "metadata": {},
          "output_type": "display_data"
        },
        {
          "metadata": {
            "tags": null
          },
          "name": "stdout",
          "output_type": "stream",
          "text": [
            "generate_samples: generated 423 samples in 5.7785491943359375s\n",
            "Instrument: 101\n"
          ]
        },
        {
          "data": {
            "text/html": [
              "<div id=\"id_102\"> </div>"
            ],
            "text/plain": [
              "<IPython.core.display.HTML object>"
            ]
          },
          "metadata": {},
          "output_type": "display_data"
        },
        {
          "metadata": {
            "tags": null
          },
          "name": "stdout",
          "output_type": "stream",
          "text": [
            "generate_samples: generated 423 samples in 5.767974376678467s\n",
            "Instrument: 102\n"
          ]
        },
        {
          "data": {
            "text/html": [
              "<div id=\"id_103\"> </div>"
            ],
            "text/plain": [
              "<IPython.core.display.HTML object>"
            ]
          },
          "metadata": {},
          "output_type": "display_data"
        },
        {
          "metadata": {
            "tags": null
          },
          "name": "stdout",
          "output_type": "stream",
          "text": [
            "generate_samples: generated 423 samples in 5.7759058475494385s\n",
            "Instrument: 103\n"
          ]
        },
        {
          "data": {
            "text/html": [
              "<div id=\"id_104\"> </div>"
            ],
            "text/plain": [
              "<IPython.core.display.HTML object>"
            ]
          },
          "metadata": {},
          "output_type": "display_data"
        },
        {
          "metadata": {
            "tags": null
          },
          "name": "stdout",
          "output_type": "stream",
          "text": [
            "generate_samples: generated 423 samples in 5.774562358856201s\n",
            "Instrument: 104\n"
          ]
        },
        {
          "data": {
            "text/html": [
              "<div id=\"id_105\"> </div>"
            ],
            "text/plain": [
              "<IPython.core.display.HTML object>"
            ]
          },
          "metadata": {},
          "output_type": "display_data"
        },
        {
          "metadata": {
            "tags": null
          },
          "name": "stdout",
          "output_type": "stream",
          "text": [
            "generate_samples: generated 423 samples in 5.76618218421936s\n",
            "Instrument: 105\n"
          ]
        },
        {
          "data": {
            "text/html": [
              "<div id=\"id_106\"> </div>"
            ],
            "text/plain": [
              "<IPython.core.display.HTML object>"
            ]
          },
          "metadata": {},
          "output_type": "display_data"
        },
        {
          "metadata": {
            "tags": null
          },
          "name": "stdout",
          "output_type": "stream",
          "text": [
            "generate_samples: generated 423 samples in 5.768873929977417s\n",
            "Instrument: 106\n"
          ]
        },
        {
          "data": {
            "text/html": [
              "<div id=\"id_107\"> </div>"
            ],
            "text/plain": [
              "<IPython.core.display.HTML object>"
            ]
          },
          "metadata": {},
          "output_type": "display_data"
        },
        {
          "metadata": {
            "tags": null
          },
          "name": "stdout",
          "output_type": "stream",
          "text": [
            "generate_samples: generated 423 samples in 5.7888078689575195s\n",
            "Instrument: 107\n"
          ]
        },
        {
          "data": {
            "text/html": [
              "<div id=\"id_108\"> </div>"
            ],
            "text/plain": [
              "<IPython.core.display.HTML object>"
            ]
          },
          "metadata": {},
          "output_type": "display_data"
        },
        {
          "metadata": {
            "tags": null
          },
          "name": "stdout",
          "output_type": "stream",
          "text": [
            "generate_samples: generated 423 samples in 5.779602527618408s\n",
            "Instrument: 108\n"
          ]
        },
        {
          "data": {
            "text/html": [
              "<div id=\"id_109\"> </div>"
            ],
            "text/plain": [
              "<IPython.core.display.HTML object>"
            ]
          },
          "metadata": {},
          "output_type": "display_data"
        },
        {
          "metadata": {
            "tags": null
          },
          "name": "stdout",
          "output_type": "stream",
          "text": [
            "generate_samples: generated 423 samples in 5.777899265289307s\n",
            "Instrument: 109\n"
          ]
        },
        {
          "data": {
            "text/html": [
              "<div id=\"id_110\"> </div>"
            ],
            "text/plain": [
              "<IPython.core.display.HTML object>"
            ]
          },
          "metadata": {},
          "output_type": "display_data"
        },
        {
          "metadata": {
            "tags": null
          },
          "name": "stdout",
          "output_type": "stream",
          "text": [
            "generate_samples: generated 423 samples in 5.7842535972595215s\n",
            "Instrument: 110\n"
          ]
        },
        {
          "data": {
            "text/html": [
              "<div id=\"id_111\"> </div>"
            ],
            "text/plain": [
              "<IPython.core.display.HTML object>"
            ]
          },
          "metadata": {},
          "output_type": "display_data"
        },
        {
          "metadata": {
            "tags": null
          },
          "name": "stdout",
          "output_type": "stream",
          "text": [
            "generate_samples: generated 423 samples in 5.7807536125183105s\n",
            "Instrument: 111\n"
          ]
        },
        {
          "data": {
            "text/html": [
              "<div id=\"id_112\"> </div>"
            ],
            "text/plain": [
              "<IPython.core.display.HTML object>"
            ]
          },
          "metadata": {},
          "output_type": "display_data"
        },
        {
          "metadata": {
            "tags": null
          },
          "name": "stdout",
          "output_type": "stream",
          "text": [
            "generate_samples: generated 423 samples in 5.812235355377197s\n",
            "Instrument: 112\n"
          ]
        },
        {
          "data": {
            "text/html": [
              "<div id=\"id_113\"> </div>"
            ],
            "text/plain": [
              "<IPython.core.display.HTML object>"
            ]
          },
          "metadata": {},
          "output_type": "display_data"
        },
        {
          "metadata": {
            "tags": null
          },
          "name": "stdout",
          "output_type": "stream",
          "text": [
            "generate_samples: generated 423 samples in 5.766923904418945s\n",
            "Instrument: 113\n"
          ]
        },
        {
          "data": {
            "text/html": [
              "<div id=\"id_114\"> </div>"
            ],
            "text/plain": [
              "<IPython.core.display.HTML object>"
            ]
          },
          "metadata": {},
          "output_type": "display_data"
        },
        {
          "metadata": {
            "tags": null
          },
          "name": "stdout",
          "output_type": "stream",
          "text": [
            "generate_samples: generated 423 samples in 5.764277696609497s\n",
            "Instrument: 114\n"
          ]
        },
        {
          "data": {
            "text/html": [
              "<div id=\"id_115\"> </div>"
            ],
            "text/plain": [
              "<IPython.core.display.HTML object>"
            ]
          },
          "metadata": {},
          "output_type": "display_data"
        },
        {
          "metadata": {
            "tags": null
          },
          "name": "stdout",
          "output_type": "stream",
          "text": [
            "generate_samples: generated 423 samples in 5.790493726730347s\n",
            "Instrument: 115\n"
          ]
        },
        {
          "data": {
            "text/html": [
              "<div id=\"id_116\"> </div>"
            ],
            "text/plain": [
              "<IPython.core.display.HTML object>"
            ]
          },
          "metadata": {},
          "output_type": "display_data"
        },
        {
          "metadata": {
            "tags": null
          },
          "name": "stdout",
          "output_type": "stream",
          "text": [
            "generate_samples: generated 423 samples in 5.766880512237549s\n",
            "Instrument: 116\n"
          ]
        },
        {
          "data": {
            "text/html": [
              "<div id=\"id_117\"> </div>"
            ],
            "text/plain": [
              "<IPython.core.display.HTML object>"
            ]
          },
          "metadata": {},
          "output_type": "display_data"
        },
        {
          "metadata": {
            "tags": null
          },
          "name": "stdout",
          "output_type": "stream",
          "text": [
            "generate_samples: generated 423 samples in 5.7699267864227295s\n",
            "Instrument: 117\n"
          ]
        },
        {
          "data": {
            "text/html": [
              "<div id=\"id_118\"> </div>"
            ],
            "text/plain": [
              "<IPython.core.display.HTML object>"
            ]
          },
          "metadata": {},
          "output_type": "display_data"
        },
        {
          "metadata": {
            "tags": null
          },
          "name": "stdout",
          "output_type": "stream",
          "text": [
            "generate_samples: generated 423 samples in 5.759166479110718s\n",
            "Instrument: 118\n"
          ]
        },
        {
          "data": {
            "text/html": [
              "<div id=\"id_119\"> </div>"
            ],
            "text/plain": [
              "<IPython.core.display.HTML object>"
            ]
          },
          "metadata": {},
          "output_type": "display_data"
        },
        {
          "metadata": {
            "tags": null
          },
          "name": "stdout",
          "output_type": "stream",
          "text": [
            "generate_samples: generated 423 samples in 5.76804518699646s\n",
            "Instrument: 119\n"
          ]
        },
        {
          "data": {
            "text/html": [
              "<div id=\"id_120\"> </div>"
            ],
            "text/plain": [
              "<IPython.core.display.HTML object>"
            ]
          },
          "metadata": {},
          "output_type": "display_data"
        },
        {
          "metadata": {
            "tags": null
          },
          "name": "stdout",
          "output_type": "stream",
          "text": [
            "generate_samples: generated 423 samples in 5.772961378097534s\n",
            "Instrument: 120\n"
          ]
        },
        {
          "data": {
            "text/html": [
              "<div id=\"id_121\"> </div>"
            ],
            "text/plain": [
              "<IPython.core.display.HTML object>"
            ]
          },
          "metadata": {},
          "output_type": "display_data"
        },
        {
          "metadata": {
            "tags": null
          },
          "name": "stdout",
          "output_type": "stream",
          "text": [
            "generate_samples: generated 423 samples in 5.773118257522583s\n",
            "Instrument: 121\n"
          ]
        },
        {
          "data": {
            "text/html": [
              "<div id=\"id_122\"> </div>"
            ],
            "text/plain": [
              "<IPython.core.display.HTML object>"
            ]
          },
          "metadata": {},
          "output_type": "display_data"
        },
        {
          "metadata": {
            "tags": null
          },
          "name": "stdout",
          "output_type": "stream",
          "text": [
            "generate_samples: generated 423 samples in 5.781749486923218s\n",
            "Instrument: 122\n"
          ]
        },
        {
          "data": {
            "text/html": [
              "<div id=\"id_123\"> </div>"
            ],
            "text/plain": [
              "<IPython.core.display.HTML object>"
            ]
          },
          "metadata": {},
          "output_type": "display_data"
        },
        {
          "metadata": {
            "tags": null
          },
          "name": "stdout",
          "output_type": "stream",
          "text": [
            "generate_samples: generated 423 samples in 5.792636871337891s\n",
            "Instrument: 123\n"
          ]
        },
        {
          "data": {
            "text/html": [
              "<div id=\"id_124\"> </div>"
            ],
            "text/plain": [
              "<IPython.core.display.HTML object>"
            ]
          },
          "metadata": {},
          "output_type": "display_data"
        },
        {
          "metadata": {
            "tags": null
          },
          "name": "stdout",
          "output_type": "stream",
          "text": [
            "generate_samples: generated 423 samples in 5.784502983093262s\n",
            "Instrument: 124\n"
          ]
        },
        {
          "data": {
            "text/html": [
              "<div id=\"id_125\"> </div>"
            ],
            "text/plain": [
              "<IPython.core.display.HTML object>"
            ]
          },
          "metadata": {},
          "output_type": "display_data"
        },
        {
          "metadata": {
            "tags": null
          },
          "name": "stdout",
          "output_type": "stream",
          "text": [
            "generate_samples: generated 423 samples in 5.78092360496521s\n",
            "Instrument: 125\n"
          ]
        },
        {
          "data": {
            "text/html": [
              "<div id=\"id_126\"> </div>"
            ],
            "text/plain": [
              "<IPython.core.display.HTML object>"
            ]
          },
          "metadata": {},
          "output_type": "display_data"
        },
        {
          "metadata": {
            "tags": null
          },
          "name": "stdout",
          "output_type": "stream",
          "text": [
            "generate_samples: generated 423 samples in 5.78436017036438s\n",
            "Instrument: 126\n"
          ]
        },
        {
          "data": {
            "text/html": [
              "<div id=\"id_127\"> </div>"
            ],
            "text/plain": [
              "<IPython.core.display.HTML object>"
            ]
          },
          "metadata": {},
          "output_type": "display_data"
        },
        {
          "metadata": {
            "tags": null
          },
          "name": "stdout",
          "output_type": "stream",
          "text": [
            "generate_samples: generated 423 samples in 5.760248184204102s\n",
            "Instrument: 127\n"
          ]
        },
        {
          "data": {
            "text/html": [
              "<div id=\"id_128\"> </div>"
            ],
            "text/plain": [
              "<IPython.core.display.HTML object>"
            ]
          },
          "metadata": {},
          "output_type": "display_data"
        },
        {
          "metadata": {
            "tags": null
          },
          "name": "stdout",
          "output_type": "stream",
          "text": [
            "generate_samples: generated 423 samples in 5.7702476978302s\n",
            "Instrument: 128\n"
          ]
        },
        {
          "data": {
            "text/html": [
              "<div id=\"id_129\"> </div>"
            ],
            "text/plain": [
              "<IPython.core.display.HTML object>"
            ]
          },
          "metadata": {},
          "output_type": "display_data"
        },
        {
          "metadata": {
            "tags": null
          },
          "name": "stdout",
          "output_type": "stream",
          "text": [
            "generate_samples: generated 423 samples in 5.768303394317627s\n",
            "Instrument: 129\n"
          ]
        },
        {
          "data": {
            "text/html": [
              "<div id=\"id_130\"> </div>"
            ],
            "text/plain": [
              "<IPython.core.display.HTML object>"
            ]
          },
          "metadata": {},
          "output_type": "display_data"
        },
        {
          "metadata": {
            "tags": null
          },
          "name": "stdout",
          "output_type": "stream",
          "text": [
            "generate_samples: generated 423 samples in 5.776961326599121s\n",
            "Instrument: 130\n"
          ]
        },
        {
          "data": {
            "text/html": [
              "<div id=\"id_131\"> </div>"
            ],
            "text/plain": [
              "<IPython.core.display.HTML object>"
            ]
          },
          "metadata": {},
          "output_type": "display_data"
        },
        {
          "metadata": {
            "tags": null
          },
          "name": "stdout",
          "output_type": "stream",
          "text": [
            "generate_samples: generated 423 samples in 5.756933927536011s\n",
            "Instrument: 131\n"
          ]
        },
        {
          "data": {
            "text/html": [
              "<div id=\"id_132\"> </div>"
            ],
            "text/plain": [
              "<IPython.core.display.HTML object>"
            ]
          },
          "metadata": {},
          "output_type": "display_data"
        },
        {
          "metadata": {
            "tags": null
          },
          "name": "stdout",
          "output_type": "stream",
          "text": [
            "generate_samples: generated 423 samples in 5.751128435134888s\n",
            "Instrument: 132\n"
          ]
        },
        {
          "data": {
            "text/html": [
              "<div id=\"id_133\"> </div>"
            ],
            "text/plain": [
              "<IPython.core.display.HTML object>"
            ]
          },
          "metadata": {},
          "output_type": "display_data"
        },
        {
          "metadata": {
            "tags": null
          },
          "name": "stdout",
          "output_type": "stream",
          "text": [
            "generate_samples: generated 423 samples in 5.747710227966309s\n",
            "Instrument: 133\n"
          ]
        },
        {
          "data": {
            "text/html": [
              "<div id=\"id_134\"> </div>"
            ],
            "text/plain": [
              "<IPython.core.display.HTML object>"
            ]
          },
          "metadata": {},
          "output_type": "display_data"
        },
        {
          "metadata": {
            "tags": null
          },
          "name": "stdout",
          "output_type": "stream",
          "text": [
            "generate_samples: generated 423 samples in 5.759941339492798s\n",
            "Instrument: 134\n"
          ]
        },
        {
          "data": {
            "text/html": [
              "<div id=\"id_135\"> </div>"
            ],
            "text/plain": [
              "<IPython.core.display.HTML object>"
            ]
          },
          "metadata": {},
          "output_type": "display_data"
        },
        {
          "metadata": {
            "tags": null
          },
          "name": "stdout",
          "output_type": "stream",
          "text": [
            "generate_samples: generated 423 samples in 5.773838520050049s\n",
            "Instrument: 135\n"
          ]
        },
        {
          "data": {
            "text/html": [
              "<div id=\"id_136\"> </div>"
            ],
            "text/plain": [
              "<IPython.core.display.HTML object>"
            ]
          },
          "metadata": {},
          "output_type": "display_data"
        },
        {
          "metadata": {
            "tags": null
          },
          "name": "stdout",
          "output_type": "stream",
          "text": [
            "generate_samples: generated 423 samples in 5.819813251495361s\n",
            "Instrument: 136\n"
          ]
        },
        {
          "data": {
            "text/html": [
              "<div id=\"id_137\"> </div>"
            ],
            "text/plain": [
              "<IPython.core.display.HTML object>"
            ]
          },
          "metadata": {},
          "output_type": "display_data"
        },
        {
          "metadata": {
            "tags": null
          },
          "name": "stdout",
          "output_type": "stream",
          "text": [
            "generate_samples: generated 423 samples in 5.730195045471191s\n",
            "Instrument: 137\n"
          ]
        },
        {
          "data": {
            "text/html": [
              "<div id=\"id_138\"> </div>"
            ],
            "text/plain": [
              "<IPython.core.display.HTML object>"
            ]
          },
          "metadata": {},
          "output_type": "display_data"
        },
        {
          "metadata": {
            "tags": null
          },
          "name": "stdout",
          "output_type": "stream",
          "text": [
            "generate_samples: generated 423 samples in 5.767617464065552s\n",
            "Instrument: 138\n"
          ]
        },
        {
          "data": {
            "text/html": [
              "<div id=\"id_139\"> </div>"
            ],
            "text/plain": [
              "<IPython.core.display.HTML object>"
            ]
          },
          "metadata": {},
          "output_type": "display_data"
        },
        {
          "metadata": {
            "tags": null
          },
          "name": "stdout",
          "output_type": "stream",
          "text": [
            "generate_samples: generated 423 samples in 5.775829792022705s\n",
            "Instrument: 139\n"
          ]
        },
        {
          "data": {
            "text/html": [
              "<div id=\"id_140\"> </div>"
            ],
            "text/plain": [
              "<IPython.core.display.HTML object>"
            ]
          },
          "metadata": {},
          "output_type": "display_data"
        },
        {
          "metadata": {
            "tags": null
          },
          "name": "stdout",
          "output_type": "stream",
          "text": [
            "generate_samples: generated 423 samples in 5.754403591156006s\n",
            "Instrument: 140\n"
          ]
        },
        {
          "data": {
            "text/html": [
              "<div id=\"id_141\"> </div>"
            ],
            "text/plain": [
              "<IPython.core.display.HTML object>"
            ]
          },
          "metadata": {},
          "output_type": "display_data"
        },
        {
          "metadata": {
            "tags": null
          },
          "name": "stdout",
          "output_type": "stream",
          "text": [
            "generate_samples: generated 423 samples in 5.777167081832886s\n",
            "Instrument: 141\n"
          ]
        },
        {
          "data": {
            "text/html": [
              "<div id=\"id_142\"> </div>"
            ],
            "text/plain": [
              "<IPython.core.display.HTML object>"
            ]
          },
          "metadata": {},
          "output_type": "display_data"
        },
        {
          "metadata": {
            "tags": null
          },
          "name": "stdout",
          "output_type": "stream",
          "text": [
            "generate_samples: generated 423 samples in 5.780016899108887s\n",
            "Instrument: 142\n"
          ]
        },
        {
          "data": {
            "text/html": [
              "<div id=\"id_143\"> </div>"
            ],
            "text/plain": [
              "<IPython.core.display.HTML object>"
            ]
          },
          "metadata": {},
          "output_type": "display_data"
        },
        {
          "metadata": {
            "tags": null
          },
          "name": "stdout",
          "output_type": "stream",
          "text": [
            "generate_samples: generated 423 samples in 5.7831573486328125s\n",
            "Instrument: 143\n"
          ]
        },
        {
          "data": {
            "text/html": [
              "<div id=\"id_144\"> </div>"
            ],
            "text/plain": [
              "<IPython.core.display.HTML object>"
            ]
          },
          "metadata": {},
          "output_type": "display_data"
        },
        {
          "metadata": {
            "tags": null
          },
          "name": "stdout",
          "output_type": "stream",
          "text": [
            "generate_samples: generated 423 samples in 5.864238023757935s\n",
            "Instrument: 144\n"
          ]
        },
        {
          "data": {
            "text/html": [
              "<div id=\"id_145\"> </div>"
            ],
            "text/plain": [
              "<IPython.core.display.HTML object>"
            ]
          },
          "metadata": {},
          "output_type": "display_data"
        },
        {
          "metadata": {
            "tags": null
          },
          "name": "stdout",
          "output_type": "stream",
          "text": [
            "generate_samples: generated 423 samples in 5.7574803829193115s\n",
            "Instrument: 145\n"
          ]
        },
        {
          "data": {
            "text/html": [
              "<div id=\"id_146\"> </div>"
            ],
            "text/plain": [
              "<IPython.core.display.HTML object>"
            ]
          },
          "metadata": {},
          "output_type": "display_data"
        },
        {
          "metadata": {
            "tags": null
          },
          "name": "stdout",
          "output_type": "stream",
          "text": [
            "generate_samples: generated 423 samples in 5.767291307449341s\n",
            "Instrument: 146\n"
          ]
        },
        {
          "data": {
            "text/html": [
              "<div id=\"id_147\"> </div>"
            ],
            "text/plain": [
              "<IPython.core.display.HTML object>"
            ]
          },
          "metadata": {},
          "output_type": "display_data"
        },
        {
          "metadata": {
            "tags": null
          },
          "name": "stdout",
          "output_type": "stream",
          "text": [
            "generate_samples: generated 423 samples in 5.76305627822876s\n",
            "Instrument: 147\n"
          ]
        },
        {
          "data": {
            "text/html": [
              "<div id=\"id_148\"> </div>"
            ],
            "text/plain": [
              "<IPython.core.display.HTML object>"
            ]
          },
          "metadata": {},
          "output_type": "display_data"
        },
        {
          "metadata": {
            "tags": null
          },
          "name": "stdout",
          "output_type": "stream",
          "text": [
            "generate_samples: generated 423 samples in 5.771845102310181s\n",
            "Instrument: 148\n"
          ]
        },
        {
          "data": {
            "text/html": [
              "<div id=\"id_149\"> </div>"
            ],
            "text/plain": [
              "<IPython.core.display.HTML object>"
            ]
          },
          "metadata": {},
          "output_type": "display_data"
        },
        {
          "metadata": {
            "tags": null
          },
          "name": "stdout",
          "output_type": "stream",
          "text": [
            "generate_samples: generated 423 samples in 5.739032983779907s\n",
            "Instrument: 149\n"
          ]
        },
        {
          "data": {
            "text/html": [
              "<div id=\"id_150\"> </div>"
            ],
            "text/plain": [
              "<IPython.core.display.HTML object>"
            ]
          },
          "metadata": {},
          "output_type": "display_data"
        },
        {
          "metadata": {
            "tags": null
          },
          "name": "stdout",
          "output_type": "stream",
          "text": [
            "generate_samples: generated 423 samples in 5.7551703453063965s\n",
            "Instrument: 150\n"
          ]
        },
        {
          "data": {
            "text/html": [
              "<div id=\"id_151\"> </div>"
            ],
            "text/plain": [
              "<IPython.core.display.HTML object>"
            ]
          },
          "metadata": {},
          "output_type": "display_data"
        },
        {
          "metadata": {
            "tags": null
          },
          "name": "stdout",
          "output_type": "stream",
          "text": [
            "generate_samples: generated 423 samples in 5.770010471343994s\n",
            "Instrument: 151\n"
          ]
        },
        {
          "data": {
            "text/html": [
              "<div id=\"id_152\"> </div>"
            ],
            "text/plain": [
              "<IPython.core.display.HTML object>"
            ]
          },
          "metadata": {},
          "output_type": "display_data"
        },
        {
          "metadata": {
            "tags": null
          },
          "name": "stdout",
          "output_type": "stream",
          "text": [
            "generate_samples: generated 423 samples in 5.769763469696045s\n",
            "Instrument: 152\n"
          ]
        },
        {
          "data": {
            "text/html": [
              "<div id=\"id_153\"> </div>"
            ],
            "text/plain": [
              "<IPython.core.display.HTML object>"
            ]
          },
          "metadata": {},
          "output_type": "display_data"
        },
        {
          "metadata": {
            "tags": null
          },
          "name": "stdout",
          "output_type": "stream",
          "text": [
            "generate_samples: generated 423 samples in 5.762610912322998s\n",
            "Instrument: 153\n"
          ]
        },
        {
          "data": {
            "text/html": [
              "<div id=\"id_154\"> </div>"
            ],
            "text/plain": [
              "<IPython.core.display.HTML object>"
            ]
          },
          "metadata": {},
          "output_type": "display_data"
        },
        {
          "metadata": {
            "tags": null
          },
          "name": "stdout",
          "output_type": "stream",
          "text": [
            "generate_samples: generated 423 samples in 5.75502347946167s\n",
            "Instrument: 154\n"
          ]
        },
        {
          "data": {
            "text/html": [
              "<div id=\"id_155\"> </div>"
            ],
            "text/plain": [
              "<IPython.core.display.HTML object>"
            ]
          },
          "metadata": {},
          "output_type": "display_data"
        },
        {
          "metadata": {
            "tags": null
          },
          "name": "stdout",
          "output_type": "stream",
          "text": [
            "generate_samples: generated 423 samples in 5.748689889907837s\n",
            "Instrument: 155\n"
          ]
        },
        {
          "data": {
            "text/html": [
              "<div id=\"id_156\"> </div>"
            ],
            "text/plain": [
              "<IPython.core.display.HTML object>"
            ]
          },
          "metadata": {},
          "output_type": "display_data"
        },
        {
          "metadata": {
            "tags": null
          },
          "name": "stdout",
          "output_type": "stream",
          "text": [
            "generate_samples: generated 423 samples in 5.792345762252808s\n",
            "Instrument: 156\n"
          ]
        },
        {
          "data": {
            "text/html": [
              "<div id=\"id_157\"> </div>"
            ],
            "text/plain": [
              "<IPython.core.display.HTML object>"
            ]
          },
          "metadata": {},
          "output_type": "display_data"
        },
        {
          "metadata": {
            "tags": null
          },
          "name": "stdout",
          "output_type": "stream",
          "text": [
            "generate_samples: generated 423 samples in 5.749032974243164s\n",
            "Instrument: 157\n"
          ]
        },
        {
          "data": {
            "text/html": [
              "<div id=\"id_158\"> </div>"
            ],
            "text/plain": [
              "<IPython.core.display.HTML object>"
            ]
          },
          "metadata": {},
          "output_type": "display_data"
        },
        {
          "metadata": {
            "tags": null
          },
          "name": "stdout",
          "output_type": "stream",
          "text": [
            "generate_samples: generated 423 samples in 5.761510848999023s\n",
            "Instrument: 158\n"
          ]
        },
        {
          "data": {
            "text/html": [
              "<div id=\"id_159\"> </div>"
            ],
            "text/plain": [
              "<IPython.core.display.HTML object>"
            ]
          },
          "metadata": {},
          "output_type": "display_data"
        },
        {
          "metadata": {
            "tags": null
          },
          "name": "stdout",
          "output_type": "stream",
          "text": [
            "generate_samples: generated 423 samples in 5.754881143569946s\n",
            "Instrument: 159\n"
          ]
        },
        {
          "data": {
            "text/html": [
              "<div id=\"id_160\"> </div>"
            ],
            "text/plain": [
              "<IPython.core.display.HTML object>"
            ]
          },
          "metadata": {},
          "output_type": "display_data"
        },
        {
          "metadata": {
            "tags": null
          },
          "name": "stdout",
          "output_type": "stream",
          "text": [
            "generate_samples: generated 423 samples in 5.74469518661499s\n",
            "Instrument: 160\n"
          ]
        },
        {
          "data": {
            "text/html": [
              "<div id=\"id_161\"> </div>"
            ],
            "text/plain": [
              "<IPython.core.display.HTML object>"
            ]
          },
          "metadata": {},
          "output_type": "display_data"
        },
        {
          "metadata": {
            "tags": null
          },
          "name": "stdout",
          "output_type": "stream",
          "text": [
            "generate_samples: generated 423 samples in 5.769103527069092s\n",
            "Instrument: 161\n"
          ]
        },
        {
          "data": {
            "text/html": [
              "<div id=\"id_162\"> </div>"
            ],
            "text/plain": [
              "<IPython.core.display.HTML object>"
            ]
          },
          "metadata": {},
          "output_type": "display_data"
        },
        {
          "metadata": {
            "tags": null
          },
          "name": "stdout",
          "output_type": "stream",
          "text": [
            "generate_samples: generated 423 samples in 5.763288736343384s\n",
            "Instrument: 162\n"
          ]
        },
        {
          "data": {
            "text/html": [
              "<div id=\"id_163\"> </div>"
            ],
            "text/plain": [
              "<IPython.core.display.HTML object>"
            ]
          },
          "metadata": {},
          "output_type": "display_data"
        },
        {
          "metadata": {
            "tags": null
          },
          "name": "stdout",
          "output_type": "stream",
          "text": [
            "generate_samples: generated 423 samples in 5.756272554397583s\n",
            "Instrument: 163\n"
          ]
        },
        {
          "data": {
            "text/html": [
              "<div id=\"id_164\"> </div>"
            ],
            "text/plain": [
              "<IPython.core.display.HTML object>"
            ]
          },
          "metadata": {},
          "output_type": "display_data"
        },
        {
          "metadata": {
            "tags": null
          },
          "name": "stdout",
          "output_type": "stream",
          "text": [
            "generate_samples: generated 423 samples in 5.759327173233032s\n",
            "Instrument: 164\n"
          ]
        },
        {
          "data": {
            "text/html": [
              "<div id=\"id_165\"> </div>"
            ],
            "text/plain": [
              "<IPython.core.display.HTML object>"
            ]
          },
          "metadata": {},
          "output_type": "display_data"
        },
        {
          "metadata": {
            "tags": null
          },
          "name": "stdout",
          "output_type": "stream",
          "text": [
            "generate_samples: generated 423 samples in 5.7385663986206055s\n",
            "Instrument: 165\n"
          ]
        },
        {
          "data": {
            "text/html": [
              "<div id=\"id_166\"> </div>"
            ],
            "text/plain": [
              "<IPython.core.display.HTML object>"
            ]
          },
          "metadata": {},
          "output_type": "display_data"
        },
        {
          "metadata": {
            "tags": null
          },
          "name": "stdout",
          "output_type": "stream",
          "text": [
            "generate_samples: generated 423 samples in 5.743202447891235s\n",
            "Instrument: 166\n"
          ]
        },
        {
          "data": {
            "text/html": [
              "<div id=\"id_167\"> </div>"
            ],
            "text/plain": [
              "<IPython.core.display.HTML object>"
            ]
          },
          "metadata": {},
          "output_type": "display_data"
        },
        {
          "metadata": {
            "tags": null
          },
          "name": "stdout",
          "output_type": "stream",
          "text": [
            "generate_samples: generated 423 samples in 5.752661228179932s\n",
            "Instrument: 167\n"
          ]
        },
        {
          "data": {
            "text/html": [
              "<div id=\"id_168\"> </div>"
            ],
            "text/plain": [
              "<IPython.core.display.HTML object>"
            ]
          },
          "metadata": {},
          "output_type": "display_data"
        },
        {
          "metadata": {
            "tags": null
          },
          "name": "stdout",
          "output_type": "stream",
          "text": [
            "generate_samples: generated 423 samples in 5.785791635513306s\n",
            "Instrument: 168\n"
          ]
        },
        {
          "data": {
            "text/html": [
              "<div id=\"id_169\"> </div>"
            ],
            "text/plain": [
              "<IPython.core.display.HTML object>"
            ]
          },
          "metadata": {},
          "output_type": "display_data"
        },
        {
          "metadata": {
            "tags": null
          },
          "name": "stdout",
          "output_type": "stream",
          "text": [
            "generate_samples: generated 423 samples in 5.7769904136657715s\n",
            "Instrument: 169\n"
          ]
        },
        {
          "data": {
            "text/html": [
              "<div id=\"id_170\"> </div>"
            ],
            "text/plain": [
              "<IPython.core.display.HTML object>"
            ]
          },
          "metadata": {},
          "output_type": "display_data"
        },
        {
          "metadata": {
            "tags": null
          },
          "name": "stdout",
          "output_type": "stream",
          "text": [
            "generate_samples: generated 423 samples in 5.785058975219727s\n",
            "Instrument: 170\n"
          ]
        },
        {
          "data": {
            "text/html": [
              "<div id=\"id_171\"> </div>"
            ],
            "text/plain": [
              "<IPython.core.display.HTML object>"
            ]
          },
          "metadata": {},
          "output_type": "display_data"
        },
        {
          "metadata": {
            "tags": null
          },
          "name": "stdout",
          "output_type": "stream",
          "text": [
            "generate_samples: generated 423 samples in 5.765657186508179s\n",
            "Instrument: 171\n"
          ]
        },
        {
          "data": {
            "text/html": [
              "<div id=\"id_172\"> </div>"
            ],
            "text/plain": [
              "<IPython.core.display.HTML object>"
            ]
          },
          "metadata": {},
          "output_type": "display_data"
        },
        {
          "metadata": {
            "tags": null
          },
          "name": "stdout",
          "output_type": "stream",
          "text": [
            "generate_samples: generated 423 samples in 5.752520322799683s\n",
            "Instrument: 172\n"
          ]
        },
        {
          "data": {
            "text/html": [
              "<div id=\"id_173\"> </div>"
            ],
            "text/plain": [
              "<IPython.core.display.HTML object>"
            ]
          },
          "metadata": {},
          "output_type": "display_data"
        },
        {
          "metadata": {
            "tags": null
          },
          "name": "stdout",
          "output_type": "stream",
          "text": [
            "generate_samples: generated 423 samples in 5.761861324310303s\n",
            "Instrument: 173\n"
          ]
        },
        {
          "data": {
            "text/html": [
              "<div id=\"id_174\"> </div>"
            ],
            "text/plain": [
              "<IPython.core.display.HTML object>"
            ]
          },
          "metadata": {},
          "output_type": "display_data"
        },
        {
          "metadata": {
            "tags": null
          },
          "name": "stdout",
          "output_type": "stream",
          "text": [
            "generate_samples: generated 423 samples in 5.759742021560669s\n",
            "Instrument: 174\n"
          ]
        },
        {
          "data": {
            "text/html": [
              "<div id=\"id_175\"> </div>"
            ],
            "text/plain": [
              "<IPython.core.display.HTML object>"
            ]
          },
          "metadata": {},
          "output_type": "display_data"
        },
        {
          "metadata": {
            "tags": null
          },
          "name": "stdout",
          "output_type": "stream",
          "text": [
            "generate_samples: generated 423 samples in 5.758047103881836s\n",
            "Instrument: 175\n"
          ]
        },
        {
          "data": {
            "text/html": [
              "<div id=\"id_176\"> </div>"
            ],
            "text/plain": [
              "<IPython.core.display.HTML object>"
            ]
          },
          "metadata": {},
          "output_type": "display_data"
        },
        {
          "metadata": {
            "tags": null
          },
          "name": "stdout",
          "output_type": "stream",
          "text": [
            "generate_samples: generated 423 samples in 5.75503396987915s\n",
            "Instrument: 176\n"
          ]
        },
        {
          "data": {
            "text/html": [
              "<div id=\"id_177\"> </div>"
            ],
            "text/plain": [
              "<IPython.core.display.HTML object>"
            ]
          },
          "metadata": {},
          "output_type": "display_data"
        },
        {
          "metadata": {
            "tags": null
          },
          "name": "stdout",
          "output_type": "stream",
          "text": [
            "generate_samples: generated 423 samples in 5.753849267959595s\n",
            "Instrument: 177\n"
          ]
        },
        {
          "data": {
            "text/html": [
              "<div id=\"id_178\"> </div>"
            ],
            "text/plain": [
              "<IPython.core.display.HTML object>"
            ]
          },
          "metadata": {},
          "output_type": "display_data"
        },
        {
          "metadata": {
            "tags": null
          },
          "name": "stdout",
          "output_type": "stream",
          "text": [
            "generate_samples: generated 423 samples in 5.758898735046387s\n",
            "Instrument: 178\n"
          ]
        },
        {
          "data": {
            "text/html": [
              "<div id=\"id_179\"> </div>"
            ],
            "text/plain": [
              "<IPython.core.display.HTML object>"
            ]
          },
          "metadata": {},
          "output_type": "display_data"
        },
        {
          "metadata": {
            "tags": null
          },
          "name": "stdout",
          "output_type": "stream",
          "text": [
            "generate_samples: generated 423 samples in 5.789464473724365s\n",
            "Instrument: 179\n"
          ]
        },
        {
          "data": {
            "text/html": [
              "<div id=\"id_180\"> </div>"
            ],
            "text/plain": [
              "<IPython.core.display.HTML object>"
            ]
          },
          "metadata": {},
          "output_type": "display_data"
        },
        {
          "metadata": {
            "tags": null
          },
          "name": "stdout",
          "output_type": "stream",
          "text": [
            "generate_samples: generated 423 samples in 5.749638319015503s\n",
            "Instrument: 180\n"
          ]
        },
        {
          "data": {
            "text/html": [
              "<div id=\"id_181\"> </div>"
            ],
            "text/plain": [
              "<IPython.core.display.HTML object>"
            ]
          },
          "metadata": {},
          "output_type": "display_data"
        },
        {
          "metadata": {
            "tags": null
          },
          "name": "stdout",
          "output_type": "stream",
          "text": [
            "generate_samples: generated 423 samples in 5.763155698776245s\n",
            "Instrument: 181\n"
          ]
        },
        {
          "data": {
            "text/html": [
              "<div id=\"id_182\"> </div>"
            ],
            "text/plain": [
              "<IPython.core.display.HTML object>"
            ]
          },
          "metadata": {},
          "output_type": "display_data"
        },
        {
          "metadata": {
            "tags": null
          },
          "name": "stdout",
          "output_type": "stream",
          "text": [
            "generate_samples: generated 423 samples in 5.751775503158569s\n",
            "Instrument: 182\n"
          ]
        },
        {
          "data": {
            "text/html": [
              "<div id=\"id_183\"> </div>"
            ],
            "text/plain": [
              "<IPython.core.display.HTML object>"
            ]
          },
          "metadata": {},
          "output_type": "display_data"
        },
        {
          "metadata": {
            "tags": null
          },
          "name": "stdout",
          "output_type": "stream",
          "text": [
            "generate_samples: generated 423 samples in 5.753685235977173s\n",
            "Instrument: 183\n"
          ]
        },
        {
          "data": {
            "text/html": [
              "<div id=\"id_184\"> </div>"
            ],
            "text/plain": [
              "<IPython.core.display.HTML object>"
            ]
          },
          "metadata": {},
          "output_type": "display_data"
        },
        {
          "metadata": {
            "tags": null
          },
          "name": "stdout",
          "output_type": "stream",
          "text": [
            "generate_samples: generated 423 samples in 5.7373785972595215s\n",
            "Instrument: 184\n"
          ]
        },
        {
          "data": {
            "text/html": [
              "<div id=\"id_185\"> </div>"
            ],
            "text/plain": [
              "<IPython.core.display.HTML object>"
            ]
          },
          "metadata": {},
          "output_type": "display_data"
        },
        {
          "metadata": {
            "tags": null
          },
          "name": "stdout",
          "output_type": "stream",
          "text": [
            "generate_samples: generated 423 samples in 5.758313417434692s\n",
            "Instrument: 185\n"
          ]
        },
        {
          "data": {
            "text/html": [
              "<div id=\"id_186\"> </div>"
            ],
            "text/plain": [
              "<IPython.core.display.HTML object>"
            ]
          },
          "metadata": {},
          "output_type": "display_data"
        },
        {
          "metadata": {
            "tags": null
          },
          "name": "stdout",
          "output_type": "stream",
          "text": [
            "generate_samples: generated 423 samples in 5.753231763839722s\n",
            "Instrument: 186\n"
          ]
        },
        {
          "data": {
            "text/html": [
              "<div id=\"id_187\"> </div>"
            ],
            "text/plain": [
              "<IPython.core.display.HTML object>"
            ]
          },
          "metadata": {},
          "output_type": "display_data"
        },
        {
          "metadata": {
            "tags": null
          },
          "name": "stdout",
          "output_type": "stream",
          "text": [
            "generate_samples: generated 423 samples in 5.743484258651733s\n",
            "Instrument: 187\n"
          ]
        },
        {
          "data": {
            "text/html": [
              "<div id=\"id_188\"> </div>"
            ],
            "text/plain": [
              "<IPython.core.display.HTML object>"
            ]
          },
          "metadata": {},
          "output_type": "display_data"
        },
        {
          "metadata": {
            "tags": null
          },
          "name": "stdout",
          "output_type": "stream",
          "text": [
            "generate_samples: generated 423 samples in 5.80204439163208s\n",
            "Instrument: 188\n"
          ]
        },
        {
          "data": {
            "text/html": [
              "<div id=\"id_189\"> </div>"
            ],
            "text/plain": [
              "<IPython.core.display.HTML object>"
            ]
          },
          "metadata": {},
          "output_type": "display_data"
        },
        {
          "metadata": {
            "tags": null
          },
          "name": "stdout",
          "output_type": "stream",
          "text": [
            "generate_samples: generated 423 samples in 5.820921182632446s\n",
            "Instrument: 189\n"
          ]
        },
        {
          "data": {
            "text/html": [
              "<div id=\"id_190\"> </div>"
            ],
            "text/plain": [
              "<IPython.core.display.HTML object>"
            ]
          },
          "metadata": {},
          "output_type": "display_data"
        },
        {
          "metadata": {
            "tags": null
          },
          "name": "stdout",
          "output_type": "stream",
          "text": [
            "generate_samples: generated 423 samples in 5.781064033508301s\n",
            "Instrument: 190\n"
          ]
        },
        {
          "data": {
            "text/html": [
              "<div id=\"id_191\"> </div>"
            ],
            "text/plain": [
              "<IPython.core.display.HTML object>"
            ]
          },
          "metadata": {},
          "output_type": "display_data"
        },
        {
          "metadata": {
            "tags": null
          },
          "name": "stdout",
          "output_type": "stream",
          "text": [
            "generate_samples: generated 423 samples in 5.761732816696167s\n",
            "Instrument: 191\n"
          ]
        },
        {
          "data": {
            "text/html": [
              "<div id=\"id_192\"> </div>"
            ],
            "text/plain": [
              "<IPython.core.display.HTML object>"
            ]
          },
          "metadata": {},
          "output_type": "display_data"
        },
        {
          "metadata": {
            "tags": null
          },
          "name": "stdout",
          "output_type": "stream",
          "text": [
            "generate_samples: generated 423 samples in 5.745556116104126s\n",
            "Instrument: 192\n"
          ]
        },
        {
          "data": {
            "text/html": [
              "<div id=\"id_193\"> </div>"
            ],
            "text/plain": [
              "<IPython.core.display.HTML object>"
            ]
          },
          "metadata": {},
          "output_type": "display_data"
        },
        {
          "metadata": {
            "tags": null
          },
          "name": "stdout",
          "output_type": "stream",
          "text": [
            "generate_samples: generated 423 samples in 5.760255575180054s\n",
            "Instrument: 193\n"
          ]
        },
        {
          "data": {
            "text/html": [
              "<div id=\"id_194\"> </div>"
            ],
            "text/plain": [
              "<IPython.core.display.HTML object>"
            ]
          },
          "metadata": {},
          "output_type": "display_data"
        },
        {
          "metadata": {
            "tags": null
          },
          "name": "stdout",
          "output_type": "stream",
          "text": [
            "generate_samples: generated 423 samples in 5.77428412437439s\n",
            "Instrument: 194\n"
          ]
        },
        {
          "data": {
            "text/html": [
              "<div id=\"id_195\"> </div>"
            ],
            "text/plain": [
              "<IPython.core.display.HTML object>"
            ]
          },
          "metadata": {},
          "output_type": "display_data"
        },
        {
          "metadata": {
            "tags": null
          },
          "name": "stdout",
          "output_type": "stream",
          "text": [
            "generate_samples: generated 423 samples in 5.775886058807373s\n",
            "Instrument: 195\n"
          ]
        },
        {
          "data": {
            "text/html": [
              "<div id=\"id_196\"> </div>"
            ],
            "text/plain": [
              "<IPython.core.display.HTML object>"
            ]
          },
          "metadata": {},
          "output_type": "display_data"
        },
        {
          "metadata": {
            "tags": null
          },
          "name": "stdout",
          "output_type": "stream",
          "text": [
            "generate_samples: generated 423 samples in 5.76891827583313s\n",
            "Instrument: 196\n"
          ]
        },
        {
          "data": {
            "text/html": [
              "<div id=\"id_197\"> </div>"
            ],
            "text/plain": [
              "<IPython.core.display.HTML object>"
            ]
          },
          "metadata": {},
          "output_type": "display_data"
        },
        {
          "metadata": {
            "tags": null
          },
          "name": "stdout",
          "output_type": "stream",
          "text": [
            "generate_samples: generated 423 samples in 5.771775007247925s\n",
            "Instrument: 197\n"
          ]
        },
        {
          "data": {
            "text/html": [
              "<div id=\"id_198\"> </div>"
            ],
            "text/plain": [
              "<IPython.core.display.HTML object>"
            ]
          },
          "metadata": {},
          "output_type": "display_data"
        },
        {
          "metadata": {
            "tags": null
          },
          "name": "stdout",
          "output_type": "stream",
          "text": [
            "generate_samples: generated 423 samples in 5.813193321228027s\n",
            "Instrument: 198\n"
          ]
        },
        {
          "data": {
            "text/html": [
              "<div id=\"id_199\"> </div>"
            ],
            "text/plain": [
              "<IPython.core.display.HTML object>"
            ]
          },
          "metadata": {},
          "output_type": "display_data"
        },
        {
          "metadata": {
            "tags": null
          },
          "name": "stdout",
          "output_type": "stream",
          "text": [
            "generate_samples: generated 423 samples in 5.775842905044556s\n",
            "Instrument: 199\n"
          ]
        },
        {
          "data": {
            "text/html": [
              "<div id=\"id_200\"> </div>"
            ],
            "text/plain": [
              "<IPython.core.display.HTML object>"
            ]
          },
          "metadata": {},
          "output_type": "display_data"
        },
        {
          "metadata": {
            "tags": null
          },
          "name": "stdout",
          "output_type": "stream",
          "text": [
            "generate_samples: generated 423 samples in 5.7710607051849365s\n",
            "Instrument: 200\n"
          ]
        },
        {
          "data": {
            "text/html": [
              "<div id=\"id_201\"> </div>"
            ],
            "text/plain": [
              "<IPython.core.display.HTML object>"
            ]
          },
          "metadata": {},
          "output_type": "display_data"
        },
        {
          "metadata": {
            "tags": null
          },
          "name": "stdout",
          "output_type": "stream",
          "text": [
            "generate_samples: generated 423 samples in 5.770224094390869s\n",
            "Instrument: 201\n"
          ]
        },
        {
          "data": {
            "text/html": [
              "<div id=\"id_202\"> </div>"
            ],
            "text/plain": [
              "<IPython.core.display.HTML object>"
            ]
          },
          "metadata": {},
          "output_type": "display_data"
        },
        {
          "metadata": {
            "tags": null
          },
          "name": "stdout",
          "output_type": "stream",
          "text": [
            "generate_samples: generated 423 samples in 5.760904788970947s\n",
            "Instrument: 202\n"
          ]
        },
        {
          "data": {
            "text/html": [
              "<div id=\"id_203\"> </div>"
            ],
            "text/plain": [
              "<IPython.core.display.HTML object>"
            ]
          },
          "metadata": {},
          "output_type": "display_data"
        },
        {
          "metadata": {
            "tags": null
          },
          "name": "stdout",
          "output_type": "stream",
          "text": [
            "generate_samples: generated 423 samples in 5.762779474258423s\n",
            "Instrument: 203\n"
          ]
        },
        {
          "data": {
            "text/html": [
              "<div id=\"id_204\"> </div>"
            ],
            "text/plain": [
              "<IPython.core.display.HTML object>"
            ]
          },
          "metadata": {},
          "output_type": "display_data"
        },
        {
          "metadata": {
            "tags": null
          },
          "name": "stdout",
          "output_type": "stream",
          "text": [
            "generate_samples: generated 423 samples in 5.780957460403442s\n",
            "Instrument: 204\n"
          ]
        },
        {
          "data": {
            "text/html": [
              "<div id=\"id_205\"> </div>"
            ],
            "text/plain": [
              "<IPython.core.display.HTML object>"
            ]
          },
          "metadata": {},
          "output_type": "display_data"
        },
        {
          "metadata": {
            "tags": null
          },
          "name": "stdout",
          "output_type": "stream",
          "text": [
            "generate_samples: generated 423 samples in 5.7598395347595215s\n",
            "Instrument: 205\n"
          ]
        },
        {
          "data": {
            "text/html": [
              "<div id=\"id_206\"> </div>"
            ],
            "text/plain": [
              "<IPython.core.display.HTML object>"
            ]
          },
          "metadata": {},
          "output_type": "display_data"
        },
        {
          "metadata": {
            "tags": null
          },
          "name": "stdout",
          "output_type": "stream",
          "text": [
            "generate_samples: generated 423 samples in 5.771730184555054s\n",
            "Instrument: 206\n"
          ]
        },
        {
          "data": {
            "text/html": [
              "<div id=\"id_207\"> </div>"
            ],
            "text/plain": [
              "<IPython.core.display.HTML object>"
            ]
          },
          "metadata": {},
          "output_type": "display_data"
        },
        {
          "metadata": {
            "tags": null
          },
          "name": "stdout",
          "output_type": "stream",
          "text": [
            "generate_samples: generated 423 samples in 5.762551784515381s\n",
            "Instrument: 207\n"
          ]
        },
        {
          "data": {
            "text/html": [
              "<div id=\"id_208\"> </div>"
            ],
            "text/plain": [
              "<IPython.core.display.HTML object>"
            ]
          },
          "metadata": {},
          "output_type": "display_data"
        },
        {
          "metadata": {
            "tags": null
          },
          "name": "stdout",
          "output_type": "stream",
          "text": [
            "generate_samples: generated 423 samples in 5.753710508346558s\n",
            "Instrument: 208\n"
          ]
        },
        {
          "data": {
            "text/html": [
              "<div id=\"id_209\"> </div>"
            ],
            "text/plain": [
              "<IPython.core.display.HTML object>"
            ]
          },
          "metadata": {},
          "output_type": "display_data"
        },
        {
          "metadata": {
            "tags": null
          },
          "name": "stdout",
          "output_type": "stream",
          "text": [
            "generate_samples: generated 423 samples in 5.763306379318237s\n",
            "Instrument: 209\n"
          ]
        },
        {
          "data": {
            "text/html": [
              "<div id=\"id_210\"> </div>"
            ],
            "text/plain": [
              "<IPython.core.display.HTML object>"
            ]
          },
          "metadata": {},
          "output_type": "display_data"
        },
        {
          "metadata": {
            "tags": null
          },
          "name": "stdout",
          "output_type": "stream",
          "text": [
            "generate_samples: generated 423 samples in 5.796665668487549s\n",
            "Instrument: 210\n"
          ]
        },
        {
          "data": {
            "text/html": [
              "<div id=\"id_211\"> </div>"
            ],
            "text/plain": [
              "<IPython.core.display.HTML object>"
            ]
          },
          "metadata": {},
          "output_type": "display_data"
        },
        {
          "metadata": {
            "tags": null
          },
          "name": "stdout",
          "output_type": "stream",
          "text": [
            "generate_samples: generated 423 samples in 5.847654819488525s\n",
            "Instrument: 211\n"
          ]
        },
        {
          "data": {
            "text/html": [
              "<div id=\"id_212\"> </div>"
            ],
            "text/plain": [
              "<IPython.core.display.HTML object>"
            ]
          },
          "metadata": {},
          "output_type": "display_data"
        },
        {
          "metadata": {
            "tags": null
          },
          "name": "stdout",
          "output_type": "stream",
          "text": [
            "generate_samples: generated 423 samples in 5.754042863845825s\n",
            "Instrument: 212\n"
          ]
        },
        {
          "data": {
            "text/html": [
              "<div id=\"id_213\"> </div>"
            ],
            "text/plain": [
              "<IPython.core.display.HTML object>"
            ]
          },
          "metadata": {},
          "output_type": "display_data"
        },
        {
          "metadata": {
            "tags": null
          },
          "name": "stdout",
          "output_type": "stream",
          "text": [
            "generate_samples: generated 423 samples in 5.753066778182983s\n",
            "Instrument: 213\n"
          ]
        },
        {
          "data": {
            "text/html": [
              "<div id=\"id_214\"> </div>"
            ],
            "text/plain": [
              "<IPython.core.display.HTML object>"
            ]
          },
          "metadata": {},
          "output_type": "display_data"
        },
        {
          "metadata": {
            "tags": null
          },
          "name": "stdout",
          "output_type": "stream",
          "text": [
            "generate_samples: generated 423 samples in 5.77348256111145s\n",
            "Instrument: 214\n"
          ]
        },
        {
          "data": {
            "text/html": [
              "<div id=\"id_215\"> </div>"
            ],
            "text/plain": [
              "<IPython.core.display.HTML object>"
            ]
          },
          "metadata": {},
          "output_type": "display_data"
        },
        {
          "metadata": {
            "tags": null
          },
          "name": "stdout",
          "output_type": "stream",
          "text": [
            "generate_samples: generated 423 samples in 5.786492586135864s\n",
            "Instrument: 215\n"
          ]
        },
        {
          "data": {
            "text/html": [
              "<div id=\"id_216\"> </div>"
            ],
            "text/plain": [
              "<IPython.core.display.HTML object>"
            ]
          },
          "metadata": {},
          "output_type": "display_data"
        },
        {
          "metadata": {
            "tags": null
          },
          "name": "stdout",
          "output_type": "stream",
          "text": [
            "generate_samples: generated 423 samples in 5.778759479522705s\n",
            "Instrument: 216\n"
          ]
        },
        {
          "data": {
            "text/html": [
              "<div id=\"id_217\"> </div>"
            ],
            "text/plain": [
              "<IPython.core.display.HTML object>"
            ]
          },
          "metadata": {},
          "output_type": "display_data"
        },
        {
          "metadata": {
            "tags": null
          },
          "name": "stdout",
          "output_type": "stream",
          "text": [
            "generate_samples: generated 423 samples in 5.773576259613037s\n",
            "Instrument: 217\n"
          ]
        },
        {
          "data": {
            "text/html": [
              "<div id=\"id_218\"> </div>"
            ],
            "text/plain": [
              "<IPython.core.display.HTML object>"
            ]
          },
          "metadata": {},
          "output_type": "display_data"
        },
        {
          "metadata": {
            "tags": null
          },
          "name": "stdout",
          "output_type": "stream",
          "text": [
            "generate_samples: generated 423 samples in 5.772813081741333s\n",
            "Instrument: 218\n"
          ]
        },
        {
          "data": {
            "text/html": [
              "<div id=\"id_219\"> </div>"
            ],
            "text/plain": [
              "<IPython.core.display.HTML object>"
            ]
          },
          "metadata": {},
          "output_type": "display_data"
        },
        {
          "metadata": {
            "tags": null
          },
          "name": "stdout",
          "output_type": "stream",
          "text": [
            "generate_samples: generated 423 samples in 5.7727367877960205s\n",
            "Instrument: 219\n"
          ]
        },
        {
          "data": {
            "text/html": [
              "<div id=\"id_220\"> </div>"
            ],
            "text/plain": [
              "<IPython.core.display.HTML object>"
            ]
          },
          "metadata": {},
          "output_type": "display_data"
        },
        {
          "metadata": {
            "tags": null
          },
          "name": "stdout",
          "output_type": "stream",
          "text": [
            "generate_samples: generated 423 samples in 5.784246206283569s\n",
            "Instrument: 220\n"
          ]
        },
        {
          "data": {
            "text/html": [
              "<div id=\"id_221\"> </div>"
            ],
            "text/plain": [
              "<IPython.core.display.HTML object>"
            ]
          },
          "metadata": {},
          "output_type": "display_data"
        },
        {
          "metadata": {
            "tags": null
          },
          "name": "stdout",
          "output_type": "stream",
          "text": [
            "generate_samples: generated 423 samples in 5.790890216827393s\n",
            "Instrument: 221\n"
          ]
        },
        {
          "data": {
            "text/html": [
              "<div id=\"id_222\"> </div>"
            ],
            "text/plain": [
              "<IPython.core.display.HTML object>"
            ]
          },
          "metadata": {},
          "output_type": "display_data"
        },
        {
          "metadata": {
            "tags": null
          },
          "name": "stdout",
          "output_type": "stream",
          "text": [
            "generate_samples: generated 423 samples in 5.758375406265259s\n",
            "Instrument: 222\n"
          ]
        },
        {
          "data": {
            "text/html": [
              "<div id=\"id_223\"> </div>"
            ],
            "text/plain": [
              "<IPython.core.display.HTML object>"
            ]
          },
          "metadata": {},
          "output_type": "display_data"
        },
        {
          "metadata": {
            "tags": null
          },
          "name": "stdout",
          "output_type": "stream",
          "text": [
            "generate_samples: generated 423 samples in 5.76799464225769s\n",
            "Instrument: 223\n"
          ]
        },
        {
          "data": {
            "text/html": [
              "<div id=\"id_224\"> </div>"
            ],
            "text/plain": [
              "<IPython.core.display.HTML object>"
            ]
          },
          "metadata": {},
          "output_type": "display_data"
        },
        {
          "metadata": {
            "tags": null
          },
          "name": "stdout",
          "output_type": "stream",
          "text": [
            "generate_samples: generated 423 samples in 5.7821431159973145s\n",
            "Instrument: 224\n"
          ]
        },
        {
          "data": {
            "text/html": [
              "<div id=\"id_225\"> </div>"
            ],
            "text/plain": [
              "<IPython.core.display.HTML object>"
            ]
          },
          "metadata": {},
          "output_type": "display_data"
        },
        {
          "metadata": {
            "tags": null
          },
          "name": "stdout",
          "output_type": "stream",
          "text": [
            "generate_samples: generated 423 samples in 5.78000545501709s\n",
            "Instrument: 225\n"
          ]
        },
        {
          "data": {
            "text/html": [
              "<div id=\"id_226\"> </div>"
            ],
            "text/plain": [
              "<IPython.core.display.HTML object>"
            ]
          },
          "metadata": {},
          "output_type": "display_data"
        },
        {
          "metadata": {
            "tags": null
          },
          "name": "stdout",
          "output_type": "stream",
          "text": [
            "generate_samples: generated 423 samples in 5.763223648071289s\n",
            "Instrument: 226\n"
          ]
        },
        {
          "data": {
            "text/html": [
              "<div id=\"id_227\"> </div>"
            ],
            "text/plain": [
              "<IPython.core.display.HTML object>"
            ]
          },
          "metadata": {},
          "output_type": "display_data"
        },
        {
          "metadata": {
            "tags": null
          },
          "name": "stdout",
          "output_type": "stream",
          "text": [
            "generate_samples: generated 423 samples in 5.767110347747803s\n",
            "Instrument: 227\n"
          ]
        },
        {
          "data": {
            "text/html": [
              "<div id=\"id_228\"> </div>"
            ],
            "text/plain": [
              "<IPython.core.display.HTML object>"
            ]
          },
          "metadata": {},
          "output_type": "display_data"
        },
        {
          "metadata": {
            "tags": null
          },
          "name": "stdout",
          "output_type": "stream",
          "text": [
            "generate_samples: generated 423 samples in 5.788634777069092s\n",
            "Instrument: 228\n"
          ]
        },
        {
          "data": {
            "text/html": [
              "<div id=\"id_229\"> </div>"
            ],
            "text/plain": [
              "<IPython.core.display.HTML object>"
            ]
          },
          "metadata": {},
          "output_type": "display_data"
        },
        {
          "metadata": {
            "tags": null
          },
          "name": "stdout",
          "output_type": "stream",
          "text": [
            "generate_samples: generated 423 samples in 5.7732014656066895s\n",
            "Instrument: 229\n"
          ]
        },
        {
          "data": {
            "text/html": [
              "<div id=\"id_230\"> </div>"
            ],
            "text/plain": [
              "<IPython.core.display.HTML object>"
            ]
          },
          "metadata": {},
          "output_type": "display_data"
        },
        {
          "metadata": {
            "tags": null
          },
          "name": "stdout",
          "output_type": "stream",
          "text": [
            "generate_samples: generated 423 samples in 5.7853593826293945s\n",
            "Instrument: 230\n"
          ]
        },
        {
          "data": {
            "text/html": [
              "<div id=\"id_231\"> </div>"
            ],
            "text/plain": [
              "<IPython.core.display.HTML object>"
            ]
          },
          "metadata": {},
          "output_type": "display_data"
        },
        {
          "metadata": {
            "tags": null
          },
          "name": "stdout",
          "output_type": "stream",
          "text": [
            "generate_samples: generated 423 samples in 5.753954887390137s\n",
            "Instrument: 231\n"
          ]
        },
        {
          "data": {
            "text/html": [
              "<div id=\"id_232\"> </div>"
            ],
            "text/plain": [
              "<IPython.core.display.HTML object>"
            ]
          },
          "metadata": {},
          "output_type": "display_data"
        },
        {
          "metadata": {
            "tags": null
          },
          "name": "stdout",
          "output_type": "stream",
          "text": [
            "generate_samples: generated 423 samples in 5.763977527618408s\n",
            "Instrument: 232\n"
          ]
        },
        {
          "data": {
            "text/html": [
              "<div id=\"id_233\"> </div>"
            ],
            "text/plain": [
              "<IPython.core.display.HTML object>"
            ]
          },
          "metadata": {},
          "output_type": "display_data"
        },
        {
          "metadata": {
            "tags": null
          },
          "name": "stdout",
          "output_type": "stream",
          "text": [
            "generate_samples: generated 423 samples in 5.758548736572266s\n",
            "Instrument: 233\n"
          ]
        },
        {
          "data": {
            "text/html": [
              "<div id=\"id_234\"> </div>"
            ],
            "text/plain": [
              "<IPython.core.display.HTML object>"
            ]
          },
          "metadata": {},
          "output_type": "display_data"
        },
        {
          "metadata": {
            "tags": null
          },
          "name": "stdout",
          "output_type": "stream",
          "text": [
            "generate_samples: generated 423 samples in 5.767057418823242s\n",
            "Instrument: 234\n"
          ]
        },
        {
          "data": {
            "text/html": [
              "<div id=\"id_235\"> </div>"
            ],
            "text/plain": [
              "<IPython.core.display.HTML object>"
            ]
          },
          "metadata": {},
          "output_type": "display_data"
        },
        {
          "metadata": {
            "tags": null
          },
          "name": "stdout",
          "output_type": "stream",
          "text": [
            "generate_samples: generated 423 samples in 5.765614748001099s\n",
            "Instrument: 235\n"
          ]
        },
        {
          "data": {
            "text/html": [
              "<div id=\"id_236\"> </div>"
            ],
            "text/plain": [
              "<IPython.core.display.HTML object>"
            ]
          },
          "metadata": {},
          "output_type": "display_data"
        },
        {
          "metadata": {
            "tags": null
          },
          "name": "stdout",
          "output_type": "stream",
          "text": [
            "generate_samples: generated 423 samples in 5.757251977920532s\n",
            "Instrument: 236\n"
          ]
        },
        {
          "data": {
            "text/html": [
              "<div id=\"id_237\"> </div>"
            ],
            "text/plain": [
              "<IPython.core.display.HTML object>"
            ]
          },
          "metadata": {},
          "output_type": "display_data"
        },
        {
          "metadata": {
            "tags": null
          },
          "name": "stdout",
          "output_type": "stream",
          "text": [
            "generate_samples: generated 423 samples in 5.749104022979736s\n",
            "Instrument: 237\n"
          ]
        },
        {
          "data": {
            "text/html": [
              "<div id=\"id_238\"> </div>"
            ],
            "text/plain": [
              "<IPython.core.display.HTML object>"
            ]
          },
          "metadata": {},
          "output_type": "display_data"
        },
        {
          "metadata": {
            "tags": null
          },
          "name": "stdout",
          "output_type": "stream",
          "text": [
            "generate_samples: generated 423 samples in 5.761815786361694s\n",
            "Instrument: 238\n"
          ]
        },
        {
          "data": {
            "text/html": [
              "<div id=\"id_239\"> </div>"
            ],
            "text/plain": [
              "<IPython.core.display.HTML object>"
            ]
          },
          "metadata": {},
          "output_type": "display_data"
        },
        {
          "metadata": {
            "tags": null
          },
          "name": "stdout",
          "output_type": "stream",
          "text": [
            "generate_samples: generated 423 samples in 5.757967472076416s\n",
            "Instrument: 239\n"
          ]
        },
        {
          "data": {
            "text/html": [
              "<div id=\"id_240\"> </div>"
            ],
            "text/plain": [
              "<IPython.core.display.HTML object>"
            ]
          },
          "metadata": {},
          "output_type": "display_data"
        },
        {
          "metadata": {
            "tags": null
          },
          "name": "stdout",
          "output_type": "stream",
          "text": [
            "generate_samples: generated 423 samples in 5.756089210510254s\n",
            "Instrument: 240\n"
          ]
        },
        {
          "data": {
            "text/html": [
              "<div id=\"id_241\"> </div>"
            ],
            "text/plain": [
              "<IPython.core.display.HTML object>"
            ]
          },
          "metadata": {},
          "output_type": "display_data"
        },
        {
          "metadata": {
            "tags": null
          },
          "name": "stdout",
          "output_type": "stream",
          "text": [
            "generate_samples: generated 423 samples in 5.785510540008545s\n",
            "Instrument: 241\n"
          ]
        },
        {
          "data": {
            "text/html": [
              "<div id=\"id_242\"> </div>"
            ],
            "text/plain": [
              "<IPython.core.display.HTML object>"
            ]
          },
          "metadata": {},
          "output_type": "display_data"
        },
        {
          "metadata": {
            "tags": null
          },
          "name": "stdout",
          "output_type": "stream",
          "text": [
            "generate_samples: generated 423 samples in 5.720414638519287s\n",
            "Instrument: 242\n"
          ]
        },
        {
          "data": {
            "text/html": [
              "<div id=\"id_243\"> </div>"
            ],
            "text/plain": [
              "<IPython.core.display.HTML object>"
            ]
          },
          "metadata": {},
          "output_type": "display_data"
        },
        {
          "metadata": {
            "tags": null
          },
          "name": "stdout",
          "output_type": "stream",
          "text": [
            "generate_samples: generated 423 samples in 5.751399040222168s\n",
            "Instrument: 243\n"
          ]
        },
        {
          "data": {
            "text/html": [
              "<div id=\"id_244\"> </div>"
            ],
            "text/plain": [
              "<IPython.core.display.HTML object>"
            ]
          },
          "metadata": {},
          "output_type": "display_data"
        },
        {
          "metadata": {
            "tags": null
          },
          "name": "stdout",
          "output_type": "stream",
          "text": [
            "generate_samples: generated 423 samples in 5.741881847381592s\n",
            "Instrument: 244\n"
          ]
        },
        {
          "data": {
            "text/html": [
              "<div id=\"id_245\"> </div>"
            ],
            "text/plain": [
              "<IPython.core.display.HTML object>"
            ]
          },
          "metadata": {},
          "output_type": "display_data"
        },
        {
          "metadata": {
            "tags": null
          },
          "name": "stdout",
          "output_type": "stream",
          "text": [
            "generate_samples: generated 423 samples in 5.7403717041015625s\n",
            "Instrument: 245\n"
          ]
        },
        {
          "data": {
            "text/html": [
              "<div id=\"id_246\"> </div>"
            ],
            "text/plain": [
              "<IPython.core.display.HTML object>"
            ]
          },
          "metadata": {},
          "output_type": "display_data"
        },
        {
          "metadata": {
            "tags": null
          },
          "name": "stdout",
          "output_type": "stream",
          "text": [
            "generate_samples: generated 423 samples in 5.7663798332214355s\n",
            "Instrument: 246\n"
          ]
        },
        {
          "data": {
            "text/html": [
              "<div id=\"id_247\"> </div>"
            ],
            "text/plain": [
              "<IPython.core.display.HTML object>"
            ]
          },
          "metadata": {},
          "output_type": "display_data"
        },
        {
          "metadata": {
            "tags": null
          },
          "name": "stdout",
          "output_type": "stream",
          "text": [
            "generate_samples: generated 423 samples in 5.745751619338989s\n",
            "Instrument: 247\n"
          ]
        },
        {
          "data": {
            "text/html": [
              "<div id=\"id_248\"> </div>"
            ],
            "text/plain": [
              "<IPython.core.display.HTML object>"
            ]
          },
          "metadata": {},
          "output_type": "display_data"
        },
        {
          "metadata": {
            "tags": null
          },
          "name": "stdout",
          "output_type": "stream",
          "text": [
            "generate_samples: generated 423 samples in 5.761074542999268s\n",
            "Instrument: 248\n"
          ]
        },
        {
          "data": {
            "text/html": [
              "<div id=\"id_249\"> </div>"
            ],
            "text/plain": [
              "<IPython.core.display.HTML object>"
            ]
          },
          "metadata": {},
          "output_type": "display_data"
        },
        {
          "metadata": {
            "tags": null
          },
          "name": "stdout",
          "output_type": "stream",
          "text": [
            "generate_samples: generated 423 samples in 5.7381134033203125s\n",
            "Instrument: 249\n"
          ]
        },
        {
          "data": {
            "text/html": [
              "<div id=\"id_250\"> </div>"
            ],
            "text/plain": [
              "<IPython.core.display.HTML object>"
            ]
          },
          "metadata": {},
          "output_type": "display_data"
        },
        {
          "metadata": {
            "tags": null
          },
          "name": "stdout",
          "output_type": "stream",
          "text": [
            "generate_samples: generated 423 samples in 5.763533115386963s\n",
            "Instrument: 250\n"
          ]
        },
        {
          "data": {
            "text/html": [
              "<div id=\"id_251\"> </div>"
            ],
            "text/plain": [
              "<IPython.core.display.HTML object>"
            ]
          },
          "metadata": {},
          "output_type": "display_data"
        },
        {
          "metadata": {
            "tags": null
          },
          "name": "stdout",
          "output_type": "stream",
          "text": [
            "generate_samples: generated 423 samples in 5.776122093200684s\n",
            "Instrument: 251\n"
          ]
        },
        {
          "data": {
            "text/html": [
              "<div id=\"id_252\"> </div>"
            ],
            "text/plain": [
              "<IPython.core.display.HTML object>"
            ]
          },
          "metadata": {},
          "output_type": "display_data"
        },
        {
          "metadata": {
            "tags": null
          },
          "name": "stdout",
          "output_type": "stream",
          "text": [
            "generate_samples: generated 423 samples in 5.761768579483032s\n",
            "Instrument: 252\n"
          ]
        },
        {
          "data": {
            "text/html": [
              "<div id=\"id_253\"> </div>"
            ],
            "text/plain": [
              "<IPython.core.display.HTML object>"
            ]
          },
          "metadata": {},
          "output_type": "display_data"
        },
        {
          "metadata": {
            "tags": null
          },
          "name": "stdout",
          "output_type": "stream",
          "text": [
            "generate_samples: generated 423 samples in 5.766383647918701s\n",
            "Instrument: 253\n"
          ]
        },
        {
          "data": {
            "text/html": [
              "<div id=\"id_254\"> </div>"
            ],
            "text/plain": [
              "<IPython.core.display.HTML object>"
            ]
          },
          "metadata": {},
          "output_type": "display_data"
        },
        {
          "metadata": {
            "tags": null
          },
          "name": "stdout",
          "output_type": "stream",
          "text": [
            "generate_samples: generated 423 samples in 5.7533063888549805s\n",
            "Instrument: 254\n"
          ]
        },
        {
          "data": {
            "text/html": [
              "<div id=\"id_255\"> </div>"
            ],
            "text/plain": [
              "<IPython.core.display.HTML object>"
            ]
          },
          "metadata": {},
          "output_type": "display_data"
        },
        {
          "metadata": {
            "tags": null
          },
          "name": "stdout",
          "output_type": "stream",
          "text": [
            "generate_samples: generated 423 samples in 5.826898097991943s\n",
            "Instrument: 255\n"
          ]
        },
        {
          "data": {
            "text/html": [
              "<div id=\"id_256\"> </div>"
            ],
            "text/plain": [
              "<IPython.core.display.HTML object>"
            ]
          },
          "metadata": {},
          "output_type": "display_data"
        },
        {
          "metadata": {
            "tags": null
          },
          "name": "stdout",
          "output_type": "stream",
          "text": [
            "generate_samples: generated 423 samples in 5.756032705307007s\n",
            "Instrument: 256\n"
          ]
        },
        {
          "data": {
            "text/html": [
              "<div id=\"id_257\"> </div>"
            ],
            "text/plain": [
              "<IPython.core.display.HTML object>"
            ]
          },
          "metadata": {},
          "output_type": "display_data"
        },
        {
          "metadata": {
            "tags": null
          },
          "name": "stdout",
          "output_type": "stream",
          "text": [
            "generate_samples: generated 423 samples in 5.757184267044067s\n",
            "Instrument: 257\n"
          ]
        },
        {
          "data": {
            "text/html": [
              "<div id=\"id_258\"> </div>"
            ],
            "text/plain": [
              "<IPython.core.display.HTML object>"
            ]
          },
          "metadata": {},
          "output_type": "display_data"
        },
        {
          "metadata": {
            "tags": null
          },
          "name": "stdout",
          "output_type": "stream",
          "text": [
            "generate_samples: generated 423 samples in 5.763588905334473s\n",
            "Instrument: 258\n"
          ]
        },
        {
          "data": {
            "text/html": [
              "<div id=\"id_259\"> </div>"
            ],
            "text/plain": [
              "<IPython.core.display.HTML object>"
            ]
          },
          "metadata": {},
          "output_type": "display_data"
        },
        {
          "metadata": {
            "tags": null
          },
          "name": "stdout",
          "output_type": "stream",
          "text": [
            "generate_samples: generated 423 samples in 5.761716365814209s\n",
            "Instrument: 259\n"
          ]
        },
        {
          "data": {
            "text/html": [
              "<div id=\"id_260\"> </div>"
            ],
            "text/plain": [
              "<IPython.core.display.HTML object>"
            ]
          },
          "metadata": {},
          "output_type": "display_data"
        },
        {
          "metadata": {
            "tags": null
          },
          "name": "stdout",
          "output_type": "stream",
          "text": [
            "generate_samples: generated 423 samples in 5.781614303588867s\n",
            "Instrument: 260\n"
          ]
        },
        {
          "data": {
            "text/html": [
              "<div id=\"id_261\"> </div>"
            ],
            "text/plain": [
              "<IPython.core.display.HTML object>"
            ]
          },
          "metadata": {},
          "output_type": "display_data"
        },
        {
          "metadata": {
            "tags": null
          },
          "name": "stdout",
          "output_type": "stream",
          "text": [
            "generate_samples: generated 423 samples in 5.782121658325195s\n",
            "Instrument: 261\n"
          ]
        },
        {
          "data": {
            "text/html": [
              "<div id=\"id_262\"> </div>"
            ],
            "text/plain": [
              "<IPython.core.display.HTML object>"
            ]
          },
          "metadata": {},
          "output_type": "display_data"
        },
        {
          "metadata": {
            "tags": null
          },
          "name": "stdout",
          "output_type": "stream",
          "text": [
            "generate_samples: generated 423 samples in 5.808135747909546s\n",
            "Instrument: 262\n"
          ]
        },
        {
          "data": {
            "text/html": [
              "<div id=\"id_263\"> </div>"
            ],
            "text/plain": [
              "<IPython.core.display.HTML object>"
            ]
          },
          "metadata": {},
          "output_type": "display_data"
        },
        {
          "metadata": {
            "tags": null
          },
          "name": "stdout",
          "output_type": "stream",
          "text": [
            "generate_samples: generated 423 samples in 5.768068313598633s\n",
            "Instrument: 263\n"
          ]
        },
        {
          "data": {
            "text/html": [
              "<div id=\"id_264\"> </div>"
            ],
            "text/plain": [
              "<IPython.core.display.HTML object>"
            ]
          },
          "metadata": {},
          "output_type": "display_data"
        },
        {
          "metadata": {
            "tags": null
          },
          "name": "stdout",
          "output_type": "stream",
          "text": [
            "generate_samples: generated 423 samples in 5.745436906814575s\n",
            "Instrument: 264\n"
          ]
        },
        {
          "data": {
            "text/html": [
              "<div id=\"id_265\"> </div>"
            ],
            "text/plain": [
              "<IPython.core.display.HTML object>"
            ]
          },
          "metadata": {},
          "output_type": "display_data"
        },
        {
          "metadata": {
            "tags": null
          },
          "name": "stdout",
          "output_type": "stream",
          "text": [
            "generate_samples: generated 423 samples in 5.764561891555786s\n",
            "Instrument: 265\n"
          ]
        },
        {
          "data": {
            "text/html": [
              "<div id=\"id_266\"> </div>"
            ],
            "text/plain": [
              "<IPython.core.display.HTML object>"
            ]
          },
          "metadata": {},
          "output_type": "display_data"
        },
        {
          "metadata": {
            "tags": null
          },
          "name": "stdout",
          "output_type": "stream",
          "text": [
            "generate_samples: generated 423 samples in 5.75911808013916s\n",
            "Instrument: 266\n"
          ]
        },
        {
          "data": {
            "text/html": [
              "<div id=\"id_267\"> </div>"
            ],
            "text/plain": [
              "<IPython.core.display.HTML object>"
            ]
          },
          "metadata": {},
          "output_type": "display_data"
        },
        {
          "metadata": {
            "tags": null
          },
          "name": "stdout",
          "output_type": "stream",
          "text": [
            "generate_samples: generated 423 samples in 5.770403861999512s\n",
            "Instrument: 267\n"
          ]
        },
        {
          "data": {
            "text/html": [
              "<div id=\"id_268\"> </div>"
            ],
            "text/plain": [
              "<IPython.core.display.HTML object>"
            ]
          },
          "metadata": {},
          "output_type": "display_data"
        },
        {
          "metadata": {
            "tags": null
          },
          "name": "stdout",
          "output_type": "stream",
          "text": [
            "generate_samples: generated 423 samples in 5.760480165481567s\n",
            "Instrument: 268\n"
          ]
        },
        {
          "data": {
            "text/html": [
              "<div id=\"id_269\"> </div>"
            ],
            "text/plain": [
              "<IPython.core.display.HTML object>"
            ]
          },
          "metadata": {},
          "output_type": "display_data"
        },
        {
          "metadata": {
            "tags": null
          },
          "name": "stdout",
          "output_type": "stream",
          "text": [
            "generate_samples: generated 423 samples in 5.780217885971069s\n",
            "Instrument: 269\n"
          ]
        },
        {
          "data": {
            "text/html": [
              "<div id=\"id_270\"> </div>"
            ],
            "text/plain": [
              "<IPython.core.display.HTML object>"
            ]
          },
          "metadata": {},
          "output_type": "display_data"
        },
        {
          "metadata": {
            "tags": null
          },
          "name": "stdout",
          "output_type": "stream",
          "text": [
            "generate_samples: generated 423 samples in 5.77035117149353s\n",
            "Instrument: 270\n"
          ]
        },
        {
          "data": {
            "text/html": [
              "<div id=\"id_271\"> </div>"
            ],
            "text/plain": [
              "<IPython.core.display.HTML object>"
            ]
          },
          "metadata": {},
          "output_type": "display_data"
        },
        {
          "metadata": {
            "tags": null
          },
          "name": "stdout",
          "output_type": "stream",
          "text": [
            "generate_samples: generated 423 samples in 5.770166397094727s\n",
            "Instrument: 271\n"
          ]
        },
        {
          "data": {
            "text/html": [
              "<div id=\"id_272\"> </div>"
            ],
            "text/plain": [
              "<IPython.core.display.HTML object>"
            ]
          },
          "metadata": {},
          "output_type": "display_data"
        },
        {
          "metadata": {
            "tags": null
          },
          "name": "stdout",
          "output_type": "stream",
          "text": [
            "generate_samples: generated 423 samples in 5.780075788497925s\n",
            "Instrument: 272\n"
          ]
        },
        {
          "data": {
            "text/html": [
              "<div id=\"id_273\"> </div>"
            ],
            "text/plain": [
              "<IPython.core.display.HTML object>"
            ]
          },
          "metadata": {},
          "output_type": "display_data"
        },
        {
          "metadata": {
            "tags": null
          },
          "name": "stdout",
          "output_type": "stream",
          "text": [
            "generate_samples: generated 423 samples in 5.776930809020996s\n",
            "Instrument: 273\n"
          ]
        },
        {
          "data": {
            "text/html": [
              "<div id=\"id_274\"> </div>"
            ],
            "text/plain": [
              "<IPython.core.display.HTML object>"
            ]
          },
          "metadata": {},
          "output_type": "display_data"
        },
        {
          "metadata": {
            "tags": null
          },
          "name": "stdout",
          "output_type": "stream",
          "text": [
            "generate_samples: generated 423 samples in 5.771005630493164s\n",
            "Instrument: 274\n"
          ]
        },
        {
          "data": {
            "text/html": [
              "<div id=\"id_275\"> </div>"
            ],
            "text/plain": [
              "<IPython.core.display.HTML object>"
            ]
          },
          "metadata": {},
          "output_type": "display_data"
        },
        {
          "metadata": {
            "tags": null
          },
          "name": "stdout",
          "output_type": "stream",
          "text": [
            "generate_samples: generated 423 samples in 5.765467882156372s\n",
            "Instrument: 275\n"
          ]
        },
        {
          "data": {
            "text/html": [
              "<div id=\"id_276\"> </div>"
            ],
            "text/plain": [
              "<IPython.core.display.HTML object>"
            ]
          },
          "metadata": {},
          "output_type": "display_data"
        },
        {
          "metadata": {
            "tags": null
          },
          "name": "stdout",
          "output_type": "stream",
          "text": [
            "generate_samples: generated 423 samples in 5.77597451210022s\n",
            "Instrument: 276\n"
          ]
        },
        {
          "data": {
            "text/html": [
              "<div id=\"id_277\"> </div>"
            ],
            "text/plain": [
              "<IPython.core.display.HTML object>"
            ]
          },
          "metadata": {},
          "output_type": "display_data"
        },
        {
          "metadata": {
            "tags": null
          },
          "name": "stdout",
          "output_type": "stream",
          "text": [
            "generate_samples: generated 423 samples in 5.758730888366699s\n",
            "Instrument: 277\n"
          ]
        },
        {
          "data": {
            "text/html": [
              "<div id=\"id_278\"> </div>"
            ],
            "text/plain": [
              "<IPython.core.display.HTML object>"
            ]
          },
          "metadata": {},
          "output_type": "display_data"
        },
        {
          "metadata": {
            "tags": null
          },
          "name": "stdout",
          "output_type": "stream",
          "text": [
            "generate_samples: generated 423 samples in 5.75436806678772s\n",
            "Instrument: 278\n"
          ]
        },
        {
          "data": {
            "text/html": [
              "<div id=\"id_279\"> </div>"
            ],
            "text/plain": [
              "<IPython.core.display.HTML object>"
            ]
          },
          "metadata": {},
          "output_type": "display_data"
        },
        {
          "metadata": {
            "tags": null
          },
          "name": "stdout",
          "output_type": "stream",
          "text": [
            "generate_samples: generated 423 samples in 5.739287853240967s\n",
            "Instrument: 279\n"
          ]
        },
        {
          "data": {
            "text/html": [
              "<div id=\"id_280\"> </div>"
            ],
            "text/plain": [
              "<IPython.core.display.HTML object>"
            ]
          },
          "metadata": {},
          "output_type": "display_data"
        },
        {
          "metadata": {
            "tags": null
          },
          "name": "stdout",
          "output_type": "stream",
          "text": [
            "generate_samples: generated 423 samples in 5.767557859420776s\n",
            "Instrument: 280\n"
          ]
        },
        {
          "data": {
            "text/html": [
              "<div id=\"id_281\"> </div>"
            ],
            "text/plain": [
              "<IPython.core.display.HTML object>"
            ]
          },
          "metadata": {},
          "output_type": "display_data"
        },
        {
          "metadata": {
            "tags": null
          },
          "name": "stdout",
          "output_type": "stream",
          "text": [
            "generate_samples: generated 423 samples in 5.760490655899048s\n",
            "Instrument: 281\n"
          ]
        },
        {
          "data": {
            "text/html": [
              "<div id=\"id_282\"> </div>"
            ],
            "text/plain": [
              "<IPython.core.display.HTML object>"
            ]
          },
          "metadata": {},
          "output_type": "display_data"
        },
        {
          "metadata": {
            "tags": null
          },
          "name": "stdout",
          "output_type": "stream",
          "text": [
            "generate_samples: generated 423 samples in 5.775899171829224s\n",
            "Instrument: 282\n"
          ]
        },
        {
          "data": {
            "text/html": [
              "<div id=\"id_283\"> </div>"
            ],
            "text/plain": [
              "<IPython.core.display.HTML object>"
            ]
          },
          "metadata": {},
          "output_type": "display_data"
        },
        {
          "metadata": {
            "tags": null
          },
          "name": "stdout",
          "output_type": "stream",
          "text": [
            "generate_samples: generated 423 samples in 5.766969442367554s\n",
            "Instrument: 283\n"
          ]
        },
        {
          "data": {
            "text/html": [
              "<div id=\"id_284\"> </div>"
            ],
            "text/plain": [
              "<IPython.core.display.HTML object>"
            ]
          },
          "metadata": {},
          "output_type": "display_data"
        },
        {
          "metadata": {
            "tags": null
          },
          "name": "stdout",
          "output_type": "stream",
          "text": [
            "generate_samples: generated 423 samples in 5.796324729919434s\n",
            "Instrument: 284\n"
          ]
        },
        {
          "data": {
            "text/html": [
              "<div id=\"id_285\"> </div>"
            ],
            "text/plain": [
              "<IPython.core.display.HTML object>"
            ]
          },
          "metadata": {},
          "output_type": "display_data"
        },
        {
          "metadata": {
            "tags": null
          },
          "name": "stdout",
          "output_type": "stream",
          "text": [
            "generate_samples: generated 423 samples in 5.784226417541504s\n",
            "Instrument: 285\n"
          ]
        },
        {
          "data": {
            "text/html": [
              "<div id=\"id_286\"> </div>"
            ],
            "text/plain": [
              "<IPython.core.display.HTML object>"
            ]
          },
          "metadata": {},
          "output_type": "display_data"
        },
        {
          "metadata": {
            "tags": null
          },
          "name": "stdout",
          "output_type": "stream",
          "text": [
            "generate_samples: generated 423 samples in 5.770230293273926s\n",
            "Instrument: 286\n"
          ]
        },
        {
          "data": {
            "text/html": [
              "<div id=\"id_287\"> </div>"
            ],
            "text/plain": [
              "<IPython.core.display.HTML object>"
            ]
          },
          "metadata": {},
          "output_type": "display_data"
        },
        {
          "metadata": {
            "tags": null
          },
          "name": "stdout",
          "output_type": "stream",
          "text": [
            "generate_samples: generated 423 samples in 5.804876089096069s\n",
            "Instrument: 287\n"
          ]
        },
        {
          "data": {
            "text/html": [
              "<div id=\"id_288\"> </div>"
            ],
            "text/plain": [
              "<IPython.core.display.HTML object>"
            ]
          },
          "metadata": {},
          "output_type": "display_data"
        },
        {
          "metadata": {
            "tags": null
          },
          "name": "stdout",
          "output_type": "stream",
          "text": [
            "generate_samples: generated 423 samples in 5.798703670501709s\n",
            "Instrument: 288\n"
          ]
        },
        {
          "data": {
            "text/html": [
              "<div id=\"id_289\"> </div>"
            ],
            "text/plain": [
              "<IPython.core.display.HTML object>"
            ]
          },
          "metadata": {},
          "output_type": "display_data"
        },
        {
          "metadata": {
            "tags": null
          },
          "name": "stdout",
          "output_type": "stream",
          "text": [
            "generate_samples: generated 423 samples in 5.810983419418335s\n",
            "Instrument: 289\n"
          ]
        },
        {
          "data": {
            "text/html": [
              "<div id=\"id_290\"> </div>"
            ],
            "text/plain": [
              "<IPython.core.display.HTML object>"
            ]
          },
          "metadata": {},
          "output_type": "display_data"
        },
        {
          "metadata": {
            "tags": null
          },
          "name": "stdout",
          "output_type": "stream",
          "text": [
            "generate_samples: generated 423 samples in 5.7876386642456055s\n",
            "Instrument: 290\n"
          ]
        },
        {
          "data": {
            "text/html": [
              "<div id=\"id_291\"> </div>"
            ],
            "text/plain": [
              "<IPython.core.display.HTML object>"
            ]
          },
          "metadata": {},
          "output_type": "display_data"
        },
        {
          "metadata": {
            "tags": null
          },
          "name": "stdout",
          "output_type": "stream",
          "text": [
            "generate_samples: generated 423 samples in 5.809768199920654s\n",
            "Instrument: 291\n"
          ]
        },
        {
          "data": {
            "text/html": [
              "<div id=\"id_292\"> </div>"
            ],
            "text/plain": [
              "<IPython.core.display.HTML object>"
            ]
          },
          "metadata": {},
          "output_type": "display_data"
        },
        {
          "metadata": {
            "tags": null
          },
          "name": "stdout",
          "output_type": "stream",
          "text": [
            "generate_samples: generated 423 samples in 5.786238670349121s\n",
            "Instrument: 292\n"
          ]
        },
        {
          "data": {
            "text/html": [
              "<div id=\"id_293\"> </div>"
            ],
            "text/plain": [
              "<IPython.core.display.HTML object>"
            ]
          },
          "metadata": {},
          "output_type": "display_data"
        },
        {
          "metadata": {
            "tags": null
          },
          "name": "stdout",
          "output_type": "stream",
          "text": [
            "generate_samples: generated 423 samples in 5.770418882369995s\n",
            "Instrument: 293\n"
          ]
        },
        {
          "data": {
            "text/html": [
              "<div id=\"id_294\"> </div>"
            ],
            "text/plain": [
              "<IPython.core.display.HTML object>"
            ]
          },
          "metadata": {},
          "output_type": "display_data"
        },
        {
          "metadata": {
            "tags": null
          },
          "name": "stdout",
          "output_type": "stream",
          "text": [
            "generate_samples: generated 423 samples in 5.785237789154053s\n",
            "Instrument: 294\n"
          ]
        },
        {
          "data": {
            "text/html": [
              "<div id=\"id_295\"> </div>"
            ],
            "text/plain": [
              "<IPython.core.display.HTML object>"
            ]
          },
          "metadata": {},
          "output_type": "display_data"
        },
        {
          "metadata": {
            "tags": null
          },
          "name": "stdout",
          "output_type": "stream",
          "text": [
            "generate_samples: generated 423 samples in 5.761658668518066s\n",
            "Instrument: 295\n"
          ]
        },
        {
          "data": {
            "text/html": [
              "<div id=\"id_296\"> </div>"
            ],
            "text/plain": [
              "<IPython.core.display.HTML object>"
            ]
          },
          "metadata": {},
          "output_type": "display_data"
        },
        {
          "metadata": {
            "tags": null
          },
          "name": "stdout",
          "output_type": "stream",
          "text": [
            "generate_samples: generated 423 samples in 5.775611639022827s\n",
            "Instrument: 296\n"
          ]
        },
        {
          "data": {
            "text/html": [
              "<div id=\"id_297\"> </div>"
            ],
            "text/plain": [
              "<IPython.core.display.HTML object>"
            ]
          },
          "metadata": {},
          "output_type": "display_data"
        },
        {
          "metadata": {
            "tags": null
          },
          "name": "stdout",
          "output_type": "stream",
          "text": [
            "generate_samples: generated 423 samples in 5.78508186340332s\n",
            "Instrument: 297\n"
          ]
        },
        {
          "data": {
            "text/html": [
              "<div id=\"id_298\"> </div>"
            ],
            "text/plain": [
              "<IPython.core.display.HTML object>"
            ]
          },
          "metadata": {},
          "output_type": "display_data"
        },
        {
          "metadata": {
            "tags": null
          },
          "name": "stdout",
          "output_type": "stream",
          "text": [
            "generate_samples: generated 423 samples in 5.797485589981079s\n",
            "Instrument: 298\n"
          ]
        },
        {
          "data": {
            "text/html": [
              "<div id=\"id_299\"> </div>"
            ],
            "text/plain": [
              "<IPython.core.display.HTML object>"
            ]
          },
          "metadata": {},
          "output_type": "display_data"
        },
        {
          "metadata": {
            "tags": null
          },
          "name": "stdout",
          "output_type": "stream",
          "text": [
            "generate_samples: generated 423 samples in 5.762109041213989s\n",
            "Instrument: 299\n"
          ]
        },
        {
          "data": {
            "text/html": [
              "<div id=\"id_300\"> </div>"
            ],
            "text/plain": [
              "<IPython.core.display.HTML object>"
            ]
          },
          "metadata": {},
          "output_type": "display_data"
        },
        {
          "metadata": {
            "tags": null
          },
          "name": "stdout",
          "output_type": "stream",
          "text": [
            "generate_samples: generated 423 samples in 5.84267520904541s\n",
            "Instrument: 300\n"
          ]
        },
        {
          "data": {
            "text/html": [
              "<div id=\"id_301\"> </div>"
            ],
            "text/plain": [
              "<IPython.core.display.HTML object>"
            ]
          },
          "metadata": {},
          "output_type": "display_data"
        },
        {
          "metadata": {
            "tags": null
          },
          "name": "stdout",
          "output_type": "stream",
          "text": [
            "generate_samples: generated 423 samples in 5.772242546081543s\n",
            "Instrument: 301\n"
          ]
        },
        {
          "data": {
            "text/html": [
              "<div id=\"id_302\"> </div>"
            ],
            "text/plain": [
              "<IPython.core.display.HTML object>"
            ]
          },
          "metadata": {},
          "output_type": "display_data"
        },
        {
          "metadata": {
            "tags": null
          },
          "name": "stdout",
          "output_type": "stream",
          "text": [
            "generate_samples: generated 423 samples in 5.767080068588257s\n",
            "Instrument: 302\n"
          ]
        },
        {
          "data": {
            "text/html": [
              "<div id=\"id_303\"> </div>"
            ],
            "text/plain": [
              "<IPython.core.display.HTML object>"
            ]
          },
          "metadata": {},
          "output_type": "display_data"
        },
        {
          "metadata": {
            "tags": null
          },
          "name": "stdout",
          "output_type": "stream",
          "text": [
            "generate_samples: generated 423 samples in 5.768909454345703s\n",
            "Instrument: 303\n"
          ]
        },
        {
          "data": {
            "text/html": [
              "<div id=\"id_304\"> </div>"
            ],
            "text/plain": [
              "<IPython.core.display.HTML object>"
            ]
          },
          "metadata": {},
          "output_type": "display_data"
        },
        {
          "metadata": {
            "tags": null
          },
          "name": "stdout",
          "output_type": "stream",
          "text": [
            "generate_samples: generated 423 samples in 5.808670282363892s\n",
            "Instrument: 304\n"
          ]
        },
        {
          "data": {
            "text/html": [
              "<div id=\"id_305\"> </div>"
            ],
            "text/plain": [
              "<IPython.core.display.HTML object>"
            ]
          },
          "metadata": {},
          "output_type": "display_data"
        },
        {
          "metadata": {
            "tags": null
          },
          "name": "stdout",
          "output_type": "stream",
          "text": [
            "generate_samples: generated 423 samples in 5.782148361206055s\n",
            "Instrument: 305\n"
          ]
        },
        {
          "data": {
            "text/html": [
              "<div id=\"id_306\"> </div>"
            ],
            "text/plain": [
              "<IPython.core.display.HTML object>"
            ]
          },
          "metadata": {},
          "output_type": "display_data"
        },
        {
          "metadata": {
            "tags": null
          },
          "name": "stdout",
          "output_type": "stream",
          "text": [
            "generate_samples: generated 423 samples in 5.767461061477661s\n",
            "Instrument: 306\n"
          ]
        },
        {
          "data": {
            "text/html": [
              "<div id=\"id_307\"> </div>"
            ],
            "text/plain": [
              "<IPython.core.display.HTML object>"
            ]
          },
          "metadata": {},
          "output_type": "display_data"
        },
        {
          "metadata": {
            "tags": null
          },
          "name": "stdout",
          "output_type": "stream",
          "text": [
            "generate_samples: generated 423 samples in 5.770705699920654s\n",
            "Instrument: 307\n"
          ]
        },
        {
          "data": {
            "text/html": [
              "<div id=\"id_308\"> </div>"
            ],
            "text/plain": [
              "<IPython.core.display.HTML object>"
            ]
          },
          "metadata": {},
          "output_type": "display_data"
        },
        {
          "metadata": {
            "tags": null
          },
          "name": "stdout",
          "output_type": "stream",
          "text": [
            "generate_samples: generated 423 samples in 5.76967191696167s\n",
            "Instrument: 308\n"
          ]
        },
        {
          "data": {
            "text/html": [
              "<div id=\"id_309\"> </div>"
            ],
            "text/plain": [
              "<IPython.core.display.HTML object>"
            ]
          },
          "metadata": {},
          "output_type": "display_data"
        },
        {
          "metadata": {
            "tags": null
          },
          "name": "stdout",
          "output_type": "stream",
          "text": [
            "generate_samples: generated 423 samples in 5.773973226547241s\n",
            "Instrument: 309\n"
          ]
        },
        {
          "data": {
            "text/html": [
              "<div id=\"id_310\"> </div>"
            ],
            "text/plain": [
              "<IPython.core.display.HTML object>"
            ]
          },
          "metadata": {},
          "output_type": "display_data"
        },
        {
          "metadata": {
            "tags": null
          },
          "name": "stdout",
          "output_type": "stream",
          "text": [
            "generate_samples: generated 423 samples in 5.769865274429321s\n",
            "Instrument: 310\n"
          ]
        },
        {
          "data": {
            "text/html": [
              "<div id=\"id_311\"> </div>"
            ],
            "text/plain": [
              "<IPython.core.display.HTML object>"
            ]
          },
          "metadata": {},
          "output_type": "display_data"
        },
        {
          "metadata": {
            "tags": null
          },
          "name": "stdout",
          "output_type": "stream",
          "text": [
            "generate_samples: generated 423 samples in 5.794126272201538s\n",
            "Instrument: 311\n"
          ]
        },
        {
          "data": {
            "text/html": [
              "<div id=\"id_312\"> </div>"
            ],
            "text/plain": [
              "<IPython.core.display.HTML object>"
            ]
          },
          "metadata": {},
          "output_type": "display_data"
        },
        {
          "metadata": {
            "tags": null
          },
          "name": "stdout",
          "output_type": "stream",
          "text": [
            "generate_samples: generated 423 samples in 5.790895223617554s\n",
            "Instrument: 312\n"
          ]
        },
        {
          "data": {
            "text/html": [
              "<div id=\"id_313\"> </div>"
            ],
            "text/plain": [
              "<IPython.core.display.HTML object>"
            ]
          },
          "metadata": {},
          "output_type": "display_data"
        },
        {
          "metadata": {
            "tags": null
          },
          "name": "stdout",
          "output_type": "stream",
          "text": [
            "generate_samples: generated 423 samples in 5.787604808807373s\n",
            "Instrument: 313\n"
          ]
        },
        {
          "data": {
            "text/html": [
              "<div id=\"id_314\"> </div>"
            ],
            "text/plain": [
              "<IPython.core.display.HTML object>"
            ]
          },
          "metadata": {},
          "output_type": "display_data"
        },
        {
          "metadata": {
            "tags": null
          },
          "name": "stdout",
          "output_type": "stream",
          "text": [
            "generate_samples: generated 423 samples in 5.774338006973267s\n",
            "Instrument: 314\n"
          ]
        },
        {
          "data": {
            "text/html": [
              "<div id=\"id_315\"> </div>"
            ],
            "text/plain": [
              "<IPython.core.display.HTML object>"
            ]
          },
          "metadata": {},
          "output_type": "display_data"
        },
        {
          "metadata": {
            "tags": null
          },
          "name": "stdout",
          "output_type": "stream",
          "text": [
            "generate_samples: generated 423 samples in 5.754583120346069s\n",
            "Instrument: 315\n"
          ]
        },
        {
          "data": {
            "text/html": [
              "<div id=\"id_316\"> </div>"
            ],
            "text/plain": [
              "<IPython.core.display.HTML object>"
            ]
          },
          "metadata": {},
          "output_type": "display_data"
        },
        {
          "metadata": {
            "tags": null
          },
          "name": "stdout",
          "output_type": "stream",
          "text": [
            "generate_samples: generated 423 samples in 5.765555381774902s\n",
            "Instrument: 316\n"
          ]
        },
        {
          "data": {
            "text/html": [
              "<div id=\"id_317\"> </div>"
            ],
            "text/plain": [
              "<IPython.core.display.HTML object>"
            ]
          },
          "metadata": {},
          "output_type": "display_data"
        },
        {
          "metadata": {
            "tags": null
          },
          "name": "stdout",
          "output_type": "stream",
          "text": [
            "generate_samples: generated 423 samples in 5.773646831512451s\n",
            "Instrument: 317\n"
          ]
        },
        {
          "data": {
            "text/html": [
              "<div id=\"id_318\"> </div>"
            ],
            "text/plain": [
              "<IPython.core.display.HTML object>"
            ]
          },
          "metadata": {},
          "output_type": "display_data"
        },
        {
          "metadata": {
            "tags": null
          },
          "name": "stdout",
          "output_type": "stream",
          "text": [
            "generate_samples: generated 423 samples in 5.751476049423218s\n",
            "Instrument: 318\n"
          ]
        },
        {
          "data": {
            "text/html": [
              "<div id=\"id_319\"> </div>"
            ],
            "text/plain": [
              "<IPython.core.display.HTML object>"
            ]
          },
          "metadata": {},
          "output_type": "display_data"
        },
        {
          "metadata": {
            "tags": null
          },
          "name": "stdout",
          "output_type": "stream",
          "text": [
            "generate_samples: generated 423 samples in 5.769131422042847s\n",
            "Instrument: 319\n"
          ]
        },
        {
          "data": {
            "text/html": [
              "<div id=\"id_320\"> </div>"
            ],
            "text/plain": [
              "<IPython.core.display.HTML object>"
            ]
          },
          "metadata": {},
          "output_type": "display_data"
        },
        {
          "metadata": {
            "tags": null
          },
          "name": "stdout",
          "output_type": "stream",
          "text": [
            "generate_samples: generated 423 samples in 5.769214868545532s\n",
            "Instrument: 320\n"
          ]
        },
        {
          "data": {
            "text/html": [
              "<div id=\"id_321\"> </div>"
            ],
            "text/plain": [
              "<IPython.core.display.HTML object>"
            ]
          },
          "metadata": {},
          "output_type": "display_data"
        },
        {
          "metadata": {
            "tags": null
          },
          "name": "stdout",
          "output_type": "stream",
          "text": [
            "generate_samples: generated 423 samples in 5.763650894165039s\n",
            "Instrument: 321\n"
          ]
        },
        {
          "data": {
            "text/html": [
              "<div id=\"id_322\"> </div>"
            ],
            "text/plain": [
              "<IPython.core.display.HTML object>"
            ]
          },
          "metadata": {},
          "output_type": "display_data"
        },
        {
          "metadata": {
            "tags": null
          },
          "name": "stdout",
          "output_type": "stream",
          "text": [
            "generate_samples: generated 423 samples in 5.7852089405059814s\n",
            "Instrument: 322\n"
          ]
        },
        {
          "data": {
            "text/html": [
              "<div id=\"id_323\"> </div>"
            ],
            "text/plain": [
              "<IPython.core.display.HTML object>"
            ]
          },
          "metadata": {},
          "output_type": "display_data"
        },
        {
          "metadata": {
            "tags": null
          },
          "name": "stdout",
          "output_type": "stream",
          "text": [
            "generate_samples: generated 423 samples in 5.775700092315674s\n",
            "Instrument: 323\n"
          ]
        },
        {
          "data": {
            "text/html": [
              "<div id=\"id_324\"> </div>"
            ],
            "text/plain": [
              "<IPython.core.display.HTML object>"
            ]
          },
          "metadata": {},
          "output_type": "display_data"
        },
        {
          "metadata": {
            "tags": null
          },
          "name": "stdout",
          "output_type": "stream",
          "text": [
            "generate_samples: generated 423 samples in 5.7638373374938965s\n",
            "Instrument: 324\n"
          ]
        },
        {
          "data": {
            "text/html": [
              "<div id=\"id_325\"> </div>"
            ],
            "text/plain": [
              "<IPython.core.display.HTML object>"
            ]
          },
          "metadata": {},
          "output_type": "display_data"
        },
        {
          "metadata": {
            "tags": null
          },
          "name": "stdout",
          "output_type": "stream",
          "text": [
            "generate_samples: generated 423 samples in 5.782599210739136s\n",
            "Instrument: 325\n"
          ]
        },
        {
          "data": {
            "text/html": [
              "<div id=\"id_326\"> </div>"
            ],
            "text/plain": [
              "<IPython.core.display.HTML object>"
            ]
          },
          "metadata": {},
          "output_type": "display_data"
        },
        {
          "metadata": {
            "tags": null
          },
          "name": "stdout",
          "output_type": "stream",
          "text": [
            "generate_samples: generated 423 samples in 5.78286075592041s\n",
            "Instrument: 326\n"
          ]
        },
        {
          "data": {
            "text/html": [
              "<div id=\"id_327\"> </div>"
            ],
            "text/plain": [
              "<IPython.core.display.HTML object>"
            ]
          },
          "metadata": {},
          "output_type": "display_data"
        },
        {
          "metadata": {
            "tags": null
          },
          "name": "stdout",
          "output_type": "stream",
          "text": [
            "generate_samples: generated 423 samples in 5.79915714263916s\n",
            "Instrument: 327\n"
          ]
        },
        {
          "data": {
            "text/html": [
              "<div id=\"id_328\"> </div>"
            ],
            "text/plain": [
              "<IPython.core.display.HTML object>"
            ]
          },
          "metadata": {},
          "output_type": "display_data"
        },
        {
          "metadata": {
            "tags": null
          },
          "name": "stdout",
          "output_type": "stream",
          "text": [
            "generate_samples: generated 423 samples in 5.772665977478027s\n",
            "Instrument: 328\n"
          ]
        },
        {
          "data": {
            "text/html": [
              "<div id=\"id_329\"> </div>"
            ],
            "text/plain": [
              "<IPython.core.display.HTML object>"
            ]
          },
          "metadata": {},
          "output_type": "display_data"
        },
        {
          "metadata": {
            "tags": null
          },
          "name": "stdout",
          "output_type": "stream",
          "text": [
            "generate_samples: generated 423 samples in 5.782494068145752s\n",
            "Instrument: 329\n"
          ]
        },
        {
          "data": {
            "text/html": [
              "<div id=\"id_330\"> </div>"
            ],
            "text/plain": [
              "<IPython.core.display.HTML object>"
            ]
          },
          "metadata": {},
          "output_type": "display_data"
        },
        {
          "metadata": {
            "tags": null
          },
          "name": "stdout",
          "output_type": "stream",
          "text": [
            "generate_samples: generated 423 samples in 5.777438163757324s\n",
            "Instrument: 330\n"
          ]
        },
        {
          "data": {
            "text/html": [
              "<div id=\"id_331\"> </div>"
            ],
            "text/plain": [
              "<IPython.core.display.HTML object>"
            ]
          },
          "metadata": {},
          "output_type": "display_data"
        },
        {
          "metadata": {
            "tags": null
          },
          "name": "stdout",
          "output_type": "stream",
          "text": [
            "generate_samples: generated 423 samples in 5.770534992218018s\n",
            "Instrument: 331\n"
          ]
        },
        {
          "data": {
            "text/html": [
              "<div id=\"id_332\"> </div>"
            ],
            "text/plain": [
              "<IPython.core.display.HTML object>"
            ]
          },
          "metadata": {},
          "output_type": "display_data"
        },
        {
          "metadata": {
            "tags": null
          },
          "name": "stdout",
          "output_type": "stream",
          "text": [
            "generate_samples: generated 423 samples in 5.789273023605347s\n",
            "Instrument: 332\n"
          ]
        },
        {
          "data": {
            "text/html": [
              "<div id=\"id_333\"> </div>"
            ],
            "text/plain": [
              "<IPython.core.display.HTML object>"
            ]
          },
          "metadata": {},
          "output_type": "display_data"
        },
        {
          "metadata": {
            "tags": null
          },
          "name": "stdout",
          "output_type": "stream",
          "text": [
            "generate_samples: generated 423 samples in 5.778857707977295s\n",
            "Instrument: 333\n"
          ]
        },
        {
          "data": {
            "text/html": [
              "<div id=\"id_334\"> </div>"
            ],
            "text/plain": [
              "<IPython.core.display.HTML object>"
            ]
          },
          "metadata": {},
          "output_type": "display_data"
        },
        {
          "metadata": {
            "tags": null
          },
          "name": "stdout",
          "output_type": "stream",
          "text": [
            "generate_samples: generated 423 samples in 5.767589807510376s\n",
            "Instrument: 334\n"
          ]
        },
        {
          "data": {
            "text/html": [
              "<div id=\"id_335\"> </div>"
            ],
            "text/plain": [
              "<IPython.core.display.HTML object>"
            ]
          },
          "metadata": {},
          "output_type": "display_data"
        },
        {
          "metadata": {
            "tags": null
          },
          "name": "stdout",
          "output_type": "stream",
          "text": [
            "generate_samples: generated 423 samples in 5.77830958366394s\n",
            "Instrument: 335\n"
          ]
        },
        {
          "data": {
            "text/html": [
              "<div id=\"id_336\"> </div>"
            ],
            "text/plain": [
              "<IPython.core.display.HTML object>"
            ]
          },
          "metadata": {},
          "output_type": "display_data"
        },
        {
          "metadata": {
            "tags": null
          },
          "name": "stdout",
          "output_type": "stream",
          "text": [
            "generate_samples: generated 423 samples in 5.787739992141724s\n",
            "Instrument: 336\n"
          ]
        },
        {
          "data": {
            "text/html": [
              "<div id=\"id_337\"> </div>"
            ],
            "text/plain": [
              "<IPython.core.display.HTML object>"
            ]
          },
          "metadata": {},
          "output_type": "display_data"
        },
        {
          "metadata": {
            "tags": null
          },
          "name": "stdout",
          "output_type": "stream",
          "text": [
            "generate_samples: generated 423 samples in 5.793265342712402s\n",
            "Instrument: 337\n"
          ]
        },
        {
          "data": {
            "text/html": [
              "<div id=\"id_338\"> </div>"
            ],
            "text/plain": [
              "<IPython.core.display.HTML object>"
            ]
          },
          "metadata": {},
          "output_type": "display_data"
        },
        {
          "metadata": {
            "tags": null
          },
          "name": "stdout",
          "output_type": "stream",
          "text": [
            "generate_samples: generated 423 samples in 5.77538537979126s\n",
            "Instrument: 338\n"
          ]
        },
        {
          "data": {
            "text/html": [
              "<div id=\"id_339\"> </div>"
            ],
            "text/plain": [
              "<IPython.core.display.HTML object>"
            ]
          },
          "metadata": {},
          "output_type": "display_data"
        },
        {
          "metadata": {
            "tags": null
          },
          "name": "stdout",
          "output_type": "stream",
          "text": [
            "generate_samples: generated 423 samples in 5.76619553565979s\n",
            "Instrument: 339\n"
          ]
        },
        {
          "data": {
            "text/html": [
              "<div id=\"id_340\"> </div>"
            ],
            "text/plain": [
              "<IPython.core.display.HTML object>"
            ]
          },
          "metadata": {},
          "output_type": "display_data"
        },
        {
          "metadata": {
            "tags": null
          },
          "name": "stdout",
          "output_type": "stream",
          "text": [
            "generate_samples: generated 423 samples in 5.789805889129639s\n",
            "Instrument: 340\n"
          ]
        },
        {
          "data": {
            "text/html": [
              "<div id=\"id_341\"> </div>"
            ],
            "text/plain": [
              "<IPython.core.display.HTML object>"
            ]
          },
          "metadata": {},
          "output_type": "display_data"
        },
        {
          "metadata": {
            "tags": null
          },
          "name": "stdout",
          "output_type": "stream",
          "text": [
            "generate_samples: generated 423 samples in 5.786940574645996s\n",
            "Instrument: 341\n"
          ]
        },
        {
          "data": {
            "text/html": [
              "<div id=\"id_342\"> </div>"
            ],
            "text/plain": [
              "<IPython.core.display.HTML object>"
            ]
          },
          "metadata": {},
          "output_type": "display_data"
        },
        {
          "metadata": {
            "tags": null
          },
          "name": "stdout",
          "output_type": "stream",
          "text": [
            "generate_samples: generated 423 samples in 5.779695749282837s\n",
            "Instrument: 342\n"
          ]
        },
        {
          "data": {
            "text/html": [
              "<div id=\"id_343\"> </div>"
            ],
            "text/plain": [
              "<IPython.core.display.HTML object>"
            ]
          },
          "metadata": {},
          "output_type": "display_data"
        },
        {
          "metadata": {
            "tags": null
          },
          "name": "stdout",
          "output_type": "stream",
          "text": [
            "generate_samples: generated 423 samples in 5.7664008140563965s\n",
            "Instrument: 343\n"
          ]
        },
        {
          "data": {
            "text/html": [
              "<div id=\"id_344\"> </div>"
            ],
            "text/plain": [
              "<IPython.core.display.HTML object>"
            ]
          },
          "metadata": {},
          "output_type": "display_data"
        },
        {
          "metadata": {
            "tags": null
          },
          "name": "stdout",
          "output_type": "stream",
          "text": [
            "generate_samples: generated 423 samples in 5.791675806045532s\n",
            "Instrument: 344\n"
          ]
        },
        {
          "data": {
            "text/html": [
              "<div id=\"id_345\"> </div>"
            ],
            "text/plain": [
              "<IPython.core.display.HTML object>"
            ]
          },
          "metadata": {},
          "output_type": "display_data"
        },
        {
          "metadata": {
            "tags": null
          },
          "name": "stdout",
          "output_type": "stream",
          "text": [
            "generate_samples: generated 423 samples in 5.8282835483551025s\n",
            "Instrument: 345\n"
          ]
        },
        {
          "data": {
            "text/html": [
              "<div id=\"id_346\"> </div>"
            ],
            "text/plain": [
              "<IPython.core.display.HTML object>"
            ]
          },
          "metadata": {},
          "output_type": "display_data"
        },
        {
          "metadata": {
            "tags": null
          },
          "name": "stdout",
          "output_type": "stream",
          "text": [
            "generate_samples: generated 423 samples in 5.783777475357056s\n",
            "Instrument: 346\n"
          ]
        },
        {
          "data": {
            "text/html": [
              "<div id=\"id_347\"> </div>"
            ],
            "text/plain": [
              "<IPython.core.display.HTML object>"
            ]
          },
          "metadata": {},
          "output_type": "display_data"
        },
        {
          "metadata": {
            "tags": null
          },
          "name": "stdout",
          "output_type": "stream",
          "text": [
            "generate_samples: generated 423 samples in 5.8295979499816895s\n",
            "Instrument: 347\n"
          ]
        },
        {
          "data": {
            "text/html": [
              "<div id=\"id_348\"> </div>"
            ],
            "text/plain": [
              "<IPython.core.display.HTML object>"
            ]
          },
          "metadata": {},
          "output_type": "display_data"
        },
        {
          "metadata": {
            "tags": null
          },
          "name": "stdout",
          "output_type": "stream",
          "text": [
            "generate_samples: generated 423 samples in 5.798936128616333s\n",
            "Instrument: 348\n"
          ]
        },
        {
          "data": {
            "text/html": [
              "<div id=\"id_349\"> </div>"
            ],
            "text/plain": [
              "<IPython.core.display.HTML object>"
            ]
          },
          "metadata": {},
          "output_type": "display_data"
        },
        {
          "metadata": {
            "tags": null
          },
          "name": "stdout",
          "output_type": "stream",
          "text": [
            "generate_samples: generated 423 samples in 5.773442506790161s\n",
            "Instrument: 349\n"
          ]
        },
        {
          "data": {
            "text/html": [
              "<div id=\"id_350\"> </div>"
            ],
            "text/plain": [
              "<IPython.core.display.HTML object>"
            ]
          },
          "metadata": {},
          "output_type": "display_data"
        },
        {
          "metadata": {
            "tags": null
          },
          "name": "stdout",
          "output_type": "stream",
          "text": [
            "generate_samples: generated 423 samples in 5.795969724655151s\n",
            "Instrument: 350\n"
          ]
        },
        {
          "data": {
            "text/html": [
              "<div id=\"id_351\"> </div>"
            ],
            "text/plain": [
              "<IPython.core.display.HTML object>"
            ]
          },
          "metadata": {},
          "output_type": "display_data"
        },
        {
          "metadata": {
            "tags": null
          },
          "name": "stdout",
          "output_type": "stream",
          "text": [
            "generate_samples: generated 423 samples in 5.7936413288116455s\n",
            "Instrument: 351\n"
          ]
        },
        {
          "data": {
            "text/html": [
              "<div id=\"id_352\"> </div>"
            ],
            "text/plain": [
              "<IPython.core.display.HTML object>"
            ]
          },
          "metadata": {},
          "output_type": "display_data"
        },
        {
          "metadata": {
            "tags": null
          },
          "name": "stdout",
          "output_type": "stream",
          "text": [
            "generate_samples: generated 423 samples in 5.803681373596191s\n",
            "Instrument: 352\n"
          ]
        },
        {
          "data": {
            "text/html": [
              "<div id=\"id_353\"> </div>"
            ],
            "text/plain": [
              "<IPython.core.display.HTML object>"
            ]
          },
          "metadata": {},
          "output_type": "display_data"
        },
        {
          "metadata": {
            "tags": null
          },
          "name": "stdout",
          "output_type": "stream",
          "text": [
            "generate_samples: generated 423 samples in 5.785331964492798s\n",
            "Instrument: 353\n"
          ]
        },
        {
          "data": {
            "text/html": [
              "<div id=\"id_354\"> </div>"
            ],
            "text/plain": [
              "<IPython.core.display.HTML object>"
            ]
          },
          "metadata": {},
          "output_type": "display_data"
        },
        {
          "metadata": {
            "tags": null
          },
          "name": "stdout",
          "output_type": "stream",
          "text": [
            "generate_samples: generated 423 samples in 5.766834020614624s\n",
            "Instrument: 354\n"
          ]
        },
        {
          "data": {
            "text/html": [
              "<div id=\"id_355\"> </div>"
            ],
            "text/plain": [
              "<IPython.core.display.HTML object>"
            ]
          },
          "metadata": {},
          "output_type": "display_data"
        },
        {
          "metadata": {
            "tags": null
          },
          "name": "stdout",
          "output_type": "stream",
          "text": [
            "generate_samples: generated 423 samples in 5.7826550006866455s\n",
            "Instrument: 355\n"
          ]
        },
        {
          "data": {
            "text/html": [
              "<div id=\"id_356\"> </div>"
            ],
            "text/plain": [
              "<IPython.core.display.HTML object>"
            ]
          },
          "metadata": {},
          "output_type": "display_data"
        },
        {
          "metadata": {
            "tags": null
          },
          "name": "stdout",
          "output_type": "stream",
          "text": [
            "generate_samples: generated 423 samples in 5.771562576293945s\n",
            "Instrument: 356\n"
          ]
        },
        {
          "data": {
            "text/html": [
              "<div id=\"id_357\"> </div>"
            ],
            "text/plain": [
              "<IPython.core.display.HTML object>"
            ]
          },
          "metadata": {},
          "output_type": "display_data"
        },
        {
          "metadata": {
            "tags": null
          },
          "name": "stdout",
          "output_type": "stream",
          "text": [
            "generate_samples: generated 423 samples in 5.778767108917236s\n",
            "Instrument: 357\n"
          ]
        },
        {
          "data": {
            "text/html": [
              "<div id=\"id_358\"> </div>"
            ],
            "text/plain": [
              "<IPython.core.display.HTML object>"
            ]
          },
          "metadata": {},
          "output_type": "display_data"
        },
        {
          "metadata": {
            "tags": null
          },
          "name": "stdout",
          "output_type": "stream",
          "text": [
            "generate_samples: generated 423 samples in 5.762283802032471s\n",
            "Instrument: 358\n"
          ]
        },
        {
          "data": {
            "text/html": [
              "<div id=\"id_359\"> </div>"
            ],
            "text/plain": [
              "<IPython.core.display.HTML object>"
            ]
          },
          "metadata": {},
          "output_type": "display_data"
        },
        {
          "metadata": {
            "tags": null
          },
          "name": "stdout",
          "output_type": "stream",
          "text": [
            "generate_samples: generated 423 samples in 5.780022382736206s\n",
            "Instrument: 359\n"
          ]
        },
        {
          "data": {
            "text/html": [
              "<div id=\"id_360\"> </div>"
            ],
            "text/plain": [
              "<IPython.core.display.HTML object>"
            ]
          },
          "metadata": {},
          "output_type": "display_data"
        },
        {
          "metadata": {
            "tags": null
          },
          "name": "stdout",
          "output_type": "stream",
          "text": [
            "generate_samples: generated 423 samples in 5.756558656692505s\n",
            "Instrument: 360\n"
          ]
        },
        {
          "data": {
            "text/html": [
              "<div id=\"id_361\"> </div>"
            ],
            "text/plain": [
              "<IPython.core.display.HTML object>"
            ]
          },
          "metadata": {},
          "output_type": "display_data"
        },
        {
          "metadata": {
            "tags": null
          },
          "name": "stdout",
          "output_type": "stream",
          "text": [
            "generate_samples: generated 423 samples in 5.761028528213501s\n",
            "Instrument: 361\n"
          ]
        },
        {
          "data": {
            "text/html": [
              "<div id=\"id_362\"> </div>"
            ],
            "text/plain": [
              "<IPython.core.display.HTML object>"
            ]
          },
          "metadata": {},
          "output_type": "display_data"
        },
        {
          "metadata": {
            "tags": null
          },
          "name": "stdout",
          "output_type": "stream",
          "text": [
            "generate_samples: generated 423 samples in 5.791088104248047s\n",
            "Instrument: 362\n"
          ]
        },
        {
          "data": {
            "text/html": [
              "<div id=\"id_363\"> </div>"
            ],
            "text/plain": [
              "<IPython.core.display.HTML object>"
            ]
          },
          "metadata": {},
          "output_type": "display_data"
        },
        {
          "metadata": {
            "tags": null
          },
          "name": "stdout",
          "output_type": "stream",
          "text": [
            "generate_samples: generated 423 samples in 5.776102066040039s\n",
            "Instrument: 363\n"
          ]
        },
        {
          "data": {
            "text/html": [
              "<div id=\"id_364\"> </div>"
            ],
            "text/plain": [
              "<IPython.core.display.HTML object>"
            ]
          },
          "metadata": {},
          "output_type": "display_data"
        },
        {
          "metadata": {
            "tags": null
          },
          "name": "stdout",
          "output_type": "stream",
          "text": [
            "generate_samples: generated 423 samples in 5.7858726978302s\n",
            "Instrument: 364\n"
          ]
        },
        {
          "data": {
            "text/html": [
              "<div id=\"id_365\"> </div>"
            ],
            "text/plain": [
              "<IPython.core.display.HTML object>"
            ]
          },
          "metadata": {},
          "output_type": "display_data"
        },
        {
          "metadata": {
            "tags": null
          },
          "name": "stdout",
          "output_type": "stream",
          "text": [
            "generate_samples: generated 423 samples in 5.776681184768677s\n",
            "Instrument: 365\n"
          ]
        },
        {
          "data": {
            "text/html": [
              "<div id=\"id_366\"> </div>"
            ],
            "text/plain": [
              "<IPython.core.display.HTML object>"
            ]
          },
          "metadata": {},
          "output_type": "display_data"
        },
        {
          "metadata": {
            "tags": null
          },
          "name": "stdout",
          "output_type": "stream",
          "text": [
            "generate_samples: generated 423 samples in 5.779818773269653s\n",
            "Instrument: 366\n"
          ]
        },
        {
          "data": {
            "text/html": [
              "<div id=\"id_367\"> </div>"
            ],
            "text/plain": [
              "<IPython.core.display.HTML object>"
            ]
          },
          "metadata": {},
          "output_type": "display_data"
        },
        {
          "metadata": {
            "tags": null
          },
          "name": "stdout",
          "output_type": "stream",
          "text": [
            "generate_samples: generated 423 samples in 5.789779424667358s\n",
            "Instrument: 367\n"
          ]
        },
        {
          "data": {
            "text/html": [
              "<div id=\"id_368\"> </div>"
            ],
            "text/plain": [
              "<IPython.core.display.HTML object>"
            ]
          },
          "metadata": {},
          "output_type": "display_data"
        },
        {
          "metadata": {
            "tags": null
          },
          "name": "stdout",
          "output_type": "stream",
          "text": [
            "generate_samples: generated 423 samples in 5.773022413253784s\n",
            "Instrument: 368\n"
          ]
        },
        {
          "data": {
            "text/html": [
              "<div id=\"id_369\"> </div>"
            ],
            "text/plain": [
              "<IPython.core.display.HTML object>"
            ]
          },
          "metadata": {},
          "output_type": "display_data"
        },
        {
          "metadata": {
            "tags": null
          },
          "name": "stdout",
          "output_type": "stream",
          "text": [
            "generate_samples: generated 423 samples in 5.765402317047119s\n",
            "Instrument: 369\n"
          ]
        },
        {
          "data": {
            "text/html": [
              "<div id=\"id_370\"> </div>"
            ],
            "text/plain": [
              "<IPython.core.display.HTML object>"
            ]
          },
          "metadata": {},
          "output_type": "display_data"
        },
        {
          "metadata": {
            "tags": null
          },
          "name": "stdout",
          "output_type": "stream",
          "text": [
            "generate_samples: generated 423 samples in 5.771052360534668s\n",
            "Instrument: 370\n"
          ]
        },
        {
          "data": {
            "text/html": [
              "<div id=\"id_371\"> </div>"
            ],
            "text/plain": [
              "<IPython.core.display.HTML object>"
            ]
          },
          "metadata": {},
          "output_type": "display_data"
        },
        {
          "metadata": {
            "tags": null
          },
          "name": "stdout",
          "output_type": "stream",
          "text": [
            "generate_samples: generated 423 samples in 5.768904685974121s\n",
            "Instrument: 371\n"
          ]
        },
        {
          "data": {
            "text/html": [
              "<div id=\"id_372\"> </div>"
            ],
            "text/plain": [
              "<IPython.core.display.HTML object>"
            ]
          },
          "metadata": {},
          "output_type": "display_data"
        },
        {
          "metadata": {
            "tags": null
          },
          "name": "stdout",
          "output_type": "stream",
          "text": [
            "generate_samples: generated 423 samples in 5.770116329193115s\n",
            "Instrument: 372\n"
          ]
        },
        {
          "data": {
            "text/html": [
              "<div id=\"id_373\"> </div>"
            ],
            "text/plain": [
              "<IPython.core.display.HTML object>"
            ]
          },
          "metadata": {},
          "output_type": "display_data"
        },
        {
          "metadata": {
            "tags": null
          },
          "name": "stdout",
          "output_type": "stream",
          "text": [
            "generate_samples: generated 423 samples in 5.792773008346558s\n",
            "Instrument: 373\n"
          ]
        },
        {
          "data": {
            "text/html": [
              "<div id=\"id_374\"> </div>"
            ],
            "text/plain": [
              "<IPython.core.display.HTML object>"
            ]
          },
          "metadata": {},
          "output_type": "display_data"
        },
        {
          "metadata": {
            "tags": null
          },
          "name": "stdout",
          "output_type": "stream",
          "text": [
            "generate_samples: generated 423 samples in 5.790211915969849s\n",
            "Instrument: 374\n"
          ]
        },
        {
          "data": {
            "text/html": [
              "<div id=\"id_375\"> </div>"
            ],
            "text/plain": [
              "<IPython.core.display.HTML object>"
            ]
          },
          "metadata": {},
          "output_type": "display_data"
        },
        {
          "metadata": {
            "tags": null
          },
          "name": "stdout",
          "output_type": "stream",
          "text": [
            "generate_samples: generated 423 samples in 5.784912824630737s\n",
            "Instrument: 375\n"
          ]
        },
        {
          "data": {
            "text/html": [
              "<div id=\"id_376\"> </div>"
            ],
            "text/plain": [
              "<IPython.core.display.HTML object>"
            ]
          },
          "metadata": {},
          "output_type": "display_data"
        },
        {
          "metadata": {
            "tags": null
          },
          "name": "stdout",
          "output_type": "stream",
          "text": [
            "generate_samples: generated 423 samples in 5.786952018737793s\n",
            "Instrument: 376\n"
          ]
        },
        {
          "data": {
            "text/html": [
              "<div id=\"id_377\"> </div>"
            ],
            "text/plain": [
              "<IPython.core.display.HTML object>"
            ]
          },
          "metadata": {},
          "output_type": "display_data"
        },
        {
          "metadata": {
            "tags": null
          },
          "name": "stdout",
          "output_type": "stream",
          "text": [
            "generate_samples: generated 423 samples in 5.775763750076294s\n",
            "Instrument: 377\n"
          ]
        },
        {
          "data": {
            "text/html": [
              "<div id=\"id_378\"> </div>"
            ],
            "text/plain": [
              "<IPython.core.display.HTML object>"
            ]
          },
          "metadata": {},
          "output_type": "display_data"
        },
        {
          "metadata": {
            "tags": null
          },
          "name": "stdout",
          "output_type": "stream",
          "text": [
            "generate_samples: generated 423 samples in 5.776667356491089s\n",
            "Instrument: 378\n"
          ]
        },
        {
          "data": {
            "text/html": [
              "<div id=\"id_379\"> </div>"
            ],
            "text/plain": [
              "<IPython.core.display.HTML object>"
            ]
          },
          "metadata": {},
          "output_type": "display_data"
        },
        {
          "metadata": {
            "tags": null
          },
          "name": "stdout",
          "output_type": "stream",
          "text": [
            "generate_samples: generated 423 samples in 5.785705804824829s\n",
            "Instrument: 379\n"
          ]
        },
        {
          "data": {
            "text/html": [
              "<div id=\"id_380\"> </div>"
            ],
            "text/plain": [
              "<IPython.core.display.HTML object>"
            ]
          },
          "metadata": {},
          "output_type": "display_data"
        },
        {
          "metadata": {
            "tags": null
          },
          "name": "stdout",
          "output_type": "stream",
          "text": [
            "generate_samples: generated 423 samples in 5.771942853927612s\n",
            "Instrument: 380\n"
          ]
        },
        {
          "data": {
            "text/html": [
              "<div id=\"id_381\"> </div>"
            ],
            "text/plain": [
              "<IPython.core.display.HTML object>"
            ]
          },
          "metadata": {},
          "output_type": "display_data"
        },
        {
          "metadata": {
            "tags": null
          },
          "name": "stdout",
          "output_type": "stream",
          "text": [
            "generate_samples: generated 423 samples in 5.780657052993774s\n",
            "Instrument: 381\n"
          ]
        },
        {
          "data": {
            "text/html": [
              "<div id=\"id_382\"> </div>"
            ],
            "text/plain": [
              "<IPython.core.display.HTML object>"
            ]
          },
          "metadata": {},
          "output_type": "display_data"
        },
        {
          "metadata": {
            "tags": null
          },
          "name": "stdout",
          "output_type": "stream",
          "text": [
            "generate_samples: generated 423 samples in 5.816209554672241s\n",
            "Instrument: 382\n"
          ]
        },
        {
          "data": {
            "text/html": [
              "<div id=\"id_383\"> </div>"
            ],
            "text/plain": [
              "<IPython.core.display.HTML object>"
            ]
          },
          "metadata": {},
          "output_type": "display_data"
        },
        {
          "metadata": {
            "tags": null
          },
          "name": "stdout",
          "output_type": "stream",
          "text": [
            "generate_samples: generated 423 samples in 5.778627634048462s\n",
            "Instrument: 383\n"
          ]
        },
        {
          "data": {
            "text/html": [
              "<div id=\"id_384\"> </div>"
            ],
            "text/plain": [
              "<IPython.core.display.HTML object>"
            ]
          },
          "metadata": {},
          "output_type": "display_data"
        },
        {
          "metadata": {
            "tags": null
          },
          "name": "stdout",
          "output_type": "stream",
          "text": [
            "generate_samples: generated 423 samples in 5.752179384231567s\n",
            "Instrument: 384\n"
          ]
        },
        {
          "data": {
            "text/html": [
              "<div id=\"id_385\"> </div>"
            ],
            "text/plain": [
              "<IPython.core.display.HTML object>"
            ]
          },
          "metadata": {},
          "output_type": "display_data"
        },
        {
          "metadata": {
            "tags": null
          },
          "name": "stdout",
          "output_type": "stream",
          "text": [
            "generate_samples: generated 423 samples in 5.7683188915252686s\n",
            "Instrument: 385\n"
          ]
        },
        {
          "data": {
            "text/html": [
              "<div id=\"id_386\"> </div>"
            ],
            "text/plain": [
              "<IPython.core.display.HTML object>"
            ]
          },
          "metadata": {},
          "output_type": "display_data"
        },
        {
          "metadata": {
            "tags": null
          },
          "name": "stdout",
          "output_type": "stream",
          "text": [
            "generate_samples: generated 423 samples in 5.7732250690460205s\n",
            "Instrument: 386\n"
          ]
        },
        {
          "data": {
            "text/html": [
              "<div id=\"id_387\"> </div>"
            ],
            "text/plain": [
              "<IPython.core.display.HTML object>"
            ]
          },
          "metadata": {},
          "output_type": "display_data"
        },
        {
          "metadata": {
            "tags": null
          },
          "name": "stdout",
          "output_type": "stream",
          "text": [
            "generate_samples: generated 423 samples in 5.757857084274292s\n",
            "Instrument: 387\n"
          ]
        },
        {
          "data": {
            "text/html": [
              "<div id=\"id_388\"> </div>"
            ],
            "text/plain": [
              "<IPython.core.display.HTML object>"
            ]
          },
          "metadata": {},
          "output_type": "display_data"
        },
        {
          "metadata": {
            "tags": null
          },
          "name": "stdout",
          "output_type": "stream",
          "text": [
            "generate_samples: generated 423 samples in 5.766020774841309s\n",
            "Instrument: 388\n"
          ]
        },
        {
          "data": {
            "text/html": [
              "<div id=\"id_389\"> </div>"
            ],
            "text/plain": [
              "<IPython.core.display.HTML object>"
            ]
          },
          "metadata": {},
          "output_type": "display_data"
        },
        {
          "metadata": {
            "tags": null
          },
          "name": "stdout",
          "output_type": "stream",
          "text": [
            "generate_samples: generated 423 samples in 5.798835039138794s\n",
            "Instrument: 389\n"
          ]
        },
        {
          "data": {
            "text/html": [
              "<div id=\"id_390\"> </div>"
            ],
            "text/plain": [
              "<IPython.core.display.HTML object>"
            ]
          },
          "metadata": {},
          "output_type": "display_data"
        },
        {
          "metadata": {
            "tags": null
          },
          "name": "stdout",
          "output_type": "stream",
          "text": [
            "generate_samples: generated 423 samples in 5.779351711273193s\n",
            "Instrument: 390\n"
          ]
        },
        {
          "data": {
            "text/html": [
              "<div id=\"id_391\"> </div>"
            ],
            "text/plain": [
              "<IPython.core.display.HTML object>"
            ]
          },
          "metadata": {},
          "output_type": "display_data"
        },
        {
          "metadata": {
            "tags": null
          },
          "name": "stdout",
          "output_type": "stream",
          "text": [
            "generate_samples: generated 423 samples in 5.75596284866333s\n",
            "Instrument: 391\n"
          ]
        },
        {
          "data": {
            "text/html": [
              "<div id=\"id_392\"> </div>"
            ],
            "text/plain": [
              "<IPython.core.display.HTML object>"
            ]
          },
          "metadata": {},
          "output_type": "display_data"
        },
        {
          "metadata": {
            "tags": null
          },
          "name": "stdout",
          "output_type": "stream",
          "text": [
            "generate_samples: generated 423 samples in 5.75993275642395s\n",
            "Instrument: 392\n"
          ]
        },
        {
          "data": {
            "text/html": [
              "<div id=\"id_393\"> </div>"
            ],
            "text/plain": [
              "<IPython.core.display.HTML object>"
            ]
          },
          "metadata": {},
          "output_type": "display_data"
        },
        {
          "metadata": {
            "tags": null
          },
          "name": "stdout",
          "output_type": "stream",
          "text": [
            "generate_samples: generated 423 samples in 5.763741731643677s\n",
            "Instrument: 393\n"
          ]
        },
        {
          "data": {
            "text/html": [
              "<div id=\"id_394\"> </div>"
            ],
            "text/plain": [
              "<IPython.core.display.HTML object>"
            ]
          },
          "metadata": {},
          "output_type": "display_data"
        },
        {
          "metadata": {
            "tags": null
          },
          "name": "stdout",
          "output_type": "stream",
          "text": [
            "generate_samples: generated 423 samples in 5.74626898765564s\n",
            "Instrument: 394\n"
          ]
        },
        {
          "data": {
            "text/html": [
              "<div id=\"id_395\"> </div>"
            ],
            "text/plain": [
              "<IPython.core.display.HTML object>"
            ]
          },
          "metadata": {},
          "output_type": "display_data"
        },
        {
          "metadata": {
            "tags": null
          },
          "name": "stdout",
          "output_type": "stream",
          "text": [
            "generate_samples: generated 423 samples in 5.74797511100769s\n",
            "Instrument: 395\n"
          ]
        },
        {
          "data": {
            "text/html": [
              "<div id=\"id_396\"> </div>"
            ],
            "text/plain": [
              "<IPython.core.display.HTML object>"
            ]
          },
          "metadata": {},
          "output_type": "display_data"
        },
        {
          "metadata": {
            "tags": null
          },
          "name": "stdout",
          "output_type": "stream",
          "text": [
            "generate_samples: generated 423 samples in 5.748217821121216s\n",
            "Instrument: 396\n"
          ]
        },
        {
          "data": {
            "text/html": [
              "<div id=\"id_397\"> </div>"
            ],
            "text/plain": [
              "<IPython.core.display.HTML object>"
            ]
          },
          "metadata": {},
          "output_type": "display_data"
        },
        {
          "metadata": {
            "tags": null
          },
          "name": "stdout",
          "output_type": "stream",
          "text": [
            "generate_samples: generated 423 samples in 5.770070314407349s\n",
            "Instrument: 397\n"
          ]
        },
        {
          "data": {
            "text/html": [
              "<div id=\"id_398\"> </div>"
            ],
            "text/plain": [
              "<IPython.core.display.HTML object>"
            ]
          },
          "metadata": {},
          "output_type": "display_data"
        },
        {
          "metadata": {
            "tags": null
          },
          "name": "stdout",
          "output_type": "stream",
          "text": [
            "generate_samples: generated 423 samples in 5.774467945098877s\n",
            "Instrument: 398\n"
          ]
        },
        {
          "data": {
            "text/html": [
              "<div id=\"id_399\"> </div>"
            ],
            "text/plain": [
              "<IPython.core.display.HTML object>"
            ]
          },
          "metadata": {},
          "output_type": "display_data"
        },
        {
          "metadata": {
            "tags": null
          },
          "name": "stdout",
          "output_type": "stream",
          "text": [
            "generate_samples: generated 423 samples in 5.75594425201416s\n",
            "Instrument: 399\n"
          ]
        },
        {
          "data": {
            "text/html": [
              "<div id=\"id_400\"> </div>"
            ],
            "text/plain": [
              "<IPython.core.display.HTML object>"
            ]
          },
          "metadata": {},
          "output_type": "display_data"
        },
        {
          "metadata": {
            "tags": null
          },
          "name": "stdout",
          "output_type": "stream",
          "text": [
            "generate_samples: generated 423 samples in 5.769351005554199s\n",
            "Instrument: 400\n"
          ]
        },
        {
          "data": {
            "text/html": [
              "<div id=\"id_401\"> </div>"
            ],
            "text/plain": [
              "<IPython.core.display.HTML object>"
            ]
          },
          "metadata": {},
          "output_type": "display_data"
        },
        {
          "metadata": {
            "tags": null
          },
          "name": "stdout",
          "output_type": "stream",
          "text": [
            "generate_samples: generated 423 samples in 5.7433178424835205s\n",
            "Instrument: 401\n"
          ]
        },
        {
          "data": {
            "text/html": [
              "<div id=\"id_402\"> </div>"
            ],
            "text/plain": [
              "<IPython.core.display.HTML object>"
            ]
          },
          "metadata": {},
          "output_type": "display_data"
        },
        {
          "metadata": {
            "tags": null
          },
          "name": "stdout",
          "output_type": "stream",
          "text": [
            "generate_samples: generated 423 samples in 5.758184194564819s\n",
            "Instrument: 402\n"
          ]
        },
        {
          "data": {
            "text/html": [
              "<div id=\"id_403\"> </div>"
            ],
            "text/plain": [
              "<IPython.core.display.HTML object>"
            ]
          },
          "metadata": {},
          "output_type": "display_data"
        },
        {
          "metadata": {
            "tags": null
          },
          "name": "stdout",
          "output_type": "stream",
          "text": [
            "generate_samples: generated 423 samples in 5.750046968460083s\n",
            "Instrument: 403\n"
          ]
        },
        {
          "data": {
            "text/html": [
              "<div id=\"id_404\"> </div>"
            ],
            "text/plain": [
              "<IPython.core.display.HTML object>"
            ]
          },
          "metadata": {},
          "output_type": "display_data"
        },
        {
          "metadata": {
            "tags": null
          },
          "name": "stdout",
          "output_type": "stream",
          "text": [
            "generate_samples: generated 423 samples in 5.754880905151367s\n",
            "Instrument: 404\n"
          ]
        },
        {
          "data": {
            "text/html": [
              "<div id=\"id_405\"> </div>"
            ],
            "text/plain": [
              "<IPython.core.display.HTML object>"
            ]
          },
          "metadata": {},
          "output_type": "display_data"
        },
        {
          "metadata": {
            "tags": null
          },
          "name": "stdout",
          "output_type": "stream",
          "text": [
            "generate_samples: generated 423 samples in 5.7599875926971436s\n",
            "Instrument: 405\n"
          ]
        },
        {
          "data": {
            "text/html": [
              "<div id=\"id_406\"> </div>"
            ],
            "text/plain": [
              "<IPython.core.display.HTML object>"
            ]
          },
          "metadata": {},
          "output_type": "display_data"
        },
        {
          "metadata": {
            "tags": null
          },
          "name": "stdout",
          "output_type": "stream",
          "text": [
            "generate_samples: generated 423 samples in 5.759145021438599s\n",
            "Instrument: 406\n"
          ]
        },
        {
          "data": {
            "text/html": [
              "<div id=\"id_407\"> </div>"
            ],
            "text/plain": [
              "<IPython.core.display.HTML object>"
            ]
          },
          "metadata": {},
          "output_type": "display_data"
        },
        {
          "metadata": {
            "tags": null
          },
          "name": "stdout",
          "output_type": "stream",
          "text": [
            "generate_samples: generated 423 samples in 5.755525350570679s\n",
            "Instrument: 407\n"
          ]
        },
        {
          "data": {
            "text/html": [
              "<div id=\"id_408\"> </div>"
            ],
            "text/plain": [
              "<IPython.core.display.HTML object>"
            ]
          },
          "metadata": {},
          "output_type": "display_data"
        },
        {
          "metadata": {
            "tags": null
          },
          "name": "stdout",
          "output_type": "stream",
          "text": [
            "generate_samples: generated 423 samples in 5.759195804595947s\n",
            "Instrument: 408\n"
          ]
        },
        {
          "data": {
            "text/html": [
              "<div id=\"id_409\"> </div>"
            ],
            "text/plain": [
              "<IPython.core.display.HTML object>"
            ]
          },
          "metadata": {},
          "output_type": "display_data"
        },
        {
          "metadata": {
            "tags": null
          },
          "name": "stdout",
          "output_type": "stream",
          "text": [
            "generate_samples: generated 423 samples in 5.759459018707275s\n",
            "Instrument: 409\n"
          ]
        },
        {
          "data": {
            "text/html": [
              "<div id=\"id_410\"> </div>"
            ],
            "text/plain": [
              "<IPython.core.display.HTML object>"
            ]
          },
          "metadata": {},
          "output_type": "display_data"
        },
        {
          "metadata": {
            "tags": null
          },
          "name": "stdout",
          "output_type": "stream",
          "text": [
            "generate_samples: generated 423 samples in 5.751937627792358s\n",
            "Instrument: 410\n"
          ]
        },
        {
          "data": {
            "text/html": [
              "<div id=\"id_411\"> </div>"
            ],
            "text/plain": [
              "<IPython.core.display.HTML object>"
            ]
          },
          "metadata": {},
          "output_type": "display_data"
        },
        {
          "metadata": {
            "tags": null
          },
          "name": "stdout",
          "output_type": "stream",
          "text": [
            "generate_samples: generated 423 samples in 5.780537843704224s\n",
            "Instrument: 411\n"
          ]
        },
        {
          "data": {
            "text/html": [
              "<div id=\"id_412\"> </div>"
            ],
            "text/plain": [
              "<IPython.core.display.HTML object>"
            ]
          },
          "metadata": {},
          "output_type": "display_data"
        },
        {
          "metadata": {
            "tags": null
          },
          "name": "stdout",
          "output_type": "stream",
          "text": [
            "generate_samples: generated 423 samples in 5.777921915054321s\n",
            "Instrument: 412\n"
          ]
        },
        {
          "data": {
            "text/html": [
              "<div id=\"id_413\"> </div>"
            ],
            "text/plain": [
              "<IPython.core.display.HTML object>"
            ]
          },
          "metadata": {},
          "output_type": "display_data"
        },
        {
          "metadata": {
            "tags": null
          },
          "name": "stdout",
          "output_type": "stream",
          "text": [
            "generate_samples: generated 423 samples in 5.766094207763672s\n",
            "Instrument: 413\n"
          ]
        },
        {
          "data": {
            "text/html": [
              "<div id=\"id_414\"> </div>"
            ],
            "text/plain": [
              "<IPython.core.display.HTML object>"
            ]
          },
          "metadata": {},
          "output_type": "display_data"
        },
        {
          "metadata": {
            "tags": null
          },
          "name": "stdout",
          "output_type": "stream",
          "text": [
            "generate_samples: generated 423 samples in 5.821652412414551s\n",
            "Instrument: 414\n"
          ]
        },
        {
          "data": {
            "text/html": [
              "<div id=\"id_415\"> </div>"
            ],
            "text/plain": [
              "<IPython.core.display.HTML object>"
            ]
          },
          "metadata": {},
          "output_type": "display_data"
        },
        {
          "metadata": {
            "tags": null
          },
          "name": "stdout",
          "output_type": "stream",
          "text": [
            "generate_samples: generated 423 samples in 5.787331581115723s\n",
            "Instrument: 415\n"
          ]
        },
        {
          "data": {
            "text/html": [
              "<div id=\"id_416\"> </div>"
            ],
            "text/plain": [
              "<IPython.core.display.HTML object>"
            ]
          },
          "metadata": {},
          "output_type": "display_data"
        },
        {
          "metadata": {
            "tags": null
          },
          "name": "stdout",
          "output_type": "stream",
          "text": [
            "generate_samples: generated 423 samples in 5.776694297790527s\n",
            "Instrument: 416\n"
          ]
        },
        {
          "data": {
            "text/html": [
              "<div id=\"id_417\"> </div>"
            ],
            "text/plain": [
              "<IPython.core.display.HTML object>"
            ]
          },
          "metadata": {},
          "output_type": "display_data"
        },
        {
          "metadata": {
            "tags": null
          },
          "name": "stdout",
          "output_type": "stream",
          "text": [
            "generate_samples: generated 423 samples in 5.806822061538696s\n",
            "Instrument: 417\n"
          ]
        },
        {
          "data": {
            "text/html": [
              "<div id=\"id_418\"> </div>"
            ],
            "text/plain": [
              "<IPython.core.display.HTML object>"
            ]
          },
          "metadata": {},
          "output_type": "display_data"
        },
        {
          "metadata": {
            "tags": null
          },
          "name": "stdout",
          "output_type": "stream",
          "text": [
            "generate_samples: generated 423 samples in 5.783478498458862s\n",
            "Instrument: 418\n"
          ]
        },
        {
          "data": {
            "text/html": [
              "<div id=\"id_419\"> </div>"
            ],
            "text/plain": [
              "<IPython.core.display.HTML object>"
            ]
          },
          "metadata": {},
          "output_type": "display_data"
        },
        {
          "metadata": {
            "tags": null
          },
          "name": "stdout",
          "output_type": "stream",
          "text": [
            "generate_samples: generated 423 samples in 5.790482997894287s\n",
            "Instrument: 419\n"
          ]
        },
        {
          "data": {
            "text/html": [
              "<div id=\"id_420\"> </div>"
            ],
            "text/plain": [
              "<IPython.core.display.HTML object>"
            ]
          },
          "metadata": {},
          "output_type": "display_data"
        },
        {
          "metadata": {
            "tags": null
          },
          "name": "stdout",
          "output_type": "stream",
          "text": [
            "generate_samples: generated 423 samples in 5.772320985794067s\n",
            "Instrument: 420\n"
          ]
        },
        {
          "data": {
            "text/html": [
              "<div id=\"id_421\"> </div>"
            ],
            "text/plain": [
              "<IPython.core.display.HTML object>"
            ]
          },
          "metadata": {},
          "output_type": "display_data"
        },
        {
          "metadata": {
            "tags": null
          },
          "name": "stdout",
          "output_type": "stream",
          "text": [
            "generate_samples: generated 423 samples in 5.793623208999634s\n",
            "Instrument: 421\n"
          ]
        },
        {
          "data": {
            "text/html": [
              "<div id=\"id_422\"> </div>"
            ],
            "text/plain": [
              "<IPython.core.display.HTML object>"
            ]
          },
          "metadata": {},
          "output_type": "display_data"
        },
        {
          "metadata": {
            "tags": null
          },
          "name": "stdout",
          "output_type": "stream",
          "text": [
            "generate_samples: generated 423 samples in 5.776576042175293s\n",
            "Instrument: 422\n"
          ]
        },
        {
          "data": {
            "text/html": [
              "<div id=\"id_423\"> </div>"
            ],
            "text/plain": [
              "<IPython.core.display.HTML object>"
            ]
          },
          "metadata": {},
          "output_type": "display_data"
        },
        {
          "metadata": {
            "tags": null
          },
          "name": "stdout",
          "output_type": "stream",
          "text": [
            "generate_samples: generated 423 samples in 5.7867591381073s\n",
            "Instrument: 423\n"
          ]
        },
        {
          "data": {
            "text/html": [
              "<div id=\"id_424\"> </div>"
            ],
            "text/plain": [
              "<IPython.core.display.HTML object>"
            ]
          },
          "metadata": {},
          "output_type": "display_data"
        },
        {
          "metadata": {
            "tags": null
          },
          "name": "stdout",
          "output_type": "stream",
          "text": [
            "generate_samples: generated 423 samples in 5.797057151794434s\n",
            "Instrument: 424\n"
          ]
        },
        {
          "data": {
            "text/html": [
              "<div id=\"id_425\"> </div>"
            ],
            "text/plain": [
              "<IPython.core.display.HTML object>"
            ]
          },
          "metadata": {},
          "output_type": "display_data"
        },
        {
          "metadata": {
            "tags": null
          },
          "name": "stdout",
          "output_type": "stream",
          "text": [
            "generate_samples: generated 423 samples in 5.798461198806763s\n",
            "Instrument: 425\n"
          ]
        },
        {
          "data": {
            "text/html": [
              "<div id=\"id_426\"> </div>"
            ],
            "text/plain": [
              "<IPython.core.display.HTML object>"
            ]
          },
          "metadata": {},
          "output_type": "display_data"
        },
        {
          "metadata": {
            "tags": null
          },
          "name": "stdout",
          "output_type": "stream",
          "text": [
            "generate_samples: generated 423 samples in 5.768747329711914s\n",
            "Instrument: 426\n"
          ]
        },
        {
          "data": {
            "text/html": [
              "<div id=\"id_427\"> </div>"
            ],
            "text/plain": [
              "<IPython.core.display.HTML object>"
            ]
          },
          "metadata": {},
          "output_type": "display_data"
        },
        {
          "metadata": {
            "tags": null
          },
          "name": "stdout",
          "output_type": "stream",
          "text": [
            "generate_samples: generated 423 samples in 5.768780469894409s\n",
            "Instrument: 427\n"
          ]
        },
        {
          "data": {
            "text/html": [
              "<div id=\"id_428\"> </div>"
            ],
            "text/plain": [
              "<IPython.core.display.HTML object>"
            ]
          },
          "metadata": {},
          "output_type": "display_data"
        },
        {
          "metadata": {
            "tags": null
          },
          "name": "stdout",
          "output_type": "stream",
          "text": [
            "generate_samples: generated 423 samples in 5.771920442581177s\n",
            "Instrument: 428\n"
          ]
        },
        {
          "data": {
            "text/html": [
              "<div id=\"id_429\"> </div>"
            ],
            "text/plain": [
              "<IPython.core.display.HTML object>"
            ]
          },
          "metadata": {},
          "output_type": "display_data"
        },
        {
          "metadata": {
            "tags": null
          },
          "name": "stdout",
          "output_type": "stream",
          "text": [
            "generate_samples: generated 423 samples in 5.773953199386597s\n",
            "Instrument: 429\n"
          ]
        },
        {
          "data": {
            "text/html": [
              "<div id=\"id_430\"> </div>"
            ],
            "text/plain": [
              "<IPython.core.display.HTML object>"
            ]
          },
          "metadata": {},
          "output_type": "display_data"
        },
        {
          "metadata": {
            "tags": null
          },
          "name": "stdout",
          "output_type": "stream",
          "text": [
            "generate_samples: generated 423 samples in 5.769941329956055s\n",
            "Instrument: 430\n"
          ]
        },
        {
          "data": {
            "text/html": [
              "<div id=\"id_431\"> </div>"
            ],
            "text/plain": [
              "<IPython.core.display.HTML object>"
            ]
          },
          "metadata": {},
          "output_type": "display_data"
        },
        {
          "metadata": {
            "tags": null
          },
          "name": "stdout",
          "output_type": "stream",
          "text": [
            "generate_samples: generated 423 samples in 5.764572858810425s\n",
            "Instrument: 431\n"
          ]
        },
        {
          "data": {
            "text/html": [
              "<div id=\"id_432\"> </div>"
            ],
            "text/plain": [
              "<IPython.core.display.HTML object>"
            ]
          },
          "metadata": {},
          "output_type": "display_data"
        },
        {
          "metadata": {
            "tags": null
          },
          "name": "stdout",
          "output_type": "stream",
          "text": [
            "generate_samples: generated 423 samples in 5.790606737136841s\n",
            "Instrument: 432\n"
          ]
        },
        {
          "data": {
            "text/html": [
              "<div id=\"id_433\"> </div>"
            ],
            "text/plain": [
              "<IPython.core.display.HTML object>"
            ]
          },
          "metadata": {},
          "output_type": "display_data"
        },
        {
          "metadata": {
            "tags": null
          },
          "name": "stdout",
          "output_type": "stream",
          "text": [
            "generate_samples: generated 423 samples in 5.781981468200684s\n",
            "Instrument: 433\n"
          ]
        },
        {
          "data": {
            "text/html": [
              "<div id=\"id_434\"> </div>"
            ],
            "text/plain": [
              "<IPython.core.display.HTML object>"
            ]
          },
          "metadata": {},
          "output_type": "display_data"
        },
        {
          "metadata": {
            "tags": null
          },
          "name": "stdout",
          "output_type": "stream",
          "text": [
            "generate_samples: generated 423 samples in 5.8278961181640625s\n",
            "Instrument: 434\n"
          ]
        },
        {
          "data": {
            "text/html": [
              "<div id=\"id_435\"> </div>"
            ],
            "text/plain": [
              "<IPython.core.display.HTML object>"
            ]
          },
          "metadata": {},
          "output_type": "display_data"
        },
        {
          "metadata": {
            "tags": null
          },
          "name": "stdout",
          "output_type": "stream",
          "text": [
            "generate_samples: generated 423 samples in 5.767580509185791s\n",
            "Instrument: 435\n"
          ]
        },
        {
          "data": {
            "text/html": [
              "<div id=\"id_436\"> </div>"
            ],
            "text/plain": [
              "<IPython.core.display.HTML object>"
            ]
          },
          "metadata": {},
          "output_type": "display_data"
        },
        {
          "metadata": {
            "tags": null
          },
          "name": "stdout",
          "output_type": "stream",
          "text": [
            "generate_samples: generated 423 samples in 5.7760021686553955s\n",
            "Instrument: 436\n"
          ]
        },
        {
          "data": {
            "text/html": [
              "<div id=\"id_437\"> </div>"
            ],
            "text/plain": [
              "<IPython.core.display.HTML object>"
            ]
          },
          "metadata": {},
          "output_type": "display_data"
        },
        {
          "metadata": {
            "tags": null
          },
          "name": "stdout",
          "output_type": "stream",
          "text": [
            "generate_samples: generated 423 samples in 5.793157339096069s\n",
            "Instrument: 437\n"
          ]
        },
        {
          "data": {
            "text/html": [
              "<div id=\"id_438\"> </div>"
            ],
            "text/plain": [
              "<IPython.core.display.HTML object>"
            ]
          },
          "metadata": {},
          "output_type": "display_data"
        },
        {
          "metadata": {
            "tags": null
          },
          "name": "stdout",
          "output_type": "stream",
          "text": [
            "generate_samples: generated 423 samples in 5.791301727294922s\n",
            "Instrument: 438\n"
          ]
        },
        {
          "data": {
            "text/html": [
              "<div id=\"id_439\"> </div>"
            ],
            "text/plain": [
              "<IPython.core.display.HTML object>"
            ]
          },
          "metadata": {},
          "output_type": "display_data"
        },
        {
          "metadata": {
            "tags": null
          },
          "name": "stdout",
          "output_type": "stream",
          "text": [
            "generate_samples: generated 423 samples in 5.7763941287994385s\n",
            "Instrument: 439\n"
          ]
        },
        {
          "data": {
            "text/html": [
              "<div id=\"id_440\"> </div>"
            ],
            "text/plain": [
              "<IPython.core.display.HTML object>"
            ]
          },
          "metadata": {},
          "output_type": "display_data"
        },
        {
          "metadata": {
            "tags": null
          },
          "name": "stdout",
          "output_type": "stream",
          "text": [
            "generate_samples: generated 423 samples in 5.7800538539886475s\n",
            "Instrument: 440\n"
          ]
        },
        {
          "data": {
            "text/html": [
              "<div id=\"id_441\"> </div>"
            ],
            "text/plain": [
              "<IPython.core.display.HTML object>"
            ]
          },
          "metadata": {},
          "output_type": "display_data"
        },
        {
          "metadata": {
            "tags": null
          },
          "name": "stdout",
          "output_type": "stream",
          "text": [
            "generate_samples: generated 423 samples in 5.757149696350098s\n",
            "Instrument: 441\n"
          ]
        },
        {
          "data": {
            "text/html": [
              "<div id=\"id_442\"> </div>"
            ],
            "text/plain": [
              "<IPython.core.display.HTML object>"
            ]
          },
          "metadata": {},
          "output_type": "display_data"
        },
        {
          "metadata": {
            "tags": null
          },
          "name": "stdout",
          "output_type": "stream",
          "text": [
            "generate_samples: generated 423 samples in 5.769933700561523s\n",
            "Instrument: 442\n"
          ]
        },
        {
          "data": {
            "text/html": [
              "<div id=\"id_443\"> </div>"
            ],
            "text/plain": [
              "<IPython.core.display.HTML object>"
            ]
          },
          "metadata": {},
          "output_type": "display_data"
        },
        {
          "metadata": {
            "tags": null
          },
          "name": "stdout",
          "output_type": "stream",
          "text": [
            "generate_samples: generated 423 samples in 5.757287979125977s\n",
            "Instrument: 443\n"
          ]
        },
        {
          "data": {
            "text/html": [
              "<div id=\"id_444\"> </div>"
            ],
            "text/plain": [
              "<IPython.core.display.HTML object>"
            ]
          },
          "metadata": {},
          "output_type": "display_data"
        },
        {
          "metadata": {
            "tags": null
          },
          "name": "stdout",
          "output_type": "stream",
          "text": [
            "generate_samples: generated 423 samples in 5.762264966964722s\n",
            "Instrument: 444\n"
          ]
        },
        {
          "data": {
            "text/html": [
              "<div id=\"id_445\"> </div>"
            ],
            "text/plain": [
              "<IPython.core.display.HTML object>"
            ]
          },
          "metadata": {},
          "output_type": "display_data"
        },
        {
          "metadata": {
            "tags": null
          },
          "name": "stdout",
          "output_type": "stream",
          "text": [
            "generate_samples: generated 423 samples in 5.769143104553223s\n",
            "Instrument: 445\n"
          ]
        },
        {
          "data": {
            "text/html": [
              "<div id=\"id_446\"> </div>"
            ],
            "text/plain": [
              "<IPython.core.display.HTML object>"
            ]
          },
          "metadata": {},
          "output_type": "display_data"
        },
        {
          "metadata": {
            "tags": null
          },
          "name": "stdout",
          "output_type": "stream",
          "text": [
            "generate_samples: generated 423 samples in 5.760137319564819s\n",
            "Instrument: 446\n"
          ]
        },
        {
          "data": {
            "text/html": [
              "<div id=\"id_447\"> </div>"
            ],
            "text/plain": [
              "<IPython.core.display.HTML object>"
            ]
          },
          "metadata": {},
          "output_type": "display_data"
        },
        {
          "metadata": {
            "tags": null
          },
          "name": "stdout",
          "output_type": "stream",
          "text": [
            "generate_samples: generated 423 samples in 5.771222829818726s\n",
            "Instrument: 447\n"
          ]
        },
        {
          "data": {
            "text/html": [
              "<div id=\"id_448\"> </div>"
            ],
            "text/plain": [
              "<IPython.core.display.HTML object>"
            ]
          },
          "metadata": {},
          "output_type": "display_data"
        },
        {
          "metadata": {
            "tags": null
          },
          "name": "stdout",
          "output_type": "stream",
          "text": [
            "generate_samples: generated 423 samples in 5.8222246170043945s\n",
            "Instrument: 448\n"
          ]
        },
        {
          "data": {
            "text/html": [
              "<div id=\"id_449\"> </div>"
            ],
            "text/plain": [
              "<IPython.core.display.HTML object>"
            ]
          },
          "metadata": {},
          "output_type": "display_data"
        },
        {
          "metadata": {
            "tags": null
          },
          "name": "stdout",
          "output_type": "stream",
          "text": [
            "generate_samples: generated 423 samples in 5.791998863220215s\n",
            "Instrument: 449\n"
          ]
        },
        {
          "data": {
            "text/html": [
              "<div id=\"id_450\"> </div>"
            ],
            "text/plain": [
              "<IPython.core.display.HTML object>"
            ]
          },
          "metadata": {},
          "output_type": "display_data"
        },
        {
          "metadata": {
            "tags": null
          },
          "name": "stdout",
          "output_type": "stream",
          "text": [
            "generate_samples: generated 423 samples in 5.773181676864624s\n",
            "Instrument: 450\n"
          ]
        },
        {
          "data": {
            "text/html": [
              "<div id=\"id_451\"> </div>"
            ],
            "text/plain": [
              "<IPython.core.display.HTML object>"
            ]
          },
          "metadata": {},
          "output_type": "display_data"
        },
        {
          "metadata": {
            "tags": null
          },
          "name": "stdout",
          "output_type": "stream",
          "text": [
            "generate_samples: generated 423 samples in 5.778148889541626s\n",
            "Instrument: 451\n"
          ]
        },
        {
          "data": {
            "text/html": [
              "<div id=\"id_452\"> </div>"
            ],
            "text/plain": [
              "<IPython.core.display.HTML object>"
            ]
          },
          "metadata": {},
          "output_type": "display_data"
        },
        {
          "metadata": {
            "tags": null
          },
          "name": "stdout",
          "output_type": "stream",
          "text": [
            "generate_samples: generated 423 samples in 5.785547494888306s\n",
            "Instrument: 452\n"
          ]
        },
        {
          "data": {
            "text/html": [
              "<div id=\"id_453\"> </div>"
            ],
            "text/plain": [
              "<IPython.core.display.HTML object>"
            ]
          },
          "metadata": {},
          "output_type": "display_data"
        },
        {
          "metadata": {
            "tags": null
          },
          "name": "stdout",
          "output_type": "stream",
          "text": [
            "generate_samples: generated 423 samples in 5.779697895050049s\n",
            "Instrument: 453\n"
          ]
        },
        {
          "data": {
            "text/html": [
              "<div id=\"id_454\"> </div>"
            ],
            "text/plain": [
              "<IPython.core.display.HTML object>"
            ]
          },
          "metadata": {},
          "output_type": "display_data"
        },
        {
          "metadata": {
            "tags": null
          },
          "name": "stdout",
          "output_type": "stream",
          "text": [
            "generate_samples: generated 423 samples in 5.817133188247681s\n",
            "Instrument: 454\n"
          ]
        },
        {
          "data": {
            "text/html": [
              "<div id=\"id_455\"> </div>"
            ],
            "text/plain": [
              "<IPython.core.display.HTML object>"
            ]
          },
          "metadata": {},
          "output_type": "display_data"
        },
        {
          "metadata": {
            "tags": null
          },
          "name": "stdout",
          "output_type": "stream",
          "text": [
            "generate_samples: generated 423 samples in 5.7661027908325195s\n",
            "Instrument: 455\n"
          ]
        },
        {
          "data": {
            "text/html": [
              "<div id=\"id_456\"> </div>"
            ],
            "text/plain": [
              "<IPython.core.display.HTML object>"
            ]
          },
          "metadata": {},
          "output_type": "display_data"
        },
        {
          "metadata": {
            "tags": null
          },
          "name": "stdout",
          "output_type": "stream",
          "text": [
            "generate_samples: generated 423 samples in 5.827291488647461s\n",
            "Instrument: 456\n"
          ]
        },
        {
          "data": {
            "text/html": [
              "<div id=\"id_457\"> </div>"
            ],
            "text/plain": [
              "<IPython.core.display.HTML object>"
            ]
          },
          "metadata": {},
          "output_type": "display_data"
        },
        {
          "metadata": {
            "tags": null
          },
          "name": "stdout",
          "output_type": "stream",
          "text": [
            "generate_samples: generated 423 samples in 5.7769999504089355s\n",
            "Instrument: 457\n"
          ]
        },
        {
          "data": {
            "text/html": [
              "<div id=\"id_458\"> </div>"
            ],
            "text/plain": [
              "<IPython.core.display.HTML object>"
            ]
          },
          "metadata": {},
          "output_type": "display_data"
        },
        {
          "metadata": {
            "tags": null
          },
          "name": "stdout",
          "output_type": "stream",
          "text": [
            "generate_samples: generated 423 samples in 5.768683910369873s\n",
            "Instrument: 458\n"
          ]
        },
        {
          "data": {
            "text/html": [
              "<div id=\"id_459\"> </div>"
            ],
            "text/plain": [
              "<IPython.core.display.HTML object>"
            ]
          },
          "metadata": {},
          "output_type": "display_data"
        },
        {
          "metadata": {
            "tags": null
          },
          "name": "stdout",
          "output_type": "stream",
          "text": [
            "generate_samples: generated 423 samples in 5.786686182022095s\n",
            "Instrument: 459\n"
          ]
        },
        {
          "data": {
            "text/html": [
              "<div id=\"id_460\"> </div>"
            ],
            "text/plain": [
              "<IPython.core.display.HTML object>"
            ]
          },
          "metadata": {},
          "output_type": "display_data"
        },
        {
          "metadata": {
            "tags": null
          },
          "name": "stdout",
          "output_type": "stream",
          "text": [
            "generate_samples: generated 423 samples in 5.781328916549683s\n",
            "Instrument: 460\n"
          ]
        },
        {
          "data": {
            "text/html": [
              "<div id=\"id_461\"> </div>"
            ],
            "text/plain": [
              "<IPython.core.display.HTML object>"
            ]
          },
          "metadata": {},
          "output_type": "display_data"
        },
        {
          "metadata": {
            "tags": null
          },
          "name": "stdout",
          "output_type": "stream",
          "text": [
            "generate_samples: generated 423 samples in 5.7773823738098145s\n",
            "Instrument: 461\n"
          ]
        },
        {
          "data": {
            "text/html": [
              "<div id=\"id_462\"> </div>"
            ],
            "text/plain": [
              "<IPython.core.display.HTML object>"
            ]
          },
          "metadata": {},
          "output_type": "display_data"
        },
        {
          "metadata": {
            "tags": null
          },
          "name": "stdout",
          "output_type": "stream",
          "text": [
            "generate_samples: generated 423 samples in 5.786647796630859s\n",
            "Instrument: 462\n"
          ]
        },
        {
          "data": {
            "text/html": [
              "<div id=\"id_463\"> </div>"
            ],
            "text/plain": [
              "<IPython.core.display.HTML object>"
            ]
          },
          "metadata": {},
          "output_type": "display_data"
        },
        {
          "metadata": {
            "tags": null
          },
          "name": "stdout",
          "output_type": "stream",
          "text": [
            "generate_samples: generated 423 samples in 5.7984912395477295s\n",
            "Instrument: 463\n"
          ]
        },
        {
          "data": {
            "text/html": [
              "<div id=\"id_464\"> </div>"
            ],
            "text/plain": [
              "<IPython.core.display.HTML object>"
            ]
          },
          "metadata": {},
          "output_type": "display_data"
        },
        {
          "metadata": {
            "tags": null
          },
          "name": "stdout",
          "output_type": "stream",
          "text": [
            "generate_samples: generated 423 samples in 5.771142244338989s\n",
            "Instrument: 464\n"
          ]
        },
        {
          "data": {
            "text/html": [
              "<div id=\"id_465\"> </div>"
            ],
            "text/plain": [
              "<IPython.core.display.HTML object>"
            ]
          },
          "metadata": {},
          "output_type": "display_data"
        },
        {
          "metadata": {
            "tags": null
          },
          "name": "stdout",
          "output_type": "stream",
          "text": [
            "generate_samples: generated 423 samples in 5.787737607955933s\n",
            "Instrument: 465\n"
          ]
        },
        {
          "data": {
            "text/html": [
              "<div id=\"id_466\"> </div>"
            ],
            "text/plain": [
              "<IPython.core.display.HTML object>"
            ]
          },
          "metadata": {},
          "output_type": "display_data"
        },
        {
          "metadata": {
            "tags": null
          },
          "name": "stdout",
          "output_type": "stream",
          "text": [
            "generate_samples: generated 423 samples in 5.789430856704712s\n",
            "Instrument: 466\n"
          ]
        },
        {
          "data": {
            "text/html": [
              "<div id=\"id_467\"> </div>"
            ],
            "text/plain": [
              "<IPython.core.display.HTML object>"
            ]
          },
          "metadata": {},
          "output_type": "display_data"
        },
        {
          "metadata": {
            "tags": null
          },
          "name": "stdout",
          "output_type": "stream",
          "text": [
            "generate_samples: generated 423 samples in 5.775370121002197s\n",
            "Instrument: 467\n"
          ]
        },
        {
          "data": {
            "text/html": [
              "<div id=\"id_468\"> </div>"
            ],
            "text/plain": [
              "<IPython.core.display.HTML object>"
            ]
          },
          "metadata": {},
          "output_type": "display_data"
        },
        {
          "metadata": {
            "tags": null
          },
          "name": "stdout",
          "output_type": "stream",
          "text": [
            "generate_samples: generated 423 samples in 5.771942853927612s\n",
            "Instrument: 468\n"
          ]
        },
        {
          "data": {
            "text/html": [
              "<div id=\"id_469\"> </div>"
            ],
            "text/plain": [
              "<IPython.core.display.HTML object>"
            ]
          },
          "metadata": {},
          "output_type": "display_data"
        },
        {
          "metadata": {
            "tags": null
          },
          "name": "stdout",
          "output_type": "stream",
          "text": [
            "generate_samples: generated 423 samples in 5.771332263946533s\n",
            "Instrument: 469\n"
          ]
        },
        {
          "data": {
            "text/html": [
              "<div id=\"id_470\"> </div>"
            ],
            "text/plain": [
              "<IPython.core.display.HTML object>"
            ]
          },
          "metadata": {},
          "output_type": "display_data"
        },
        {
          "metadata": {
            "tags": null
          },
          "name": "stdout",
          "output_type": "stream",
          "text": [
            "generate_samples: generated 423 samples in 5.790274381637573s\n",
            "Instrument: 470\n"
          ]
        },
        {
          "data": {
            "text/html": [
              "<div id=\"id_471\"> </div>"
            ],
            "text/plain": [
              "<IPython.core.display.HTML object>"
            ]
          },
          "metadata": {},
          "output_type": "display_data"
        },
        {
          "metadata": {
            "tags": null
          },
          "name": "stdout",
          "output_type": "stream",
          "text": [
            "generate_samples: generated 423 samples in 5.771332025527954s\n",
            "Instrument: 471\n"
          ]
        },
        {
          "data": {
            "text/html": [
              "<div id=\"id_472\"> </div>"
            ],
            "text/plain": [
              "<IPython.core.display.HTML object>"
            ]
          },
          "metadata": {},
          "output_type": "display_data"
        },
        {
          "metadata": {
            "tags": null
          },
          "name": "stdout",
          "output_type": "stream",
          "text": [
            "generate_samples: generated 423 samples in 5.798122406005859s\n",
            "Instrument: 472\n"
          ]
        },
        {
          "data": {
            "text/html": [
              "<div id=\"id_473\"> </div>"
            ],
            "text/plain": [
              "<IPython.core.display.HTML object>"
            ]
          },
          "metadata": {},
          "output_type": "display_data"
        },
        {
          "metadata": {
            "tags": null
          },
          "name": "stdout",
          "output_type": "stream",
          "text": [
            "generate_samples: generated 423 samples in 5.787081718444824s\n",
            "Instrument: 473\n"
          ]
        },
        {
          "data": {
            "text/html": [
              "<div id=\"id_474\"> </div>"
            ],
            "text/plain": [
              "<IPython.core.display.HTML object>"
            ]
          },
          "metadata": {},
          "output_type": "display_data"
        },
        {
          "metadata": {
            "tags": null
          },
          "name": "stdout",
          "output_type": "stream",
          "text": [
            "generate_samples: generated 423 samples in 5.776050329208374s\n",
            "Instrument: 474\n"
          ]
        },
        {
          "data": {
            "text/html": [
              "<div id=\"id_475\"> </div>"
            ],
            "text/plain": [
              "<IPython.core.display.HTML object>"
            ]
          },
          "metadata": {},
          "output_type": "display_data"
        },
        {
          "metadata": {
            "tags": null
          },
          "name": "stdout",
          "output_type": "stream",
          "text": [
            "generate_samples: generated 423 samples in 5.7903478145599365s\n",
            "Instrument: 475\n"
          ]
        },
        {
          "data": {
            "text/html": [
              "<div id=\"id_476\"> </div>"
            ],
            "text/plain": [
              "<IPython.core.display.HTML object>"
            ]
          },
          "metadata": {},
          "output_type": "display_data"
        },
        {
          "metadata": {
            "tags": null
          },
          "name": "stdout",
          "output_type": "stream",
          "text": [
            "generate_samples: generated 423 samples in 5.788526296615601s\n",
            "Instrument: 476\n"
          ]
        },
        {
          "data": {
            "text/html": [
              "<div id=\"id_477\"> </div>"
            ],
            "text/plain": [
              "<IPython.core.display.HTML object>"
            ]
          },
          "metadata": {},
          "output_type": "display_data"
        },
        {
          "metadata": {
            "tags": null
          },
          "name": "stdout",
          "output_type": "stream",
          "text": [
            "generate_samples: generated 423 samples in 5.778931617736816s\n",
            "Instrument: 477\n"
          ]
        },
        {
          "data": {
            "text/html": [
              "<div id=\"id_478\"> </div>"
            ],
            "text/plain": [
              "<IPython.core.display.HTML object>"
            ]
          },
          "metadata": {},
          "output_type": "display_data"
        },
        {
          "metadata": {
            "tags": null
          },
          "name": "stdout",
          "output_type": "stream",
          "text": [
            "generate_samples: generated 423 samples in 5.778017520904541s\n",
            "Instrument: 478\n"
          ]
        },
        {
          "data": {
            "text/html": [
              "<div id=\"id_479\"> </div>"
            ],
            "text/plain": [
              "<IPython.core.display.HTML object>"
            ]
          },
          "metadata": {},
          "output_type": "display_data"
        },
        {
          "metadata": {
            "tags": null
          },
          "name": "stdout",
          "output_type": "stream",
          "text": [
            "generate_samples: generated 423 samples in 5.8949620723724365s\n",
            "Instrument: 479\n"
          ]
        },
        {
          "data": {
            "text/html": [
              "<div id=\"id_480\"> </div>"
            ],
            "text/plain": [
              "<IPython.core.display.HTML object>"
            ]
          },
          "metadata": {},
          "output_type": "display_data"
        },
        {
          "metadata": {
            "tags": null
          },
          "name": "stdout",
          "output_type": "stream",
          "text": [
            "generate_samples: generated 423 samples in 5.779687166213989s\n",
            "Instrument: 480\n"
          ]
        },
        {
          "data": {
            "text/html": [
              "<div id=\"id_481\"> </div>"
            ],
            "text/plain": [
              "<IPython.core.display.HTML object>"
            ]
          },
          "metadata": {},
          "output_type": "display_data"
        },
        {
          "metadata": {
            "tags": null
          },
          "name": "stdout",
          "output_type": "stream",
          "text": [
            "generate_samples: generated 423 samples in 5.771573543548584s\n",
            "Instrument: 481\n"
          ]
        },
        {
          "data": {
            "text/html": [
              "<div id=\"id_482\"> </div>"
            ],
            "text/plain": [
              "<IPython.core.display.HTML object>"
            ]
          },
          "metadata": {},
          "output_type": "display_data"
        },
        {
          "metadata": {
            "tags": null
          },
          "name": "stdout",
          "output_type": "stream",
          "text": [
            "generate_samples: generated 423 samples in 5.775716781616211s\n",
            "Instrument: 482\n"
          ]
        },
        {
          "data": {
            "text/html": [
              "<div id=\"id_483\"> </div>"
            ],
            "text/plain": [
              "<IPython.core.display.HTML object>"
            ]
          },
          "metadata": {},
          "output_type": "display_data"
        },
        {
          "metadata": {
            "tags": null
          },
          "name": "stdout",
          "output_type": "stream",
          "text": [
            "generate_samples: generated 423 samples in 5.78956151008606s\n",
            "Instrument: 483\n"
          ]
        },
        {
          "data": {
            "text/html": [
              "<div id=\"id_484\"> </div>"
            ],
            "text/plain": [
              "<IPython.core.display.HTML object>"
            ]
          },
          "metadata": {},
          "output_type": "display_data"
        },
        {
          "metadata": {
            "tags": null
          },
          "name": "stdout",
          "output_type": "stream",
          "text": [
            "generate_samples: generated 423 samples in 5.775052070617676s\n",
            "Instrument: 484\n"
          ]
        },
        {
          "data": {
            "text/html": [
              "<div id=\"id_485\"> </div>"
            ],
            "text/plain": [
              "<IPython.core.display.HTML object>"
            ]
          },
          "metadata": {},
          "output_type": "display_data"
        },
        {
          "metadata": {
            "tags": null
          },
          "name": "stdout",
          "output_type": "stream",
          "text": [
            "generate_samples: generated 423 samples in 5.788289785385132s\n",
            "Instrument: 485\n"
          ]
        },
        {
          "data": {
            "text/html": [
              "<div id=\"id_486\"> </div>"
            ],
            "text/plain": [
              "<IPython.core.display.HTML object>"
            ]
          },
          "metadata": {},
          "output_type": "display_data"
        },
        {
          "metadata": {
            "tags": null
          },
          "name": "stdout",
          "output_type": "stream",
          "text": [
            "generate_samples: generated 423 samples in 5.79958963394165s\n",
            "Instrument: 486\n"
          ]
        },
        {
          "data": {
            "text/html": [
              "<div id=\"id_487\"> </div>"
            ],
            "text/plain": [
              "<IPython.core.display.HTML object>"
            ]
          },
          "metadata": {},
          "output_type": "display_data"
        },
        {
          "metadata": {
            "tags": null
          },
          "name": "stdout",
          "output_type": "stream",
          "text": [
            "generate_samples: generated 423 samples in 5.798913240432739s\n",
            "Instrument: 487\n"
          ]
        },
        {
          "data": {
            "text/html": [
              "<div id=\"id_488\"> </div>"
            ],
            "text/plain": [
              "<IPython.core.display.HTML object>"
            ]
          },
          "metadata": {},
          "output_type": "display_data"
        },
        {
          "metadata": {
            "tags": null
          },
          "name": "stdout",
          "output_type": "stream",
          "text": [
            "generate_samples: generated 423 samples in 5.80046010017395s\n",
            "Instrument: 488\n"
          ]
        },
        {
          "data": {
            "text/html": [
              "<div id=\"id_489\"> </div>"
            ],
            "text/plain": [
              "<IPython.core.display.HTML object>"
            ]
          },
          "metadata": {},
          "output_type": "display_data"
        },
        {
          "metadata": {
            "tags": null
          },
          "name": "stdout",
          "output_type": "stream",
          "text": [
            "generate_samples: generated 423 samples in 5.785553216934204s\n",
            "Instrument: 489\n"
          ]
        },
        {
          "data": {
            "text/html": [
              "<div id=\"id_490\"> </div>"
            ],
            "text/plain": [
              "<IPython.core.display.HTML object>"
            ]
          },
          "metadata": {},
          "output_type": "display_data"
        },
        {
          "metadata": {
            "tags": null
          },
          "name": "stdout",
          "output_type": "stream",
          "text": [
            "generate_samples: generated 423 samples in 5.810964107513428s\n",
            "Instrument: 490\n"
          ]
        },
        {
          "data": {
            "text/html": [
              "<div id=\"id_491\"> </div>"
            ],
            "text/plain": [
              "<IPython.core.display.HTML object>"
            ]
          },
          "metadata": {},
          "output_type": "display_data"
        },
        {
          "metadata": {
            "tags": null
          },
          "name": "stdout",
          "output_type": "stream",
          "text": [
            "generate_samples: generated 423 samples in 5.79516077041626s\n",
            "Instrument: 491\n"
          ]
        },
        {
          "data": {
            "text/html": [
              "<div id=\"id_492\"> </div>"
            ],
            "text/plain": [
              "<IPython.core.display.HTML object>"
            ]
          },
          "metadata": {},
          "output_type": "display_data"
        },
        {
          "metadata": {
            "tags": null
          },
          "name": "stdout",
          "output_type": "stream",
          "text": [
            "generate_samples: generated 423 samples in 5.7832043170928955s\n",
            "Instrument: 492\n"
          ]
        },
        {
          "data": {
            "text/html": [
              "<div id=\"id_493\"> </div>"
            ],
            "text/plain": [
              "<IPython.core.display.HTML object>"
            ]
          },
          "metadata": {},
          "output_type": "display_data"
        },
        {
          "metadata": {
            "tags": null
          },
          "name": "stdout",
          "output_type": "stream",
          "text": [
            "generate_samples: generated 423 samples in 5.770888805389404s\n",
            "Instrument: 493\n"
          ]
        },
        {
          "data": {
            "text/html": [
              "<div id=\"id_494\"> </div>"
            ],
            "text/plain": [
              "<IPython.core.display.HTML object>"
            ]
          },
          "metadata": {},
          "output_type": "display_data"
        },
        {
          "metadata": {
            "tags": null
          },
          "name": "stdout",
          "output_type": "stream",
          "text": [
            "generate_samples: generated 423 samples in 5.80314302444458s\n",
            "Instrument: 494\n"
          ]
        },
        {
          "data": {
            "text/html": [
              "<div id=\"id_495\"> </div>"
            ],
            "text/plain": [
              "<IPython.core.display.HTML object>"
            ]
          },
          "metadata": {},
          "output_type": "display_data"
        },
        {
          "metadata": {
            "tags": null
          },
          "name": "stdout",
          "output_type": "stream",
          "text": [
            "generate_samples: generated 423 samples in 5.788355350494385s\n",
            "Instrument: 495\n"
          ]
        },
        {
          "data": {
            "text/html": [
              "<div id=\"id_496\"> </div>"
            ],
            "text/plain": [
              "<IPython.core.display.HTML object>"
            ]
          },
          "metadata": {},
          "output_type": "display_data"
        },
        {
          "metadata": {
            "tags": null
          },
          "name": "stdout",
          "output_type": "stream",
          "text": [
            "generate_samples: generated 423 samples in 5.7918381690979s\n",
            "Instrument: 496\n"
          ]
        },
        {
          "data": {
            "text/html": [
              "<div id=\"id_497\"> </div>"
            ],
            "text/plain": [
              "<IPython.core.display.HTML object>"
            ]
          },
          "metadata": {},
          "output_type": "display_data"
        },
        {
          "metadata": {
            "tags": null
          },
          "name": "stdout",
          "output_type": "stream",
          "text": [
            "generate_samples: generated 423 samples in 5.790412187576294s\n",
            "Instrument: 497\n"
          ]
        },
        {
          "data": {
            "text/html": [
              "<div id=\"id_498\"> </div>"
            ],
            "text/plain": [
              "<IPython.core.display.HTML object>"
            ]
          },
          "metadata": {},
          "output_type": "display_data"
        },
        {
          "metadata": {
            "tags": null
          },
          "name": "stdout",
          "output_type": "stream",
          "text": [
            "generate_samples: generated 423 samples in 5.792104005813599s\n",
            "Instrument: 498\n"
          ]
        },
        {
          "data": {
            "text/html": [
              "<div id=\"id_499\"> </div>"
            ],
            "text/plain": [
              "<IPython.core.display.HTML object>"
            ]
          },
          "metadata": {},
          "output_type": "display_data"
        },
        {
          "metadata": {
            "tags": null
          },
          "name": "stdout",
          "output_type": "stream",
          "text": [
            "generate_samples: generated 423 samples in 5.785022735595703s\n",
            "Instrument: 499\n"
          ]
        },
        {
          "data": {
            "text/html": [
              "<div id=\"id_500\"> </div>"
            ],
            "text/plain": [
              "<IPython.core.display.HTML object>"
            ]
          },
          "metadata": {},
          "output_type": "display_data"
        },
        {
          "metadata": {
            "tags": null
          },
          "name": "stdout",
          "output_type": "stream",
          "text": [
            "generate_samples: generated 423 samples in 5.769092798233032s\n",
            "Instrument: 500\n"
          ]
        },
        {
          "data": {
            "text/html": [
              "<div id=\"id_501\"> </div>"
            ],
            "text/plain": [
              "<IPython.core.display.HTML object>"
            ]
          },
          "metadata": {},
          "output_type": "display_data"
        },
        {
          "metadata": {
            "tags": null
          },
          "name": "stdout",
          "output_type": "stream",
          "text": [
            "generate_samples: generated 423 samples in 5.788349628448486s\n",
            "Instrument: 501\n"
          ]
        },
        {
          "data": {
            "text/html": [
              "<div id=\"id_502\"> </div>"
            ],
            "text/plain": [
              "<IPython.core.display.HTML object>"
            ]
          },
          "metadata": {},
          "output_type": "display_data"
        },
        {
          "metadata": {
            "tags": null
          },
          "name": "stdout",
          "output_type": "stream",
          "text": [
            "generate_samples: generated 423 samples in 5.7814812660217285s\n",
            "Instrument: 502\n"
          ]
        },
        {
          "data": {
            "text/html": [
              "<div id=\"id_503\"> </div>"
            ],
            "text/plain": [
              "<IPython.core.display.HTML object>"
            ]
          },
          "metadata": {},
          "output_type": "display_data"
        },
        {
          "metadata": {
            "tags": null
          },
          "name": "stdout",
          "output_type": "stream",
          "text": [
            "generate_samples: generated 423 samples in 5.7680511474609375s\n",
            "Instrument: 503\n"
          ]
        },
        {
          "data": {
            "text/html": [
              "<div id=\"id_504\"> </div>"
            ],
            "text/plain": [
              "<IPython.core.display.HTML object>"
            ]
          },
          "metadata": {},
          "output_type": "display_data"
        },
        {
          "metadata": {
            "tags": null
          },
          "name": "stdout",
          "output_type": "stream",
          "text": [
            "generate_samples: generated 423 samples in 5.769364595413208s\n",
            "Instrument: 504\n"
          ]
        },
        {
          "data": {
            "text/html": [
              "<div id=\"id_505\"> </div>"
            ],
            "text/plain": [
              "<IPython.core.display.HTML object>"
            ]
          },
          "metadata": {},
          "output_type": "display_data"
        },
        {
          "metadata": {
            "tags": null
          },
          "name": "stdout",
          "output_type": "stream",
          "text": [
            "generate_samples: generated 423 samples in 5.769133806228638s\n",
            "Instrument: 505\n"
          ]
        },
        {
          "data": {
            "text/html": [
              "<div id=\"id_506\"> </div>"
            ],
            "text/plain": [
              "<IPython.core.display.HTML object>"
            ]
          },
          "metadata": {},
          "output_type": "display_data"
        },
        {
          "metadata": {
            "tags": null
          },
          "name": "stdout",
          "output_type": "stream",
          "text": [
            "generate_samples: generated 423 samples in 5.770828723907471s\n",
            "Instrument: 506\n"
          ]
        },
        {
          "data": {
            "text/html": [
              "<div id=\"id_507\"> </div>"
            ],
            "text/plain": [
              "<IPython.core.display.HTML object>"
            ]
          },
          "metadata": {},
          "output_type": "display_data"
        },
        {
          "metadata": {
            "tags": null
          },
          "name": "stdout",
          "output_type": "stream",
          "text": [
            "generate_samples: generated 423 samples in 5.763378858566284s\n",
            "Instrument: 507\n"
          ]
        },
        {
          "data": {
            "text/html": [
              "<div id=\"id_508\"> </div>"
            ],
            "text/plain": [
              "<IPython.core.display.HTML object>"
            ]
          },
          "metadata": {},
          "output_type": "display_data"
        },
        {
          "metadata": {
            "tags": null
          },
          "name": "stdout",
          "output_type": "stream",
          "text": [
            "generate_samples: generated 423 samples in 5.7903220653533936s\n",
            "Instrument: 508\n"
          ]
        },
        {
          "data": {
            "text/html": [
              "<div id=\"id_509\"> </div>"
            ],
            "text/plain": [
              "<IPython.core.display.HTML object>"
            ]
          },
          "metadata": {},
          "output_type": "display_data"
        },
        {
          "metadata": {
            "tags": null
          },
          "name": "stdout",
          "output_type": "stream",
          "text": [
            "generate_samples: generated 423 samples in 5.778850793838501s\n",
            "Instrument: 509\n"
          ]
        },
        {
          "data": {
            "text/html": [
              "<div id=\"id_510\"> </div>"
            ],
            "text/plain": [
              "<IPython.core.display.HTML object>"
            ]
          },
          "metadata": {},
          "output_type": "display_data"
        },
        {
          "metadata": {
            "tags": null
          },
          "name": "stdout",
          "output_type": "stream",
          "text": [
            "generate_samples: generated 423 samples in 5.7760748863220215s\n",
            "Instrument: 510\n"
          ]
        },
        {
          "data": {
            "text/html": [
              "<div id=\"id_511\"> </div>"
            ],
            "text/plain": [
              "<IPython.core.display.HTML object>"
            ]
          },
          "metadata": {},
          "output_type": "display_data"
        },
        {
          "metadata": {
            "tags": null
          },
          "name": "stdout",
          "output_type": "stream",
          "text": [
            "generate_samples: generated 423 samples in 5.816605806350708s\n",
            "Instrument: 511\n"
          ]
        },
        {
          "data": {
            "text/html": [
              "<div id=\"id_512\"> </div>"
            ],
            "text/plain": [
              "<IPython.core.display.HTML object>"
            ]
          },
          "metadata": {},
          "output_type": "display_data"
        },
        {
          "metadata": {
            "tags": null
          },
          "name": "stdout",
          "output_type": "stream",
          "text": [
            "generate_samples: generated 423 samples in 5.777823448181152s\n",
            "Instrument: 512\n"
          ]
        },
        {
          "data": {
            "text/html": [
              "<div id=\"id_513\"> </div>"
            ],
            "text/plain": [
              "<IPython.core.display.HTML object>"
            ]
          },
          "metadata": {},
          "output_type": "display_data"
        },
        {
          "metadata": {
            "tags": null
          },
          "name": "stdout",
          "output_type": "stream",
          "text": [
            "generate_samples: generated 423 samples in 5.763035297393799s\n",
            "Instrument: 513\n"
          ]
        },
        {
          "data": {
            "text/html": [
              "<div id=\"id_514\"> </div>"
            ],
            "text/plain": [
              "<IPython.core.display.HTML object>"
            ]
          },
          "metadata": {},
          "output_type": "display_data"
        },
        {
          "metadata": {
            "tags": null
          },
          "name": "stdout",
          "output_type": "stream",
          "text": [
            "generate_samples: generated 423 samples in 5.770643472671509s\n",
            "Instrument: 514\n"
          ]
        },
        {
          "data": {
            "text/html": [
              "<div id=\"id_515\"> </div>"
            ],
            "text/plain": [
              "<IPython.core.display.HTML object>"
            ]
          },
          "metadata": {},
          "output_type": "display_data"
        },
        {
          "metadata": {
            "tags": null
          },
          "name": "stdout",
          "output_type": "stream",
          "text": [
            "generate_samples: generated 423 samples in 5.77615761756897s\n",
            "Instrument: 515\n"
          ]
        },
        {
          "data": {
            "text/html": [
              "<div id=\"id_516\"> </div>"
            ],
            "text/plain": [
              "<IPython.core.display.HTML object>"
            ]
          },
          "metadata": {},
          "output_type": "display_data"
        },
        {
          "metadata": {
            "tags": null
          },
          "name": "stdout",
          "output_type": "stream",
          "text": [
            "generate_samples: generated 423 samples in 5.769055128097534s\n",
            "Instrument: 516\n"
          ]
        },
        {
          "data": {
            "text/html": [
              "<div id=\"id_517\"> </div>"
            ],
            "text/plain": [
              "<IPython.core.display.HTML object>"
            ]
          },
          "metadata": {},
          "output_type": "display_data"
        },
        {
          "metadata": {
            "tags": null
          },
          "name": "stdout",
          "output_type": "stream",
          "text": [
            "generate_samples: generated 423 samples in 5.776424407958984s\n",
            "Instrument: 517\n"
          ]
        },
        {
          "data": {
            "text/html": [
              "<div id=\"id_518\"> </div>"
            ],
            "text/plain": [
              "<IPython.core.display.HTML object>"
            ]
          },
          "metadata": {},
          "output_type": "display_data"
        },
        {
          "metadata": {
            "tags": null
          },
          "name": "stdout",
          "output_type": "stream",
          "text": [
            "generate_samples: generated 423 samples in 5.820350408554077s\n",
            "Instrument: 518\n"
          ]
        },
        {
          "data": {
            "text/html": [
              "<div id=\"id_519\"> </div>"
            ],
            "text/plain": [
              "<IPython.core.display.HTML object>"
            ]
          },
          "metadata": {},
          "output_type": "display_data"
        },
        {
          "metadata": {
            "tags": null
          },
          "name": "stdout",
          "output_type": "stream",
          "text": [
            "generate_samples: generated 423 samples in 5.761647939682007s\n",
            "Instrument: 519\n"
          ]
        },
        {
          "data": {
            "text/html": [
              "<div id=\"id_520\"> </div>"
            ],
            "text/plain": [
              "<IPython.core.display.HTML object>"
            ]
          },
          "metadata": {},
          "output_type": "display_data"
        },
        {
          "metadata": {
            "tags": null
          },
          "name": "stdout",
          "output_type": "stream",
          "text": [
            "generate_samples: generated 423 samples in 5.7665815353393555s\n",
            "Instrument: 520\n"
          ]
        },
        {
          "data": {
            "text/html": [
              "<div id=\"id_521\"> </div>"
            ],
            "text/plain": [
              "<IPython.core.display.HTML object>"
            ]
          },
          "metadata": {},
          "output_type": "display_data"
        },
        {
          "metadata": {
            "tags": null
          },
          "name": "stdout",
          "output_type": "stream",
          "text": [
            "generate_samples: generated 423 samples in 5.766449689865112s\n",
            "Instrument: 521\n"
          ]
        },
        {
          "data": {
            "text/html": [
              "<div id=\"id_522\"> </div>"
            ],
            "text/plain": [
              "<IPython.core.display.HTML object>"
            ]
          },
          "metadata": {},
          "output_type": "display_data"
        },
        {
          "metadata": {
            "tags": null
          },
          "name": "stdout",
          "output_type": "stream",
          "text": [
            "generate_samples: generated 423 samples in 5.773117303848267s\n",
            "Instrument: 522\n"
          ]
        },
        {
          "data": {
            "text/html": [
              "<div id=\"id_523\"> </div>"
            ],
            "text/plain": [
              "<IPython.core.display.HTML object>"
            ]
          },
          "metadata": {},
          "output_type": "display_data"
        },
        {
          "metadata": {
            "tags": null
          },
          "name": "stdout",
          "output_type": "stream",
          "text": [
            "generate_samples: generated 423 samples in 5.823326110839844s\n",
            "Instrument: 523\n"
          ]
        },
        {
          "data": {
            "text/html": [
              "<div id=\"id_524\"> </div>"
            ],
            "text/plain": [
              "<IPython.core.display.HTML object>"
            ]
          },
          "metadata": {},
          "output_type": "display_data"
        },
        {
          "metadata": {
            "tags": null
          },
          "name": "stdout",
          "output_type": "stream",
          "text": [
            "generate_samples: generated 423 samples in 5.765030860900879s\n",
            "Instrument: 524\n"
          ]
        },
        {
          "data": {
            "text/html": [
              "<div id=\"id_525\"> </div>"
            ],
            "text/plain": [
              "<IPython.core.display.HTML object>"
            ]
          },
          "metadata": {},
          "output_type": "display_data"
        },
        {
          "metadata": {
            "tags": null
          },
          "name": "stdout",
          "output_type": "stream",
          "text": [
            "generate_samples: generated 423 samples in 5.776237964630127s\n",
            "Instrument: 525\n"
          ]
        },
        {
          "data": {
            "text/html": [
              "<div id=\"id_526\"> </div>"
            ],
            "text/plain": [
              "<IPython.core.display.HTML object>"
            ]
          },
          "metadata": {},
          "output_type": "display_data"
        },
        {
          "metadata": {
            "tags": null
          },
          "name": "stdout",
          "output_type": "stream",
          "text": [
            "generate_samples: generated 423 samples in 5.771420240402222s\n",
            "Instrument: 526\n"
          ]
        },
        {
          "data": {
            "text/html": [
              "<div id=\"id_527\"> </div>"
            ],
            "text/plain": [
              "<IPython.core.display.HTML object>"
            ]
          },
          "metadata": {},
          "output_type": "display_data"
        },
        {
          "metadata": {
            "tags": null
          },
          "name": "stdout",
          "output_type": "stream",
          "text": [
            "generate_samples: generated 423 samples in 5.769379615783691s\n",
            "Instrument: 527\n"
          ]
        },
        {
          "data": {
            "text/html": [
              "<div id=\"id_528\"> </div>"
            ],
            "text/plain": [
              "<IPython.core.display.HTML object>"
            ]
          },
          "metadata": {},
          "output_type": "display_data"
        },
        {
          "metadata": {
            "tags": null
          },
          "name": "stdout",
          "output_type": "stream",
          "text": [
            "generate_samples: generated 423 samples in 5.757772445678711s\n",
            "Instrument: 528\n"
          ]
        },
        {
          "data": {
            "text/html": [
              "<div id=\"id_529\"> </div>"
            ],
            "text/plain": [
              "<IPython.core.display.HTML object>"
            ]
          },
          "metadata": {},
          "output_type": "display_data"
        },
        {
          "metadata": {
            "tags": null
          },
          "name": "stdout",
          "output_type": "stream",
          "text": [
            "generate_samples: generated 423 samples in 5.759989261627197s\n",
            "Instrument: 529\n"
          ]
        },
        {
          "data": {
            "text/html": [
              "<div id=\"id_530\"> </div>"
            ],
            "text/plain": [
              "<IPython.core.display.HTML object>"
            ]
          },
          "metadata": {},
          "output_type": "display_data"
        },
        {
          "metadata": {
            "tags": null
          },
          "name": "stdout",
          "output_type": "stream",
          "text": [
            "generate_samples: generated 423 samples in 5.7873194217681885s\n",
            "Instrument: 530\n"
          ]
        },
        {
          "data": {
            "text/html": [
              "<div id=\"id_531\"> </div>"
            ],
            "text/plain": [
              "<IPython.core.display.HTML object>"
            ]
          },
          "metadata": {},
          "output_type": "display_data"
        },
        {
          "metadata": {
            "tags": null
          },
          "name": "stdout",
          "output_type": "stream",
          "text": [
            "generate_samples: generated 423 samples in 5.763343572616577s\n",
            "Instrument: 531\n"
          ]
        },
        {
          "data": {
            "text/html": [
              "<div id=\"id_532\"> </div>"
            ],
            "text/plain": [
              "<IPython.core.display.HTML object>"
            ]
          },
          "metadata": {},
          "output_type": "display_data"
        },
        {
          "metadata": {
            "tags": null
          },
          "name": "stdout",
          "output_type": "stream",
          "text": [
            "generate_samples: generated 423 samples in 5.739946126937866s\n",
            "Instrument: 532\n"
          ]
        },
        {
          "data": {
            "text/html": [
              "<div id=\"id_533\"> </div>"
            ],
            "text/plain": [
              "<IPython.core.display.HTML object>"
            ]
          },
          "metadata": {},
          "output_type": "display_data"
        },
        {
          "metadata": {
            "tags": null
          },
          "name": "stdout",
          "output_type": "stream",
          "text": [
            "generate_samples: generated 423 samples in 5.7607667446136475s\n",
            "Instrument: 533\n"
          ]
        },
        {
          "data": {
            "text/html": [
              "<div id=\"id_534\"> </div>"
            ],
            "text/plain": [
              "<IPython.core.display.HTML object>"
            ]
          },
          "metadata": {},
          "output_type": "display_data"
        },
        {
          "metadata": {
            "tags": null
          },
          "name": "stdout",
          "output_type": "stream",
          "text": [
            "generate_samples: generated 423 samples in 5.773268938064575s\n",
            "Instrument: 534\n"
          ]
        },
        {
          "data": {
            "text/html": [
              "<div id=\"id_535\"> </div>"
            ],
            "text/plain": [
              "<IPython.core.display.HTML object>"
            ]
          },
          "metadata": {},
          "output_type": "display_data"
        },
        {
          "metadata": {
            "tags": null
          },
          "name": "stdout",
          "output_type": "stream",
          "text": [
            "generate_samples: generated 423 samples in 5.758191823959351s\n",
            "Instrument: 535\n"
          ]
        },
        {
          "data": {
            "text/html": [
              "<div id=\"id_536\"> </div>"
            ],
            "text/plain": [
              "<IPython.core.display.HTML object>"
            ]
          },
          "metadata": {},
          "output_type": "display_data"
        },
        {
          "metadata": {
            "tags": null
          },
          "name": "stdout",
          "output_type": "stream",
          "text": [
            "generate_samples: generated 423 samples in 5.768082141876221s\n",
            "Instrument: 536\n"
          ]
        },
        {
          "data": {
            "text/html": [
              "<div id=\"id_537\"> </div>"
            ],
            "text/plain": [
              "<IPython.core.display.HTML object>"
            ]
          },
          "metadata": {},
          "output_type": "display_data"
        },
        {
          "metadata": {
            "tags": null
          },
          "name": "stdout",
          "output_type": "stream",
          "text": [
            "generate_samples: generated 423 samples in 5.759847640991211s\n",
            "Instrument: 537\n"
          ]
        },
        {
          "data": {
            "text/html": [
              "<div id=\"id_538\"> </div>"
            ],
            "text/plain": [
              "<IPython.core.display.HTML object>"
            ]
          },
          "metadata": {},
          "output_type": "display_data"
        },
        {
          "metadata": {
            "tags": null
          },
          "name": "stdout",
          "output_type": "stream",
          "text": [
            "generate_samples: generated 423 samples in 5.779749870300293s\n",
            "Instrument: 538\n"
          ]
        },
        {
          "data": {
            "text/html": [
              "<div id=\"id_539\"> </div>"
            ],
            "text/plain": [
              "<IPython.core.display.HTML object>"
            ]
          },
          "metadata": {},
          "output_type": "display_data"
        },
        {
          "metadata": {
            "tags": null
          },
          "name": "stdout",
          "output_type": "stream",
          "text": [
            "generate_samples: generated 423 samples in 5.772881269454956s\n",
            "Instrument: 539\n"
          ]
        },
        {
          "data": {
            "text/html": [
              "<div id=\"id_540\"> </div>"
            ],
            "text/plain": [
              "<IPython.core.display.HTML object>"
            ]
          },
          "metadata": {},
          "output_type": "display_data"
        },
        {
          "metadata": {
            "tags": null
          },
          "name": "stdout",
          "output_type": "stream",
          "text": [
            "generate_samples: generated 423 samples in 5.7857506275177s\n",
            "Instrument: 540\n"
          ]
        },
        {
          "data": {
            "text/html": [
              "<div id=\"id_541\"> </div>"
            ],
            "text/plain": [
              "<IPython.core.display.HTML object>"
            ]
          },
          "metadata": {},
          "output_type": "display_data"
        },
        {
          "metadata": {
            "tags": null
          },
          "name": "stdout",
          "output_type": "stream",
          "text": [
            "generate_samples: generated 423 samples in 5.7769246101379395s\n",
            "Instrument: 541\n"
          ]
        },
        {
          "data": {
            "text/html": [
              "<div id=\"id_542\"> </div>"
            ],
            "text/plain": [
              "<IPython.core.display.HTML object>"
            ]
          },
          "metadata": {},
          "output_type": "display_data"
        },
        {
          "metadata": {
            "tags": null
          },
          "name": "stdout",
          "output_type": "stream",
          "text": [
            "generate_samples: generated 423 samples in 5.784543514251709s\n",
            "Instrument: 542\n"
          ]
        },
        {
          "data": {
            "text/html": [
              "<div id=\"id_543\"> </div>"
            ],
            "text/plain": [
              "<IPython.core.display.HTML object>"
            ]
          },
          "metadata": {},
          "output_type": "display_data"
        },
        {
          "metadata": {
            "tags": null
          },
          "name": "stdout",
          "output_type": "stream",
          "text": [
            "generate_samples: generated 423 samples in 5.833437442779541s\n",
            "Instrument: 543\n"
          ]
        },
        {
          "data": {
            "text/html": [
              "<div id=\"id_544\"> </div>"
            ],
            "text/plain": [
              "<IPython.core.display.HTML object>"
            ]
          },
          "metadata": {},
          "output_type": "display_data"
        },
        {
          "metadata": {
            "tags": null
          },
          "name": "stdout",
          "output_type": "stream",
          "text": [
            "generate_samples: generated 423 samples in 5.762884855270386s\n",
            "Instrument: 544\n"
          ]
        },
        {
          "data": {
            "text/html": [
              "<div id=\"id_545\"> </div>"
            ],
            "text/plain": [
              "<IPython.core.display.HTML object>"
            ]
          },
          "metadata": {},
          "output_type": "display_data"
        },
        {
          "metadata": {
            "tags": null
          },
          "name": "stdout",
          "output_type": "stream",
          "text": [
            "generate_samples: generated 423 samples in 5.787125110626221s\n",
            "Instrument: 545\n"
          ]
        },
        {
          "data": {
            "text/html": [
              "<div id=\"id_546\"> </div>"
            ],
            "text/plain": [
              "<IPython.core.display.HTML object>"
            ]
          },
          "metadata": {},
          "output_type": "display_data"
        },
        {
          "metadata": {
            "tags": null
          },
          "name": "stdout",
          "output_type": "stream",
          "text": [
            "generate_samples: generated 423 samples in 5.77320408821106s\n",
            "Instrument: 546\n"
          ]
        },
        {
          "data": {
            "text/html": [
              "<div id=\"id_547\"> </div>"
            ],
            "text/plain": [
              "<IPython.core.display.HTML object>"
            ]
          },
          "metadata": {},
          "output_type": "display_data"
        },
        {
          "metadata": {
            "tags": null
          },
          "name": "stdout",
          "output_type": "stream",
          "text": [
            "generate_samples: generated 423 samples in 5.780795335769653s\n",
            "Instrument: 547\n"
          ]
        },
        {
          "data": {
            "text/html": [
              "<div id=\"id_548\"> </div>"
            ],
            "text/plain": [
              "<IPython.core.display.HTML object>"
            ]
          },
          "metadata": {},
          "output_type": "display_data"
        },
        {
          "metadata": {
            "tags": null
          },
          "name": "stdout",
          "output_type": "stream",
          "text": [
            "generate_samples: generated 423 samples in 5.783115386962891s\n",
            "Instrument: 548\n"
          ]
        },
        {
          "data": {
            "text/html": [
              "<div id=\"id_549\"> </div>"
            ],
            "text/plain": [
              "<IPython.core.display.HTML object>"
            ]
          },
          "metadata": {},
          "output_type": "display_data"
        },
        {
          "metadata": {
            "tags": null
          },
          "name": "stdout",
          "output_type": "stream",
          "text": [
            "generate_samples: generated 423 samples in 5.784992694854736s\n",
            "Instrument: 549\n"
          ]
        },
        {
          "data": {
            "text/html": [
              "<div id=\"id_550\"> </div>"
            ],
            "text/plain": [
              "<IPython.core.display.HTML object>"
            ]
          },
          "metadata": {},
          "output_type": "display_data"
        },
        {
          "metadata": {
            "tags": null
          },
          "name": "stdout",
          "output_type": "stream",
          "text": [
            "generate_samples: generated 423 samples in 5.7862162590026855s\n",
            "Instrument: 550\n"
          ]
        },
        {
          "data": {
            "text/html": [
              "<div id=\"id_551\"> </div>"
            ],
            "text/plain": [
              "<IPython.core.display.HTML object>"
            ]
          },
          "metadata": {},
          "output_type": "display_data"
        },
        {
          "metadata": {
            "tags": null
          },
          "name": "stdout",
          "output_type": "stream",
          "text": [
            "generate_samples: generated 423 samples in 5.7793426513671875s\n",
            "Instrument: 551\n"
          ]
        },
        {
          "data": {
            "text/html": [
              "<div id=\"id_552\"> </div>"
            ],
            "text/plain": [
              "<IPython.core.display.HTML object>"
            ]
          },
          "metadata": {},
          "output_type": "display_data"
        },
        {
          "metadata": {
            "tags": null
          },
          "name": "stdout",
          "output_type": "stream",
          "text": [
            "generate_samples: generated 423 samples in 5.767500400543213s\n",
            "Instrument: 552\n"
          ]
        },
        {
          "data": {
            "text/html": [
              "<div id=\"id_553\"> </div>"
            ],
            "text/plain": [
              "<IPython.core.display.HTML object>"
            ]
          },
          "metadata": {},
          "output_type": "display_data"
        },
        {
          "metadata": {
            "tags": null
          },
          "name": "stdout",
          "output_type": "stream",
          "text": [
            "generate_samples: generated 423 samples in 5.7818663120269775s\n",
            "Instrument: 553\n"
          ]
        },
        {
          "data": {
            "text/html": [
              "<div id=\"id_554\"> </div>"
            ],
            "text/plain": [
              "<IPython.core.display.HTML object>"
            ]
          },
          "metadata": {},
          "output_type": "display_data"
        },
        {
          "metadata": {
            "tags": null
          },
          "name": "stdout",
          "output_type": "stream",
          "text": [
            "generate_samples: generated 423 samples in 5.75835919380188s\n",
            "Instrument: 554\n"
          ]
        },
        {
          "data": {
            "text/html": [
              "<div id=\"id_555\"> </div>"
            ],
            "text/plain": [
              "<IPython.core.display.HTML object>"
            ]
          },
          "metadata": {},
          "output_type": "display_data"
        },
        {
          "metadata": {
            "tags": null
          },
          "name": "stdout",
          "output_type": "stream",
          "text": [
            "generate_samples: generated 423 samples in 5.7969019412994385s\n",
            "Instrument: 555\n"
          ]
        },
        {
          "data": {
            "text/html": [
              "<div id=\"id_556\"> </div>"
            ],
            "text/plain": [
              "<IPython.core.display.HTML object>"
            ]
          },
          "metadata": {},
          "output_type": "display_data"
        },
        {
          "metadata": {
            "tags": null
          },
          "name": "stdout",
          "output_type": "stream",
          "text": [
            "generate_samples: generated 423 samples in 5.762587070465088s\n",
            "Instrument: 556\n"
          ]
        },
        {
          "data": {
            "text/html": [
              "<div id=\"id_557\"> </div>"
            ],
            "text/plain": [
              "<IPython.core.display.HTML object>"
            ]
          },
          "metadata": {},
          "output_type": "display_data"
        },
        {
          "metadata": {
            "tags": null
          },
          "name": "stdout",
          "output_type": "stream",
          "text": [
            "generate_samples: generated 423 samples in 5.779644012451172s\n",
            "Instrument: 557\n"
          ]
        },
        {
          "data": {
            "text/html": [
              "<div id=\"id_558\"> </div>"
            ],
            "text/plain": [
              "<IPython.core.display.HTML object>"
            ]
          },
          "metadata": {},
          "output_type": "display_data"
        },
        {
          "metadata": {
            "tags": null
          },
          "name": "stdout",
          "output_type": "stream",
          "text": [
            "generate_samples: generated 423 samples in 5.7825927734375s\n",
            "Instrument: 558\n"
          ]
        },
        {
          "data": {
            "text/html": [
              "<div id=\"id_559\"> </div>"
            ],
            "text/plain": [
              "<IPython.core.display.HTML object>"
            ]
          },
          "metadata": {},
          "output_type": "display_data"
        },
        {
          "metadata": {
            "tags": null
          },
          "name": "stdout",
          "output_type": "stream",
          "text": [
            "generate_samples: generated 423 samples in 5.769460678100586s\n",
            "Instrument: 559\n"
          ]
        },
        {
          "data": {
            "text/html": [
              "<div id=\"id_560\"> </div>"
            ],
            "text/plain": [
              "<IPython.core.display.HTML object>"
            ]
          },
          "metadata": {},
          "output_type": "display_data"
        },
        {
          "metadata": {
            "tags": null
          },
          "name": "stdout",
          "output_type": "stream",
          "text": [
            "generate_samples: generated 423 samples in 5.764141798019409s\n",
            "Instrument: 560\n"
          ]
        },
        {
          "data": {
            "text/html": [
              "<div id=\"id_561\"> </div>"
            ],
            "text/plain": [
              "<IPython.core.display.HTML object>"
            ]
          },
          "metadata": {},
          "output_type": "display_data"
        },
        {
          "metadata": {
            "tags": null
          },
          "name": "stdout",
          "output_type": "stream",
          "text": [
            "generate_samples: generated 423 samples in 5.7875800132751465s\n",
            "Instrument: 561\n"
          ]
        },
        {
          "data": {
            "text/html": [
              "<div id=\"id_562\"> </div>"
            ],
            "text/plain": [
              "<IPython.core.display.HTML object>"
            ]
          },
          "metadata": {},
          "output_type": "display_data"
        },
        {
          "metadata": {
            "tags": null
          },
          "name": "stdout",
          "output_type": "stream",
          "text": [
            "generate_samples: generated 423 samples in 5.77123236656189s\n",
            "Instrument: 562\n"
          ]
        },
        {
          "data": {
            "text/html": [
              "<div id=\"id_563\"> </div>"
            ],
            "text/plain": [
              "<IPython.core.display.HTML object>"
            ]
          },
          "metadata": {},
          "output_type": "display_data"
        },
        {
          "metadata": {
            "tags": null
          },
          "name": "stdout",
          "output_type": "stream",
          "text": [
            "generate_samples: generated 423 samples in 5.777537107467651s\n",
            "Instrument: 563\n"
          ]
        },
        {
          "data": {
            "text/html": [
              "<div id=\"id_564\"> </div>"
            ],
            "text/plain": [
              "<IPython.core.display.HTML object>"
            ]
          },
          "metadata": {},
          "output_type": "display_data"
        },
        {
          "metadata": {
            "tags": null
          },
          "name": "stdout",
          "output_type": "stream",
          "text": [
            "generate_samples: generated 423 samples in 5.776642322540283s\n",
            "Instrument: 564\n"
          ]
        },
        {
          "data": {
            "text/html": [
              "<div id=\"id_565\"> </div>"
            ],
            "text/plain": [
              "<IPython.core.display.HTML object>"
            ]
          },
          "metadata": {},
          "output_type": "display_data"
        },
        {
          "metadata": {
            "tags": null
          },
          "name": "stdout",
          "output_type": "stream",
          "text": [
            "generate_samples: generated 423 samples in 5.786015748977661s\n",
            "Instrument: 565\n"
          ]
        },
        {
          "data": {
            "text/html": [
              "<div id=\"id_566\"> </div>"
            ],
            "text/plain": [
              "<IPython.core.display.HTML object>"
            ]
          },
          "metadata": {},
          "output_type": "display_data"
        },
        {
          "metadata": {
            "tags": null
          },
          "name": "stdout",
          "output_type": "stream",
          "text": [
            "generate_samples: generated 423 samples in 5.796832799911499s\n",
            "Instrument: 566\n"
          ]
        },
        {
          "data": {
            "text/html": [
              "<div id=\"id_567\"> </div>"
            ],
            "text/plain": [
              "<IPython.core.display.HTML object>"
            ]
          },
          "metadata": {},
          "output_type": "display_data"
        },
        {
          "metadata": {
            "tags": null
          },
          "name": "stdout",
          "output_type": "stream",
          "text": [
            "generate_samples: generated 423 samples in 5.7728471755981445s\n",
            "Instrument: 567\n"
          ]
        },
        {
          "data": {
            "text/html": [
              "<div id=\"id_568\"> </div>"
            ],
            "text/plain": [
              "<IPython.core.display.HTML object>"
            ]
          },
          "metadata": {},
          "output_type": "display_data"
        },
        {
          "metadata": {
            "tags": null
          },
          "name": "stdout",
          "output_type": "stream",
          "text": [
            "generate_samples: generated 423 samples in 5.821508407592773s\n",
            "Instrument: 568\n"
          ]
        },
        {
          "data": {
            "text/html": [
              "<div id=\"id_569\"> </div>"
            ],
            "text/plain": [
              "<IPython.core.display.HTML object>"
            ]
          },
          "metadata": {},
          "output_type": "display_data"
        },
        {
          "metadata": {
            "tags": null
          },
          "name": "stdout",
          "output_type": "stream",
          "text": [
            "generate_samples: generated 423 samples in 5.757463693618774s\n",
            "Instrument: 569\n"
          ]
        },
        {
          "data": {
            "text/html": [
              "<div id=\"id_570\"> </div>"
            ],
            "text/plain": [
              "<IPython.core.display.HTML object>"
            ]
          },
          "metadata": {},
          "output_type": "display_data"
        },
        {
          "metadata": {
            "tags": null
          },
          "name": "stdout",
          "output_type": "stream",
          "text": [
            "generate_samples: generated 423 samples in 5.775385856628418s\n",
            "Instrument: 570\n"
          ]
        },
        {
          "data": {
            "text/html": [
              "<div id=\"id_571\"> </div>"
            ],
            "text/plain": [
              "<IPython.core.display.HTML object>"
            ]
          },
          "metadata": {},
          "output_type": "display_data"
        },
        {
          "metadata": {
            "tags": null
          },
          "name": "stdout",
          "output_type": "stream",
          "text": [
            "generate_samples: generated 423 samples in 5.7619102001190186s\n",
            "Instrument: 571\n"
          ]
        },
        {
          "data": {
            "text/html": [
              "<div id=\"id_572\"> </div>"
            ],
            "text/plain": [
              "<IPython.core.display.HTML object>"
            ]
          },
          "metadata": {},
          "output_type": "display_data"
        },
        {
          "metadata": {
            "tags": null
          },
          "name": "stdout",
          "output_type": "stream",
          "text": [
            "generate_samples: generated 423 samples in 5.78289794921875s\n",
            "Instrument: 572\n"
          ]
        },
        {
          "data": {
            "text/html": [
              "<div id=\"id_573\"> </div>"
            ],
            "text/plain": [
              "<IPython.core.display.HTML object>"
            ]
          },
          "metadata": {},
          "output_type": "display_data"
        },
        {
          "metadata": {
            "tags": null
          },
          "name": "stdout",
          "output_type": "stream",
          "text": [
            "generate_samples: generated 423 samples in 5.788957834243774s\n",
            "Instrument: 573\n"
          ]
        },
        {
          "data": {
            "text/html": [
              "<div id=\"id_574\"> </div>"
            ],
            "text/plain": [
              "<IPython.core.display.HTML object>"
            ]
          },
          "metadata": {},
          "output_type": "display_data"
        },
        {
          "metadata": {
            "tags": null
          },
          "name": "stdout",
          "output_type": "stream",
          "text": [
            "generate_samples: generated 423 samples in 5.822362661361694s\n",
            "Instrument: 574\n"
          ]
        },
        {
          "data": {
            "text/html": [
              "<div id=\"id_575\"> </div>"
            ],
            "text/plain": [
              "<IPython.core.display.HTML object>"
            ]
          },
          "metadata": {},
          "output_type": "display_data"
        },
        {
          "metadata": {
            "tags": null
          },
          "name": "stdout",
          "output_type": "stream",
          "text": [
            "generate_samples: generated 423 samples in 5.799831867218018s\n",
            "Instrument: 575\n"
          ]
        },
        {
          "data": {
            "text/html": [
              "<div id=\"id_576\"> </div>"
            ],
            "text/plain": [
              "<IPython.core.display.HTML object>"
            ]
          },
          "metadata": {},
          "output_type": "display_data"
        },
        {
          "metadata": {
            "tags": null
          },
          "name": "stdout",
          "output_type": "stream",
          "text": [
            "generate_samples: generated 423 samples in 5.76647162437439s\n",
            "Instrument: 576\n"
          ]
        },
        {
          "data": {
            "text/html": [
              "<div id=\"id_577\"> </div>"
            ],
            "text/plain": [
              "<IPython.core.display.HTML object>"
            ]
          },
          "metadata": {},
          "output_type": "display_data"
        },
        {
          "metadata": {
            "tags": null
          },
          "name": "stdout",
          "output_type": "stream",
          "text": [
            "generate_samples: generated 423 samples in 5.780261039733887s\n",
            "Instrument: 577\n"
          ]
        },
        {
          "data": {
            "text/html": [
              "<div id=\"id_578\"> </div>"
            ],
            "text/plain": [
              "<IPython.core.display.HTML object>"
            ]
          },
          "metadata": {},
          "output_type": "display_data"
        },
        {
          "metadata": {
            "tags": null
          },
          "name": "stdout",
          "output_type": "stream",
          "text": [
            "generate_samples: generated 423 samples in 5.7894346714019775s\n",
            "Instrument: 578\n"
          ]
        },
        {
          "data": {
            "text/html": [
              "<div id=\"id_579\"> </div>"
            ],
            "text/plain": [
              "<IPython.core.display.HTML object>"
            ]
          },
          "metadata": {},
          "output_type": "display_data"
        },
        {
          "metadata": {
            "tags": null
          },
          "name": "stdout",
          "output_type": "stream",
          "text": [
            "generate_samples: generated 423 samples in 5.790915012359619s\n",
            "Instrument: 579\n"
          ]
        },
        {
          "data": {
            "text/html": [
              "<div id=\"id_580\"> </div>"
            ],
            "text/plain": [
              "<IPython.core.display.HTML object>"
            ]
          },
          "metadata": {},
          "output_type": "display_data"
        },
        {
          "metadata": {
            "tags": null
          },
          "name": "stdout",
          "output_type": "stream",
          "text": [
            "generate_samples: generated 423 samples in 5.769061326980591s\n",
            "Instrument: 580\n"
          ]
        },
        {
          "data": {
            "text/html": [
              "<div id=\"id_581\"> </div>"
            ],
            "text/plain": [
              "<IPython.core.display.HTML object>"
            ]
          },
          "metadata": {},
          "output_type": "display_data"
        },
        {
          "metadata": {
            "tags": null
          },
          "name": "stdout",
          "output_type": "stream",
          "text": [
            "generate_samples: generated 423 samples in 5.785309791564941s\n",
            "Instrument: 581\n"
          ]
        },
        {
          "data": {
            "text/html": [
              "<div id=\"id_582\"> </div>"
            ],
            "text/plain": [
              "<IPython.core.display.HTML object>"
            ]
          },
          "metadata": {},
          "output_type": "display_data"
        },
        {
          "metadata": {
            "tags": null
          },
          "name": "stdout",
          "output_type": "stream",
          "text": [
            "generate_samples: generated 423 samples in 5.794080495834351s\n",
            "Instrument: 582\n"
          ]
        },
        {
          "data": {
            "text/html": [
              "<div id=\"id_583\"> </div>"
            ],
            "text/plain": [
              "<IPython.core.display.HTML object>"
            ]
          },
          "metadata": {},
          "output_type": "display_data"
        },
        {
          "metadata": {
            "tags": null
          },
          "name": "stdout",
          "output_type": "stream",
          "text": [
            "generate_samples: generated 423 samples in 5.8245790004730225s\n",
            "Instrument: 583\n"
          ]
        },
        {
          "data": {
            "text/html": [
              "<div id=\"id_584\"> </div>"
            ],
            "text/plain": [
              "<IPython.core.display.HTML object>"
            ]
          },
          "metadata": {},
          "output_type": "display_data"
        },
        {
          "metadata": {
            "tags": null
          },
          "name": "stdout",
          "output_type": "stream",
          "text": [
            "generate_samples: generated 423 samples in 5.77184796333313s\n",
            "Instrument: 584\n"
          ]
        },
        {
          "data": {
            "text/html": [
              "<div id=\"id_585\"> </div>"
            ],
            "text/plain": [
              "<IPython.core.display.HTML object>"
            ]
          },
          "metadata": {},
          "output_type": "display_data"
        },
        {
          "metadata": {
            "tags": null
          },
          "name": "stdout",
          "output_type": "stream",
          "text": [
            "generate_samples: generated 423 samples in 5.7701427936553955s\n",
            "Instrument: 585\n"
          ]
        },
        {
          "data": {
            "text/html": [
              "<div id=\"id_586\"> </div>"
            ],
            "text/plain": [
              "<IPython.core.display.HTML object>"
            ]
          },
          "metadata": {},
          "output_type": "display_data"
        },
        {
          "metadata": {
            "tags": null
          },
          "name": "stdout",
          "output_type": "stream",
          "text": [
            "generate_samples: generated 423 samples in 5.784058332443237s\n",
            "Instrument: 586\n"
          ]
        },
        {
          "data": {
            "text/html": [
              "<div id=\"id_587\"> </div>"
            ],
            "text/plain": [
              "<IPython.core.display.HTML object>"
            ]
          },
          "metadata": {},
          "output_type": "display_data"
        },
        {
          "metadata": {
            "tags": null
          },
          "name": "stdout",
          "output_type": "stream",
          "text": [
            "generate_samples: generated 423 samples in 5.79373836517334s\n",
            "Instrument: 587\n"
          ]
        },
        {
          "data": {
            "text/html": [
              "<div id=\"id_588\"> </div>"
            ],
            "text/plain": [
              "<IPython.core.display.HTML object>"
            ]
          },
          "metadata": {},
          "output_type": "display_data"
        },
        {
          "metadata": {
            "tags": null
          },
          "name": "stdout",
          "output_type": "stream",
          "text": [
            "generate_samples: generated 423 samples in 5.785171985626221s\n",
            "Instrument: 588\n"
          ]
        },
        {
          "data": {
            "text/html": [
              "<div id=\"id_589\"> </div>"
            ],
            "text/plain": [
              "<IPython.core.display.HTML object>"
            ]
          },
          "metadata": {},
          "output_type": "display_data"
        },
        {
          "metadata": {
            "tags": null
          },
          "name": "stdout",
          "output_type": "stream",
          "text": [
            "generate_samples: generated 423 samples in 5.777589321136475s\n",
            "Instrument: 589\n"
          ]
        },
        {
          "data": {
            "text/html": [
              "<div id=\"id_590\"> </div>"
            ],
            "text/plain": [
              "<IPython.core.display.HTML object>"
            ]
          },
          "metadata": {},
          "output_type": "display_data"
        },
        {
          "metadata": {
            "tags": null
          },
          "name": "stdout",
          "output_type": "stream",
          "text": [
            "generate_samples: generated 423 samples in 5.786864757537842s\n",
            "Instrument: 590\n"
          ]
        },
        {
          "data": {
            "text/html": [
              "<div id=\"id_591\"> </div>"
            ],
            "text/plain": [
              "<IPython.core.display.HTML object>"
            ]
          },
          "metadata": {},
          "output_type": "display_data"
        },
        {
          "metadata": {
            "tags": null
          },
          "name": "stdout",
          "output_type": "stream",
          "text": [
            "generate_samples: generated 423 samples in 5.762925148010254s\n",
            "Instrument: 591\n"
          ]
        },
        {
          "data": {
            "text/html": [
              "<div id=\"id_592\"> </div>"
            ],
            "text/plain": [
              "<IPython.core.display.HTML object>"
            ]
          },
          "metadata": {},
          "output_type": "display_data"
        },
        {
          "metadata": {
            "tags": null
          },
          "name": "stdout",
          "output_type": "stream",
          "text": [
            "generate_samples: generated 423 samples in 5.769673585891724s\n",
            "Instrument: 592\n"
          ]
        },
        {
          "data": {
            "text/html": [
              "<div id=\"id_593\"> </div>"
            ],
            "text/plain": [
              "<IPython.core.display.HTML object>"
            ]
          },
          "metadata": {},
          "output_type": "display_data"
        },
        {
          "metadata": {
            "tags": null
          },
          "name": "stdout",
          "output_type": "stream",
          "text": [
            "generate_samples: generated 423 samples in 5.754591941833496s\n",
            "Instrument: 593\n"
          ]
        },
        {
          "data": {
            "text/html": [
              "<div id=\"id_594\"> </div>"
            ],
            "text/plain": [
              "<IPython.core.display.HTML object>"
            ]
          },
          "metadata": {},
          "output_type": "display_data"
        },
        {
          "metadata": {
            "tags": null
          },
          "name": "stdout",
          "output_type": "stream",
          "text": [
            "generate_samples: generated 423 samples in 5.7821266651153564s\n",
            "Instrument: 594\n"
          ]
        },
        {
          "data": {
            "text/html": [
              "<div id=\"id_595\"> </div>"
            ],
            "text/plain": [
              "<IPython.core.display.HTML object>"
            ]
          },
          "metadata": {},
          "output_type": "display_data"
        },
        {
          "metadata": {
            "tags": null
          },
          "name": "stdout",
          "output_type": "stream",
          "text": [
            "generate_samples: generated 423 samples in 5.7776336669921875s\n",
            "Instrument: 595\n"
          ]
        },
        {
          "data": {
            "text/html": [
              "<div id=\"id_596\"> </div>"
            ],
            "text/plain": [
              "<IPython.core.display.HTML object>"
            ]
          },
          "metadata": {},
          "output_type": "display_data"
        },
        {
          "metadata": {
            "tags": null
          },
          "name": "stdout",
          "output_type": "stream",
          "text": [
            "generate_samples: generated 423 samples in 5.798842906951904s\n",
            "Instrument: 596\n"
          ]
        },
        {
          "data": {
            "text/html": [
              "<div id=\"id_597\"> </div>"
            ],
            "text/plain": [
              "<IPython.core.display.HTML object>"
            ]
          },
          "metadata": {},
          "output_type": "display_data"
        },
        {
          "metadata": {
            "tags": null
          },
          "name": "stdout",
          "output_type": "stream",
          "text": [
            "generate_samples: generated 423 samples in 5.786199331283569s\n",
            "Instrument: 597\n"
          ]
        },
        {
          "data": {
            "text/html": [
              "<div id=\"id_598\"> </div>"
            ],
            "text/plain": [
              "<IPython.core.display.HTML object>"
            ]
          },
          "metadata": {},
          "output_type": "display_data"
        },
        {
          "metadata": {
            "tags": null
          },
          "name": "stdout",
          "output_type": "stream",
          "text": [
            "generate_samples: generated 423 samples in 5.768096685409546s\n",
            "Instrument: 598\n"
          ]
        },
        {
          "data": {
            "text/html": [
              "<div id=\"id_599\"> </div>"
            ],
            "text/plain": [
              "<IPython.core.display.HTML object>"
            ]
          },
          "metadata": {},
          "output_type": "display_data"
        },
        {
          "metadata": {
            "tags": null
          },
          "name": "stdout",
          "output_type": "stream",
          "text": [
            "generate_samples: generated 423 samples in 5.7816550731658936s\n",
            "Instrument: 599\n"
          ]
        },
        {
          "data": {
            "text/html": [
              "<div id=\"id_600\"> </div>"
            ],
            "text/plain": [
              "<IPython.core.display.HTML object>"
            ]
          },
          "metadata": {},
          "output_type": "display_data"
        },
        {
          "metadata": {
            "tags": null
          },
          "name": "stdout",
          "output_type": "stream",
          "text": [
            "generate_samples: generated 423 samples in 5.7935569286346436s\n",
            "Instrument: 600\n"
          ]
        },
        {
          "data": {
            "text/html": [
              "<div id=\"id_601\"> </div>"
            ],
            "text/plain": [
              "<IPython.core.display.HTML object>"
            ]
          },
          "metadata": {},
          "output_type": "display_data"
        },
        {
          "metadata": {
            "tags": null
          },
          "name": "stdout",
          "output_type": "stream",
          "text": [
            "generate_samples: generated 423 samples in 5.7853264808654785s\n",
            "Instrument: 601\n"
          ]
        },
        {
          "data": {
            "text/html": [
              "<div id=\"id_602\"> </div>"
            ],
            "text/plain": [
              "<IPython.core.display.HTML object>"
            ]
          },
          "metadata": {},
          "output_type": "display_data"
        },
        {
          "metadata": {
            "tags": null
          },
          "name": "stdout",
          "output_type": "stream",
          "text": [
            "generate_samples: generated 423 samples in 5.784239768981934s\n",
            "Instrument: 602\n"
          ]
        },
        {
          "data": {
            "text/html": [
              "<div id=\"id_603\"> </div>"
            ],
            "text/plain": [
              "<IPython.core.display.HTML object>"
            ]
          },
          "metadata": {},
          "output_type": "display_data"
        },
        {
          "metadata": {
            "tags": null
          },
          "name": "stdout",
          "output_type": "stream",
          "text": [
            "generate_samples: generated 423 samples in 5.782379388809204s\n",
            "Instrument: 603\n"
          ]
        },
        {
          "data": {
            "text/html": [
              "<div id=\"id_604\"> </div>"
            ],
            "text/plain": [
              "<IPython.core.display.HTML object>"
            ]
          },
          "metadata": {},
          "output_type": "display_data"
        },
        {
          "metadata": {
            "tags": null
          },
          "name": "stdout",
          "output_type": "stream",
          "text": [
            "generate_samples: generated 423 samples in 5.7678656578063965s\n",
            "Instrument: 604\n"
          ]
        },
        {
          "data": {
            "text/html": [
              "<div id=\"id_605\"> </div>"
            ],
            "text/plain": [
              "<IPython.core.display.HTML object>"
            ]
          },
          "metadata": {},
          "output_type": "display_data"
        },
        {
          "metadata": {
            "tags": null
          },
          "name": "stdout",
          "output_type": "stream",
          "text": [
            "generate_samples: generated 423 samples in 5.8070573806762695s\n",
            "Instrument: 605\n"
          ]
        },
        {
          "data": {
            "text/html": [
              "<div id=\"id_606\"> </div>"
            ],
            "text/plain": [
              "<IPython.core.display.HTML object>"
            ]
          },
          "metadata": {},
          "output_type": "display_data"
        },
        {
          "metadata": {
            "tags": null
          },
          "name": "stdout",
          "output_type": "stream",
          "text": [
            "generate_samples: generated 423 samples in 5.766587257385254s\n",
            "Instrument: 606\n"
          ]
        },
        {
          "data": {
            "text/html": [
              "<div id=\"id_607\"> </div>"
            ],
            "text/plain": [
              "<IPython.core.display.HTML object>"
            ]
          },
          "metadata": {},
          "output_type": "display_data"
        },
        {
          "metadata": {
            "tags": null
          },
          "name": "stdout",
          "output_type": "stream",
          "text": [
            "generate_samples: generated 423 samples in 5.773100852966309s\n",
            "Instrument: 607\n"
          ]
        },
        {
          "data": {
            "text/html": [
              "<div id=\"id_608\"> </div>"
            ],
            "text/plain": [
              "<IPython.core.display.HTML object>"
            ]
          },
          "metadata": {},
          "output_type": "display_data"
        },
        {
          "metadata": {
            "tags": null
          },
          "name": "stdout",
          "output_type": "stream",
          "text": [
            "generate_samples: generated 423 samples in 5.7740256786346436s\n",
            "Instrument: 608\n"
          ]
        },
        {
          "data": {
            "text/html": [
              "<div id=\"id_609\"> </div>"
            ],
            "text/plain": [
              "<IPython.core.display.HTML object>"
            ]
          },
          "metadata": {},
          "output_type": "display_data"
        },
        {
          "metadata": {
            "tags": null
          },
          "name": "stdout",
          "output_type": "stream",
          "text": [
            "generate_samples: generated 423 samples in 5.765230655670166s\n",
            "Instrument: 609\n"
          ]
        },
        {
          "data": {
            "text/html": [
              "<div id=\"id_610\"> </div>"
            ],
            "text/plain": [
              "<IPython.core.display.HTML object>"
            ]
          },
          "metadata": {},
          "output_type": "display_data"
        },
        {
          "metadata": {
            "tags": null
          },
          "name": "stdout",
          "output_type": "stream",
          "text": [
            "generate_samples: generated 423 samples in 5.7496161460876465s\n",
            "Instrument: 610\n"
          ]
        },
        {
          "data": {
            "text/html": [
              "<div id=\"id_611\"> </div>"
            ],
            "text/plain": [
              "<IPython.core.display.HTML object>"
            ]
          },
          "metadata": {},
          "output_type": "display_data"
        },
        {
          "metadata": {
            "tags": null
          },
          "name": "stdout",
          "output_type": "stream",
          "text": [
            "generate_samples: generated 423 samples in 5.782072067260742s\n",
            "Instrument: 611\n"
          ]
        },
        {
          "data": {
            "text/html": [
              "<div id=\"id_612\"> </div>"
            ],
            "text/plain": [
              "<IPython.core.display.HTML object>"
            ]
          },
          "metadata": {},
          "output_type": "display_data"
        },
        {
          "metadata": {
            "tags": null
          },
          "name": "stdout",
          "output_type": "stream",
          "text": [
            "generate_samples: generated 423 samples in 5.774355173110962s\n",
            "Instrument: 612\n"
          ]
        },
        {
          "data": {
            "text/html": [
              "<div id=\"id_613\"> </div>"
            ],
            "text/plain": [
              "<IPython.core.display.HTML object>"
            ]
          },
          "metadata": {},
          "output_type": "display_data"
        },
        {
          "metadata": {
            "tags": null
          },
          "name": "stdout",
          "output_type": "stream",
          "text": [
            "generate_samples: generated 423 samples in 5.8263561725616455s\n",
            "Instrument: 613\n"
          ]
        },
        {
          "data": {
            "text/html": [
              "<div id=\"id_614\"> </div>"
            ],
            "text/plain": [
              "<IPython.core.display.HTML object>"
            ]
          },
          "metadata": {},
          "output_type": "display_data"
        },
        {
          "metadata": {
            "tags": null
          },
          "name": "stdout",
          "output_type": "stream",
          "text": [
            "generate_samples: generated 423 samples in 5.7838850021362305s\n",
            "Instrument: 614\n"
          ]
        },
        {
          "data": {
            "text/html": [
              "<div id=\"id_615\"> </div>"
            ],
            "text/plain": [
              "<IPython.core.display.HTML object>"
            ]
          },
          "metadata": {},
          "output_type": "display_data"
        },
        {
          "metadata": {
            "tags": null
          },
          "name": "stdout",
          "output_type": "stream",
          "text": [
            "generate_samples: generated 423 samples in 5.779532432556152s\n",
            "Instrument: 615\n"
          ]
        },
        {
          "data": {
            "text/html": [
              "<div id=\"id_616\"> </div>"
            ],
            "text/plain": [
              "<IPython.core.display.HTML object>"
            ]
          },
          "metadata": {},
          "output_type": "display_data"
        },
        {
          "metadata": {
            "tags": null
          },
          "name": "stdout",
          "output_type": "stream",
          "text": [
            "generate_samples: generated 423 samples in 5.776273727416992s\n",
            "Instrument: 616\n"
          ]
        },
        {
          "data": {
            "text/html": [
              "<div id=\"id_617\"> </div>"
            ],
            "text/plain": [
              "<IPython.core.display.HTML object>"
            ]
          },
          "metadata": {},
          "output_type": "display_data"
        },
        {
          "metadata": {
            "tags": null
          },
          "name": "stdout",
          "output_type": "stream",
          "text": [
            "generate_samples: generated 423 samples in 5.755382776260376s\n",
            "Instrument: 617\n"
          ]
        },
        {
          "data": {
            "text/html": [
              "<div id=\"id_618\"> </div>"
            ],
            "text/plain": [
              "<IPython.core.display.HTML object>"
            ]
          },
          "metadata": {},
          "output_type": "display_data"
        },
        {
          "metadata": {
            "tags": null
          },
          "name": "stdout",
          "output_type": "stream",
          "text": [
            "generate_samples: generated 423 samples in 5.773840427398682s\n",
            "Instrument: 618\n"
          ]
        },
        {
          "data": {
            "text/html": [
              "<div id=\"id_619\"> </div>"
            ],
            "text/plain": [
              "<IPython.core.display.HTML object>"
            ]
          },
          "metadata": {},
          "output_type": "display_data"
        },
        {
          "metadata": {
            "tags": null
          },
          "name": "stdout",
          "output_type": "stream",
          "text": [
            "generate_samples: generated 423 samples in 5.779579401016235s\n",
            "Instrument: 619\n"
          ]
        },
        {
          "data": {
            "text/html": [
              "<div id=\"id_620\"> </div>"
            ],
            "text/plain": [
              "<IPython.core.display.HTML object>"
            ]
          },
          "metadata": {},
          "output_type": "display_data"
        },
        {
          "metadata": {
            "tags": null
          },
          "name": "stdout",
          "output_type": "stream",
          "text": [
            "generate_samples: generated 423 samples in 5.801286220550537s\n",
            "Instrument: 620\n"
          ]
        },
        {
          "data": {
            "text/html": [
              "<div id=\"id_621\"> </div>"
            ],
            "text/plain": [
              "<IPython.core.display.HTML object>"
            ]
          },
          "metadata": {},
          "output_type": "display_data"
        },
        {
          "metadata": {
            "tags": null
          },
          "name": "stdout",
          "output_type": "stream",
          "text": [
            "generate_samples: generated 423 samples in 5.799062013626099s\n",
            "Instrument: 621\n"
          ]
        },
        {
          "data": {
            "text/html": [
              "<div id=\"id_622\"> </div>"
            ],
            "text/plain": [
              "<IPython.core.display.HTML object>"
            ]
          },
          "metadata": {},
          "output_type": "display_data"
        },
        {
          "metadata": {
            "tags": null
          },
          "name": "stdout",
          "output_type": "stream",
          "text": [
            "generate_samples: generated 423 samples in 5.7803053855896s\n",
            "Instrument: 622\n"
          ]
        },
        {
          "data": {
            "text/html": [
              "<div id=\"id_623\"> </div>"
            ],
            "text/plain": [
              "<IPython.core.display.HTML object>"
            ]
          },
          "metadata": {},
          "output_type": "display_data"
        },
        {
          "metadata": {
            "tags": null
          },
          "name": "stdout",
          "output_type": "stream",
          "text": [
            "generate_samples: generated 423 samples in 5.781555414199829s\n",
            "Instrument: 623\n"
          ]
        },
        {
          "data": {
            "text/html": [
              "<div id=\"id_624\"> </div>"
            ],
            "text/plain": [
              "<IPython.core.display.HTML object>"
            ]
          },
          "metadata": {},
          "output_type": "display_data"
        },
        {
          "metadata": {
            "tags": null
          },
          "name": "stdout",
          "output_type": "stream",
          "text": [
            "generate_samples: generated 423 samples in 5.79091477394104s\n",
            "Instrument: 624\n"
          ]
        },
        {
          "data": {
            "text/html": [
              "<div id=\"id_625\"> </div>"
            ],
            "text/plain": [
              "<IPython.core.display.HTML object>"
            ]
          },
          "metadata": {},
          "output_type": "display_data"
        },
        {
          "metadata": {
            "tags": null
          },
          "name": "stdout",
          "output_type": "stream",
          "text": [
            "generate_samples: generated 423 samples in 5.799348592758179s\n",
            "Instrument: 625\n"
          ]
        },
        {
          "data": {
            "text/html": [
              "<div id=\"id_626\"> </div>"
            ],
            "text/plain": [
              "<IPython.core.display.HTML object>"
            ]
          },
          "metadata": {},
          "output_type": "display_data"
        },
        {
          "metadata": {
            "tags": null
          },
          "name": "stdout",
          "output_type": "stream",
          "text": [
            "generate_samples: generated 423 samples in 5.765061378479004s\n",
            "Instrument: 626\n"
          ]
        },
        {
          "data": {
            "text/html": [
              "<div id=\"id_627\"> </div>"
            ],
            "text/plain": [
              "<IPython.core.display.HTML object>"
            ]
          },
          "metadata": {},
          "output_type": "display_data"
        },
        {
          "metadata": {
            "tags": null
          },
          "name": "stdout",
          "output_type": "stream",
          "text": [
            "generate_samples: generated 423 samples in 5.799433708190918s\n",
            "Instrument: 627\n"
          ]
        },
        {
          "data": {
            "text/html": [
              "<div id=\"id_628\"> </div>"
            ],
            "text/plain": [
              "<IPython.core.display.HTML object>"
            ]
          },
          "metadata": {},
          "output_type": "display_data"
        },
        {
          "metadata": {
            "tags": null
          },
          "name": "stdout",
          "output_type": "stream",
          "text": [
            "generate_samples: generated 423 samples in 5.77565336227417s\n",
            "Instrument: 628\n"
          ]
        },
        {
          "data": {
            "text/html": [
              "<div id=\"id_629\"> </div>"
            ],
            "text/plain": [
              "<IPython.core.display.HTML object>"
            ]
          },
          "metadata": {},
          "output_type": "display_data"
        },
        {
          "metadata": {
            "tags": null
          },
          "name": "stdout",
          "output_type": "stream",
          "text": [
            "generate_samples: generated 423 samples in 5.7749035358428955s\n",
            "Instrument: 629\n"
          ]
        },
        {
          "data": {
            "text/html": [
              "<div id=\"id_630\"> </div>"
            ],
            "text/plain": [
              "<IPython.core.display.HTML object>"
            ]
          },
          "metadata": {},
          "output_type": "display_data"
        },
        {
          "metadata": {
            "tags": null
          },
          "name": "stdout",
          "output_type": "stream",
          "text": [
            "generate_samples: generated 423 samples in 5.777915954589844s\n",
            "Instrument: 630\n"
          ]
        },
        {
          "data": {
            "text/html": [
              "<div id=\"id_631\"> </div>"
            ],
            "text/plain": [
              "<IPython.core.display.HTML object>"
            ]
          },
          "metadata": {},
          "output_type": "display_data"
        },
        {
          "metadata": {
            "tags": null
          },
          "name": "stdout",
          "output_type": "stream",
          "text": [
            "generate_samples: generated 423 samples in 5.787017583847046s\n",
            "Instrument: 631\n"
          ]
        },
        {
          "data": {
            "text/html": [
              "<div id=\"id_632\"> </div>"
            ],
            "text/plain": [
              "<IPython.core.display.HTML object>"
            ]
          },
          "metadata": {},
          "output_type": "display_data"
        },
        {
          "metadata": {
            "tags": null
          },
          "name": "stdout",
          "output_type": "stream",
          "text": [
            "generate_samples: generated 423 samples in 5.7925920486450195s\n",
            "Instrument: 632\n"
          ]
        },
        {
          "data": {
            "text/html": [
              "<div id=\"id_633\"> </div>"
            ],
            "text/plain": [
              "<IPython.core.display.HTML object>"
            ]
          },
          "metadata": {},
          "output_type": "display_data"
        },
        {
          "metadata": {
            "tags": null
          },
          "name": "stdout",
          "output_type": "stream",
          "text": [
            "generate_samples: generated 423 samples in 5.780088663101196s\n",
            "Instrument: 633\n"
          ]
        },
        {
          "data": {
            "text/html": [
              "<div id=\"id_634\"> </div>"
            ],
            "text/plain": [
              "<IPython.core.display.HTML object>"
            ]
          },
          "metadata": {},
          "output_type": "display_data"
        },
        {
          "metadata": {
            "tags": null
          },
          "name": "stdout",
          "output_type": "stream",
          "text": [
            "generate_samples: generated 423 samples in 5.78051233291626s\n",
            "Instrument: 634\n"
          ]
        },
        {
          "data": {
            "text/html": [
              "<div id=\"id_635\"> </div>"
            ],
            "text/plain": [
              "<IPython.core.display.HTML object>"
            ]
          },
          "metadata": {},
          "output_type": "display_data"
        },
        {
          "metadata": {
            "tags": null
          },
          "name": "stdout",
          "output_type": "stream",
          "text": [
            "generate_samples: generated 423 samples in 5.859593152999878s\n",
            "Instrument: 635\n"
          ]
        },
        {
          "data": {
            "text/html": [
              "<div id=\"id_636\"> </div>"
            ],
            "text/plain": [
              "<IPython.core.display.HTML object>"
            ]
          },
          "metadata": {},
          "output_type": "display_data"
        },
        {
          "metadata": {
            "tags": null
          },
          "name": "stdout",
          "output_type": "stream",
          "text": [
            "generate_samples: generated 423 samples in 5.808194637298584s\n",
            "Instrument: 636\n"
          ]
        },
        {
          "data": {
            "text/html": [
              "<div id=\"id_637\"> </div>"
            ],
            "text/plain": [
              "<IPython.core.display.HTML object>"
            ]
          },
          "metadata": {},
          "output_type": "display_data"
        },
        {
          "metadata": {
            "tags": null
          },
          "name": "stdout",
          "output_type": "stream",
          "text": [
            "generate_samples: generated 423 samples in 5.803146123886108s\n",
            "Instrument: 637\n"
          ]
        },
        {
          "data": {
            "text/html": [
              "<div id=\"id_638\"> </div>"
            ],
            "text/plain": [
              "<IPython.core.display.HTML object>"
            ]
          },
          "metadata": {},
          "output_type": "display_data"
        },
        {
          "metadata": {
            "tags": null
          },
          "name": "stdout",
          "output_type": "stream",
          "text": [
            "generate_samples: generated 423 samples in 5.791302680969238s\n",
            "Instrument: 638\n"
          ]
        },
        {
          "data": {
            "text/html": [
              "<div id=\"id_639\"> </div>"
            ],
            "text/plain": [
              "<IPython.core.display.HTML object>"
            ]
          },
          "metadata": {},
          "output_type": "display_data"
        },
        {
          "metadata": {
            "tags": null
          },
          "name": "stdout",
          "output_type": "stream",
          "text": [
            "generate_samples: generated 423 samples in 5.79320216178894s\n",
            "Instrument: 639\n"
          ]
        },
        {
          "data": {
            "text/html": [
              "<div id=\"id_640\"> </div>"
            ],
            "text/plain": [
              "<IPython.core.display.HTML object>"
            ]
          },
          "metadata": {},
          "output_type": "display_data"
        },
        {
          "metadata": {
            "tags": null
          },
          "name": "stdout",
          "output_type": "stream",
          "text": [
            "generate_samples: generated 423 samples in 5.777535915374756s\n",
            "Instrument: 640\n"
          ]
        },
        {
          "data": {
            "text/html": [
              "<div id=\"id_641\"> </div>"
            ],
            "text/plain": [
              "<IPython.core.display.HTML object>"
            ]
          },
          "metadata": {},
          "output_type": "display_data"
        },
        {
          "metadata": {
            "tags": null
          },
          "name": "stdout",
          "output_type": "stream",
          "text": [
            "generate_samples: generated 423 samples in 5.778825283050537s\n",
            "Instrument: 641\n"
          ]
        },
        {
          "data": {
            "text/html": [
              "<div id=\"id_642\"> </div>"
            ],
            "text/plain": [
              "<IPython.core.display.HTML object>"
            ]
          },
          "metadata": {},
          "output_type": "display_data"
        },
        {
          "metadata": {
            "tags": null
          },
          "name": "stdout",
          "output_type": "stream",
          "text": [
            "generate_samples: generated 423 samples in 5.7725701332092285s\n",
            "Instrument: 642\n"
          ]
        },
        {
          "data": {
            "text/html": [
              "<div id=\"id_643\"> </div>"
            ],
            "text/plain": [
              "<IPython.core.display.HTML object>"
            ]
          },
          "metadata": {},
          "output_type": "display_data"
        },
        {
          "metadata": {
            "tags": null
          },
          "name": "stdout",
          "output_type": "stream",
          "text": [
            "generate_samples: generated 423 samples in 5.761120080947876s\n",
            "Instrument: 643\n"
          ]
        },
        {
          "data": {
            "text/html": [
              "<div id=\"id_644\"> </div>"
            ],
            "text/plain": [
              "<IPython.core.display.HTML object>"
            ]
          },
          "metadata": {},
          "output_type": "display_data"
        },
        {
          "metadata": {
            "tags": null
          },
          "name": "stdout",
          "output_type": "stream",
          "text": [
            "generate_samples: generated 423 samples in 5.771143913269043s\n",
            "Instrument: 644\n"
          ]
        },
        {
          "data": {
            "text/html": [
              "<div id=\"id_645\"> </div>"
            ],
            "text/plain": [
              "<IPython.core.display.HTML object>"
            ]
          },
          "metadata": {},
          "output_type": "display_data"
        },
        {
          "metadata": {
            "tags": null
          },
          "name": "stdout",
          "output_type": "stream",
          "text": [
            "generate_samples: generated 423 samples in 5.793993949890137s\n",
            "Instrument: 645\n"
          ]
        },
        {
          "data": {
            "text/html": [
              "<div id=\"id_646\"> </div>"
            ],
            "text/plain": [
              "<IPython.core.display.HTML object>"
            ]
          },
          "metadata": {},
          "output_type": "display_data"
        },
        {
          "metadata": {
            "tags": null
          },
          "name": "stdout",
          "output_type": "stream",
          "text": [
            "generate_samples: generated 423 samples in 5.753360033035278s\n",
            "Instrument: 646\n"
          ]
        },
        {
          "data": {
            "text/html": [
              "<div id=\"id_647\"> </div>"
            ],
            "text/plain": [
              "<IPython.core.display.HTML object>"
            ]
          },
          "metadata": {},
          "output_type": "display_data"
        },
        {
          "metadata": {
            "tags": null
          },
          "name": "stdout",
          "output_type": "stream",
          "text": [
            "generate_samples: generated 423 samples in 5.779495477676392s\n",
            "Instrument: 647\n"
          ]
        },
        {
          "data": {
            "text/html": [
              "<div id=\"id_648\"> </div>"
            ],
            "text/plain": [
              "<IPython.core.display.HTML object>"
            ]
          },
          "metadata": {},
          "output_type": "display_data"
        },
        {
          "metadata": {
            "tags": null
          },
          "name": "stdout",
          "output_type": "stream",
          "text": [
            "generate_samples: generated 423 samples in 5.805633544921875s\n",
            "Instrument: 648\n"
          ]
        },
        {
          "data": {
            "text/html": [
              "<div id=\"id_649\"> </div>"
            ],
            "text/plain": [
              "<IPython.core.display.HTML object>"
            ]
          },
          "metadata": {},
          "output_type": "display_data"
        },
        {
          "metadata": {
            "tags": null
          },
          "name": "stdout",
          "output_type": "stream",
          "text": [
            "generate_samples: generated 423 samples in 5.779353618621826s\n",
            "Instrument: 649\n"
          ]
        },
        {
          "data": {
            "text/html": [
              "<div id=\"id_650\"> </div>"
            ],
            "text/plain": [
              "<IPython.core.display.HTML object>"
            ]
          },
          "metadata": {},
          "output_type": "display_data"
        },
        {
          "metadata": {
            "tags": null
          },
          "name": "stdout",
          "output_type": "stream",
          "text": [
            "generate_samples: generated 423 samples in 5.78796911239624s\n",
            "Instrument: 650\n"
          ]
        },
        {
          "data": {
            "text/html": [
              "<div id=\"id_651\"> </div>"
            ],
            "text/plain": [
              "<IPython.core.display.HTML object>"
            ]
          },
          "metadata": {},
          "output_type": "display_data"
        },
        {
          "metadata": {
            "tags": null
          },
          "name": "stdout",
          "output_type": "stream",
          "text": [
            "generate_samples: generated 423 samples in 5.787825345993042s\n",
            "Instrument: 651\n"
          ]
        },
        {
          "data": {
            "text/html": [
              "<div id=\"id_652\"> </div>"
            ],
            "text/plain": [
              "<IPython.core.display.HTML object>"
            ]
          },
          "metadata": {},
          "output_type": "display_data"
        },
        {
          "metadata": {
            "tags": null
          },
          "name": "stdout",
          "output_type": "stream",
          "text": [
            "generate_samples: generated 423 samples in 5.794712543487549s\n",
            "Instrument: 652\n"
          ]
        },
        {
          "data": {
            "text/html": [
              "<div id=\"id_653\"> </div>"
            ],
            "text/plain": [
              "<IPython.core.display.HTML object>"
            ]
          },
          "metadata": {},
          "output_type": "display_data"
        },
        {
          "metadata": {
            "tags": null
          },
          "name": "stdout",
          "output_type": "stream",
          "text": [
            "generate_samples: generated 423 samples in 5.762507677078247s\n",
            "Instrument: 653\n"
          ]
        },
        {
          "data": {
            "text/html": [
              "<div id=\"id_654\"> </div>"
            ],
            "text/plain": [
              "<IPython.core.display.HTML object>"
            ]
          },
          "metadata": {},
          "output_type": "display_data"
        },
        {
          "metadata": {
            "tags": null
          },
          "name": "stdout",
          "output_type": "stream",
          "text": [
            "generate_samples: generated 423 samples in 5.789127349853516s\n",
            "Instrument: 654\n"
          ]
        },
        {
          "data": {
            "text/html": [
              "<div id=\"id_655\"> </div>"
            ],
            "text/plain": [
              "<IPython.core.display.HTML object>"
            ]
          },
          "metadata": {},
          "output_type": "display_data"
        },
        {
          "metadata": {
            "tags": null
          },
          "name": "stdout",
          "output_type": "stream",
          "text": [
            "generate_samples: generated 423 samples in 5.7777886390686035s\n",
            "Instrument: 655\n"
          ]
        },
        {
          "data": {
            "text/html": [
              "<div id=\"id_656\"> </div>"
            ],
            "text/plain": [
              "<IPython.core.display.HTML object>"
            ]
          },
          "metadata": {},
          "output_type": "display_data"
        },
        {
          "metadata": {
            "tags": null
          },
          "name": "stdout",
          "output_type": "stream",
          "text": [
            "generate_samples: generated 423 samples in 5.800625562667847s\n",
            "Instrument: 656\n"
          ]
        },
        {
          "data": {
            "text/html": [
              "<div id=\"id_657\"> </div>"
            ],
            "text/plain": [
              "<IPython.core.display.HTML object>"
            ]
          },
          "metadata": {},
          "output_type": "display_data"
        },
        {
          "metadata": {
            "tags": null
          },
          "name": "stdout",
          "output_type": "stream",
          "text": [
            "generate_samples: generated 423 samples in 5.792196750640869s\n",
            "Instrument: 657\n"
          ]
        },
        {
          "data": {
            "text/html": [
              "<div id=\"id_658\"> </div>"
            ],
            "text/plain": [
              "<IPython.core.display.HTML object>"
            ]
          },
          "metadata": {},
          "output_type": "display_data"
        },
        {
          "metadata": {
            "tags": null
          },
          "name": "stdout",
          "output_type": "stream",
          "text": [
            "generate_samples: generated 423 samples in 5.7965617179870605s\n",
            "Instrument: 658\n"
          ]
        },
        {
          "data": {
            "text/html": [
              "<div id=\"id_659\"> </div>"
            ],
            "text/plain": [
              "<IPython.core.display.HTML object>"
            ]
          },
          "metadata": {},
          "output_type": "display_data"
        },
        {
          "metadata": {
            "tags": null
          },
          "name": "stdout",
          "output_type": "stream",
          "text": [
            "generate_samples: generated 423 samples in 5.791671514511108s\n",
            "Instrument: 659\n"
          ]
        },
        {
          "data": {
            "text/html": [
              "<div id=\"id_660\"> </div>"
            ],
            "text/plain": [
              "<IPython.core.display.HTML object>"
            ]
          },
          "metadata": {},
          "output_type": "display_data"
        },
        {
          "metadata": {
            "tags": null
          },
          "name": "stdout",
          "output_type": "stream",
          "text": [
            "generate_samples: generated 423 samples in 5.77798056602478s\n",
            "Instrument: 660\n"
          ]
        },
        {
          "data": {
            "text/html": [
              "<div id=\"id_661\"> </div>"
            ],
            "text/plain": [
              "<IPython.core.display.HTML object>"
            ]
          },
          "metadata": {},
          "output_type": "display_data"
        },
        {
          "metadata": {
            "tags": null
          },
          "name": "stdout",
          "output_type": "stream",
          "text": [
            "generate_samples: generated 423 samples in 5.809462308883667s\n",
            "Instrument: 661\n"
          ]
        },
        {
          "data": {
            "text/html": [
              "<div id=\"id_662\"> </div>"
            ],
            "text/plain": [
              "<IPython.core.display.HTML object>"
            ]
          },
          "metadata": {},
          "output_type": "display_data"
        },
        {
          "metadata": {
            "tags": null
          },
          "name": "stdout",
          "output_type": "stream",
          "text": [
            "generate_samples: generated 423 samples in 5.784899950027466s\n",
            "Instrument: 662\n"
          ]
        },
        {
          "data": {
            "text/html": [
              "<div id=\"id_663\"> </div>"
            ],
            "text/plain": [
              "<IPython.core.display.HTML object>"
            ]
          },
          "metadata": {},
          "output_type": "display_data"
        },
        {
          "metadata": {
            "tags": null
          },
          "name": "stdout",
          "output_type": "stream",
          "text": [
            "generate_samples: generated 423 samples in 5.79688835144043s\n",
            "Instrument: 663\n"
          ]
        },
        {
          "data": {
            "text/html": [
              "<div id=\"id_664\"> </div>"
            ],
            "text/plain": [
              "<IPython.core.display.HTML object>"
            ]
          },
          "metadata": {},
          "output_type": "display_data"
        },
        {
          "metadata": {
            "tags": null
          },
          "name": "stdout",
          "output_type": "stream",
          "text": [
            "generate_samples: generated 423 samples in 5.798112392425537s\n",
            "Instrument: 664\n"
          ]
        },
        {
          "data": {
            "text/html": [
              "<div id=\"id_665\"> </div>"
            ],
            "text/plain": [
              "<IPython.core.display.HTML object>"
            ]
          },
          "metadata": {},
          "output_type": "display_data"
        },
        {
          "metadata": {
            "tags": null
          },
          "name": "stdout",
          "output_type": "stream",
          "text": [
            "generate_samples: generated 423 samples in 5.7828450202941895s\n",
            "Instrument: 665\n"
          ]
        },
        {
          "data": {
            "text/html": [
              "<div id=\"id_666\"> </div>"
            ],
            "text/plain": [
              "<IPython.core.display.HTML object>"
            ]
          },
          "metadata": {},
          "output_type": "display_data"
        },
        {
          "metadata": {
            "tags": null
          },
          "name": "stdout",
          "output_type": "stream",
          "text": [
            "generate_samples: generated 423 samples in 5.774471282958984s\n",
            "Instrument: 666\n"
          ]
        },
        {
          "data": {
            "text/html": [
              "<div id=\"id_667\"> </div>"
            ],
            "text/plain": [
              "<IPython.core.display.HTML object>"
            ]
          },
          "metadata": {},
          "output_type": "display_data"
        },
        {
          "metadata": {
            "tags": null
          },
          "name": "stdout",
          "output_type": "stream",
          "text": [
            "generate_samples: generated 423 samples in 5.823375701904297s\n",
            "Instrument: 667\n"
          ]
        },
        {
          "data": {
            "text/html": [
              "<div id=\"id_668\"> </div>"
            ],
            "text/plain": [
              "<IPython.core.display.HTML object>"
            ]
          },
          "metadata": {},
          "output_type": "display_data"
        },
        {
          "metadata": {
            "tags": null
          },
          "name": "stdout",
          "output_type": "stream",
          "text": [
            "generate_samples: generated 423 samples in 5.798177242279053s\n",
            "Instrument: 668\n"
          ]
        },
        {
          "data": {
            "text/html": [
              "<div id=\"id_669\"> </div>"
            ],
            "text/plain": [
              "<IPython.core.display.HTML object>"
            ]
          },
          "metadata": {},
          "output_type": "display_data"
        },
        {
          "metadata": {
            "tags": null
          },
          "name": "stdout",
          "output_type": "stream",
          "text": [
            "generate_samples: generated 423 samples in 5.786098957061768s\n",
            "Instrument: 669\n"
          ]
        },
        {
          "data": {
            "text/html": [
              "<div id=\"id_670\"> </div>"
            ],
            "text/plain": [
              "<IPython.core.display.HTML object>"
            ]
          },
          "metadata": {},
          "output_type": "display_data"
        },
        {
          "metadata": {
            "tags": null
          },
          "name": "stdout",
          "output_type": "stream",
          "text": [
            "generate_samples: generated 423 samples in 5.74671196937561s\n",
            "Instrument: 670\n"
          ]
        },
        {
          "data": {
            "text/html": [
              "<div id=\"id_671\"> </div>"
            ],
            "text/plain": [
              "<IPython.core.display.HTML object>"
            ]
          },
          "metadata": {},
          "output_type": "display_data"
        },
        {
          "metadata": {
            "tags": null
          },
          "name": "stdout",
          "output_type": "stream",
          "text": [
            "generate_samples: generated 423 samples in 5.799513816833496s\n",
            "Instrument: 671\n"
          ]
        },
        {
          "data": {
            "text/html": [
              "<div id=\"id_672\"> </div>"
            ],
            "text/plain": [
              "<IPython.core.display.HTML object>"
            ]
          },
          "metadata": {},
          "output_type": "display_data"
        },
        {
          "metadata": {
            "tags": null
          },
          "name": "stdout",
          "output_type": "stream",
          "text": [
            "generate_samples: generated 423 samples in 5.778462648391724s\n",
            "Instrument: 672\n"
          ]
        },
        {
          "data": {
            "text/html": [
              "<div id=\"id_673\"> </div>"
            ],
            "text/plain": [
              "<IPython.core.display.HTML object>"
            ]
          },
          "metadata": {},
          "output_type": "display_data"
        },
        {
          "metadata": {
            "tags": null
          },
          "name": "stdout",
          "output_type": "stream",
          "text": [
            "generate_samples: generated 423 samples in 5.778917074203491s\n",
            "Instrument: 673\n"
          ]
        },
        {
          "data": {
            "text/html": [
              "<div id=\"id_674\"> </div>"
            ],
            "text/plain": [
              "<IPython.core.display.HTML object>"
            ]
          },
          "metadata": {},
          "output_type": "display_data"
        },
        {
          "metadata": {
            "tags": null
          },
          "name": "stdout",
          "output_type": "stream",
          "text": [
            "generate_samples: generated 423 samples in 5.7851715087890625s\n",
            "Instrument: 674\n"
          ]
        },
        {
          "data": {
            "text/html": [
              "<div id=\"id_675\"> </div>"
            ],
            "text/plain": [
              "<IPython.core.display.HTML object>"
            ]
          },
          "metadata": {},
          "output_type": "display_data"
        },
        {
          "metadata": {
            "tags": null
          },
          "name": "stdout",
          "output_type": "stream",
          "text": [
            "generate_samples: generated 423 samples in 5.790757179260254s\n",
            "Instrument: 675\n"
          ]
        },
        {
          "data": {
            "text/html": [
              "<div id=\"id_676\"> </div>"
            ],
            "text/plain": [
              "<IPython.core.display.HTML object>"
            ]
          },
          "metadata": {},
          "output_type": "display_data"
        },
        {
          "metadata": {
            "tags": null
          },
          "name": "stdout",
          "output_type": "stream",
          "text": [
            "generate_samples: generated 423 samples in 5.785227298736572s\n",
            "Instrument: 676\n"
          ]
        },
        {
          "data": {
            "text/html": [
              "<div id=\"id_677\"> </div>"
            ],
            "text/plain": [
              "<IPython.core.display.HTML object>"
            ]
          },
          "metadata": {},
          "output_type": "display_data"
        },
        {
          "metadata": {
            "tags": null
          },
          "name": "stdout",
          "output_type": "stream",
          "text": [
            "generate_samples: generated 423 samples in 5.787329196929932s\n",
            "Instrument: 677\n"
          ]
        },
        {
          "data": {
            "text/html": [
              "<div id=\"id_678\"> </div>"
            ],
            "text/plain": [
              "<IPython.core.display.HTML object>"
            ]
          },
          "metadata": {},
          "output_type": "display_data"
        },
        {
          "metadata": {
            "tags": null
          },
          "name": "stdout",
          "output_type": "stream",
          "text": [
            "generate_samples: generated 423 samples in 5.79341721534729s\n",
            "Instrument: 678\n"
          ]
        },
        {
          "data": {
            "text/html": [
              "<div id=\"id_679\"> </div>"
            ],
            "text/plain": [
              "<IPython.core.display.HTML object>"
            ]
          },
          "metadata": {},
          "output_type": "display_data"
        },
        {
          "metadata": {
            "tags": null
          },
          "name": "stdout",
          "output_type": "stream",
          "text": [
            "generate_samples: generated 423 samples in 5.847439527511597s\n",
            "Instrument: 679\n"
          ]
        },
        {
          "data": {
            "text/html": [
              "<div id=\"id_680\"> </div>"
            ],
            "text/plain": [
              "<IPython.core.display.HTML object>"
            ]
          },
          "metadata": {},
          "output_type": "display_data"
        },
        {
          "metadata": {
            "tags": null
          },
          "name": "stdout",
          "output_type": "stream",
          "text": [
            "generate_samples: generated 423 samples in 5.800033807754517s\n",
            "Instrument: 680\n"
          ]
        },
        {
          "data": {
            "text/html": [
              "<div id=\"id_681\"> </div>"
            ],
            "text/plain": [
              "<IPython.core.display.HTML object>"
            ]
          },
          "metadata": {},
          "output_type": "display_data"
        },
        {
          "metadata": {
            "tags": null
          },
          "name": "stdout",
          "output_type": "stream",
          "text": [
            "generate_samples: generated 423 samples in 5.765349388122559s\n",
            "Instrument: 681\n"
          ]
        },
        {
          "data": {
            "text/html": [
              "<div id=\"id_682\"> </div>"
            ],
            "text/plain": [
              "<IPython.core.display.HTML object>"
            ]
          },
          "metadata": {},
          "output_type": "display_data"
        },
        {
          "metadata": {
            "tags": null
          },
          "name": "stdout",
          "output_type": "stream",
          "text": [
            "generate_samples: generated 423 samples in 5.788270711898804s\n",
            "Instrument: 682\n"
          ]
        },
        {
          "data": {
            "text/html": [
              "<div id=\"id_683\"> </div>"
            ],
            "text/plain": [
              "<IPython.core.display.HTML object>"
            ]
          },
          "metadata": {},
          "output_type": "display_data"
        },
        {
          "metadata": {
            "tags": null
          },
          "name": "stdout",
          "output_type": "stream",
          "text": [
            "generate_samples: generated 423 samples in 5.7657389640808105s\n",
            "Instrument: 683\n"
          ]
        },
        {
          "data": {
            "text/html": [
              "<div id=\"id_684\"> </div>"
            ],
            "text/plain": [
              "<IPython.core.display.HTML object>"
            ]
          },
          "metadata": {},
          "output_type": "display_data"
        },
        {
          "metadata": {
            "tags": null
          },
          "name": "stdout",
          "output_type": "stream",
          "text": [
            "generate_samples: generated 423 samples in 5.768664360046387s\n",
            "Instrument: 684\n"
          ]
        },
        {
          "data": {
            "text/html": [
              "<div id=\"id_685\"> </div>"
            ],
            "text/plain": [
              "<IPython.core.display.HTML object>"
            ]
          },
          "metadata": {},
          "output_type": "display_data"
        },
        {
          "metadata": {
            "tags": null
          },
          "name": "stdout",
          "output_type": "stream",
          "text": [
            "generate_samples: generated 423 samples in 5.7963035106658936s\n",
            "Instrument: 685\n"
          ]
        },
        {
          "data": {
            "text/html": [
              "<div id=\"id_686\"> </div>"
            ],
            "text/plain": [
              "<IPython.core.display.HTML object>"
            ]
          },
          "metadata": {},
          "output_type": "display_data"
        },
        {
          "metadata": {
            "tags": null
          },
          "name": "stdout",
          "output_type": "stream",
          "text": [
            "generate_samples: generated 423 samples in 5.760486364364624s\n",
            "Instrument: 686\n"
          ]
        },
        {
          "data": {
            "text/html": [
              "<div id=\"id_687\"> </div>"
            ],
            "text/plain": [
              "<IPython.core.display.HTML object>"
            ]
          },
          "metadata": {},
          "output_type": "display_data"
        },
        {
          "metadata": {
            "tags": null
          },
          "name": "stdout",
          "output_type": "stream",
          "text": [
            "generate_samples: generated 423 samples in 5.794412851333618s\n",
            "Instrument: 687\n"
          ]
        },
        {
          "data": {
            "text/html": [
              "<div id=\"id_688\"> </div>"
            ],
            "text/plain": [
              "<IPython.core.display.HTML object>"
            ]
          },
          "metadata": {},
          "output_type": "display_data"
        },
        {
          "metadata": {
            "tags": null
          },
          "name": "stdout",
          "output_type": "stream",
          "text": [
            "generate_samples: generated 423 samples in 5.776367902755737s\n",
            "Instrument: 688\n"
          ]
        },
        {
          "data": {
            "text/html": [
              "<div id=\"id_689\"> </div>"
            ],
            "text/plain": [
              "<IPython.core.display.HTML object>"
            ]
          },
          "metadata": {},
          "output_type": "display_data"
        },
        {
          "metadata": {
            "tags": null
          },
          "name": "stdout",
          "output_type": "stream",
          "text": [
            "generate_samples: generated 423 samples in 5.776396989822388s\n",
            "Instrument: 689\n"
          ]
        },
        {
          "data": {
            "text/html": [
              "<div id=\"id_690\"> </div>"
            ],
            "text/plain": [
              "<IPython.core.display.HTML object>"
            ]
          },
          "metadata": {},
          "output_type": "display_data"
        },
        {
          "metadata": {
            "tags": null
          },
          "name": "stdout",
          "output_type": "stream",
          "text": [
            "generate_samples: generated 423 samples in 5.777094841003418s\n",
            "Instrument: 690\n"
          ]
        },
        {
          "data": {
            "text/html": [
              "<div id=\"id_691\"> </div>"
            ],
            "text/plain": [
              "<IPython.core.display.HTML object>"
            ]
          },
          "metadata": {},
          "output_type": "display_data"
        },
        {
          "metadata": {
            "tags": null
          },
          "name": "stdout",
          "output_type": "stream",
          "text": [
            "generate_samples: generated 423 samples in 5.770045042037964s\n",
            "Instrument: 691\n"
          ]
        },
        {
          "data": {
            "text/html": [
              "<div id=\"id_692\"> </div>"
            ],
            "text/plain": [
              "<IPython.core.display.HTML object>"
            ]
          },
          "metadata": {},
          "output_type": "display_data"
        },
        {
          "metadata": {
            "tags": null
          },
          "name": "stdout",
          "output_type": "stream",
          "text": [
            "generate_samples: generated 423 samples in 5.781801700592041s\n",
            "Instrument: 692\n"
          ]
        },
        {
          "data": {
            "text/html": [
              "<div id=\"id_693\"> </div>"
            ],
            "text/plain": [
              "<IPython.core.display.HTML object>"
            ]
          },
          "metadata": {},
          "output_type": "display_data"
        },
        {
          "metadata": {
            "tags": null
          },
          "name": "stdout",
          "output_type": "stream",
          "text": [
            "generate_samples: generated 423 samples in 5.770482063293457s\n",
            "Instrument: 693\n"
          ]
        },
        {
          "data": {
            "text/html": [
              "<div id=\"id_694\"> </div>"
            ],
            "text/plain": [
              "<IPython.core.display.HTML object>"
            ]
          },
          "metadata": {},
          "output_type": "display_data"
        },
        {
          "metadata": {
            "tags": null
          },
          "name": "stdout",
          "output_type": "stream",
          "text": [
            "generate_samples: generated 423 samples in 5.76860237121582s\n",
            "Instrument: 694\n"
          ]
        },
        {
          "data": {
            "text/html": [
              "<div id=\"id_695\"> </div>"
            ],
            "text/plain": [
              "<IPython.core.display.HTML object>"
            ]
          },
          "metadata": {},
          "output_type": "display_data"
        },
        {
          "metadata": {
            "tags": null
          },
          "name": "stdout",
          "output_type": "stream",
          "text": [
            "generate_samples: generated 423 samples in 5.7909979820251465s\n",
            "Instrument: 695\n"
          ]
        },
        {
          "data": {
            "text/html": [
              "<div id=\"id_696\"> </div>"
            ],
            "text/plain": [
              "<IPython.core.display.HTML object>"
            ]
          },
          "metadata": {},
          "output_type": "display_data"
        },
        {
          "metadata": {
            "tags": null
          },
          "name": "stdout",
          "output_type": "stream",
          "text": [
            "generate_samples: generated 423 samples in 5.783776521682739s\n",
            "Instrument: 696\n"
          ]
        },
        {
          "data": {
            "text/html": [
              "<div id=\"id_697\"> </div>"
            ],
            "text/plain": [
              "<IPython.core.display.HTML object>"
            ]
          },
          "metadata": {},
          "output_type": "display_data"
        },
        {
          "metadata": {
            "tags": null
          },
          "name": "stdout",
          "output_type": "stream",
          "text": [
            "generate_samples: generated 423 samples in 5.765622854232788s\n",
            "Instrument: 697\n"
          ]
        },
        {
          "data": {
            "text/html": [
              "<div id=\"id_698\"> </div>"
            ],
            "text/plain": [
              "<IPython.core.display.HTML object>"
            ]
          },
          "metadata": {},
          "output_type": "display_data"
        },
        {
          "metadata": {
            "tags": null
          },
          "name": "stdout",
          "output_type": "stream",
          "text": [
            "generate_samples: generated 423 samples in 5.813711166381836s\n",
            "Instrument: 698\n"
          ]
        },
        {
          "data": {
            "text/html": [
              "<div id=\"id_699\"> </div>"
            ],
            "text/plain": [
              "<IPython.core.display.HTML object>"
            ]
          },
          "metadata": {},
          "output_type": "display_data"
        },
        {
          "metadata": {
            "tags": null
          },
          "name": "stdout",
          "output_type": "stream",
          "text": [
            "generate_samples: generated 423 samples in 5.775430202484131s\n",
            "Instrument: 699\n"
          ]
        },
        {
          "data": {
            "text/html": [
              "<div id=\"id_700\"> </div>"
            ],
            "text/plain": [
              "<IPython.core.display.HTML object>"
            ]
          },
          "metadata": {},
          "output_type": "display_data"
        },
        {
          "metadata": {
            "tags": null
          },
          "name": "stdout",
          "output_type": "stream",
          "text": [
            "generate_samples: generated 423 samples in 5.7817583084106445s\n",
            "Instrument: 700\n"
          ]
        },
        {
          "data": {
            "text/html": [
              "<div id=\"id_701\"> </div>"
            ],
            "text/plain": [
              "<IPython.core.display.HTML object>"
            ]
          },
          "metadata": {},
          "output_type": "display_data"
        },
        {
          "metadata": {
            "tags": null
          },
          "name": "stdout",
          "output_type": "stream",
          "text": [
            "generate_samples: generated 423 samples in 5.787238836288452s\n",
            "Instrument: 701\n"
          ]
        },
        {
          "data": {
            "text/html": [
              "<div id=\"id_702\"> </div>"
            ],
            "text/plain": [
              "<IPython.core.display.HTML object>"
            ]
          },
          "metadata": {},
          "output_type": "display_data"
        },
        {
          "metadata": {
            "tags": null
          },
          "name": "stdout",
          "output_type": "stream",
          "text": [
            "generate_samples: generated 423 samples in 5.7790820598602295s\n",
            "Instrument: 702\n"
          ]
        },
        {
          "data": {
            "text/html": [
              "<div id=\"id_703\"> </div>"
            ],
            "text/plain": [
              "<IPython.core.display.HTML object>"
            ]
          },
          "metadata": {},
          "output_type": "display_data"
        },
        {
          "metadata": {
            "tags": null
          },
          "name": "stdout",
          "output_type": "stream",
          "text": [
            "generate_samples: generated 423 samples in 5.7610390186309814s\n",
            "Instrument: 703\n"
          ]
        },
        {
          "data": {
            "text/html": [
              "<div id=\"id_704\"> </div>"
            ],
            "text/plain": [
              "<IPython.core.display.HTML object>"
            ]
          },
          "metadata": {},
          "output_type": "display_data"
        },
        {
          "metadata": {
            "tags": null
          },
          "name": "stdout",
          "output_type": "stream",
          "text": [
            "generate_samples: generated 423 samples in 5.781590461730957s\n",
            "Instrument: 704\n"
          ]
        },
        {
          "data": {
            "text/html": [
              "<div id=\"id_705\"> </div>"
            ],
            "text/plain": [
              "<IPython.core.display.HTML object>"
            ]
          },
          "metadata": {},
          "output_type": "display_data"
        },
        {
          "metadata": {
            "tags": null
          },
          "name": "stdout",
          "output_type": "stream",
          "text": [
            "generate_samples: generated 423 samples in 5.784032106399536s\n",
            "Instrument: 705\n"
          ]
        },
        {
          "data": {
            "text/html": [
              "<div id=\"id_706\"> </div>"
            ],
            "text/plain": [
              "<IPython.core.display.HTML object>"
            ]
          },
          "metadata": {},
          "output_type": "display_data"
        },
        {
          "metadata": {
            "tags": null
          },
          "name": "stdout",
          "output_type": "stream",
          "text": [
            "generate_samples: generated 423 samples in 5.780043840408325s\n",
            "Instrument: 706\n"
          ]
        },
        {
          "data": {
            "text/html": [
              "<div id=\"id_707\"> </div>"
            ],
            "text/plain": [
              "<IPython.core.display.HTML object>"
            ]
          },
          "metadata": {},
          "output_type": "display_data"
        },
        {
          "metadata": {
            "tags": null
          },
          "name": "stdout",
          "output_type": "stream",
          "text": [
            "generate_samples: generated 423 samples in 5.779525279998779s\n",
            "Instrument: 707\n"
          ]
        },
        {
          "data": {
            "text/html": [
              "<div id=\"id_708\"> </div>"
            ],
            "text/plain": [
              "<IPython.core.display.HTML object>"
            ]
          },
          "metadata": {},
          "output_type": "display_data"
        },
        {
          "metadata": {
            "tags": null
          },
          "name": "stdout",
          "output_type": "stream",
          "text": [
            "generate_samples: generated 423 samples in 5.7641448974609375s\n",
            "Instrument: 708\n"
          ]
        },
        {
          "data": {
            "text/html": [
              "<div id=\"id_709\"> </div>"
            ],
            "text/plain": [
              "<IPython.core.display.HTML object>"
            ]
          },
          "metadata": {},
          "output_type": "display_data"
        },
        {
          "metadata": {
            "tags": null
          },
          "name": "stdout",
          "output_type": "stream",
          "text": [
            "generate_samples: generated 423 samples in 5.780005216598511s\n",
            "Instrument: 709\n"
          ]
        },
        {
          "data": {
            "text/html": [
              "<div id=\"id_710\"> </div>"
            ],
            "text/plain": [
              "<IPython.core.display.HTML object>"
            ]
          },
          "metadata": {},
          "output_type": "display_data"
        },
        {
          "metadata": {
            "tags": null
          },
          "name": "stdout",
          "output_type": "stream",
          "text": [
            "generate_samples: generated 423 samples in 5.770333528518677s\n",
            "Instrument: 710\n"
          ]
        },
        {
          "data": {
            "text/html": [
              "<div id=\"id_711\"> </div>"
            ],
            "text/plain": [
              "<IPython.core.display.HTML object>"
            ]
          },
          "metadata": {},
          "output_type": "display_data"
        },
        {
          "metadata": {
            "tags": null
          },
          "name": "stdout",
          "output_type": "stream",
          "text": [
            "generate_samples: generated 423 samples in 5.785270690917969s\n",
            "Instrument: 711\n"
          ]
        },
        {
          "data": {
            "text/html": [
              "<div id=\"id_712\"> </div>"
            ],
            "text/plain": [
              "<IPython.core.display.HTML object>"
            ]
          },
          "metadata": {},
          "output_type": "display_data"
        },
        {
          "metadata": {
            "tags": null
          },
          "name": "stdout",
          "output_type": "stream",
          "text": [
            "generate_samples: generated 423 samples in 5.797987699508667s\n",
            "Instrument: 712\n"
          ]
        },
        {
          "data": {
            "text/html": [
              "<div id=\"id_713\"> </div>"
            ],
            "text/plain": [
              "<IPython.core.display.HTML object>"
            ]
          },
          "metadata": {},
          "output_type": "display_data"
        },
        {
          "metadata": {
            "tags": null
          },
          "name": "stdout",
          "output_type": "stream",
          "text": [
            "generate_samples: generated 423 samples in 5.7670605182647705s\n",
            "Instrument: 713\n"
          ]
        },
        {
          "data": {
            "text/html": [
              "<div id=\"id_714\"> </div>"
            ],
            "text/plain": [
              "<IPython.core.display.HTML object>"
            ]
          },
          "metadata": {},
          "output_type": "display_data"
        },
        {
          "metadata": {
            "tags": null
          },
          "name": "stdout",
          "output_type": "stream",
          "text": [
            "generate_samples: generated 423 samples in 5.773407697677612s\n",
            "Instrument: 714\n"
          ]
        },
        {
          "data": {
            "text/html": [
              "<div id=\"id_715\"> </div>"
            ],
            "text/plain": [
              "<IPython.core.display.HTML object>"
            ]
          },
          "metadata": {},
          "output_type": "display_data"
        },
        {
          "metadata": {
            "tags": null
          },
          "name": "stdout",
          "output_type": "stream",
          "text": [
            "generate_samples: generated 423 samples in 5.7620415687561035s\n",
            "Instrument: 715\n"
          ]
        },
        {
          "data": {
            "text/html": [
              "<div id=\"id_716\"> </div>"
            ],
            "text/plain": [
              "<IPython.core.display.HTML object>"
            ]
          },
          "metadata": {},
          "output_type": "display_data"
        },
        {
          "metadata": {
            "tags": null
          },
          "name": "stdout",
          "output_type": "stream",
          "text": [
            "generate_samples: generated 423 samples in 5.788440227508545s\n",
            "Instrument: 716\n"
          ]
        },
        {
          "data": {
            "text/html": [
              "<div id=\"id_717\"> </div>"
            ],
            "text/plain": [
              "<IPython.core.display.HTML object>"
            ]
          },
          "metadata": {},
          "output_type": "display_data"
        },
        {
          "metadata": {
            "tags": null
          },
          "name": "stdout",
          "output_type": "stream",
          "text": [
            "generate_samples: generated 423 samples in 5.7778308391571045s\n",
            "Instrument: 717\n"
          ]
        },
        {
          "data": {
            "text/html": [
              "<div id=\"id_718\"> </div>"
            ],
            "text/plain": [
              "<IPython.core.display.HTML object>"
            ]
          },
          "metadata": {},
          "output_type": "display_data"
        },
        {
          "metadata": {
            "tags": null
          },
          "name": "stdout",
          "output_type": "stream",
          "text": [
            "generate_samples: generated 423 samples in 5.76855206489563s\n",
            "Instrument: 718\n"
          ]
        },
        {
          "data": {
            "text/html": [
              "<div id=\"id_719\"> </div>"
            ],
            "text/plain": [
              "<IPython.core.display.HTML object>"
            ]
          },
          "metadata": {},
          "output_type": "display_data"
        },
        {
          "metadata": {
            "tags": null
          },
          "name": "stdout",
          "output_type": "stream",
          "text": [
            "generate_samples: generated 423 samples in 5.777064323425293s\n",
            "Instrument: 719\n"
          ]
        },
        {
          "data": {
            "text/html": [
              "<div id=\"id_720\"> </div>"
            ],
            "text/plain": [
              "<IPython.core.display.HTML object>"
            ]
          },
          "metadata": {},
          "output_type": "display_data"
        },
        {
          "metadata": {
            "tags": null
          },
          "name": "stdout",
          "output_type": "stream",
          "text": [
            "generate_samples: generated 423 samples in 5.774595260620117s\n",
            "Instrument: 720\n"
          ]
        },
        {
          "data": {
            "text/html": [
              "<div id=\"id_721\"> </div>"
            ],
            "text/plain": [
              "<IPython.core.display.HTML object>"
            ]
          },
          "metadata": {},
          "output_type": "display_data"
        },
        {
          "metadata": {
            "tags": null
          },
          "name": "stdout",
          "output_type": "stream",
          "text": [
            "generate_samples: generated 423 samples in 5.7556328773498535s\n",
            "Instrument: 721\n"
          ]
        },
        {
          "data": {
            "text/html": [
              "<div id=\"id_722\"> </div>"
            ],
            "text/plain": [
              "<IPython.core.display.HTML object>"
            ]
          },
          "metadata": {},
          "output_type": "display_data"
        },
        {
          "metadata": {
            "tags": null
          },
          "name": "stdout",
          "output_type": "stream",
          "text": [
            "generate_samples: generated 423 samples in 5.770395517349243s\n",
            "Instrument: 722\n"
          ]
        },
        {
          "data": {
            "text/html": [
              "<div id=\"id_723\"> </div>"
            ],
            "text/plain": [
              "<IPython.core.display.HTML object>"
            ]
          },
          "metadata": {},
          "output_type": "display_data"
        },
        {
          "metadata": {
            "tags": null
          },
          "name": "stdout",
          "output_type": "stream",
          "text": [
            "generate_samples: generated 423 samples in 5.749797105789185s\n",
            "Instrument: 723\n"
          ]
        },
        {
          "data": {
            "text/html": [
              "<div id=\"id_724\"> </div>"
            ],
            "text/plain": [
              "<IPython.core.display.HTML object>"
            ]
          },
          "metadata": {},
          "output_type": "display_data"
        },
        {
          "metadata": {
            "tags": null
          },
          "name": "stdout",
          "output_type": "stream",
          "text": [
            "generate_samples: generated 423 samples in 5.850522518157959s\n",
            "Instrument: 724\n"
          ]
        },
        {
          "data": {
            "text/html": [
              "<div id=\"id_725\"> </div>"
            ],
            "text/plain": [
              "<IPython.core.display.HTML object>"
            ]
          },
          "metadata": {},
          "output_type": "display_data"
        },
        {
          "metadata": {
            "tags": null
          },
          "name": "stdout",
          "output_type": "stream",
          "text": [
            "generate_samples: generated 423 samples in 5.764841079711914s\n",
            "Instrument: 725\n"
          ]
        },
        {
          "data": {
            "text/html": [
              "<div id=\"id_726\"> </div>"
            ],
            "text/plain": [
              "<IPython.core.display.HTML object>"
            ]
          },
          "metadata": {},
          "output_type": "display_data"
        },
        {
          "metadata": {
            "tags": null
          },
          "name": "stdout",
          "output_type": "stream",
          "text": [
            "generate_samples: generated 423 samples in 5.763190031051636s\n",
            "Instrument: 726\n"
          ]
        },
        {
          "data": {
            "text/html": [
              "<div id=\"id_727\"> </div>"
            ],
            "text/plain": [
              "<IPython.core.display.HTML object>"
            ]
          },
          "metadata": {},
          "output_type": "display_data"
        },
        {
          "metadata": {
            "tags": null
          },
          "name": "stdout",
          "output_type": "stream",
          "text": [
            "generate_samples: generated 423 samples in 5.770036935806274s\n",
            "Instrument: 727\n"
          ]
        },
        {
          "data": {
            "text/html": [
              "<div id=\"id_728\"> </div>"
            ],
            "text/plain": [
              "<IPython.core.display.HTML object>"
            ]
          },
          "metadata": {},
          "output_type": "display_data"
        },
        {
          "metadata": {
            "tags": null
          },
          "name": "stdout",
          "output_type": "stream",
          "text": [
            "generate_samples: generated 423 samples in 5.768333911895752s\n",
            "Instrument: 728\n"
          ]
        },
        {
          "data": {
            "text/html": [
              "<div id=\"id_729\"> </div>"
            ],
            "text/plain": [
              "<IPython.core.display.HTML object>"
            ]
          },
          "metadata": {},
          "output_type": "display_data"
        },
        {
          "metadata": {
            "tags": null
          },
          "name": "stdout",
          "output_type": "stream",
          "text": [
            "generate_samples: generated 423 samples in 5.791990518569946s\n",
            "Instrument: 729\n"
          ]
        },
        {
          "data": {
            "text/html": [
              "<div id=\"id_730\"> </div>"
            ],
            "text/plain": [
              "<IPython.core.display.HTML object>"
            ]
          },
          "metadata": {},
          "output_type": "display_data"
        },
        {
          "metadata": {
            "tags": null
          },
          "name": "stdout",
          "output_type": "stream",
          "text": [
            "generate_samples: generated 423 samples in 5.779877662658691s\n",
            "Instrument: 730\n"
          ]
        },
        {
          "data": {
            "text/html": [
              "<div id=\"id_731\"> </div>"
            ],
            "text/plain": [
              "<IPython.core.display.HTML object>"
            ]
          },
          "metadata": {},
          "output_type": "display_data"
        },
        {
          "metadata": {
            "tags": null
          },
          "name": "stdout",
          "output_type": "stream",
          "text": [
            "generate_samples: generated 423 samples in 5.747919321060181s\n",
            "Instrument: 731\n"
          ]
        },
        {
          "data": {
            "text/html": [
              "<div id=\"id_732\"> </div>"
            ],
            "text/plain": [
              "<IPython.core.display.HTML object>"
            ]
          },
          "metadata": {},
          "output_type": "display_data"
        },
        {
          "metadata": {
            "tags": null
          },
          "name": "stdout",
          "output_type": "stream",
          "text": [
            "generate_samples: generated 423 samples in 5.7767767906188965s\n",
            "Instrument: 732\n"
          ]
        },
        {
          "data": {
            "text/html": [
              "<div id=\"id_733\"> </div>"
            ],
            "text/plain": [
              "<IPython.core.display.HTML object>"
            ]
          },
          "metadata": {},
          "output_type": "display_data"
        },
        {
          "metadata": {
            "tags": null
          },
          "name": "stdout",
          "output_type": "stream",
          "text": [
            "generate_samples: generated 423 samples in 5.774925947189331s\n",
            "Instrument: 733\n"
          ]
        },
        {
          "data": {
            "text/html": [
              "<div id=\"id_734\"> </div>"
            ],
            "text/plain": [
              "<IPython.core.display.HTML object>"
            ]
          },
          "metadata": {},
          "output_type": "display_data"
        },
        {
          "metadata": {
            "tags": null
          },
          "name": "stdout",
          "output_type": "stream",
          "text": [
            "generate_samples: generated 423 samples in 5.77574896812439s\n",
            "Instrument: 734\n"
          ]
        },
        {
          "data": {
            "text/html": [
              "<div id=\"id_735\"> </div>"
            ],
            "text/plain": [
              "<IPython.core.display.HTML object>"
            ]
          },
          "metadata": {},
          "output_type": "display_data"
        },
        {
          "metadata": {
            "tags": null
          },
          "name": "stdout",
          "output_type": "stream",
          "text": [
            "generate_samples: generated 423 samples in 5.774175405502319s\n",
            "Instrument: 735\n"
          ]
        },
        {
          "data": {
            "text/html": [
              "<div id=\"id_736\"> </div>"
            ],
            "text/plain": [
              "<IPython.core.display.HTML object>"
            ]
          },
          "metadata": {},
          "output_type": "display_data"
        },
        {
          "metadata": {
            "tags": null
          },
          "name": "stdout",
          "output_type": "stream",
          "text": [
            "generate_samples: generated 423 samples in 5.770904779434204s\n",
            "Instrument: 736\n"
          ]
        },
        {
          "data": {
            "text/html": [
              "<div id=\"id_737\"> </div>"
            ],
            "text/plain": [
              "<IPython.core.display.HTML object>"
            ]
          },
          "metadata": {},
          "output_type": "display_data"
        },
        {
          "metadata": {
            "tags": null
          },
          "name": "stdout",
          "output_type": "stream",
          "text": [
            "generate_samples: generated 423 samples in 5.767387390136719s\n",
            "Instrument: 737\n"
          ]
        },
        {
          "data": {
            "text/html": [
              "<div id=\"id_738\"> </div>"
            ],
            "text/plain": [
              "<IPython.core.display.HTML object>"
            ]
          },
          "metadata": {},
          "output_type": "display_data"
        },
        {
          "metadata": {
            "tags": null
          },
          "name": "stdout",
          "output_type": "stream",
          "text": [
            "generate_samples: generated 423 samples in 5.779583215713501s\n",
            "Instrument: 738\n"
          ]
        },
        {
          "data": {
            "text/html": [
              "<div id=\"id_739\"> </div>"
            ],
            "text/plain": [
              "<IPython.core.display.HTML object>"
            ]
          },
          "metadata": {},
          "output_type": "display_data"
        },
        {
          "metadata": {
            "tags": null
          },
          "name": "stdout",
          "output_type": "stream",
          "text": [
            "generate_samples: generated 423 samples in 5.78537392616272s\n",
            "Instrument: 739\n"
          ]
        },
        {
          "data": {
            "text/html": [
              "<div id=\"id_740\"> </div>"
            ],
            "text/plain": [
              "<IPython.core.display.HTML object>"
            ]
          },
          "metadata": {},
          "output_type": "display_data"
        },
        {
          "metadata": {
            "tags": null
          },
          "name": "stdout",
          "output_type": "stream",
          "text": [
            "generate_samples: generated 423 samples in 5.797759294509888s\n",
            "Instrument: 740\n"
          ]
        },
        {
          "data": {
            "text/html": [
              "<div id=\"id_741\"> </div>"
            ],
            "text/plain": [
              "<IPython.core.display.HTML object>"
            ]
          },
          "metadata": {},
          "output_type": "display_data"
        },
        {
          "metadata": {
            "tags": null
          },
          "name": "stdout",
          "output_type": "stream",
          "text": [
            "generate_samples: generated 423 samples in 5.787396192550659s\n",
            "Instrument: 741\n"
          ]
        },
        {
          "data": {
            "text/html": [
              "<div id=\"id_742\"> </div>"
            ],
            "text/plain": [
              "<IPython.core.display.HTML object>"
            ]
          },
          "metadata": {},
          "output_type": "display_data"
        },
        {
          "metadata": {
            "tags": null
          },
          "name": "stdout",
          "output_type": "stream",
          "text": [
            "generate_samples: generated 423 samples in 5.783985376358032s\n",
            "Instrument: 742\n"
          ]
        },
        {
          "data": {
            "text/html": [
              "<div id=\"id_743\"> </div>"
            ],
            "text/plain": [
              "<IPython.core.display.HTML object>"
            ]
          },
          "metadata": {},
          "output_type": "display_data"
        },
        {
          "metadata": {
            "tags": null
          },
          "name": "stdout",
          "output_type": "stream",
          "text": [
            "generate_samples: generated 423 samples in 5.768438816070557s\n",
            "Instrument: 743\n"
          ]
        },
        {
          "data": {
            "text/html": [
              "<div id=\"id_744\"> </div>"
            ],
            "text/plain": [
              "<IPython.core.display.HTML object>"
            ]
          },
          "metadata": {},
          "output_type": "display_data"
        },
        {
          "metadata": {
            "tags": null
          },
          "name": "stdout",
          "output_type": "stream",
          "text": [
            "generate_samples: generated 423 samples in 5.78238582611084s\n",
            "Instrument: 744\n"
          ]
        },
        {
          "data": {
            "text/html": [
              "<div id=\"id_745\"> </div>"
            ],
            "text/plain": [
              "<IPython.core.display.HTML object>"
            ]
          },
          "metadata": {},
          "output_type": "display_data"
        },
        {
          "metadata": {
            "tags": null
          },
          "name": "stdout",
          "output_type": "stream",
          "text": [
            "generate_samples: generated 423 samples in 5.772681713104248s\n",
            "Instrument: 745\n"
          ]
        },
        {
          "data": {
            "text/html": [
              "<div id=\"id_746\"> </div>"
            ],
            "text/plain": [
              "<IPython.core.display.HTML object>"
            ]
          },
          "metadata": {},
          "output_type": "display_data"
        },
        {
          "metadata": {
            "tags": null
          },
          "name": "stdout",
          "output_type": "stream",
          "text": [
            "generate_samples: generated 423 samples in 5.7858357429504395s\n",
            "Instrument: 746\n"
          ]
        },
        {
          "data": {
            "text/html": [
              "<div id=\"id_747\"> </div>"
            ],
            "text/plain": [
              "<IPython.core.display.HTML object>"
            ]
          },
          "metadata": {},
          "output_type": "display_data"
        },
        {
          "metadata": {
            "tags": null
          },
          "name": "stdout",
          "output_type": "stream",
          "text": [
            "generate_samples: generated 423 samples in 5.758460998535156s\n",
            "Instrument: 747\n"
          ]
        },
        {
          "data": {
            "text/html": [
              "<div id=\"id_748\"> </div>"
            ],
            "text/plain": [
              "<IPython.core.display.HTML object>"
            ]
          },
          "metadata": {},
          "output_type": "display_data"
        },
        {
          "metadata": {
            "tags": null
          },
          "name": "stdout",
          "output_type": "stream",
          "text": [
            "generate_samples: generated 423 samples in 5.785139560699463s\n",
            "Instrument: 748\n"
          ]
        },
        {
          "data": {
            "text/html": [
              "<div id=\"id_749\"> </div>"
            ],
            "text/plain": [
              "<IPython.core.display.HTML object>"
            ]
          },
          "metadata": {},
          "output_type": "display_data"
        },
        {
          "metadata": {
            "tags": null
          },
          "name": "stdout",
          "output_type": "stream",
          "text": [
            "generate_samples: generated 423 samples in 5.771552801132202s\n",
            "Instrument: 749\n"
          ]
        },
        {
          "data": {
            "text/html": [
              "<div id=\"id_750\"> </div>"
            ],
            "text/plain": [
              "<IPython.core.display.HTML object>"
            ]
          },
          "metadata": {},
          "output_type": "display_data"
        },
        {
          "metadata": {
            "tags": null
          },
          "name": "stdout",
          "output_type": "stream",
          "text": [
            "generate_samples: generated 423 samples in 5.785021781921387s\n",
            "Instrument: 750\n"
          ]
        },
        {
          "data": {
            "text/html": [
              "<div id=\"id_751\"> </div>"
            ],
            "text/plain": [
              "<IPython.core.display.HTML object>"
            ]
          },
          "metadata": {},
          "output_type": "display_data"
        },
        {
          "metadata": {
            "tags": null
          },
          "name": "stdout",
          "output_type": "stream",
          "text": [
            "generate_samples: generated 423 samples in 5.776931524276733s\n",
            "Instrument: 751\n"
          ]
        },
        {
          "data": {
            "text/html": [
              "<div id=\"id_752\"> </div>"
            ],
            "text/plain": [
              "<IPython.core.display.HTML object>"
            ]
          },
          "metadata": {},
          "output_type": "display_data"
        },
        {
          "metadata": {
            "tags": null
          },
          "name": "stdout",
          "output_type": "stream",
          "text": [
            "generate_samples: generated 423 samples in 5.7968244552612305s\n",
            "Instrument: 752\n"
          ]
        },
        {
          "data": {
            "text/html": [
              "<div id=\"id_753\"> </div>"
            ],
            "text/plain": [
              "<IPython.core.display.HTML object>"
            ]
          },
          "metadata": {},
          "output_type": "display_data"
        },
        {
          "metadata": {
            "tags": null
          },
          "name": "stdout",
          "output_type": "stream",
          "text": [
            "generate_samples: generated 423 samples in 5.7885448932647705s\n",
            "Instrument: 753\n"
          ]
        },
        {
          "data": {
            "text/html": [
              "<div id=\"id_754\"> </div>"
            ],
            "text/plain": [
              "<IPython.core.display.HTML object>"
            ]
          },
          "metadata": {},
          "output_type": "display_data"
        },
        {
          "metadata": {
            "tags": null
          },
          "name": "stdout",
          "output_type": "stream",
          "text": [
            "generate_samples: generated 423 samples in 5.789585828781128s\n",
            "Instrument: 754\n"
          ]
        },
        {
          "data": {
            "text/html": [
              "<div id=\"id_755\"> </div>"
            ],
            "text/plain": [
              "<IPython.core.display.HTML object>"
            ]
          },
          "metadata": {},
          "output_type": "display_data"
        },
        {
          "metadata": {
            "tags": null
          },
          "name": "stdout",
          "output_type": "stream",
          "text": [
            "generate_samples: generated 423 samples in 5.792774677276611s\n",
            "Instrument: 755\n"
          ]
        },
        {
          "data": {
            "text/html": [
              "<div id=\"id_756\"> </div>"
            ],
            "text/plain": [
              "<IPython.core.display.HTML object>"
            ]
          },
          "metadata": {},
          "output_type": "display_data"
        },
        {
          "metadata": {
            "tags": null
          },
          "name": "stdout",
          "output_type": "stream",
          "text": [
            "generate_samples: generated 423 samples in 5.786133289337158s\n",
            "Instrument: 756\n"
          ]
        },
        {
          "data": {
            "text/html": [
              "<div id=\"id_757\"> </div>"
            ],
            "text/plain": [
              "<IPython.core.display.HTML object>"
            ]
          },
          "metadata": {},
          "output_type": "display_data"
        },
        {
          "metadata": {
            "tags": null
          },
          "name": "stdout",
          "output_type": "stream",
          "text": [
            "generate_samples: generated 423 samples in 5.785804510116577s\n",
            "Instrument: 757\n"
          ]
        },
        {
          "data": {
            "text/html": [
              "<div id=\"id_758\"> </div>"
            ],
            "text/plain": [
              "<IPython.core.display.HTML object>"
            ]
          },
          "metadata": {},
          "output_type": "display_data"
        },
        {
          "metadata": {
            "tags": null
          },
          "name": "stdout",
          "output_type": "stream",
          "text": [
            "generate_samples: generated 423 samples in 5.805675506591797s\n",
            "Instrument: 758\n"
          ]
        },
        {
          "data": {
            "text/html": [
              "<div id=\"id_759\"> </div>"
            ],
            "text/plain": [
              "<IPython.core.display.HTML object>"
            ]
          },
          "metadata": {},
          "output_type": "display_data"
        },
        {
          "metadata": {
            "tags": null
          },
          "name": "stdout",
          "output_type": "stream",
          "text": [
            "generate_samples: generated 423 samples in 5.7833311557769775s\n",
            "Instrument: 759\n"
          ]
        },
        {
          "data": {
            "text/html": [
              "<div id=\"id_760\"> </div>"
            ],
            "text/plain": [
              "<IPython.core.display.HTML object>"
            ]
          },
          "metadata": {},
          "output_type": "display_data"
        },
        {
          "metadata": {
            "tags": null
          },
          "name": "stdout",
          "output_type": "stream",
          "text": [
            "generate_samples: generated 423 samples in 5.775022029876709s\n",
            "Instrument: 760\n"
          ]
        },
        {
          "data": {
            "text/html": [
              "<div id=\"id_761\"> </div>"
            ],
            "text/plain": [
              "<IPython.core.display.HTML object>"
            ]
          },
          "metadata": {},
          "output_type": "display_data"
        },
        {
          "metadata": {
            "tags": null
          },
          "name": "stdout",
          "output_type": "stream",
          "text": [
            "generate_samples: generated 423 samples in 5.823163747787476s\n",
            "Instrument: 761\n"
          ]
        },
        {
          "data": {
            "text/html": [
              "<div id=\"id_762\"> </div>"
            ],
            "text/plain": [
              "<IPython.core.display.HTML object>"
            ]
          },
          "metadata": {},
          "output_type": "display_data"
        },
        {
          "metadata": {
            "tags": null
          },
          "name": "stdout",
          "output_type": "stream",
          "text": [
            "generate_samples: generated 423 samples in 5.8039679527282715s\n",
            "Instrument: 762\n"
          ]
        },
        {
          "data": {
            "text/html": [
              "<div id=\"id_763\"> </div>"
            ],
            "text/plain": [
              "<IPython.core.display.HTML object>"
            ]
          },
          "metadata": {},
          "output_type": "display_data"
        },
        {
          "metadata": {
            "tags": null
          },
          "name": "stdout",
          "output_type": "stream",
          "text": [
            "generate_samples: generated 423 samples in 5.8079423904418945s\n",
            "Instrument: 763\n"
          ]
        },
        {
          "data": {
            "text/html": [
              "<div id=\"id_764\"> </div>"
            ],
            "text/plain": [
              "<IPython.core.display.HTML object>"
            ]
          },
          "metadata": {},
          "output_type": "display_data"
        },
        {
          "metadata": {
            "tags": null
          },
          "name": "stdout",
          "output_type": "stream",
          "text": [
            "generate_samples: generated 423 samples in 5.7862982749938965s\n",
            "Instrument: 764\n"
          ]
        },
        {
          "data": {
            "text/html": [
              "<div id=\"id_765\"> </div>"
            ],
            "text/plain": [
              "<IPython.core.display.HTML object>"
            ]
          },
          "metadata": {},
          "output_type": "display_data"
        },
        {
          "metadata": {
            "tags": null
          },
          "name": "stdout",
          "output_type": "stream",
          "text": [
            "generate_samples: generated 423 samples in 5.801342487335205s\n",
            "Instrument: 765\n"
          ]
        },
        {
          "data": {
            "text/html": [
              "<div id=\"id_766\"> </div>"
            ],
            "text/plain": [
              "<IPython.core.display.HTML object>"
            ]
          },
          "metadata": {},
          "output_type": "display_data"
        },
        {
          "metadata": {
            "tags": null
          },
          "name": "stdout",
          "output_type": "stream",
          "text": [
            "generate_samples: generated 423 samples in 5.798574447631836s\n",
            "Instrument: 766\n"
          ]
        },
        {
          "data": {
            "text/html": [
              "<div id=\"id_767\"> </div>"
            ],
            "text/plain": [
              "<IPython.core.display.HTML object>"
            ]
          },
          "metadata": {},
          "output_type": "display_data"
        },
        {
          "metadata": {
            "tags": null
          },
          "name": "stdout",
          "output_type": "stream",
          "text": [
            "generate_samples: generated 423 samples in 5.784122705459595s\n",
            "Instrument: 767\n"
          ]
        },
        {
          "data": {
            "text/html": [
              "<div id=\"id_768\"> </div>"
            ],
            "text/plain": [
              "<IPython.core.display.HTML object>"
            ]
          },
          "metadata": {},
          "output_type": "display_data"
        },
        {
          "metadata": {
            "tags": null
          },
          "name": "stdout",
          "output_type": "stream",
          "text": [
            "generate_samples: generated 423 samples in 5.76618504524231s\n",
            "Instrument: 768\n"
          ]
        },
        {
          "data": {
            "text/html": [
              "<div id=\"id_769\"> </div>"
            ],
            "text/plain": [
              "<IPython.core.display.HTML object>"
            ]
          },
          "metadata": {},
          "output_type": "display_data"
        },
        {
          "metadata": {
            "tags": null
          },
          "name": "stdout",
          "output_type": "stream",
          "text": [
            "generate_samples: generated 423 samples in 5.8428966999053955s\n",
            "Instrument: 769\n"
          ]
        },
        {
          "data": {
            "text/html": [
              "<div id=\"id_770\"> </div>"
            ],
            "text/plain": [
              "<IPython.core.display.HTML object>"
            ]
          },
          "metadata": {},
          "output_type": "display_data"
        },
        {
          "metadata": {
            "tags": null
          },
          "name": "stdout",
          "output_type": "stream",
          "text": [
            "generate_samples: generated 423 samples in 5.774664878845215s\n",
            "Instrument: 770\n"
          ]
        },
        {
          "data": {
            "text/html": [
              "<div id=\"id_771\"> </div>"
            ],
            "text/plain": [
              "<IPython.core.display.HTML object>"
            ]
          },
          "metadata": {},
          "output_type": "display_data"
        },
        {
          "metadata": {
            "tags": null
          },
          "name": "stdout",
          "output_type": "stream",
          "text": [
            "generate_samples: generated 423 samples in 5.782183885574341s\n",
            "Instrument: 771\n"
          ]
        },
        {
          "data": {
            "text/html": [
              "<div id=\"id_772\"> </div>"
            ],
            "text/plain": [
              "<IPython.core.display.HTML object>"
            ]
          },
          "metadata": {},
          "output_type": "display_data"
        },
        {
          "metadata": {
            "tags": null
          },
          "name": "stdout",
          "output_type": "stream",
          "text": [
            "generate_samples: generated 423 samples in 5.780709981918335s\n",
            "Instrument: 772\n"
          ]
        },
        {
          "data": {
            "text/html": [
              "<div id=\"id_773\"> </div>"
            ],
            "text/plain": [
              "<IPython.core.display.HTML object>"
            ]
          },
          "metadata": {},
          "output_type": "display_data"
        },
        {
          "metadata": {
            "tags": null
          },
          "name": "stdout",
          "output_type": "stream",
          "text": [
            "generate_samples: generated 423 samples in 5.793159246444702s\n",
            "Instrument: 773\n"
          ]
        },
        {
          "data": {
            "text/html": [
              "<div id=\"id_774\"> </div>"
            ],
            "text/plain": [
              "<IPython.core.display.HTML object>"
            ]
          },
          "metadata": {},
          "output_type": "display_data"
        },
        {
          "metadata": {
            "tags": null
          },
          "name": "stdout",
          "output_type": "stream",
          "text": [
            "generate_samples: generated 423 samples in 5.795671463012695s\n",
            "Instrument: 774\n"
          ]
        },
        {
          "data": {
            "text/html": [
              "<div id=\"id_775\"> </div>"
            ],
            "text/plain": [
              "<IPython.core.display.HTML object>"
            ]
          },
          "metadata": {},
          "output_type": "display_data"
        },
        {
          "metadata": {
            "tags": null
          },
          "name": "stdout",
          "output_type": "stream",
          "text": [
            "generate_samples: generated 423 samples in 5.772414207458496s\n",
            "Instrument: 775\n"
          ]
        },
        {
          "data": {
            "text/html": [
              "<div id=\"id_776\"> </div>"
            ],
            "text/plain": [
              "<IPython.core.display.HTML object>"
            ]
          },
          "metadata": {},
          "output_type": "display_data"
        },
        {
          "metadata": {
            "tags": null
          },
          "name": "stdout",
          "output_type": "stream",
          "text": [
            "generate_samples: generated 423 samples in 5.796534776687622s\n",
            "Instrument: 776\n"
          ]
        },
        {
          "data": {
            "text/html": [
              "<div id=\"id_777\"> </div>"
            ],
            "text/plain": [
              "<IPython.core.display.HTML object>"
            ]
          },
          "metadata": {},
          "output_type": "display_data"
        },
        {
          "metadata": {
            "tags": null
          },
          "name": "stdout",
          "output_type": "stream",
          "text": [
            "generate_samples: generated 423 samples in 5.777745246887207s\n",
            "Instrument: 777\n"
          ]
        },
        {
          "data": {
            "text/html": [
              "<div id=\"id_778\"> </div>"
            ],
            "text/plain": [
              "<IPython.core.display.HTML object>"
            ]
          },
          "metadata": {},
          "output_type": "display_data"
        },
        {
          "metadata": {
            "tags": null
          },
          "name": "stdout",
          "output_type": "stream",
          "text": [
            "generate_samples: generated 423 samples in 5.833728551864624s\n",
            "Instrument: 778\n"
          ]
        },
        {
          "data": {
            "text/html": [
              "<div id=\"id_779\"> </div>"
            ],
            "text/plain": [
              "<IPython.core.display.HTML object>"
            ]
          },
          "metadata": {},
          "output_type": "display_data"
        },
        {
          "metadata": {
            "tags": null
          },
          "name": "stdout",
          "output_type": "stream",
          "text": [
            "generate_samples: generated 423 samples in 5.810677766799927s\n",
            "Instrument: 779\n"
          ]
        },
        {
          "data": {
            "text/html": [
              "<div id=\"id_780\"> </div>"
            ],
            "text/plain": [
              "<IPython.core.display.HTML object>"
            ]
          },
          "metadata": {},
          "output_type": "display_data"
        },
        {
          "metadata": {
            "tags": null
          },
          "name": "stdout",
          "output_type": "stream",
          "text": [
            "generate_samples: generated 423 samples in 5.777216672897339s\n",
            "Instrument: 780\n"
          ]
        },
        {
          "data": {
            "text/html": [
              "<div id=\"id_781\"> </div>"
            ],
            "text/plain": [
              "<IPython.core.display.HTML object>"
            ]
          },
          "metadata": {},
          "output_type": "display_data"
        },
        {
          "metadata": {
            "tags": null
          },
          "name": "stdout",
          "output_type": "stream",
          "text": [
            "generate_samples: generated 423 samples in 5.783811807632446s\n",
            "Instrument: 781\n"
          ]
        },
        {
          "data": {
            "text/html": [
              "<div id=\"id_782\"> </div>"
            ],
            "text/plain": [
              "<IPython.core.display.HTML object>"
            ]
          },
          "metadata": {},
          "output_type": "display_data"
        },
        {
          "metadata": {
            "tags": null
          },
          "name": "stdout",
          "output_type": "stream",
          "text": [
            "generate_samples: generated 423 samples in 5.7922282218933105s\n",
            "Instrument: 782\n"
          ]
        },
        {
          "data": {
            "text/html": [
              "<div id=\"id_783\"> </div>"
            ],
            "text/plain": [
              "<IPython.core.display.HTML object>"
            ]
          },
          "metadata": {},
          "output_type": "display_data"
        },
        {
          "metadata": {
            "tags": null
          },
          "name": "stdout",
          "output_type": "stream",
          "text": [
            "generate_samples: generated 423 samples in 5.7923264503479s\n",
            "Instrument: 783\n"
          ]
        },
        {
          "data": {
            "text/html": [
              "<div id=\"id_784\"> </div>"
            ],
            "text/plain": [
              "<IPython.core.display.HTML object>"
            ]
          },
          "metadata": {},
          "output_type": "display_data"
        },
        {
          "metadata": {
            "tags": null
          },
          "name": "stdout",
          "output_type": "stream",
          "text": [
            "generate_samples: generated 423 samples in 5.7998621463775635s\n",
            "Instrument: 784\n"
          ]
        },
        {
          "data": {
            "text/html": [
              "<div id=\"id_785\"> </div>"
            ],
            "text/plain": [
              "<IPython.core.display.HTML object>"
            ]
          },
          "metadata": {},
          "output_type": "display_data"
        },
        {
          "metadata": {
            "tags": null
          },
          "name": "stdout",
          "output_type": "stream",
          "text": [
            "generate_samples: generated 423 samples in 5.796738386154175s\n",
            "Instrument: 785\n"
          ]
        },
        {
          "data": {
            "text/html": [
              "<div id=\"id_786\"> </div>"
            ],
            "text/plain": [
              "<IPython.core.display.HTML object>"
            ]
          },
          "metadata": {},
          "output_type": "display_data"
        },
        {
          "metadata": {
            "tags": null
          },
          "name": "stdout",
          "output_type": "stream",
          "text": [
            "generate_samples: generated 423 samples in 5.783770561218262s\n",
            "Instrument: 786\n"
          ]
        },
        {
          "data": {
            "text/html": [
              "<div id=\"id_787\"> </div>"
            ],
            "text/plain": [
              "<IPython.core.display.HTML object>"
            ]
          },
          "metadata": {},
          "output_type": "display_data"
        },
        {
          "metadata": {
            "tags": null
          },
          "name": "stdout",
          "output_type": "stream",
          "text": [
            "generate_samples: generated 423 samples in 5.787503242492676s\n",
            "Instrument: 787\n"
          ]
        },
        {
          "data": {
            "text/html": [
              "<div id=\"id_788\"> </div>"
            ],
            "text/plain": [
              "<IPython.core.display.HTML object>"
            ]
          },
          "metadata": {},
          "output_type": "display_data"
        },
        {
          "metadata": {
            "tags": null
          },
          "name": "stdout",
          "output_type": "stream",
          "text": [
            "generate_samples: generated 423 samples in 5.79286527633667s\n",
            "Instrument: 788\n"
          ]
        },
        {
          "data": {
            "text/html": [
              "<div id=\"id_789\"> </div>"
            ],
            "text/plain": [
              "<IPython.core.display.HTML object>"
            ]
          },
          "metadata": {},
          "output_type": "display_data"
        },
        {
          "metadata": {
            "tags": null
          },
          "name": "stdout",
          "output_type": "stream",
          "text": [
            "generate_samples: generated 423 samples in 5.7747814655303955s\n",
            "Instrument: 789\n"
          ]
        },
        {
          "data": {
            "text/html": [
              "<div id=\"id_790\"> </div>"
            ],
            "text/plain": [
              "<IPython.core.display.HTML object>"
            ]
          },
          "metadata": {},
          "output_type": "display_data"
        },
        {
          "metadata": {
            "tags": null
          },
          "name": "stdout",
          "output_type": "stream",
          "text": [
            "generate_samples: generated 423 samples in 5.783949851989746s\n",
            "Instrument: 790\n"
          ]
        },
        {
          "data": {
            "text/html": [
              "<div id=\"id_791\"> </div>"
            ],
            "text/plain": [
              "<IPython.core.display.HTML object>"
            ]
          },
          "metadata": {},
          "output_type": "display_data"
        },
        {
          "metadata": {
            "tags": null
          },
          "name": "stdout",
          "output_type": "stream",
          "text": [
            "generate_samples: generated 423 samples in 5.782849311828613s\n",
            "Instrument: 791\n"
          ]
        },
        {
          "data": {
            "text/html": [
              "<div id=\"id_792\"> </div>"
            ],
            "text/plain": [
              "<IPython.core.display.HTML object>"
            ]
          },
          "metadata": {},
          "output_type": "display_data"
        },
        {
          "metadata": {
            "tags": null
          },
          "name": "stdout",
          "output_type": "stream",
          "text": [
            "generate_samples: generated 423 samples in 5.769484519958496s\n",
            "Instrument: 792\n"
          ]
        },
        {
          "data": {
            "text/html": [
              "<div id=\"id_793\"> </div>"
            ],
            "text/plain": [
              "<IPython.core.display.HTML object>"
            ]
          },
          "metadata": {},
          "output_type": "display_data"
        },
        {
          "metadata": {
            "tags": null
          },
          "name": "stdout",
          "output_type": "stream",
          "text": [
            "generate_samples: generated 423 samples in 5.831180095672607s\n",
            "Instrument: 793\n"
          ]
        },
        {
          "data": {
            "text/html": [
              "<div id=\"id_794\"> </div>"
            ],
            "text/plain": [
              "<IPython.core.display.HTML object>"
            ]
          },
          "metadata": {},
          "output_type": "display_data"
        },
        {
          "metadata": {
            "tags": null
          },
          "name": "stdout",
          "output_type": "stream",
          "text": [
            "generate_samples: generated 423 samples in 5.743298530578613s\n",
            "Instrument: 794\n"
          ]
        },
        {
          "data": {
            "text/html": [
              "<div id=\"id_795\"> </div>"
            ],
            "text/plain": [
              "<IPython.core.display.HTML object>"
            ]
          },
          "metadata": {},
          "output_type": "display_data"
        },
        {
          "metadata": {
            "tags": null
          },
          "name": "stdout",
          "output_type": "stream",
          "text": [
            "generate_samples: generated 423 samples in 5.786571264266968s\n",
            "Instrument: 795\n"
          ]
        },
        {
          "data": {
            "text/html": [
              "<div id=\"id_796\"> </div>"
            ],
            "text/plain": [
              "<IPython.core.display.HTML object>"
            ]
          },
          "metadata": {},
          "output_type": "display_data"
        },
        {
          "metadata": {
            "tags": null
          },
          "name": "stdout",
          "output_type": "stream",
          "text": [
            "generate_samples: generated 423 samples in 5.781540632247925s\n",
            "Instrument: 796\n"
          ]
        },
        {
          "data": {
            "text/html": [
              "<div id=\"id_797\"> </div>"
            ],
            "text/plain": [
              "<IPython.core.display.HTML object>"
            ]
          },
          "metadata": {},
          "output_type": "display_data"
        },
        {
          "metadata": {
            "tags": null
          },
          "name": "stdout",
          "output_type": "stream",
          "text": [
            "generate_samples: generated 423 samples in 5.786608695983887s\n",
            "Instrument: 797\n"
          ]
        },
        {
          "data": {
            "text/html": [
              "<div id=\"id_798\"> </div>"
            ],
            "text/plain": [
              "<IPython.core.display.HTML object>"
            ]
          },
          "metadata": {},
          "output_type": "display_data"
        },
        {
          "metadata": {
            "tags": null
          },
          "name": "stdout",
          "output_type": "stream",
          "text": [
            "generate_samples: generated 423 samples in 5.762536287307739s\n",
            "Instrument: 798\n"
          ]
        },
        {
          "data": {
            "text/html": [
              "<div id=\"id_799\"> </div>"
            ],
            "text/plain": [
              "<IPython.core.display.HTML object>"
            ]
          },
          "metadata": {},
          "output_type": "display_data"
        },
        {
          "metadata": {
            "tags": null
          },
          "name": "stdout",
          "output_type": "stream",
          "text": [
            "generate_samples: generated 423 samples in 5.779609441757202s\n",
            "Instrument: 799\n"
          ]
        },
        {
          "data": {
            "text/html": [
              "<div id=\"id_800\"> </div>"
            ],
            "text/plain": [
              "<IPython.core.display.HTML object>"
            ]
          },
          "metadata": {},
          "output_type": "display_data"
        },
        {
          "metadata": {
            "tags": null
          },
          "name": "stdout",
          "output_type": "stream",
          "text": [
            "generate_samples: generated 423 samples in 5.7690699100494385s\n",
            "Instrument: 800\n"
          ]
        },
        {
          "data": {
            "text/html": [
              "<div id=\"id_801\"> </div>"
            ],
            "text/plain": [
              "<IPython.core.display.HTML object>"
            ]
          },
          "metadata": {},
          "output_type": "display_data"
        },
        {
          "metadata": {
            "tags": null
          },
          "name": "stdout",
          "output_type": "stream",
          "text": [
            "generate_samples: generated 423 samples in 5.759170770645142s\n",
            "Instrument: 801\n"
          ]
        },
        {
          "data": {
            "text/html": [
              "<div id=\"id_802\"> </div>"
            ],
            "text/plain": [
              "<IPython.core.display.HTML object>"
            ]
          },
          "metadata": {},
          "output_type": "display_data"
        },
        {
          "metadata": {
            "tags": null
          },
          "name": "stdout",
          "output_type": "stream",
          "text": [
            "generate_samples: generated 423 samples in 5.77046275138855s\n",
            "Instrument: 802\n"
          ]
        },
        {
          "data": {
            "text/html": [
              "<div id=\"id_803\"> </div>"
            ],
            "text/plain": [
              "<IPython.core.display.HTML object>"
            ]
          },
          "metadata": {},
          "output_type": "display_data"
        },
        {
          "metadata": {
            "tags": null
          },
          "name": "stdout",
          "output_type": "stream",
          "text": [
            "generate_samples: generated 423 samples in 5.760229110717773s\n",
            "Instrument: 803\n"
          ]
        },
        {
          "data": {
            "text/html": [
              "<div id=\"id_804\"> </div>"
            ],
            "text/plain": [
              "<IPython.core.display.HTML object>"
            ]
          },
          "metadata": {},
          "output_type": "display_data"
        },
        {
          "metadata": {
            "tags": null
          },
          "name": "stdout",
          "output_type": "stream",
          "text": [
            "generate_samples: generated 423 samples in 5.77228569984436s\n",
            "Instrument: 804\n"
          ]
        },
        {
          "data": {
            "text/html": [
              "<div id=\"id_805\"> </div>"
            ],
            "text/plain": [
              "<IPython.core.display.HTML object>"
            ]
          },
          "metadata": {},
          "output_type": "display_data"
        },
        {
          "metadata": {
            "tags": null
          },
          "name": "stdout",
          "output_type": "stream",
          "text": [
            "generate_samples: generated 423 samples in 5.782358407974243s\n",
            "Instrument: 805\n"
          ]
        },
        {
          "data": {
            "text/html": [
              "<div id=\"id_806\"> </div>"
            ],
            "text/plain": [
              "<IPython.core.display.HTML object>"
            ]
          },
          "metadata": {},
          "output_type": "display_data"
        },
        {
          "metadata": {
            "tags": null
          },
          "name": "stdout",
          "output_type": "stream",
          "text": [
            "generate_samples: generated 423 samples in 5.772695541381836s\n",
            "Instrument: 806\n"
          ]
        },
        {
          "data": {
            "text/html": [
              "<div id=\"id_807\"> </div>"
            ],
            "text/plain": [
              "<IPython.core.display.HTML object>"
            ]
          },
          "metadata": {},
          "output_type": "display_data"
        },
        {
          "metadata": {
            "tags": null
          },
          "name": "stdout",
          "output_type": "stream",
          "text": [
            "generate_samples: generated 423 samples in 5.788459539413452s\n",
            "Instrument: 807\n"
          ]
        },
        {
          "data": {
            "text/html": [
              "<div id=\"id_808\"> </div>"
            ],
            "text/plain": [
              "<IPython.core.display.HTML object>"
            ]
          },
          "metadata": {},
          "output_type": "display_data"
        },
        {
          "metadata": {
            "tags": null
          },
          "name": "stdout",
          "output_type": "stream",
          "text": [
            "generate_samples: generated 423 samples in 5.781543731689453s\n",
            "Instrument: 808\n"
          ]
        },
        {
          "data": {
            "text/html": [
              "<div id=\"id_809\"> </div>"
            ],
            "text/plain": [
              "<IPython.core.display.HTML object>"
            ]
          },
          "metadata": {},
          "output_type": "display_data"
        },
        {
          "metadata": {
            "tags": null
          },
          "name": "stdout",
          "output_type": "stream",
          "text": [
            "generate_samples: generated 423 samples in 5.768852472305298s\n",
            "Instrument: 809\n"
          ]
        },
        {
          "data": {
            "text/html": [
              "<div id=\"id_810\"> </div>"
            ],
            "text/plain": [
              "<IPython.core.display.HTML object>"
            ]
          },
          "metadata": {},
          "output_type": "display_data"
        },
        {
          "metadata": {
            "tags": null
          },
          "name": "stdout",
          "output_type": "stream",
          "text": [
            "generate_samples: generated 423 samples in 5.782294273376465s\n",
            "Instrument: 810\n"
          ]
        },
        {
          "data": {
            "text/html": [
              "<div id=\"id_811\"> </div>"
            ],
            "text/plain": [
              "<IPython.core.display.HTML object>"
            ]
          },
          "metadata": {},
          "output_type": "display_data"
        },
        {
          "metadata": {
            "tags": null
          },
          "name": "stdout",
          "output_type": "stream",
          "text": [
            "generate_samples: generated 423 samples in 5.798183917999268s\n",
            "Instrument: 811\n"
          ]
        },
        {
          "data": {
            "text/html": [
              "<div id=\"id_812\"> </div>"
            ],
            "text/plain": [
              "<IPython.core.display.HTML object>"
            ]
          },
          "metadata": {},
          "output_type": "display_data"
        },
        {
          "metadata": {
            "tags": null
          },
          "name": "stdout",
          "output_type": "stream",
          "text": [
            "generate_samples: generated 423 samples in 5.7943034172058105s\n",
            "Instrument: 812\n"
          ]
        },
        {
          "data": {
            "text/html": [
              "<div id=\"id_813\"> </div>"
            ],
            "text/plain": [
              "<IPython.core.display.HTML object>"
            ]
          },
          "metadata": {},
          "output_type": "display_data"
        },
        {
          "metadata": {
            "tags": null
          },
          "name": "stdout",
          "output_type": "stream",
          "text": [
            "generate_samples: generated 423 samples in 5.879377603530884s\n",
            "Instrument: 813\n"
          ]
        },
        {
          "data": {
            "text/html": [
              "<div id=\"id_814\"> </div>"
            ],
            "text/plain": [
              "<IPython.core.display.HTML object>"
            ]
          },
          "metadata": {},
          "output_type": "display_data"
        },
        {
          "metadata": {
            "tags": null
          },
          "name": "stdout",
          "output_type": "stream",
          "text": [
            "generate_samples: generated 423 samples in 5.792587757110596s\n",
            "Instrument: 814\n"
          ]
        },
        {
          "data": {
            "text/html": [
              "<div id=\"id_815\"> </div>"
            ],
            "text/plain": [
              "<IPython.core.display.HTML object>"
            ]
          },
          "metadata": {},
          "output_type": "display_data"
        },
        {
          "metadata": {
            "tags": null
          },
          "name": "stdout",
          "output_type": "stream",
          "text": [
            "generate_samples: generated 423 samples in 5.80242657661438s\n",
            "Instrument: 815\n"
          ]
        },
        {
          "data": {
            "text/html": [
              "<div id=\"id_816\"> </div>"
            ],
            "text/plain": [
              "<IPython.core.display.HTML object>"
            ]
          },
          "metadata": {},
          "output_type": "display_data"
        },
        {
          "metadata": {
            "tags": null
          },
          "name": "stdout",
          "output_type": "stream",
          "text": [
            "generate_samples: generated 423 samples in 5.777711868286133s\n",
            "Instrument: 816\n"
          ]
        },
        {
          "data": {
            "text/html": [
              "<div id=\"id_817\"> </div>"
            ],
            "text/plain": [
              "<IPython.core.display.HTML object>"
            ]
          },
          "metadata": {},
          "output_type": "display_data"
        },
        {
          "metadata": {
            "tags": null
          },
          "name": "stdout",
          "output_type": "stream",
          "text": [
            "generate_samples: generated 423 samples in 5.777343034744263s\n",
            "Instrument: 817\n"
          ]
        },
        {
          "data": {
            "text/html": [
              "<div id=\"id_818\"> </div>"
            ],
            "text/plain": [
              "<IPython.core.display.HTML object>"
            ]
          },
          "metadata": {},
          "output_type": "display_data"
        },
        {
          "metadata": {
            "tags": null
          },
          "name": "stdout",
          "output_type": "stream",
          "text": [
            "generate_samples: generated 423 samples in 5.7842206954956055s\n",
            "Instrument: 818\n"
          ]
        },
        {
          "data": {
            "text/html": [
              "<div id=\"id_819\"> </div>"
            ],
            "text/plain": [
              "<IPython.core.display.HTML object>"
            ]
          },
          "metadata": {},
          "output_type": "display_data"
        },
        {
          "metadata": {
            "tags": null
          },
          "name": "stdout",
          "output_type": "stream",
          "text": [
            "generate_samples: generated 423 samples in 5.796617269515991s\n",
            "Instrument: 819\n"
          ]
        },
        {
          "data": {
            "text/html": [
              "<div id=\"id_820\"> </div>"
            ],
            "text/plain": [
              "<IPython.core.display.HTML object>"
            ]
          },
          "metadata": {},
          "output_type": "display_data"
        },
        {
          "metadata": {
            "tags": null
          },
          "name": "stdout",
          "output_type": "stream",
          "text": [
            "generate_samples: generated 423 samples in 5.773047924041748s\n",
            "Instrument: 820\n"
          ]
        },
        {
          "data": {
            "text/html": [
              "<div id=\"id_821\"> </div>"
            ],
            "text/plain": [
              "<IPython.core.display.HTML object>"
            ]
          },
          "metadata": {},
          "output_type": "display_data"
        },
        {
          "metadata": {
            "tags": null
          },
          "name": "stdout",
          "output_type": "stream",
          "text": [
            "generate_samples: generated 423 samples in 5.779995441436768s\n",
            "Instrument: 821\n"
          ]
        },
        {
          "data": {
            "text/html": [
              "<div id=\"id_822\"> </div>"
            ],
            "text/plain": [
              "<IPython.core.display.HTML object>"
            ]
          },
          "metadata": {},
          "output_type": "display_data"
        },
        {
          "metadata": {
            "tags": null
          },
          "name": "stdout",
          "output_type": "stream",
          "text": [
            "generate_samples: generated 423 samples in 5.782827854156494s\n",
            "Instrument: 822\n"
          ]
        },
        {
          "data": {
            "text/html": [
              "<div id=\"id_823\"> </div>"
            ],
            "text/plain": [
              "<IPython.core.display.HTML object>"
            ]
          },
          "metadata": {},
          "output_type": "display_data"
        },
        {
          "metadata": {
            "tags": null
          },
          "name": "stdout",
          "output_type": "stream",
          "text": [
            "generate_samples: generated 423 samples in 5.78755259513855s\n",
            "Instrument: 823\n"
          ]
        },
        {
          "data": {
            "text/html": [
              "<div id=\"id_824\"> </div>"
            ],
            "text/plain": [
              "<IPython.core.display.HTML object>"
            ]
          },
          "metadata": {},
          "output_type": "display_data"
        },
        {
          "metadata": {
            "tags": null
          },
          "name": "stdout",
          "output_type": "stream",
          "text": [
            "generate_samples: generated 423 samples in 5.8248021602630615s\n",
            "Instrument: 824\n"
          ]
        },
        {
          "data": {
            "text/html": [
              "<div id=\"id_825\"> </div>"
            ],
            "text/plain": [
              "<IPython.core.display.HTML object>"
            ]
          },
          "metadata": {},
          "output_type": "display_data"
        },
        {
          "metadata": {
            "tags": null
          },
          "name": "stdout",
          "output_type": "stream",
          "text": [
            "generate_samples: generated 423 samples in 5.790436267852783s\n",
            "Instrument: 825\n"
          ]
        },
        {
          "data": {
            "text/html": [
              "<div id=\"id_826\"> </div>"
            ],
            "text/plain": [
              "<IPython.core.display.HTML object>"
            ]
          },
          "metadata": {},
          "output_type": "display_data"
        },
        {
          "metadata": {
            "tags": null
          },
          "name": "stdout",
          "output_type": "stream",
          "text": [
            "generate_samples: generated 423 samples in 5.796453475952148s\n",
            "Instrument: 826\n"
          ]
        },
        {
          "data": {
            "text/html": [
              "<div id=\"id_827\"> </div>"
            ],
            "text/plain": [
              "<IPython.core.display.HTML object>"
            ]
          },
          "metadata": {},
          "output_type": "display_data"
        },
        {
          "metadata": {
            "tags": null
          },
          "name": "stdout",
          "output_type": "stream",
          "text": [
            "generate_samples: generated 423 samples in 5.778866767883301s\n",
            "Instrument: 827\n"
          ]
        },
        {
          "data": {
            "text/html": [
              "<div id=\"id_828\"> </div>"
            ],
            "text/plain": [
              "<IPython.core.display.HTML object>"
            ]
          },
          "metadata": {},
          "output_type": "display_data"
        },
        {
          "metadata": {
            "tags": null
          },
          "name": "stdout",
          "output_type": "stream",
          "text": [
            "generate_samples: generated 423 samples in 5.759354591369629s\n",
            "Instrument: 828\n"
          ]
        },
        {
          "data": {
            "text/html": [
              "<div id=\"id_829\"> </div>"
            ],
            "text/plain": [
              "<IPython.core.display.HTML object>"
            ]
          },
          "metadata": {},
          "output_type": "display_data"
        },
        {
          "metadata": {
            "tags": null
          },
          "name": "stdout",
          "output_type": "stream",
          "text": [
            "generate_samples: generated 423 samples in 5.764319181442261s\n",
            "Instrument: 829\n"
          ]
        },
        {
          "data": {
            "text/html": [
              "<div id=\"id_830\"> </div>"
            ],
            "text/plain": [
              "<IPython.core.display.HTML object>"
            ]
          },
          "metadata": {},
          "output_type": "display_data"
        },
        {
          "metadata": {
            "tags": null
          },
          "name": "stdout",
          "output_type": "stream",
          "text": [
            "generate_samples: generated 423 samples in 5.754414796829224s\n",
            "Instrument: 830\n"
          ]
        },
        {
          "data": {
            "text/html": [
              "<div id=\"id_831\"> </div>"
            ],
            "text/plain": [
              "<IPython.core.display.HTML object>"
            ]
          },
          "metadata": {},
          "output_type": "display_data"
        },
        {
          "metadata": {
            "tags": null
          },
          "name": "stdout",
          "output_type": "stream",
          "text": [
            "generate_samples: generated 423 samples in 5.783536672592163s\n",
            "Instrument: 831\n"
          ]
        },
        {
          "data": {
            "text/html": [
              "<div id=\"id_832\"> </div>"
            ],
            "text/plain": [
              "<IPython.core.display.HTML object>"
            ]
          },
          "metadata": {},
          "output_type": "display_data"
        },
        {
          "metadata": {
            "tags": null
          },
          "name": "stdout",
          "output_type": "stream",
          "text": [
            "generate_samples: generated 423 samples in 5.771494388580322s\n",
            "Instrument: 832\n"
          ]
        },
        {
          "data": {
            "text/html": [
              "<div id=\"id_833\"> </div>"
            ],
            "text/plain": [
              "<IPython.core.display.HTML object>"
            ]
          },
          "metadata": {},
          "output_type": "display_data"
        },
        {
          "metadata": {
            "tags": null
          },
          "name": "stdout",
          "output_type": "stream",
          "text": [
            "generate_samples: generated 423 samples in 5.794514417648315s\n",
            "Instrument: 833\n"
          ]
        },
        {
          "data": {
            "text/html": [
              "<div id=\"id_834\"> </div>"
            ],
            "text/plain": [
              "<IPython.core.display.HTML object>"
            ]
          },
          "metadata": {},
          "output_type": "display_data"
        },
        {
          "metadata": {
            "tags": null
          },
          "name": "stdout",
          "output_type": "stream",
          "text": [
            "generate_samples: generated 423 samples in 5.770365476608276s\n",
            "Instrument: 834\n"
          ]
        },
        {
          "data": {
            "text/html": [
              "<div id=\"id_835\"> </div>"
            ],
            "text/plain": [
              "<IPython.core.display.HTML object>"
            ]
          },
          "metadata": {},
          "output_type": "display_data"
        },
        {
          "metadata": {
            "tags": null
          },
          "name": "stdout",
          "output_type": "stream",
          "text": [
            "generate_samples: generated 423 samples in 5.785460472106934s\n",
            "Instrument: 835\n"
          ]
        },
        {
          "data": {
            "text/html": [
              "<div id=\"id_836\"> </div>"
            ],
            "text/plain": [
              "<IPython.core.display.HTML object>"
            ]
          },
          "metadata": {},
          "output_type": "display_data"
        },
        {
          "metadata": {
            "tags": null
          },
          "name": "stdout",
          "output_type": "stream",
          "text": [
            "generate_samples: generated 423 samples in 5.7953290939331055s\n",
            "Instrument: 836\n"
          ]
        },
        {
          "data": {
            "text/html": [
              "<div id=\"id_837\"> </div>"
            ],
            "text/plain": [
              "<IPython.core.display.HTML object>"
            ]
          },
          "metadata": {},
          "output_type": "display_data"
        },
        {
          "metadata": {
            "tags": null
          },
          "name": "stdout",
          "output_type": "stream",
          "text": [
            "generate_samples: generated 423 samples in 5.781902074813843s\n",
            "Instrument: 837\n"
          ]
        },
        {
          "data": {
            "text/html": [
              "<div id=\"id_838\"> </div>"
            ],
            "text/plain": [
              "<IPython.core.display.HTML object>"
            ]
          },
          "metadata": {},
          "output_type": "display_data"
        },
        {
          "metadata": {
            "tags": null
          },
          "name": "stdout",
          "output_type": "stream",
          "text": [
            "generate_samples: generated 423 samples in 5.778318405151367s\n",
            "Instrument: 838\n"
          ]
        },
        {
          "data": {
            "text/html": [
              "<div id=\"id_839\"> </div>"
            ],
            "text/plain": [
              "<IPython.core.display.HTML object>"
            ]
          },
          "metadata": {},
          "output_type": "display_data"
        },
        {
          "metadata": {
            "tags": null
          },
          "name": "stdout",
          "output_type": "stream",
          "text": [
            "generate_samples: generated 423 samples in 5.811222076416016s\n",
            "Instrument: 839\n"
          ]
        },
        {
          "data": {
            "text/html": [
              "<div id=\"id_840\"> </div>"
            ],
            "text/plain": [
              "<IPython.core.display.HTML object>"
            ]
          },
          "metadata": {},
          "output_type": "display_data"
        },
        {
          "metadata": {
            "tags": null
          },
          "name": "stdout",
          "output_type": "stream",
          "text": [
            "generate_samples: generated 423 samples in 5.77942156791687s\n",
            "Instrument: 840\n"
          ]
        },
        {
          "data": {
            "text/html": [
              "<div id=\"id_841\"> </div>"
            ],
            "text/plain": [
              "<IPython.core.display.HTML object>"
            ]
          },
          "metadata": {},
          "output_type": "display_data"
        },
        {
          "metadata": {
            "tags": null
          },
          "name": "stdout",
          "output_type": "stream",
          "text": [
            "generate_samples: generated 423 samples in 5.788385391235352s\n",
            "Instrument: 841\n"
          ]
        },
        {
          "data": {
            "text/html": [
              "<div id=\"id_842\"> </div>"
            ],
            "text/plain": [
              "<IPython.core.display.HTML object>"
            ]
          },
          "metadata": {},
          "output_type": "display_data"
        },
        {
          "metadata": {
            "tags": null
          },
          "name": "stdout",
          "output_type": "stream",
          "text": [
            "generate_samples: generated 423 samples in 5.803253889083862s\n",
            "Instrument: 842\n"
          ]
        },
        {
          "data": {
            "text/html": [
              "<div id=\"id_843\"> </div>"
            ],
            "text/plain": [
              "<IPython.core.display.HTML object>"
            ]
          },
          "metadata": {},
          "output_type": "display_data"
        },
        {
          "metadata": {
            "tags": null
          },
          "name": "stdout",
          "output_type": "stream",
          "text": [
            "generate_samples: generated 423 samples in 5.7831056118011475s\n",
            "Instrument: 843\n"
          ]
        },
        {
          "data": {
            "text/html": [
              "<div id=\"id_844\"> </div>"
            ],
            "text/plain": [
              "<IPython.core.display.HTML object>"
            ]
          },
          "metadata": {},
          "output_type": "display_data"
        },
        {
          "metadata": {
            "tags": null
          },
          "name": "stdout",
          "output_type": "stream",
          "text": [
            "generate_samples: generated 423 samples in 5.7833571434021s\n",
            "Instrument: 844\n"
          ]
        },
        {
          "data": {
            "text/html": [
              "<div id=\"id_845\"> </div>"
            ],
            "text/plain": [
              "<IPython.core.display.HTML object>"
            ]
          },
          "metadata": {},
          "output_type": "display_data"
        },
        {
          "metadata": {
            "tags": null
          },
          "name": "stdout",
          "output_type": "stream",
          "text": [
            "generate_samples: generated 423 samples in 5.805980920791626s\n",
            "Instrument: 845\n"
          ]
        },
        {
          "data": {
            "text/html": [
              "<div id=\"id_846\"> </div>"
            ],
            "text/plain": [
              "<IPython.core.display.HTML object>"
            ]
          },
          "metadata": {},
          "output_type": "display_data"
        },
        {
          "metadata": {
            "tags": null
          },
          "name": "stdout",
          "output_type": "stream",
          "text": [
            "generate_samples: generated 423 samples in 5.764054298400879s\n",
            "Instrument: 846\n"
          ]
        },
        {
          "data": {
            "text/html": [
              "<div id=\"id_847\"> </div>"
            ],
            "text/plain": [
              "<IPython.core.display.HTML object>"
            ]
          },
          "metadata": {},
          "output_type": "display_data"
        },
        {
          "metadata": {
            "tags": null
          },
          "name": "stdout",
          "output_type": "stream",
          "text": [
            "generate_samples: generated 423 samples in 5.7541022300720215s\n",
            "Instrument: 847\n"
          ]
        },
        {
          "data": {
            "text/html": [
              "<div id=\"id_848\"> </div>"
            ],
            "text/plain": [
              "<IPython.core.display.HTML object>"
            ]
          },
          "metadata": {},
          "output_type": "display_data"
        },
        {
          "metadata": {
            "tags": null
          },
          "name": "stdout",
          "output_type": "stream",
          "text": [
            "generate_samples: generated 423 samples in 5.79134202003479s\n",
            "Instrument: 848\n"
          ]
        },
        {
          "data": {
            "text/html": [
              "<div id=\"id_849\"> </div>"
            ],
            "text/plain": [
              "<IPython.core.display.HTML object>"
            ]
          },
          "metadata": {},
          "output_type": "display_data"
        },
        {
          "metadata": {
            "tags": null
          },
          "name": "stdout",
          "output_type": "stream",
          "text": [
            "generate_samples: generated 423 samples in 5.782787799835205s\n",
            "Instrument: 849\n"
          ]
        },
        {
          "data": {
            "text/html": [
              "<div id=\"id_850\"> </div>"
            ],
            "text/plain": [
              "<IPython.core.display.HTML object>"
            ]
          },
          "metadata": {},
          "output_type": "display_data"
        },
        {
          "metadata": {
            "tags": null
          },
          "name": "stdout",
          "output_type": "stream",
          "text": [
            "generate_samples: generated 423 samples in 5.7605860233306885s\n",
            "Instrument: 850\n"
          ]
        },
        {
          "data": {
            "text/html": [
              "<div id=\"id_851\"> </div>"
            ],
            "text/plain": [
              "<IPython.core.display.HTML object>"
            ]
          },
          "metadata": {},
          "output_type": "display_data"
        },
        {
          "metadata": {
            "tags": null
          },
          "name": "stdout",
          "output_type": "stream",
          "text": [
            "generate_samples: generated 423 samples in 5.768100738525391s\n",
            "Instrument: 851\n"
          ]
        },
        {
          "data": {
            "text/html": [
              "<div id=\"id_852\"> </div>"
            ],
            "text/plain": [
              "<IPython.core.display.HTML object>"
            ]
          },
          "metadata": {},
          "output_type": "display_data"
        },
        {
          "metadata": {
            "tags": null
          },
          "name": "stdout",
          "output_type": "stream",
          "text": [
            "generate_samples: generated 423 samples in 5.75715446472168s\n",
            "Instrument: 852\n"
          ]
        },
        {
          "data": {
            "text/html": [
              "<div id=\"id_853\"> </div>"
            ],
            "text/plain": [
              "<IPython.core.display.HTML object>"
            ]
          },
          "metadata": {},
          "output_type": "display_data"
        },
        {
          "metadata": {
            "tags": null
          },
          "name": "stdout",
          "output_type": "stream",
          "text": [
            "generate_samples: generated 423 samples in 5.762779474258423s\n",
            "Instrument: 853\n"
          ]
        },
        {
          "data": {
            "text/html": [
              "<div id=\"id_854\"> </div>"
            ],
            "text/plain": [
              "<IPython.core.display.HTML object>"
            ]
          },
          "metadata": {},
          "output_type": "display_data"
        },
        {
          "metadata": {
            "tags": null
          },
          "name": "stdout",
          "output_type": "stream",
          "text": [
            "generate_samples: generated 423 samples in 5.765246152877808s\n",
            "Instrument: 854\n"
          ]
        },
        {
          "data": {
            "text/html": [
              "<div id=\"id_855\"> </div>"
            ],
            "text/plain": [
              "<IPython.core.display.HTML object>"
            ]
          },
          "metadata": {},
          "output_type": "display_data"
        },
        {
          "metadata": {
            "tags": null
          },
          "name": "stdout",
          "output_type": "stream",
          "text": [
            "generate_samples: generated 423 samples in 5.782920837402344s\n",
            "Instrument: 855\n"
          ]
        },
        {
          "data": {
            "text/html": [
              "<div id=\"id_856\"> </div>"
            ],
            "text/plain": [
              "<IPython.core.display.HTML object>"
            ]
          },
          "metadata": {},
          "output_type": "display_data"
        },
        {
          "metadata": {
            "tags": null
          },
          "name": "stdout",
          "output_type": "stream",
          "text": [
            "generate_samples: generated 423 samples in 5.828231573104858s\n",
            "Instrument: 856\n"
          ]
        },
        {
          "data": {
            "text/html": [
              "<div id=\"id_857\"> </div>"
            ],
            "text/plain": [
              "<IPython.core.display.HTML object>"
            ]
          },
          "metadata": {},
          "output_type": "display_data"
        },
        {
          "metadata": {
            "tags": null
          },
          "name": "stdout",
          "output_type": "stream",
          "text": [
            "generate_samples: generated 423 samples in 5.763213634490967s\n",
            "Instrument: 857\n"
          ]
        },
        {
          "data": {
            "text/html": [
              "<div id=\"id_858\"> </div>"
            ],
            "text/plain": [
              "<IPython.core.display.HTML object>"
            ]
          },
          "metadata": {},
          "output_type": "display_data"
        },
        {
          "metadata": {
            "tags": null
          },
          "name": "stdout",
          "output_type": "stream",
          "text": [
            "generate_samples: generated 423 samples in 5.873377799987793s\n",
            "Instrument: 858\n"
          ]
        },
        {
          "data": {
            "text/html": [
              "<div id=\"id_859\"> </div>"
            ],
            "text/plain": [
              "<IPython.core.display.HTML object>"
            ]
          },
          "metadata": {},
          "output_type": "display_data"
        },
        {
          "metadata": {
            "tags": null
          },
          "name": "stdout",
          "output_type": "stream",
          "text": [
            "generate_samples: generated 423 samples in 5.788889169692993s\n",
            "Instrument: 859\n"
          ]
        },
        {
          "data": {
            "text/html": [
              "<div id=\"id_860\"> </div>"
            ],
            "text/plain": [
              "<IPython.core.display.HTML object>"
            ]
          },
          "metadata": {},
          "output_type": "display_data"
        },
        {
          "metadata": {
            "tags": null
          },
          "name": "stdout",
          "output_type": "stream",
          "text": [
            "generate_samples: generated 423 samples in 5.790243625640869s\n",
            "Instrument: 860\n"
          ]
        },
        {
          "data": {
            "text/html": [
              "<div id=\"id_861\"> </div>"
            ],
            "text/plain": [
              "<IPython.core.display.HTML object>"
            ]
          },
          "metadata": {},
          "output_type": "display_data"
        },
        {
          "metadata": {
            "tags": null
          },
          "name": "stdout",
          "output_type": "stream",
          "text": [
            "generate_samples: generated 423 samples in 5.782080888748169s\n",
            "Instrument: 861\n"
          ]
        },
        {
          "data": {
            "text/html": [
              "<div id=\"id_862\"> </div>"
            ],
            "text/plain": [
              "<IPython.core.display.HTML object>"
            ]
          },
          "metadata": {},
          "output_type": "display_data"
        },
        {
          "metadata": {
            "tags": null
          },
          "name": "stdout",
          "output_type": "stream",
          "text": [
            "generate_samples: generated 423 samples in 5.788108587265015s\n",
            "Instrument: 862\n"
          ]
        },
        {
          "data": {
            "text/html": [
              "<div id=\"id_863\"> </div>"
            ],
            "text/plain": [
              "<IPython.core.display.HTML object>"
            ]
          },
          "metadata": {},
          "output_type": "display_data"
        },
        {
          "metadata": {
            "tags": null
          },
          "name": "stdout",
          "output_type": "stream",
          "text": [
            "generate_samples: generated 423 samples in 5.77592134475708s\n",
            "Instrument: 863\n"
          ]
        },
        {
          "data": {
            "text/html": [
              "<div id=\"id_864\"> </div>"
            ],
            "text/plain": [
              "<IPython.core.display.HTML object>"
            ]
          },
          "metadata": {},
          "output_type": "display_data"
        },
        {
          "metadata": {
            "tags": null
          },
          "name": "stdout",
          "output_type": "stream",
          "text": [
            "generate_samples: generated 423 samples in 5.751154184341431s\n",
            "Instrument: 864\n"
          ]
        },
        {
          "data": {
            "text/html": [
              "<div id=\"id_865\"> </div>"
            ],
            "text/plain": [
              "<IPython.core.display.HTML object>"
            ]
          },
          "metadata": {},
          "output_type": "display_data"
        },
        {
          "metadata": {
            "tags": null
          },
          "name": "stdout",
          "output_type": "stream",
          "text": [
            "generate_samples: generated 423 samples in 5.7774176597595215s\n",
            "Instrument: 865\n"
          ]
        },
        {
          "data": {
            "text/html": [
              "<div id=\"id_866\"> </div>"
            ],
            "text/plain": [
              "<IPython.core.display.HTML object>"
            ]
          },
          "metadata": {},
          "output_type": "display_data"
        },
        {
          "metadata": {
            "tags": null
          },
          "name": "stdout",
          "output_type": "stream",
          "text": [
            "generate_samples: generated 423 samples in 5.765429496765137s\n",
            "Instrument: 866\n"
          ]
        },
        {
          "data": {
            "text/html": [
              "<div id=\"id_867\"> </div>"
            ],
            "text/plain": [
              "<IPython.core.display.HTML object>"
            ]
          },
          "metadata": {},
          "output_type": "display_data"
        },
        {
          "metadata": {
            "tags": null
          },
          "name": "stdout",
          "output_type": "stream",
          "text": [
            "generate_samples: generated 423 samples in 5.770169973373413s\n",
            "Instrument: 867\n"
          ]
        },
        {
          "data": {
            "text/html": [
              "<div id=\"id_868\"> </div>"
            ],
            "text/plain": [
              "<IPython.core.display.HTML object>"
            ]
          },
          "metadata": {},
          "output_type": "display_data"
        },
        {
          "metadata": {
            "tags": null
          },
          "name": "stdout",
          "output_type": "stream",
          "text": [
            "generate_samples: generated 423 samples in 5.783328056335449s\n",
            "Instrument: 868\n"
          ]
        },
        {
          "data": {
            "text/html": [
              "<div id=\"id_869\"> </div>"
            ],
            "text/plain": [
              "<IPython.core.display.HTML object>"
            ]
          },
          "metadata": {},
          "output_type": "display_data"
        },
        {
          "metadata": {
            "tags": null
          },
          "name": "stdout",
          "output_type": "stream",
          "text": [
            "generate_samples: generated 423 samples in 5.776937246322632s\n",
            "Instrument: 869\n"
          ]
        },
        {
          "data": {
            "text/html": [
              "<div id=\"id_870\"> </div>"
            ],
            "text/plain": [
              "<IPython.core.display.HTML object>"
            ]
          },
          "metadata": {},
          "output_type": "display_data"
        },
        {
          "metadata": {
            "tags": null
          },
          "name": "stdout",
          "output_type": "stream",
          "text": [
            "generate_samples: generated 423 samples in 5.747387647628784s\n",
            "Instrument: 870\n"
          ]
        },
        {
          "data": {
            "text/html": [
              "<div id=\"id_871\"> </div>"
            ],
            "text/plain": [
              "<IPython.core.display.HTML object>"
            ]
          },
          "metadata": {},
          "output_type": "display_data"
        },
        {
          "metadata": {
            "tags": null
          },
          "name": "stdout",
          "output_type": "stream",
          "text": [
            "generate_samples: generated 423 samples in 5.779481887817383s\n",
            "Instrument: 871\n"
          ]
        },
        {
          "data": {
            "text/html": [
              "<div id=\"id_872\"> </div>"
            ],
            "text/plain": [
              "<IPython.core.display.HTML object>"
            ]
          },
          "metadata": {},
          "output_type": "display_data"
        },
        {
          "metadata": {
            "tags": null
          },
          "name": "stdout",
          "output_type": "stream",
          "text": [
            "generate_samples: generated 423 samples in 5.765464544296265s\n",
            "Instrument: 872\n"
          ]
        },
        {
          "data": {
            "text/html": [
              "<div id=\"id_873\"> </div>"
            ],
            "text/plain": [
              "<IPython.core.display.HTML object>"
            ]
          },
          "metadata": {},
          "output_type": "display_data"
        },
        {
          "metadata": {
            "tags": null
          },
          "name": "stdout",
          "output_type": "stream",
          "text": [
            "generate_samples: generated 423 samples in 5.780416488647461s\n",
            "Instrument: 873\n"
          ]
        },
        {
          "data": {
            "text/html": [
              "<div id=\"id_874\"> </div>"
            ],
            "text/plain": [
              "<IPython.core.display.HTML object>"
            ]
          },
          "metadata": {},
          "output_type": "display_data"
        },
        {
          "metadata": {
            "tags": null
          },
          "name": "stdout",
          "output_type": "stream",
          "text": [
            "generate_samples: generated 423 samples in 5.767812490463257s\n",
            "Instrument: 874\n"
          ]
        },
        {
          "data": {
            "text/html": [
              "<div id=\"id_875\"> </div>"
            ],
            "text/plain": [
              "<IPython.core.display.HTML object>"
            ]
          },
          "metadata": {},
          "output_type": "display_data"
        },
        {
          "metadata": {
            "tags": null
          },
          "name": "stdout",
          "output_type": "stream",
          "text": [
            "generate_samples: generated 423 samples in 5.756186485290527s\n",
            "Instrument: 875\n"
          ]
        },
        {
          "data": {
            "text/html": [
              "<div id=\"id_876\"> </div>"
            ],
            "text/plain": [
              "<IPython.core.display.HTML object>"
            ]
          },
          "metadata": {},
          "output_type": "display_data"
        },
        {
          "metadata": {
            "tags": null
          },
          "name": "stdout",
          "output_type": "stream",
          "text": [
            "generate_samples: generated 423 samples in 5.768828392028809s\n",
            "Instrument: 876\n"
          ]
        },
        {
          "data": {
            "text/html": [
              "<div id=\"id_877\"> </div>"
            ],
            "text/plain": [
              "<IPython.core.display.HTML object>"
            ]
          },
          "metadata": {},
          "output_type": "display_data"
        },
        {
          "metadata": {
            "tags": null
          },
          "name": "stdout",
          "output_type": "stream",
          "text": [
            "generate_samples: generated 423 samples in 5.783186435699463s\n",
            "Instrument: 877\n"
          ]
        },
        {
          "data": {
            "text/html": [
              "<div id=\"id_878\"> </div>"
            ],
            "text/plain": [
              "<IPython.core.display.HTML object>"
            ]
          },
          "metadata": {},
          "output_type": "display_data"
        },
        {
          "metadata": {
            "tags": null
          },
          "name": "stdout",
          "output_type": "stream",
          "text": [
            "generate_samples: generated 423 samples in 5.798485517501831s\n",
            "Instrument: 878\n"
          ]
        },
        {
          "data": {
            "text/html": [
              "<div id=\"id_879\"> </div>"
            ],
            "text/plain": [
              "<IPython.core.display.HTML object>"
            ]
          },
          "metadata": {},
          "output_type": "display_data"
        },
        {
          "metadata": {
            "tags": null
          },
          "name": "stdout",
          "output_type": "stream",
          "text": [
            "generate_samples: generated 423 samples in 5.763944625854492s\n",
            "Instrument: 879\n"
          ]
        },
        {
          "data": {
            "text/html": [
              "<div id=\"id_880\"> </div>"
            ],
            "text/plain": [
              "<IPython.core.display.HTML object>"
            ]
          },
          "metadata": {},
          "output_type": "display_data"
        },
        {
          "metadata": {
            "tags": null
          },
          "name": "stdout",
          "output_type": "stream",
          "text": [
            "generate_samples: generated 423 samples in 5.770181179046631s\n",
            "Instrument: 880\n"
          ]
        },
        {
          "data": {
            "text/html": [
              "<div id=\"id_881\"> </div>"
            ],
            "text/plain": [
              "<IPython.core.display.HTML object>"
            ]
          },
          "metadata": {},
          "output_type": "display_data"
        },
        {
          "metadata": {
            "tags": null
          },
          "name": "stdout",
          "output_type": "stream",
          "text": [
            "generate_samples: generated 423 samples in 5.7783613204956055s\n",
            "Instrument: 881\n"
          ]
        },
        {
          "data": {
            "text/html": [
              "<div id=\"id_882\"> </div>"
            ],
            "text/plain": [
              "<IPython.core.display.HTML object>"
            ]
          },
          "metadata": {},
          "output_type": "display_data"
        },
        {
          "metadata": {
            "tags": null
          },
          "name": "stdout",
          "output_type": "stream",
          "text": [
            "generate_samples: generated 423 samples in 5.759362459182739s\n",
            "Instrument: 882\n"
          ]
        },
        {
          "data": {
            "text/html": [
              "<div id=\"id_883\"> </div>"
            ],
            "text/plain": [
              "<IPython.core.display.HTML object>"
            ]
          },
          "metadata": {},
          "output_type": "display_data"
        },
        {
          "metadata": {
            "tags": null
          },
          "name": "stdout",
          "output_type": "stream",
          "text": [
            "generate_samples: generated 423 samples in 5.7649548053741455s\n",
            "Instrument: 883\n"
          ]
        },
        {
          "data": {
            "text/html": [
              "<div id=\"id_884\"> </div>"
            ],
            "text/plain": [
              "<IPython.core.display.HTML object>"
            ]
          },
          "metadata": {},
          "output_type": "display_data"
        },
        {
          "metadata": {
            "tags": null
          },
          "name": "stdout",
          "output_type": "stream",
          "text": [
            "generate_samples: generated 423 samples in 5.75039529800415s\n",
            "Instrument: 884\n"
          ]
        },
        {
          "data": {
            "text/html": [
              "<div id=\"id_885\"> </div>"
            ],
            "text/plain": [
              "<IPython.core.display.HTML object>"
            ]
          },
          "metadata": {},
          "output_type": "display_data"
        },
        {
          "metadata": {
            "tags": null
          },
          "name": "stdout",
          "output_type": "stream",
          "text": [
            "generate_samples: generated 423 samples in 5.775722503662109s\n",
            "Instrument: 885\n"
          ]
        },
        {
          "data": {
            "text/html": [
              "<div id=\"id_886\"> </div>"
            ],
            "text/plain": [
              "<IPython.core.display.HTML object>"
            ]
          },
          "metadata": {},
          "output_type": "display_data"
        },
        {
          "metadata": {
            "tags": null
          },
          "name": "stdout",
          "output_type": "stream",
          "text": [
            "generate_samples: generated 423 samples in 5.778481483459473s\n",
            "Instrument: 886\n"
          ]
        },
        {
          "data": {
            "text/html": [
              "<div id=\"id_887\"> </div>"
            ],
            "text/plain": [
              "<IPython.core.display.HTML object>"
            ]
          },
          "metadata": {},
          "output_type": "display_data"
        },
        {
          "metadata": {
            "tags": null
          },
          "name": "stdout",
          "output_type": "stream",
          "text": [
            "generate_samples: generated 423 samples in 5.79969596862793s\n",
            "Instrument: 887\n"
          ]
        },
        {
          "data": {
            "text/html": [
              "<div id=\"id_888\"> </div>"
            ],
            "text/plain": [
              "<IPython.core.display.HTML object>"
            ]
          },
          "metadata": {},
          "output_type": "display_data"
        },
        {
          "metadata": {
            "tags": null
          },
          "name": "stdout",
          "output_type": "stream",
          "text": [
            "generate_samples: generated 423 samples in 5.789228439331055s\n",
            "Instrument: 888\n"
          ]
        },
        {
          "data": {
            "text/html": [
              "<div id=\"id_889\"> </div>"
            ],
            "text/plain": [
              "<IPython.core.display.HTML object>"
            ]
          },
          "metadata": {},
          "output_type": "display_data"
        },
        {
          "metadata": {
            "tags": null
          },
          "name": "stdout",
          "output_type": "stream",
          "text": [
            "generate_samples: generated 423 samples in 5.784935235977173s\n",
            "Instrument: 889\n"
          ]
        },
        {
          "data": {
            "text/html": [
              "<div id=\"id_890\"> </div>"
            ],
            "text/plain": [
              "<IPython.core.display.HTML object>"
            ]
          },
          "metadata": {},
          "output_type": "display_data"
        },
        {
          "metadata": {
            "tags": null
          },
          "name": "stdout",
          "output_type": "stream",
          "text": [
            "generate_samples: generated 423 samples in 5.792646169662476s\n",
            "Instrument: 890\n"
          ]
        },
        {
          "data": {
            "text/html": [
              "<div id=\"id_891\"> </div>"
            ],
            "text/plain": [
              "<IPython.core.display.HTML object>"
            ]
          },
          "metadata": {},
          "output_type": "display_data"
        },
        {
          "metadata": {
            "tags": null
          },
          "name": "stdout",
          "output_type": "stream",
          "text": [
            "generate_samples: generated 423 samples in 5.764625072479248s\n",
            "Instrument: 891\n"
          ]
        },
        {
          "data": {
            "text/html": [
              "<div id=\"id_892\"> </div>"
            ],
            "text/plain": [
              "<IPython.core.display.HTML object>"
            ]
          },
          "metadata": {},
          "output_type": "display_data"
        },
        {
          "metadata": {
            "tags": null
          },
          "name": "stdout",
          "output_type": "stream",
          "text": [
            "generate_samples: generated 423 samples in 5.784426689147949s\n",
            "Instrument: 892\n"
          ]
        },
        {
          "data": {
            "text/html": [
              "<div id=\"id_893\"> </div>"
            ],
            "text/plain": [
              "<IPython.core.display.HTML object>"
            ]
          },
          "metadata": {},
          "output_type": "display_data"
        },
        {
          "metadata": {
            "tags": null
          },
          "name": "stdout",
          "output_type": "stream",
          "text": [
            "generate_samples: generated 423 samples in 5.766355037689209s\n",
            "Instrument: 893\n"
          ]
        },
        {
          "data": {
            "text/html": [
              "<div id=\"id_894\"> </div>"
            ],
            "text/plain": [
              "<IPython.core.display.HTML object>"
            ]
          },
          "metadata": {},
          "output_type": "display_data"
        },
        {
          "metadata": {
            "tags": null
          },
          "name": "stdout",
          "output_type": "stream",
          "text": [
            "generate_samples: generated 423 samples in 5.769056797027588s\n",
            "Instrument: 894\n"
          ]
        },
        {
          "data": {
            "text/html": [
              "<div id=\"id_895\"> </div>"
            ],
            "text/plain": [
              "<IPython.core.display.HTML object>"
            ]
          },
          "metadata": {},
          "output_type": "display_data"
        },
        {
          "metadata": {
            "tags": null
          },
          "name": "stdout",
          "output_type": "stream",
          "text": [
            "generate_samples: generated 423 samples in 5.769414901733398s\n",
            "Instrument: 895\n"
          ]
        },
        {
          "data": {
            "text/html": [
              "<div id=\"id_896\"> </div>"
            ],
            "text/plain": [
              "<IPython.core.display.HTML object>"
            ]
          },
          "metadata": {},
          "output_type": "display_data"
        },
        {
          "metadata": {
            "tags": null
          },
          "name": "stdout",
          "output_type": "stream",
          "text": [
            "generate_samples: generated 423 samples in 5.777622938156128s\n",
            "Instrument: 896\n"
          ]
        },
        {
          "data": {
            "text/html": [
              "<div id=\"id_897\"> </div>"
            ],
            "text/plain": [
              "<IPython.core.display.HTML object>"
            ]
          },
          "metadata": {},
          "output_type": "display_data"
        },
        {
          "metadata": {
            "tags": null
          },
          "name": "stdout",
          "output_type": "stream",
          "text": [
            "generate_samples: generated 423 samples in 5.791079044342041s\n",
            "Instrument: 897\n"
          ]
        },
        {
          "data": {
            "text/html": [
              "<div id=\"id_898\"> </div>"
            ],
            "text/plain": [
              "<IPython.core.display.HTML object>"
            ]
          },
          "metadata": {},
          "output_type": "display_data"
        },
        {
          "metadata": {
            "tags": null
          },
          "name": "stdout",
          "output_type": "stream",
          "text": [
            "generate_samples: generated 423 samples in 5.763765096664429s\n",
            "Instrument: 898\n"
          ]
        },
        {
          "data": {
            "text/html": [
              "<div id=\"id_899\"> </div>"
            ],
            "text/plain": [
              "<IPython.core.display.HTML object>"
            ]
          },
          "metadata": {},
          "output_type": "display_data"
        },
        {
          "metadata": {
            "tags": null
          },
          "name": "stdout",
          "output_type": "stream",
          "text": [
            "generate_samples: generated 423 samples in 5.781928300857544s\n",
            "Instrument: 899\n"
          ]
        },
        {
          "data": {
            "text/html": [
              "<div id=\"id_900\"> </div>"
            ],
            "text/plain": [
              "<IPython.core.display.HTML object>"
            ]
          },
          "metadata": {},
          "output_type": "display_data"
        },
        {
          "metadata": {
            "tags": null
          },
          "name": "stdout",
          "output_type": "stream",
          "text": [
            "generate_samples: generated 423 samples in 5.771597862243652s\n",
            "Instrument: 900\n"
          ]
        },
        {
          "data": {
            "text/html": [
              "<div id=\"id_901\"> </div>"
            ],
            "text/plain": [
              "<IPython.core.display.HTML object>"
            ]
          },
          "metadata": {},
          "output_type": "display_data"
        },
        {
          "metadata": {
            "tags": null
          },
          "name": "stdout",
          "output_type": "stream",
          "text": [
            "generate_samples: generated 423 samples in 5.750262975692749s\n",
            "Instrument: 901\n"
          ]
        },
        {
          "data": {
            "text/html": [
              "<div id=\"id_902\"> </div>"
            ],
            "text/plain": [
              "<IPython.core.display.HTML object>"
            ]
          },
          "metadata": {},
          "output_type": "display_data"
        },
        {
          "metadata": {
            "tags": null
          },
          "name": "stdout",
          "output_type": "stream",
          "text": [
            "generate_samples: generated 423 samples in 5.779818773269653s\n",
            "Instrument: 902\n"
          ]
        },
        {
          "data": {
            "text/html": [
              "<div id=\"id_903\"> </div>"
            ],
            "text/plain": [
              "<IPython.core.display.HTML object>"
            ]
          },
          "metadata": {},
          "output_type": "display_data"
        },
        {
          "metadata": {
            "tags": null
          },
          "name": "stdout",
          "output_type": "stream",
          "text": [
            "generate_samples: generated 423 samples in 5.878641605377197s\n",
            "Instrument: 903\n"
          ]
        },
        {
          "data": {
            "text/html": [
              "<div id=\"id_904\"> </div>"
            ],
            "text/plain": [
              "<IPython.core.display.HTML object>"
            ]
          },
          "metadata": {},
          "output_type": "display_data"
        },
        {
          "metadata": {
            "tags": null
          },
          "name": "stdout",
          "output_type": "stream",
          "text": [
            "generate_samples: generated 423 samples in 5.779590129852295s\n",
            "Instrument: 904\n"
          ]
        },
        {
          "data": {
            "text/html": [
              "<div id=\"id_905\"> </div>"
            ],
            "text/plain": [
              "<IPython.core.display.HTML object>"
            ]
          },
          "metadata": {},
          "output_type": "display_data"
        },
        {
          "metadata": {
            "tags": null
          },
          "name": "stdout",
          "output_type": "stream",
          "text": [
            "generate_samples: generated 423 samples in 5.7882280349731445s\n",
            "Instrument: 905\n"
          ]
        },
        {
          "data": {
            "text/html": [
              "<div id=\"id_906\"> </div>"
            ],
            "text/plain": [
              "<IPython.core.display.HTML object>"
            ]
          },
          "metadata": {},
          "output_type": "display_data"
        },
        {
          "metadata": {
            "tags": null
          },
          "name": "stdout",
          "output_type": "stream",
          "text": [
            "generate_samples: generated 423 samples in 5.784420728683472s\n",
            "Instrument: 906\n"
          ]
        },
        {
          "data": {
            "text/html": [
              "<div id=\"id_907\"> </div>"
            ],
            "text/plain": [
              "<IPython.core.display.HTML object>"
            ]
          },
          "metadata": {},
          "output_type": "display_data"
        },
        {
          "metadata": {
            "tags": null
          },
          "name": "stdout",
          "output_type": "stream",
          "text": [
            "generate_samples: generated 423 samples in 5.769423723220825s\n",
            "Instrument: 907\n"
          ]
        },
        {
          "data": {
            "text/html": [
              "<div id=\"id_908\"> </div>"
            ],
            "text/plain": [
              "<IPython.core.display.HTML object>"
            ]
          },
          "metadata": {},
          "output_type": "display_data"
        },
        {
          "metadata": {
            "tags": null
          },
          "name": "stdout",
          "output_type": "stream",
          "text": [
            "generate_samples: generated 423 samples in 5.787679195404053s\n",
            "Instrument: 908\n"
          ]
        },
        {
          "data": {
            "text/html": [
              "<div id=\"id_909\"> </div>"
            ],
            "text/plain": [
              "<IPython.core.display.HTML object>"
            ]
          },
          "metadata": {},
          "output_type": "display_data"
        },
        {
          "metadata": {
            "tags": null
          },
          "name": "stdout",
          "output_type": "stream",
          "text": [
            "generate_samples: generated 423 samples in 5.778876781463623s\n",
            "Instrument: 909\n"
          ]
        },
        {
          "data": {
            "text/html": [
              "<div id=\"id_910\"> </div>"
            ],
            "text/plain": [
              "<IPython.core.display.HTML object>"
            ]
          },
          "metadata": {},
          "output_type": "display_data"
        },
        {
          "metadata": {
            "tags": null
          },
          "name": "stdout",
          "output_type": "stream",
          "text": [
            "generate_samples: generated 423 samples in 5.779536485671997s\n",
            "Instrument: 910\n"
          ]
        },
        {
          "data": {
            "text/html": [
              "<div id=\"id_911\"> </div>"
            ],
            "text/plain": [
              "<IPython.core.display.HTML object>"
            ]
          },
          "metadata": {},
          "output_type": "display_data"
        },
        {
          "metadata": {
            "tags": null
          },
          "name": "stdout",
          "output_type": "stream",
          "text": [
            "generate_samples: generated 423 samples in 5.765207052230835s\n",
            "Instrument: 911\n"
          ]
        },
        {
          "data": {
            "text/html": [
              "<div id=\"id_912\"> </div>"
            ],
            "text/plain": [
              "<IPython.core.display.HTML object>"
            ]
          },
          "metadata": {},
          "output_type": "display_data"
        },
        {
          "metadata": {
            "tags": null
          },
          "name": "stdout",
          "output_type": "stream",
          "text": [
            "generate_samples: generated 423 samples in 5.7652997970581055s\n",
            "Instrument: 912\n"
          ]
        },
        {
          "data": {
            "text/html": [
              "<div id=\"id_913\"> </div>"
            ],
            "text/plain": [
              "<IPython.core.display.HTML object>"
            ]
          },
          "metadata": {},
          "output_type": "display_data"
        },
        {
          "metadata": {
            "tags": null
          },
          "name": "stdout",
          "output_type": "stream",
          "text": [
            "generate_samples: generated 423 samples in 5.777158975601196s\n",
            "Instrument: 913\n"
          ]
        },
        {
          "data": {
            "text/html": [
              "<div id=\"id_914\"> </div>"
            ],
            "text/plain": [
              "<IPython.core.display.HTML object>"
            ]
          },
          "metadata": {},
          "output_type": "display_data"
        },
        {
          "metadata": {
            "tags": null
          },
          "name": "stdout",
          "output_type": "stream",
          "text": [
            "generate_samples: generated 423 samples in 5.770318031311035s\n",
            "Instrument: 914\n"
          ]
        },
        {
          "data": {
            "text/html": [
              "<div id=\"id_915\"> </div>"
            ],
            "text/plain": [
              "<IPython.core.display.HTML object>"
            ]
          },
          "metadata": {},
          "output_type": "display_data"
        },
        {
          "metadata": {
            "tags": null
          },
          "name": "stdout",
          "output_type": "stream",
          "text": [
            "generate_samples: generated 423 samples in 5.773338556289673s\n",
            "Instrument: 915\n"
          ]
        },
        {
          "data": {
            "text/html": [
              "<div id=\"id_916\"> </div>"
            ],
            "text/plain": [
              "<IPython.core.display.HTML object>"
            ]
          },
          "metadata": {},
          "output_type": "display_data"
        },
        {
          "metadata": {
            "tags": null
          },
          "name": "stdout",
          "output_type": "stream",
          "text": [
            "generate_samples: generated 423 samples in 5.782125234603882s\n",
            "Instrument: 916\n"
          ]
        },
        {
          "data": {
            "text/html": [
              "<div id=\"id_917\"> </div>"
            ],
            "text/plain": [
              "<IPython.core.display.HTML object>"
            ]
          },
          "metadata": {},
          "output_type": "display_data"
        },
        {
          "metadata": {
            "tags": null
          },
          "name": "stdout",
          "output_type": "stream",
          "text": [
            "generate_samples: generated 423 samples in 5.7635650634765625s\n",
            "Instrument: 917\n"
          ]
        },
        {
          "data": {
            "text/html": [
              "<div id=\"id_918\"> </div>"
            ],
            "text/plain": [
              "<IPython.core.display.HTML object>"
            ]
          },
          "metadata": {},
          "output_type": "display_data"
        },
        {
          "metadata": {
            "tags": null
          },
          "name": "stdout",
          "output_type": "stream",
          "text": [
            "generate_samples: generated 423 samples in 5.795112609863281s\n",
            "Instrument: 918\n"
          ]
        },
        {
          "data": {
            "text/html": [
              "<div id=\"id_919\"> </div>"
            ],
            "text/plain": [
              "<IPython.core.display.HTML object>"
            ]
          },
          "metadata": {},
          "output_type": "display_data"
        },
        {
          "metadata": {
            "tags": null
          },
          "name": "stdout",
          "output_type": "stream",
          "text": [
            "generate_samples: generated 423 samples in 5.802272319793701s\n",
            "Instrument: 919\n"
          ]
        },
        {
          "data": {
            "text/html": [
              "<div id=\"id_920\"> </div>"
            ],
            "text/plain": [
              "<IPython.core.display.HTML object>"
            ]
          },
          "metadata": {},
          "output_type": "display_data"
        },
        {
          "metadata": {
            "tags": null
          },
          "name": "stdout",
          "output_type": "stream",
          "text": [
            "generate_samples: generated 423 samples in 5.778048753738403s\n",
            "Instrument: 920\n"
          ]
        },
        {
          "data": {
            "text/html": [
              "<div id=\"id_921\"> </div>"
            ],
            "text/plain": [
              "<IPython.core.display.HTML object>"
            ]
          },
          "metadata": {},
          "output_type": "display_data"
        },
        {
          "metadata": {
            "tags": null
          },
          "name": "stdout",
          "output_type": "stream",
          "text": [
            "generate_samples: generated 423 samples in 5.778836727142334s\n",
            "Instrument: 921\n"
          ]
        },
        {
          "data": {
            "text/html": [
              "<div id=\"id_922\"> </div>"
            ],
            "text/plain": [
              "<IPython.core.display.HTML object>"
            ]
          },
          "metadata": {},
          "output_type": "display_data"
        },
        {
          "metadata": {
            "tags": null
          },
          "name": "stdout",
          "output_type": "stream",
          "text": [
            "generate_samples: generated 423 samples in 5.772173166275024s\n",
            "Instrument: 922\n"
          ]
        },
        {
          "data": {
            "text/html": [
              "<div id=\"id_923\"> </div>"
            ],
            "text/plain": [
              "<IPython.core.display.HTML object>"
            ]
          },
          "metadata": {},
          "output_type": "display_data"
        },
        {
          "metadata": {
            "tags": null
          },
          "name": "stdout",
          "output_type": "stream",
          "text": [
            "generate_samples: generated 423 samples in 5.77768611907959s\n",
            "Instrument: 923\n"
          ]
        },
        {
          "data": {
            "text/html": [
              "<div id=\"id_924\"> </div>"
            ],
            "text/plain": [
              "<IPython.core.display.HTML object>"
            ]
          },
          "metadata": {},
          "output_type": "display_data"
        },
        {
          "metadata": {
            "tags": null
          },
          "name": "stdout",
          "output_type": "stream",
          "text": [
            "generate_samples: generated 423 samples in 5.794456720352173s\n",
            "Instrument: 924\n"
          ]
        },
        {
          "data": {
            "text/html": [
              "<div id=\"id_925\"> </div>"
            ],
            "text/plain": [
              "<IPython.core.display.HTML object>"
            ]
          },
          "metadata": {},
          "output_type": "display_data"
        },
        {
          "metadata": {
            "tags": null
          },
          "name": "stdout",
          "output_type": "stream",
          "text": [
            "generate_samples: generated 423 samples in 5.851799726486206s\n",
            "Instrument: 925\n"
          ]
        },
        {
          "data": {
            "text/html": [
              "<div id=\"id_926\"> </div>"
            ],
            "text/plain": [
              "<IPython.core.display.HTML object>"
            ]
          },
          "metadata": {},
          "output_type": "display_data"
        },
        {
          "metadata": {
            "tags": null
          },
          "name": "stdout",
          "output_type": "stream",
          "text": [
            "generate_samples: generated 423 samples in 5.7804601192474365s\n",
            "Instrument: 926\n"
          ]
        },
        {
          "data": {
            "text/html": [
              "<div id=\"id_927\"> </div>"
            ],
            "text/plain": [
              "<IPython.core.display.HTML object>"
            ]
          },
          "metadata": {},
          "output_type": "display_data"
        },
        {
          "metadata": {
            "tags": null
          },
          "name": "stdout",
          "output_type": "stream",
          "text": [
            "generate_samples: generated 423 samples in 5.776386976242065s\n",
            "Instrument: 927\n"
          ]
        },
        {
          "data": {
            "text/html": [
              "<div id=\"id_928\"> </div>"
            ],
            "text/plain": [
              "<IPython.core.display.HTML object>"
            ]
          },
          "metadata": {},
          "output_type": "display_data"
        },
        {
          "metadata": {
            "tags": null
          },
          "name": "stdout",
          "output_type": "stream",
          "text": [
            "generate_samples: generated 423 samples in 5.760390996932983s\n",
            "Instrument: 928\n"
          ]
        },
        {
          "data": {
            "text/html": [
              "<div id=\"id_929\"> </div>"
            ],
            "text/plain": [
              "<IPython.core.display.HTML object>"
            ]
          },
          "metadata": {},
          "output_type": "display_data"
        },
        {
          "metadata": {
            "tags": null
          },
          "name": "stdout",
          "output_type": "stream",
          "text": [
            "generate_samples: generated 423 samples in 5.773715496063232s\n",
            "Instrument: 929\n"
          ]
        },
        {
          "data": {
            "text/html": [
              "<div id=\"id_930\"> </div>"
            ],
            "text/plain": [
              "<IPython.core.display.HTML object>"
            ]
          },
          "metadata": {},
          "output_type": "display_data"
        },
        {
          "metadata": {
            "tags": null
          },
          "name": "stdout",
          "output_type": "stream",
          "text": [
            "generate_samples: generated 423 samples in 5.778097867965698s\n",
            "Instrument: 930\n"
          ]
        },
        {
          "data": {
            "text/html": [
              "<div id=\"id_931\"> </div>"
            ],
            "text/plain": [
              "<IPython.core.display.HTML object>"
            ]
          },
          "metadata": {},
          "output_type": "display_data"
        },
        {
          "metadata": {
            "tags": null
          },
          "name": "stdout",
          "output_type": "stream",
          "text": [
            "generate_samples: generated 423 samples in 5.773406267166138s\n",
            "Instrument: 931\n"
          ]
        },
        {
          "data": {
            "text/html": [
              "<div id=\"id_932\"> </div>"
            ],
            "text/plain": [
              "<IPython.core.display.HTML object>"
            ]
          },
          "metadata": {},
          "output_type": "display_data"
        },
        {
          "metadata": {
            "tags": null
          },
          "name": "stdout",
          "output_type": "stream",
          "text": [
            "generate_samples: generated 423 samples in 5.775528430938721s\n",
            "Instrument: 932\n"
          ]
        },
        {
          "data": {
            "text/html": [
              "<div id=\"id_933\"> </div>"
            ],
            "text/plain": [
              "<IPython.core.display.HTML object>"
            ]
          },
          "metadata": {},
          "output_type": "display_data"
        },
        {
          "metadata": {
            "tags": null
          },
          "name": "stdout",
          "output_type": "stream",
          "text": [
            "generate_samples: generated 423 samples in 5.786517858505249s\n",
            "Instrument: 933\n"
          ]
        },
        {
          "data": {
            "text/html": [
              "<div id=\"id_934\"> </div>"
            ],
            "text/plain": [
              "<IPython.core.display.HTML object>"
            ]
          },
          "metadata": {},
          "output_type": "display_data"
        },
        {
          "metadata": {
            "tags": null
          },
          "name": "stdout",
          "output_type": "stream",
          "text": [
            "generate_samples: generated 423 samples in 5.757943391799927s\n",
            "Instrument: 934\n"
          ]
        },
        {
          "data": {
            "text/html": [
              "<div id=\"id_935\"> </div>"
            ],
            "text/plain": [
              "<IPython.core.display.HTML object>"
            ]
          },
          "metadata": {},
          "output_type": "display_data"
        },
        {
          "metadata": {
            "tags": null
          },
          "name": "stdout",
          "output_type": "stream",
          "text": [
            "generate_samples: generated 423 samples in 5.78289008140564s\n",
            "Instrument: 935\n"
          ]
        },
        {
          "data": {
            "text/html": [
              "<div id=\"id_936\"> </div>"
            ],
            "text/plain": [
              "<IPython.core.display.HTML object>"
            ]
          },
          "metadata": {},
          "output_type": "display_data"
        },
        {
          "metadata": {
            "tags": null
          },
          "name": "stdout",
          "output_type": "stream",
          "text": [
            "generate_samples: generated 423 samples in 5.771610736846924s\n",
            "Instrument: 936\n"
          ]
        },
        {
          "data": {
            "text/html": [
              "<div id=\"id_937\"> </div>"
            ],
            "text/plain": [
              "<IPython.core.display.HTML object>"
            ]
          },
          "metadata": {},
          "output_type": "display_data"
        },
        {
          "metadata": {
            "tags": null
          },
          "name": "stdout",
          "output_type": "stream",
          "text": [
            "generate_samples: generated 423 samples in 5.782408714294434s\n",
            "Instrument: 937\n"
          ]
        },
        {
          "data": {
            "text/html": [
              "<div id=\"id_938\"> </div>"
            ],
            "text/plain": [
              "<IPython.core.display.HTML object>"
            ]
          },
          "metadata": {},
          "output_type": "display_data"
        },
        {
          "metadata": {
            "tags": null
          },
          "name": "stdout",
          "output_type": "stream",
          "text": [
            "generate_samples: generated 423 samples in 5.779656171798706s\n",
            "Instrument: 938\n"
          ]
        },
        {
          "data": {
            "text/html": [
              "<div id=\"id_939\"> </div>"
            ],
            "text/plain": [
              "<IPython.core.display.HTML object>"
            ]
          },
          "metadata": {},
          "output_type": "display_data"
        },
        {
          "metadata": {
            "tags": null
          },
          "name": "stdout",
          "output_type": "stream",
          "text": [
            "generate_samples: generated 423 samples in 5.782964706420898s\n",
            "Instrument: 939\n"
          ]
        },
        {
          "data": {
            "text/html": [
              "<div id=\"id_940\"> </div>"
            ],
            "text/plain": [
              "<IPython.core.display.HTML object>"
            ]
          },
          "metadata": {},
          "output_type": "display_data"
        },
        {
          "metadata": {
            "tags": null
          },
          "name": "stdout",
          "output_type": "stream",
          "text": [
            "generate_samples: generated 423 samples in 5.750808954238892s\n",
            "Instrument: 940\n"
          ]
        },
        {
          "data": {
            "text/html": [
              "<div id=\"id_941\"> </div>"
            ],
            "text/plain": [
              "<IPython.core.display.HTML object>"
            ]
          },
          "metadata": {},
          "output_type": "display_data"
        },
        {
          "metadata": {
            "tags": null
          },
          "name": "stdout",
          "output_type": "stream",
          "text": [
            "generate_samples: generated 423 samples in 5.7949748039245605s\n",
            "Instrument: 941\n"
          ]
        },
        {
          "data": {
            "text/html": [
              "<div id=\"id_942\"> </div>"
            ],
            "text/plain": [
              "<IPython.core.display.HTML object>"
            ]
          },
          "metadata": {},
          "output_type": "display_data"
        },
        {
          "metadata": {
            "tags": null
          },
          "name": "stdout",
          "output_type": "stream",
          "text": [
            "generate_samples: generated 423 samples in 5.790582180023193s\n",
            "Instrument: 942\n"
          ]
        },
        {
          "data": {
            "text/html": [
              "<div id=\"id_943\"> </div>"
            ],
            "text/plain": [
              "<IPython.core.display.HTML object>"
            ]
          },
          "metadata": {},
          "output_type": "display_data"
        },
        {
          "metadata": {
            "tags": null
          },
          "name": "stdout",
          "output_type": "stream",
          "text": [
            "generate_samples: generated 423 samples in 5.784931421279907s\n",
            "Instrument: 943\n"
          ]
        },
        {
          "data": {
            "text/html": [
              "<div id=\"id_944\"> </div>"
            ],
            "text/plain": [
              "<IPython.core.display.HTML object>"
            ]
          },
          "metadata": {},
          "output_type": "display_data"
        },
        {
          "metadata": {
            "tags": null
          },
          "name": "stdout",
          "output_type": "stream",
          "text": [
            "generate_samples: generated 423 samples in 5.793592929840088s\n",
            "Instrument: 944\n"
          ]
        },
        {
          "data": {
            "text/html": [
              "<div id=\"id_945\"> </div>"
            ],
            "text/plain": [
              "<IPython.core.display.HTML object>"
            ]
          },
          "metadata": {},
          "output_type": "display_data"
        },
        {
          "metadata": {
            "tags": null
          },
          "name": "stdout",
          "output_type": "stream",
          "text": [
            "generate_samples: generated 423 samples in 5.7754058837890625s\n",
            "Instrument: 945\n"
          ]
        },
        {
          "data": {
            "text/html": [
              "<div id=\"id_946\"> </div>"
            ],
            "text/plain": [
              "<IPython.core.display.HTML object>"
            ]
          },
          "metadata": {},
          "output_type": "display_data"
        },
        {
          "metadata": {
            "tags": null
          },
          "name": "stdout",
          "output_type": "stream",
          "text": [
            "generate_samples: generated 423 samples in 5.7655017375946045s\n",
            "Instrument: 946\n"
          ]
        },
        {
          "data": {
            "text/html": [
              "<div id=\"id_947\"> </div>"
            ],
            "text/plain": [
              "<IPython.core.display.HTML object>"
            ]
          },
          "metadata": {},
          "output_type": "display_data"
        },
        {
          "metadata": {
            "tags": null
          },
          "name": "stdout",
          "output_type": "stream",
          "text": [
            "generate_samples: generated 423 samples in 5.876689910888672s\n",
            "Instrument: 947\n"
          ]
        },
        {
          "data": {
            "text/html": [
              "<div id=\"id_948\"> </div>"
            ],
            "text/plain": [
              "<IPython.core.display.HTML object>"
            ]
          },
          "metadata": {},
          "output_type": "display_data"
        },
        {
          "metadata": {
            "tags": null
          },
          "name": "stdout",
          "output_type": "stream",
          "text": [
            "generate_samples: generated 423 samples in 5.806189775466919s\n",
            "Instrument: 948\n"
          ]
        },
        {
          "data": {
            "text/html": [
              "<div id=\"id_949\"> </div>"
            ],
            "text/plain": [
              "<IPython.core.display.HTML object>"
            ]
          },
          "metadata": {},
          "output_type": "display_data"
        },
        {
          "metadata": {
            "tags": null
          },
          "name": "stdout",
          "output_type": "stream",
          "text": [
            "generate_samples: generated 423 samples in 5.7957000732421875s\n",
            "Instrument: 949\n"
          ]
        },
        {
          "data": {
            "text/html": [
              "<div id=\"id_950\"> </div>"
            ],
            "text/plain": [
              "<IPython.core.display.HTML object>"
            ]
          },
          "metadata": {},
          "output_type": "display_data"
        },
        {
          "metadata": {
            "tags": null
          },
          "name": "stdout",
          "output_type": "stream",
          "text": [
            "generate_samples: generated 423 samples in 5.82176661491394s\n",
            "Instrument: 950\n"
          ]
        },
        {
          "data": {
            "text/html": [
              "<div id=\"id_951\"> </div>"
            ],
            "text/plain": [
              "<IPython.core.display.HTML object>"
            ]
          },
          "metadata": {},
          "output_type": "display_data"
        },
        {
          "metadata": {
            "tags": null
          },
          "name": "stdout",
          "output_type": "stream",
          "text": [
            "generate_samples: generated 423 samples in 5.7877538204193115s\n",
            "Instrument: 951\n"
          ]
        },
        {
          "data": {
            "text/html": [
              "<div id=\"id_952\"> </div>"
            ],
            "text/plain": [
              "<IPython.core.display.HTML object>"
            ]
          },
          "metadata": {},
          "output_type": "display_data"
        },
        {
          "metadata": {
            "tags": null
          },
          "name": "stdout",
          "output_type": "stream",
          "text": [
            "generate_samples: generated 423 samples in 5.778785705566406s\n",
            "Instrument: 952\n"
          ]
        },
        {
          "data": {
            "text/html": [
              "<div id=\"id_953\"> </div>"
            ],
            "text/plain": [
              "<IPython.core.display.HTML object>"
            ]
          },
          "metadata": {},
          "output_type": "display_data"
        },
        {
          "metadata": {
            "tags": null
          },
          "name": "stdout",
          "output_type": "stream",
          "text": [
            "generate_samples: generated 423 samples in 5.776276588439941s\n",
            "Instrument: 953\n"
          ]
        },
        {
          "data": {
            "text/html": [
              "<div id=\"id_954\"> </div>"
            ],
            "text/plain": [
              "<IPython.core.display.HTML object>"
            ]
          },
          "metadata": {},
          "output_type": "display_data"
        },
        {
          "metadata": {
            "tags": null
          },
          "name": "stdout",
          "output_type": "stream",
          "text": [
            "generate_samples: generated 423 samples in 5.784390687942505s\n",
            "Instrument: 954\n"
          ]
        },
        {
          "data": {
            "text/html": [
              "<div id=\"id_955\"> </div>"
            ],
            "text/plain": [
              "<IPython.core.display.HTML object>"
            ]
          },
          "metadata": {},
          "output_type": "display_data"
        },
        {
          "metadata": {
            "tags": null
          },
          "name": "stdout",
          "output_type": "stream",
          "text": [
            "generate_samples: generated 423 samples in 5.789057493209839s\n",
            "Instrument: 955\n"
          ]
        },
        {
          "data": {
            "text/html": [
              "<div id=\"id_956\"> </div>"
            ],
            "text/plain": [
              "<IPython.core.display.HTML object>"
            ]
          },
          "metadata": {},
          "output_type": "display_data"
        },
        {
          "metadata": {
            "tags": null
          },
          "name": "stdout",
          "output_type": "stream",
          "text": [
            "generate_samples: generated 423 samples in 5.784233331680298s\n",
            "Instrument: 956\n"
          ]
        },
        {
          "data": {
            "text/html": [
              "<div id=\"id_957\"> </div>"
            ],
            "text/plain": [
              "<IPython.core.display.HTML object>"
            ]
          },
          "metadata": {},
          "output_type": "display_data"
        },
        {
          "metadata": {
            "tags": null
          },
          "name": "stdout",
          "output_type": "stream",
          "text": [
            "generate_samples: generated 423 samples in 5.8164379596710205s\n",
            "Instrument: 957\n"
          ]
        },
        {
          "data": {
            "text/html": [
              "<div id=\"id_958\"> </div>"
            ],
            "text/plain": [
              "<IPython.core.display.HTML object>"
            ]
          },
          "metadata": {},
          "output_type": "display_data"
        },
        {
          "metadata": {
            "tags": null
          },
          "name": "stdout",
          "output_type": "stream",
          "text": [
            "generate_samples: generated 423 samples in 5.787579536437988s\n",
            "Instrument: 958\n"
          ]
        },
        {
          "data": {
            "text/html": [
              "<div id=\"id_959\"> </div>"
            ],
            "text/plain": [
              "<IPython.core.display.HTML object>"
            ]
          },
          "metadata": {},
          "output_type": "display_data"
        },
        {
          "metadata": {
            "tags": null
          },
          "name": "stdout",
          "output_type": "stream",
          "text": [
            "generate_samples: generated 423 samples in 5.780507564544678s\n",
            "Instrument: 959\n"
          ]
        },
        {
          "data": {
            "text/html": [
              "<div id=\"id_960\"> </div>"
            ],
            "text/plain": [
              "<IPython.core.display.HTML object>"
            ]
          },
          "metadata": {},
          "output_type": "display_data"
        },
        {
          "metadata": {
            "tags": null
          },
          "name": "stdout",
          "output_type": "stream",
          "text": [
            "generate_samples: generated 423 samples in 5.796570777893066s\n",
            "Instrument: 960\n"
          ]
        },
        {
          "data": {
            "text/html": [
              "<div id=\"id_961\"> </div>"
            ],
            "text/plain": [
              "<IPython.core.display.HTML object>"
            ]
          },
          "metadata": {},
          "output_type": "display_data"
        },
        {
          "metadata": {
            "tags": null
          },
          "name": "stdout",
          "output_type": "stream",
          "text": [
            "generate_samples: generated 423 samples in 5.822633743286133s\n",
            "Instrument: 961\n"
          ]
        },
        {
          "data": {
            "text/html": [
              "<div id=\"id_962\"> </div>"
            ],
            "text/plain": [
              "<IPython.core.display.HTML object>"
            ]
          },
          "metadata": {},
          "output_type": "display_data"
        },
        {
          "metadata": {
            "tags": null
          },
          "name": "stdout",
          "output_type": "stream",
          "text": [
            "generate_samples: generated 423 samples in 5.792616844177246s\n",
            "Instrument: 962\n"
          ]
        },
        {
          "data": {
            "text/html": [
              "<div id=\"id_963\"> </div>"
            ],
            "text/plain": [
              "<IPython.core.display.HTML object>"
            ]
          },
          "metadata": {},
          "output_type": "display_data"
        },
        {
          "metadata": {
            "tags": null
          },
          "name": "stdout",
          "output_type": "stream",
          "text": [
            "generate_samples: generated 423 samples in 5.783681154251099s\n",
            "Instrument: 963\n"
          ]
        },
        {
          "data": {
            "text/html": [
              "<div id=\"id_964\"> </div>"
            ],
            "text/plain": [
              "<IPython.core.display.HTML object>"
            ]
          },
          "metadata": {},
          "output_type": "display_data"
        },
        {
          "metadata": {
            "tags": null
          },
          "name": "stdout",
          "output_type": "stream",
          "text": [
            "generate_samples: generated 423 samples in 5.791489839553833s\n",
            "Instrument: 964\n"
          ]
        },
        {
          "data": {
            "text/html": [
              "<div id=\"id_965\"> </div>"
            ],
            "text/plain": [
              "<IPython.core.display.HTML object>"
            ]
          },
          "metadata": {},
          "output_type": "display_data"
        },
        {
          "metadata": {
            "tags": null
          },
          "name": "stdout",
          "output_type": "stream",
          "text": [
            "generate_samples: generated 423 samples in 5.820929288864136s\n",
            "Instrument: 965\n"
          ]
        },
        {
          "data": {
            "text/html": [
              "<div id=\"id_966\"> </div>"
            ],
            "text/plain": [
              "<IPython.core.display.HTML object>"
            ]
          },
          "metadata": {},
          "output_type": "display_data"
        },
        {
          "metadata": {
            "tags": null
          },
          "name": "stdout",
          "output_type": "stream",
          "text": [
            "generate_samples: generated 423 samples in 5.7935638427734375s\n",
            "Instrument: 966\n"
          ]
        },
        {
          "data": {
            "text/html": [
              "<div id=\"id_967\"> </div>"
            ],
            "text/plain": [
              "<IPython.core.display.HTML object>"
            ]
          },
          "metadata": {},
          "output_type": "display_data"
        },
        {
          "metadata": {
            "tags": null
          },
          "name": "stdout",
          "output_type": "stream",
          "text": [
            "generate_samples: generated 423 samples in 5.801833391189575s\n",
            "Instrument: 967\n"
          ]
        },
        {
          "data": {
            "text/html": [
              "<div id=\"id_968\"> </div>"
            ],
            "text/plain": [
              "<IPython.core.display.HTML object>"
            ]
          },
          "metadata": {},
          "output_type": "display_data"
        },
        {
          "metadata": {
            "tags": null
          },
          "name": "stdout",
          "output_type": "stream",
          "text": [
            "generate_samples: generated 423 samples in 5.794377326965332s\n",
            "Instrument: 968\n"
          ]
        },
        {
          "data": {
            "text/html": [
              "<div id=\"id_969\"> </div>"
            ],
            "text/plain": [
              "<IPython.core.display.HTML object>"
            ]
          },
          "metadata": {},
          "output_type": "display_data"
        },
        {
          "metadata": {
            "tags": null
          },
          "name": "stdout",
          "output_type": "stream",
          "text": [
            "generate_samples: generated 423 samples in 5.784647703170776s\n",
            "Instrument: 969\n"
          ]
        },
        {
          "data": {
            "text/html": [
              "<div id=\"id_970\"> </div>"
            ],
            "text/plain": [
              "<IPython.core.display.HTML object>"
            ]
          },
          "metadata": {},
          "output_type": "display_data"
        },
        {
          "metadata": {
            "tags": null
          },
          "name": "stdout",
          "output_type": "stream",
          "text": [
            "generate_samples: generated 423 samples in 5.784699201583862s\n",
            "Instrument: 970\n"
          ]
        },
        {
          "data": {
            "text/html": [
              "<div id=\"id_971\"> </div>"
            ],
            "text/plain": [
              "<IPython.core.display.HTML object>"
            ]
          },
          "metadata": {},
          "output_type": "display_data"
        },
        {
          "metadata": {
            "tags": null
          },
          "name": "stdout",
          "output_type": "stream",
          "text": [
            "generate_samples: generated 423 samples in 5.797098159790039s\n",
            "Instrument: 971\n"
          ]
        },
        {
          "data": {
            "text/html": [
              "<div id=\"id_972\"> </div>"
            ],
            "text/plain": [
              "<IPython.core.display.HTML object>"
            ]
          },
          "metadata": {},
          "output_type": "display_data"
        },
        {
          "metadata": {
            "tags": null
          },
          "name": "stdout",
          "output_type": "stream",
          "text": [
            "generate_samples: generated 423 samples in 5.791521787643433s\n",
            "Instrument: 972\n"
          ]
        },
        {
          "data": {
            "text/html": [
              "<div id=\"id_973\"> </div>"
            ],
            "text/plain": [
              "<IPython.core.display.HTML object>"
            ]
          },
          "metadata": {},
          "output_type": "display_data"
        },
        {
          "metadata": {
            "tags": null
          },
          "name": "stdout",
          "output_type": "stream",
          "text": [
            "generate_samples: generated 423 samples in 5.796684741973877s\n",
            "Instrument: 973\n"
          ]
        },
        {
          "data": {
            "text/html": [
              "<div id=\"id_974\"> </div>"
            ],
            "text/plain": [
              "<IPython.core.display.HTML object>"
            ]
          },
          "metadata": {},
          "output_type": "display_data"
        },
        {
          "metadata": {
            "tags": null
          },
          "name": "stdout",
          "output_type": "stream",
          "text": [
            "generate_samples: generated 423 samples in 5.776372194290161s\n",
            "Instrument: 974\n"
          ]
        },
        {
          "data": {
            "text/html": [
              "<div id=\"id_975\"> </div>"
            ],
            "text/plain": [
              "<IPython.core.display.HTML object>"
            ]
          },
          "metadata": {},
          "output_type": "display_data"
        },
        {
          "metadata": {
            "tags": null
          },
          "name": "stdout",
          "output_type": "stream",
          "text": [
            "generate_samples: generated 423 samples in 5.775598526000977s\n",
            "Instrument: 975\n"
          ]
        },
        {
          "data": {
            "text/html": [
              "<div id=\"id_976\"> </div>"
            ],
            "text/plain": [
              "<IPython.core.display.HTML object>"
            ]
          },
          "metadata": {},
          "output_type": "display_data"
        },
        {
          "metadata": {
            "tags": null
          },
          "name": "stdout",
          "output_type": "stream",
          "text": [
            "generate_samples: generated 423 samples in 5.79142427444458s\n",
            "Instrument: 976\n"
          ]
        },
        {
          "data": {
            "text/html": [
              "<div id=\"id_977\"> </div>"
            ],
            "text/plain": [
              "<IPython.core.display.HTML object>"
            ]
          },
          "metadata": {},
          "output_type": "display_data"
        },
        {
          "metadata": {
            "tags": null
          },
          "name": "stdout",
          "output_type": "stream",
          "text": [
            "generate_samples: generated 423 samples in 5.803151369094849s\n",
            "Instrument: 977\n"
          ]
        },
        {
          "data": {
            "text/html": [
              "<div id=\"id_978\"> </div>"
            ],
            "text/plain": [
              "<IPython.core.display.HTML object>"
            ]
          },
          "metadata": {},
          "output_type": "display_data"
        },
        {
          "metadata": {
            "tags": null
          },
          "name": "stdout",
          "output_type": "stream",
          "text": [
            "generate_samples: generated 423 samples in 5.793767929077148s\n",
            "Instrument: 978\n"
          ]
        },
        {
          "data": {
            "text/html": [
              "<div id=\"id_979\"> </div>"
            ],
            "text/plain": [
              "<IPython.core.display.HTML object>"
            ]
          },
          "metadata": {},
          "output_type": "display_data"
        },
        {
          "metadata": {
            "tags": null
          },
          "name": "stdout",
          "output_type": "stream",
          "text": [
            "generate_samples: generated 423 samples in 5.796384811401367s\n",
            "Instrument: 979\n"
          ]
        },
        {
          "data": {
            "text/html": [
              "<div id=\"id_980\"> </div>"
            ],
            "text/plain": [
              "<IPython.core.display.HTML object>"
            ]
          },
          "metadata": {},
          "output_type": "display_data"
        },
        {
          "metadata": {
            "tags": null
          },
          "name": "stdout",
          "output_type": "stream",
          "text": [
            "generate_samples: generated 423 samples in 5.765631675720215s\n",
            "Instrument: 980\n"
          ]
        },
        {
          "data": {
            "text/html": [
              "<div id=\"id_981\"> </div>"
            ],
            "text/plain": [
              "<IPython.core.display.HTML object>"
            ]
          },
          "metadata": {},
          "output_type": "display_data"
        },
        {
          "metadata": {
            "tags": null
          },
          "name": "stdout",
          "output_type": "stream",
          "text": [
            "generate_samples: generated 423 samples in 5.827294111251831s\n",
            "Instrument: 981\n"
          ]
        },
        {
          "data": {
            "text/html": [
              "<div id=\"id_982\"> </div>"
            ],
            "text/plain": [
              "<IPython.core.display.HTML object>"
            ]
          },
          "metadata": {},
          "output_type": "display_data"
        },
        {
          "metadata": {
            "tags": null
          },
          "name": "stdout",
          "output_type": "stream",
          "text": [
            "generate_samples: generated 423 samples in 5.766385078430176s\n",
            "Instrument: 982\n"
          ]
        },
        {
          "data": {
            "text/html": [
              "<div id=\"id_983\"> </div>"
            ],
            "text/plain": [
              "<IPython.core.display.HTML object>"
            ]
          },
          "metadata": {},
          "output_type": "display_data"
        },
        {
          "metadata": {
            "tags": null
          },
          "name": "stdout",
          "output_type": "stream",
          "text": [
            "generate_samples: generated 423 samples in 5.7612388134002686s\n",
            "Instrument: 983\n"
          ]
        },
        {
          "data": {
            "text/html": [
              "<div id=\"id_984\"> </div>"
            ],
            "text/plain": [
              "<IPython.core.display.HTML object>"
            ]
          },
          "metadata": {},
          "output_type": "display_data"
        },
        {
          "metadata": {
            "tags": null
          },
          "name": "stdout",
          "output_type": "stream",
          "text": [
            "generate_samples: generated 423 samples in 5.763613700866699s\n",
            "Instrument: 984\n"
          ]
        },
        {
          "data": {
            "text/html": [
              "<div id=\"id_985\"> </div>"
            ],
            "text/plain": [
              "<IPython.core.display.HTML object>"
            ]
          },
          "metadata": {},
          "output_type": "display_data"
        },
        {
          "metadata": {
            "tags": null
          },
          "name": "stdout",
          "output_type": "stream",
          "text": [
            "generate_samples: generated 423 samples in 5.75939679145813s\n",
            "Instrument: 985\n"
          ]
        },
        {
          "data": {
            "text/html": [
              "<div id=\"id_986\"> </div>"
            ],
            "text/plain": [
              "<IPython.core.display.HTML object>"
            ]
          },
          "metadata": {},
          "output_type": "display_data"
        },
        {
          "metadata": {
            "tags": null
          },
          "name": "stdout",
          "output_type": "stream",
          "text": [
            "generate_samples: generated 423 samples in 5.7728965282440186s\n",
            "Instrument: 986\n"
          ]
        },
        {
          "data": {
            "text/html": [
              "<div id=\"id_987\"> </div>"
            ],
            "text/plain": [
              "<IPython.core.display.HTML object>"
            ]
          },
          "metadata": {},
          "output_type": "display_data"
        },
        {
          "metadata": {
            "tags": null
          },
          "name": "stdout",
          "output_type": "stream",
          "text": [
            "generate_samples: generated 423 samples in 5.7767815589904785s\n",
            "Instrument: 987\n"
          ]
        },
        {
          "data": {
            "text/html": [
              "<div id=\"id_988\"> </div>"
            ],
            "text/plain": [
              "<IPython.core.display.HTML object>"
            ]
          },
          "metadata": {},
          "output_type": "display_data"
        },
        {
          "metadata": {
            "tags": null
          },
          "name": "stdout",
          "output_type": "stream",
          "text": [
            "generate_samples: generated 423 samples in 5.7814249992370605s\n",
            "Instrument: 988\n"
          ]
        },
        {
          "data": {
            "text/html": [
              "<div id=\"id_989\"> </div>"
            ],
            "text/plain": [
              "<IPython.core.display.HTML object>"
            ]
          },
          "metadata": {},
          "output_type": "display_data"
        },
        {
          "metadata": {
            "tags": null
          },
          "name": "stdout",
          "output_type": "stream",
          "text": [
            "generate_samples: generated 423 samples in 5.7662718296051025s\n",
            "Instrument: 989\n"
          ]
        },
        {
          "data": {
            "text/html": [
              "<div id=\"id_990\"> </div>"
            ],
            "text/plain": [
              "<IPython.core.display.HTML object>"
            ]
          },
          "metadata": {},
          "output_type": "display_data"
        },
        {
          "metadata": {
            "tags": null
          },
          "name": "stdout",
          "output_type": "stream",
          "text": [
            "generate_samples: generated 423 samples in 5.7777793407440186s\n",
            "Instrument: 990\n"
          ]
        },
        {
          "data": {
            "text/html": [
              "<div id=\"id_991\"> </div>"
            ],
            "text/plain": [
              "<IPython.core.display.HTML object>"
            ]
          },
          "metadata": {},
          "output_type": "display_data"
        },
        {
          "metadata": {
            "tags": null
          },
          "name": "stdout",
          "output_type": "stream",
          "text": [
            "generate_samples: generated 423 samples in 5.844167947769165s\n",
            "Instrument: 991\n"
          ]
        },
        {
          "data": {
            "text/html": [
              "<div id=\"id_992\"> </div>"
            ],
            "text/plain": [
              "<IPython.core.display.HTML object>"
            ]
          },
          "metadata": {},
          "output_type": "display_data"
        },
        {
          "metadata": {
            "tags": null
          },
          "name": "stdout",
          "output_type": "stream",
          "text": [
            "generate_samples: generated 423 samples in 5.783796548843384s\n",
            "Instrument: 992\n"
          ]
        },
        {
          "data": {
            "text/html": [
              "<div id=\"id_993\"> </div>"
            ],
            "text/plain": [
              "<IPython.core.display.HTML object>"
            ]
          },
          "metadata": {},
          "output_type": "display_data"
        },
        {
          "metadata": {
            "tags": null
          },
          "name": "stdout",
          "output_type": "stream",
          "text": [
            "generate_samples: generated 423 samples in 5.777163743972778s\n",
            "Instrument: 993\n"
          ]
        },
        {
          "data": {
            "text/html": [
              "<div id=\"id_994\"> </div>"
            ],
            "text/plain": [
              "<IPython.core.display.HTML object>"
            ]
          },
          "metadata": {},
          "output_type": "display_data"
        },
        {
          "metadata": {
            "tags": null
          },
          "name": "stdout",
          "output_type": "stream",
          "text": [
            "generate_samples: generated 423 samples in 5.802777528762817s\n",
            "Instrument: 994\n"
          ]
        },
        {
          "data": {
            "text/html": [
              "<div id=\"id_995\"> </div>"
            ],
            "text/plain": [
              "<IPython.core.display.HTML object>"
            ]
          },
          "metadata": {},
          "output_type": "display_data"
        },
        {
          "metadata": {
            "tags": null
          },
          "name": "stdout",
          "output_type": "stream",
          "text": [
            "generate_samples: generated 423 samples in 5.780653953552246s\n",
            "Instrument: 995\n"
          ]
        },
        {
          "data": {
            "text/html": [
              "<div id=\"id_996\"> </div>"
            ],
            "text/plain": [
              "<IPython.core.display.HTML object>"
            ]
          },
          "metadata": {},
          "output_type": "display_data"
        },
        {
          "metadata": {
            "tags": null
          },
          "name": "stdout",
          "output_type": "stream",
          "text": [
            "generate_samples: generated 423 samples in 5.775550365447998s\n",
            "Instrument: 996\n"
          ]
        },
        {
          "data": {
            "text/html": [
              "<div id=\"id_997\"> </div>"
            ],
            "text/plain": [
              "<IPython.core.display.HTML object>"
            ]
          },
          "metadata": {},
          "output_type": "display_data"
        },
        {
          "metadata": {
            "tags": null
          },
          "name": "stdout",
          "output_type": "stream",
          "text": [
            "generate_samples: generated 423 samples in 5.8008809089660645s\n",
            "Instrument: 997\n"
          ]
        },
        {
          "data": {
            "text/html": [
              "<div id=\"id_998\"> </div>"
            ],
            "text/plain": [
              "<IPython.core.display.HTML object>"
            ]
          },
          "metadata": {},
          "output_type": "display_data"
        },
        {
          "metadata": {
            "tags": null
          },
          "name": "stdout",
          "output_type": "stream",
          "text": [
            "generate_samples: generated 423 samples in 5.795107364654541s\n",
            "Instrument: 998\n"
          ]
        },
        {
          "data": {
            "text/html": [
              "<div id=\"id_999\"> </div>"
            ],
            "text/plain": [
              "<IPython.core.display.HTML object>"
            ]
          },
          "metadata": {},
          "output_type": "display_data"
        },
        {
          "metadata": {
            "tags": null
          },
          "name": "stdout",
          "output_type": "stream",
          "text": [
            "generate_samples: generated 423 samples in 5.797396183013916s\n",
            "Instrument: 999\n"
          ]
        },
        {
          "data": {
            "text/html": [
              "<div id=\"id_1000\"> </div>"
            ],
            "text/plain": [
              "<IPython.core.display.HTML object>"
            ]
          },
          "metadata": {},
          "output_type": "display_data"
        },
        {
          "metadata": {
            "tags": null
          },
          "name": "stdout",
          "output_type": "stream",
          "text": [
            "generate_samples: generated 423 samples in 5.8168535232543945s\n",
            "Instrument: 1000\n"
          ]
        },
        {
          "data": {
            "text/html": [
              "<div id=\"id_1001\"> </div>"
            ],
            "text/plain": [
              "<IPython.core.display.HTML object>"
            ]
          },
          "metadata": {},
          "output_type": "display_data"
        },
        {
          "metadata": {
            "tags": null
          },
          "name": "stdout",
          "output_type": "stream",
          "text": [
            "generate_samples: generated 423 samples in 5.804621458053589s\n",
            "Instrument: 1001\n"
          ]
        },
        {
          "data": {
            "text/html": [
              "<div id=\"id_1002\"> </div>"
            ],
            "text/plain": [
              "<IPython.core.display.HTML object>"
            ]
          },
          "metadata": {},
          "output_type": "display_data"
        },
        {
          "metadata": {
            "tags": null
          },
          "name": "stdout",
          "output_type": "stream",
          "text": [
            "generate_samples: generated 423 samples in 5.793473958969116s\n",
            "Instrument: 1002\n"
          ]
        },
        {
          "data": {
            "text/html": [
              "<div id=\"id_1003\"> </div>"
            ],
            "text/plain": [
              "<IPython.core.display.HTML object>"
            ]
          },
          "metadata": {},
          "output_type": "display_data"
        },
        {
          "metadata": {
            "tags": null
          },
          "name": "stdout",
          "output_type": "stream",
          "text": [
            "generate_samples: generated 423 samples in 5.805614948272705s\n",
            "Instrument: 1003\n"
          ]
        },
        {
          "data": {
            "text/html": [
              "<div id=\"id_1004\"> </div>"
            ],
            "text/plain": [
              "<IPython.core.display.HTML object>"
            ]
          },
          "metadata": {},
          "output_type": "display_data"
        },
        {
          "metadata": {
            "tags": null
          },
          "name": "stdout",
          "output_type": "stream",
          "text": [
            "generate_samples: generated 423 samples in 5.814757585525513s\n",
            "Instrument: 1004\n"
          ]
        },
        {
          "data": {
            "text/html": [
              "<div id=\"id_1005\"> </div>"
            ],
            "text/plain": [
              "<IPython.core.display.HTML object>"
            ]
          },
          "metadata": {},
          "output_type": "display_data"
        },
        {
          "metadata": {
            "tags": null
          },
          "name": "stdout",
          "output_type": "stream",
          "text": [
            "generate_samples: generated 423 samples in 5.791433811187744s\n",
            "Instrument: 1005\n"
          ]
        },
        {
          "data": {
            "text/html": [
              "<div id=\"id_1006\"> </div>"
            ],
            "text/plain": [
              "<IPython.core.display.HTML object>"
            ]
          },
          "metadata": {},
          "output_type": "display_data"
        },
        {
          "metadata": {
            "tags": null
          },
          "name": "stdout",
          "output_type": "stream",
          "text": [
            "generate_samples: generated 423 samples in 5.787793159484863s\n",
            "Instrument: 1006\n"
          ]
        },
        {
          "data": {
            "text/html": [
              "<div id=\"id_1007\"> </div>"
            ],
            "text/plain": [
              "<IPython.core.display.HTML object>"
            ]
          },
          "metadata": {},
          "output_type": "display_data"
        },
        {
          "metadata": {
            "tags": null
          },
          "name": "stdout",
          "output_type": "stream",
          "text": [
            "generate_samples: generated 423 samples in 5.778332233428955s\n",
            "Instrument: 1007\n"
          ]
        },
        {
          "data": {
            "text/html": [
              "<div id=\"id_1008\"> </div>"
            ],
            "text/plain": [
              "<IPython.core.display.HTML object>"
            ]
          },
          "metadata": {},
          "output_type": "display_data"
        },
        {
          "metadata": {
            "tags": null
          },
          "name": "stdout",
          "output_type": "stream",
          "text": [
            "generate_samples: generated 423 samples in 5.797135353088379s\n",
            "Instrument: 1008\n"
          ]
        },
        {
          "data": {
            "text/html": [
              "<div id=\"id_1009\"> </div>"
            ],
            "text/plain": [
              "<IPython.core.display.HTML object>"
            ]
          },
          "metadata": {},
          "output_type": "display_data"
        },
        {
          "metadata": {
            "tags": null
          },
          "name": "stdout",
          "output_type": "stream",
          "text": [
            "generate_samples: generated 423 samples in 5.781374454498291s\n",
            "Instrument: 1009\n"
          ]
        },
        {
          "data": {
            "text/html": [
              "<div id=\"id_1010\"> </div>"
            ],
            "text/plain": [
              "<IPython.core.display.HTML object>"
            ]
          },
          "metadata": {},
          "output_type": "display_data"
        },
        {
          "metadata": {
            "tags": null
          },
          "name": "stdout",
          "output_type": "stream",
          "text": [
            "generate_samples: generated 423 samples in 5.794335126876831s\n",
            "Instrument: 1010\n"
          ]
        },
        {
          "data": {
            "text/html": [
              "<div id=\"id_1011\"> </div>"
            ],
            "text/plain": [
              "<IPython.core.display.HTML object>"
            ]
          },
          "metadata": {},
          "output_type": "display_data"
        },
        {
          "metadata": {
            "tags": null
          },
          "name": "stdout",
          "output_type": "stream",
          "text": [
            "generate_samples: generated 423 samples in 5.788686513900757s\n",
            "Instrument: 1011\n"
          ]
        },
        {
          "data": {
            "text/html": [
              "<div id=\"id_1012\"> </div>"
            ],
            "text/plain": [
              "<IPython.core.display.HTML object>"
            ]
          },
          "metadata": {},
          "output_type": "display_data"
        },
        {
          "metadata": {
            "tags": null
          },
          "name": "stdout",
          "output_type": "stream",
          "text": [
            "generate_samples: generated 423 samples in 5.832412958145142s\n",
            "Instrument: 1012\n"
          ]
        },
        {
          "data": {
            "text/html": [
              "<div id=\"id_1013\"> </div>"
            ],
            "text/plain": [
              "<IPython.core.display.HTML object>"
            ]
          },
          "metadata": {},
          "output_type": "display_data"
        },
        {
          "metadata": {
            "tags": null
          },
          "name": "stdout",
          "output_type": "stream",
          "text": [
            "generate_samples: generated 423 samples in 5.831888914108276s\n",
            "Instrument: 1013\n"
          ]
        },
        {
          "data": {
            "text/html": [
              "<div id=\"id_1014\"> </div>"
            ],
            "text/plain": [
              "<IPython.core.display.HTML object>"
            ]
          },
          "metadata": {},
          "output_type": "display_data"
        },
        {
          "metadata": {
            "tags": null
          },
          "name": "stdout",
          "output_type": "stream",
          "text": [
            "generate_samples: generated 423 samples in 5.790750026702881s\n",
            "Instrument: 1014\n"
          ]
        },
        {
          "data": {
            "text/html": [
              "<div id=\"id_1015\"> </div>"
            ],
            "text/plain": [
              "<IPython.core.display.HTML object>"
            ]
          },
          "metadata": {},
          "output_type": "display_data"
        },
        {
          "metadata": {
            "tags": null
          },
          "name": "stdout",
          "output_type": "stream",
          "text": [
            "generate_samples: generated 423 samples in 5.7806010246276855s\n",
            "Instrument: 1015\n"
          ]
        },
        {
          "data": {
            "text/html": [
              "<div id=\"id_1016\"> </div>"
            ],
            "text/plain": [
              "<IPython.core.display.HTML object>"
            ]
          },
          "metadata": {},
          "output_type": "display_data"
        },
        {
          "metadata": {
            "tags": null
          },
          "name": "stdout",
          "output_type": "stream",
          "text": [
            "generate_samples: generated 423 samples in 5.795368194580078s\n",
            "Instrument: 1016\n"
          ]
        },
        {
          "data": {
            "text/html": [
              "<div id=\"id_1017\"> </div>"
            ],
            "text/plain": [
              "<IPython.core.display.HTML object>"
            ]
          },
          "metadata": {},
          "output_type": "display_data"
        },
        {
          "metadata": {
            "tags": null
          },
          "name": "stdout",
          "output_type": "stream",
          "text": [
            "generate_samples: generated 423 samples in 5.785388231277466s\n",
            "Instrument: 1017\n"
          ]
        },
        {
          "data": {
            "text/html": [
              "<div id=\"id_1018\"> </div>"
            ],
            "text/plain": [
              "<IPython.core.display.HTML object>"
            ]
          },
          "metadata": {},
          "output_type": "display_data"
        },
        {
          "metadata": {
            "tags": null
          },
          "name": "stdout",
          "output_type": "stream",
          "text": [
            "generate_samples: generated 423 samples in 5.780292749404907s\n",
            "Instrument: 1018\n"
          ]
        },
        {
          "data": {
            "text/html": [
              "<div id=\"id_1019\"> </div>"
            ],
            "text/plain": [
              "<IPython.core.display.HTML object>"
            ]
          },
          "metadata": {},
          "output_type": "display_data"
        },
        {
          "metadata": {
            "tags": null
          },
          "name": "stdout",
          "output_type": "stream",
          "text": [
            "generate_samples: generated 423 samples in 5.774690389633179s\n",
            "Instrument: 1019\n"
          ]
        },
        {
          "data": {
            "text/html": [
              "<div id=\"id_1020\"> </div>"
            ],
            "text/plain": [
              "<IPython.core.display.HTML object>"
            ]
          },
          "metadata": {},
          "output_type": "display_data"
        },
        {
          "metadata": {
            "tags": null
          },
          "name": "stdout",
          "output_type": "stream",
          "text": [
            "generate_samples: generated 423 samples in 5.772327184677124s\n",
            "Instrument: 1020\n"
          ]
        },
        {
          "data": {
            "text/html": [
              "<div id=\"id_1021\"> </div>"
            ],
            "text/plain": [
              "<IPython.core.display.HTML object>"
            ]
          },
          "metadata": {},
          "output_type": "display_data"
        },
        {
          "metadata": {
            "tags": null
          },
          "name": "stdout",
          "output_type": "stream",
          "text": [
            "generate_samples: generated 423 samples in 5.775115251541138s\n",
            "Instrument: 1021\n"
          ]
        },
        {
          "data": {
            "text/html": [
              "<div id=\"id_1022\"> </div>"
            ],
            "text/plain": [
              "<IPython.core.display.HTML object>"
            ]
          },
          "metadata": {},
          "output_type": "display_data"
        },
        {
          "metadata": {
            "tags": null
          },
          "name": "stdout",
          "output_type": "stream",
          "text": [
            "generate_samples: generated 423 samples in 5.7796854972839355s\n",
            "Instrument: 1022\n"
          ]
        },
        {
          "data": {
            "text/html": [
              "<div id=\"id_1023\"> </div>"
            ],
            "text/plain": [
              "<IPython.core.display.HTML object>"
            ]
          },
          "metadata": {},
          "output_type": "display_data"
        },
        {
          "metadata": {
            "tags": null
          },
          "name": "stdout",
          "output_type": "stream",
          "text": [
            "generate_samples: generated 423 samples in 5.777891397476196s\n",
            "Instrument: 1023\n"
          ]
        },
        {
          "data": {
            "text/html": [
              "<div id=\"id_1024\"> </div>"
            ],
            "text/plain": [
              "<IPython.core.display.HTML object>"
            ]
          },
          "metadata": {},
          "output_type": "display_data"
        },
        {
          "metadata": {
            "tags": null
          },
          "name": "stdout",
          "output_type": "stream",
          "text": [
            "Saved to /content/gansynth/samples/generated_clip_0.wav\n",
            "Saved to /content/gansynth/samples/generated_clip_1.wav\n",
            "Saved to /content/gansynth/samples/generated_clip_2.wav\n",
            "Saved to /content/gansynth/samples/generated_clip_3.wav\n",
            "Saved to /content/gansynth/samples/generated_clip_4.wav\n",
            "Saved to /content/gansynth/samples/generated_clip_5.wav\n",
            "Saved to /content/gansynth/samples/generated_clip_6.wav\n",
            "Saved to /content/gansynth/samples/generated_clip_7.wav\n",
            "Saved to /content/gansynth/samples/generated_clip_8.wav\n",
            "Saved to /content/gansynth/samples/generated_clip_9.wav\n",
            "Saved to /content/gansynth/samples/generated_clip_10.wav\n",
            "Saved to /content/gansynth/samples/generated_clip_11.wav\n",
            "Saved to /content/gansynth/samples/generated_clip_12.wav\n",
            "Saved to /content/gansynth/samples/generated_clip_13.wav\n",
            "Saved to /content/gansynth/samples/generated_clip_14.wav\n",
            "Saved to /content/gansynth/samples/generated_clip_15.wav\n",
            "Saved to /content/gansynth/samples/generated_clip_16.wav\n",
            "Saved to /content/gansynth/samples/generated_clip_17.wav\n",
            "Saved to /content/gansynth/samples/generated_clip_18.wav\n",
            "Saved to /content/gansynth/samples/generated_clip_19.wav\n",
            "Saved to /content/gansynth/samples/generated_clip_20.wav\n",
            "Saved to /content/gansynth/samples/generated_clip_21.wav\n",
            "Saved to /content/gansynth/samples/generated_clip_22.wav\n",
            "Saved to /content/gansynth/samples/generated_clip_23.wav\n",
            "Saved to /content/gansynth/samples/generated_clip_24.wav\n",
            "Saved to /content/gansynth/samples/generated_clip_25.wav\n",
            "Saved to /content/gansynth/samples/generated_clip_26.wav\n",
            "Saved to /content/gansynth/samples/generated_clip_27.wav\n",
            "Saved to /content/gansynth/samples/generated_clip_28.wav\n",
            "Saved to /content/gansynth/samples/generated_clip_29.wav\n",
            "Saved to /content/gansynth/samples/generated_clip_30.wav\n",
            "Saved to /content/gansynth/samples/generated_clip_31.wav\n",
            "Saved to /content/gansynth/samples/generated_clip_32.wav\n",
            "Saved to /content/gansynth/samples/generated_clip_33.wav\n",
            "Saved to /content/gansynth/samples/generated_clip_34.wav\n",
            "Saved to /content/gansynth/samples/generated_clip_35.wav\n",
            "Saved to /content/gansynth/samples/generated_clip_36.wav\n",
            "Saved to /content/gansynth/samples/generated_clip_37.wav\n",
            "Saved to /content/gansynth/samples/generated_clip_38.wav\n",
            "Saved to /content/gansynth/samples/generated_clip_39.wav\n",
            "Saved to /content/gansynth/samples/generated_clip_40.wav\n",
            "Saved to /content/gansynth/samples/generated_clip_41.wav\n",
            "Saved to /content/gansynth/samples/generated_clip_42.wav\n",
            "Saved to /content/gansynth/samples/generated_clip_43.wav\n",
            "Saved to /content/gansynth/samples/generated_clip_44.wav\n",
            "Saved to /content/gansynth/samples/generated_clip_45.wav\n",
            "Saved to /content/gansynth/samples/generated_clip_46.wav\n",
            "Saved to /content/gansynth/samples/generated_clip_47.wav\n",
            "Saved to /content/gansynth/samples/generated_clip_48.wav\n",
            "Saved to /content/gansynth/samples/generated_clip_49.wav\n",
            "Saved to /content/gansynth/samples/generated_clip_50.wav\n",
            "Saved to /content/gansynth/samples/generated_clip_51.wav\n",
            "Saved to /content/gansynth/samples/generated_clip_52.wav\n",
            "Saved to /content/gansynth/samples/generated_clip_53.wav\n",
            "Saved to /content/gansynth/samples/generated_clip_54.wav\n",
            "Saved to /content/gansynth/samples/generated_clip_55.wav\n",
            "Saved to /content/gansynth/samples/generated_clip_56.wav\n",
            "Saved to /content/gansynth/samples/generated_clip_57.wav\n",
            "Saved to /content/gansynth/samples/generated_clip_58.wav\n",
            "Saved to /content/gansynth/samples/generated_clip_59.wav\n",
            "Saved to /content/gansynth/samples/generated_clip_60.wav\n",
            "Saved to /content/gansynth/samples/generated_clip_61.wav\n",
            "Saved to /content/gansynth/samples/generated_clip_62.wav\n",
            "Saved to /content/gansynth/samples/generated_clip_63.wav\n",
            "Saved to /content/gansynth/samples/generated_clip_64.wav\n",
            "Saved to /content/gansynth/samples/generated_clip_65.wav\n",
            "Saved to /content/gansynth/samples/generated_clip_66.wav\n",
            "Saved to /content/gansynth/samples/generated_clip_67.wav\n",
            "Saved to /content/gansynth/samples/generated_clip_68.wav\n",
            "Saved to /content/gansynth/samples/generated_clip_69.wav\n",
            "Saved to /content/gansynth/samples/generated_clip_70.wav\n",
            "Saved to /content/gansynth/samples/generated_clip_71.wav\n",
            "Saved to /content/gansynth/samples/generated_clip_72.wav\n",
            "Saved to /content/gansynth/samples/generated_clip_73.wav\n",
            "Saved to /content/gansynth/samples/generated_clip_74.wav\n",
            "Saved to /content/gansynth/samples/generated_clip_75.wav\n",
            "Saved to /content/gansynth/samples/generated_clip_76.wav\n",
            "Saved to /content/gansynth/samples/generated_clip_77.wav\n",
            "Saved to /content/gansynth/samples/generated_clip_78.wav\n",
            "Saved to /content/gansynth/samples/generated_clip_79.wav\n",
            "Saved to /content/gansynth/samples/generated_clip_80.wav\n",
            "Saved to /content/gansynth/samples/generated_clip_81.wav\n",
            "Saved to /content/gansynth/samples/generated_clip_82.wav\n",
            "Saved to /content/gansynth/samples/generated_clip_83.wav\n",
            "Saved to /content/gansynth/samples/generated_clip_84.wav\n",
            "Saved to /content/gansynth/samples/generated_clip_85.wav\n",
            "Saved to /content/gansynth/samples/generated_clip_86.wav\n",
            "Saved to /content/gansynth/samples/generated_clip_87.wav\n",
            "Saved to /content/gansynth/samples/generated_clip_88.wav\n",
            "Saved to /content/gansynth/samples/generated_clip_89.wav\n",
            "Saved to /content/gansynth/samples/generated_clip_90.wav\n",
            "Saved to /content/gansynth/samples/generated_clip_91.wav\n",
            "Saved to /content/gansynth/samples/generated_clip_92.wav\n",
            "Saved to /content/gansynth/samples/generated_clip_93.wav\n",
            "Saved to /content/gansynth/samples/generated_clip_94.wav\n",
            "Saved to /content/gansynth/samples/generated_clip_95.wav\n",
            "Saved to /content/gansynth/samples/generated_clip_96.wav\n",
            "Saved to /content/gansynth/samples/generated_clip_97.wav\n",
            "Saved to /content/gansynth/samples/generated_clip_98.wav\n",
            "Saved to /content/gansynth/samples/generated_clip_99.wav\n",
            "Saved to /content/gansynth/samples/generated_clip_100.wav\n",
            "Saved to /content/gansynth/samples/generated_clip_101.wav\n",
            "Saved to /content/gansynth/samples/generated_clip_102.wav\n",
            "Saved to /content/gansynth/samples/generated_clip_103.wav\n",
            "Saved to /content/gansynth/samples/generated_clip_104.wav\n",
            "Saved to /content/gansynth/samples/generated_clip_105.wav\n",
            "Saved to /content/gansynth/samples/generated_clip_106.wav\n",
            "Saved to /content/gansynth/samples/generated_clip_107.wav\n",
            "Saved to /content/gansynth/samples/generated_clip_108.wav\n",
            "Saved to /content/gansynth/samples/generated_clip_109.wav\n",
            "Saved to /content/gansynth/samples/generated_clip_110.wav\n",
            "Saved to /content/gansynth/samples/generated_clip_111.wav\n",
            "Saved to /content/gansynth/samples/generated_clip_112.wav\n",
            "Saved to /content/gansynth/samples/generated_clip_113.wav\n",
            "Saved to /content/gansynth/samples/generated_clip_114.wav\n",
            "Saved to /content/gansynth/samples/generated_clip_115.wav\n",
            "Saved to /content/gansynth/samples/generated_clip_116.wav\n",
            "Saved to /content/gansynth/samples/generated_clip_117.wav\n",
            "Saved to /content/gansynth/samples/generated_clip_118.wav\n",
            "Saved to /content/gansynth/samples/generated_clip_119.wav\n",
            "Saved to /content/gansynth/samples/generated_clip_120.wav\n",
            "Saved to /content/gansynth/samples/generated_clip_121.wav\n",
            "Saved to /content/gansynth/samples/generated_clip_122.wav\n",
            "Saved to /content/gansynth/samples/generated_clip_123.wav\n",
            "Saved to /content/gansynth/samples/generated_clip_124.wav\n",
            "Saved to /content/gansynth/samples/generated_clip_125.wav\n",
            "Saved to /content/gansynth/samples/generated_clip_126.wav\n",
            "Saved to /content/gansynth/samples/generated_clip_127.wav\n",
            "Saved to /content/gansynth/samples/generated_clip_128.wav\n",
            "Saved to /content/gansynth/samples/generated_clip_129.wav\n",
            "Saved to /content/gansynth/samples/generated_clip_130.wav\n",
            "Saved to /content/gansynth/samples/generated_clip_131.wav\n",
            "Saved to /content/gansynth/samples/generated_clip_132.wav\n",
            "Saved to /content/gansynth/samples/generated_clip_133.wav\n",
            "Saved to /content/gansynth/samples/generated_clip_134.wav\n",
            "Saved to /content/gansynth/samples/generated_clip_135.wav\n",
            "Saved to /content/gansynth/samples/generated_clip_136.wav\n",
            "Saved to /content/gansynth/samples/generated_clip_137.wav\n",
            "Saved to /content/gansynth/samples/generated_clip_138.wav\n",
            "Saved to /content/gansynth/samples/generated_clip_139.wav\n",
            "Saved to /content/gansynth/samples/generated_clip_140.wav\n",
            "Saved to /content/gansynth/samples/generated_clip_141.wav\n",
            "Saved to /content/gansynth/samples/generated_clip_142.wav\n",
            "Saved to /content/gansynth/samples/generated_clip_143.wav\n",
            "Saved to /content/gansynth/samples/generated_clip_144.wav\n",
            "Saved to /content/gansynth/samples/generated_clip_145.wav\n",
            "Saved to /content/gansynth/samples/generated_clip_146.wav\n",
            "Saved to /content/gansynth/samples/generated_clip_147.wav\n",
            "Saved to /content/gansynth/samples/generated_clip_148.wav\n",
            "Saved to /content/gansynth/samples/generated_clip_149.wav\n",
            "Saved to /content/gansynth/samples/generated_clip_150.wav\n",
            "Saved to /content/gansynth/samples/generated_clip_151.wav\n",
            "Saved to /content/gansynth/samples/generated_clip_152.wav\n",
            "Saved to /content/gansynth/samples/generated_clip_153.wav\n",
            "Saved to /content/gansynth/samples/generated_clip_154.wav\n",
            "Saved to /content/gansynth/samples/generated_clip_155.wav\n",
            "Saved to /content/gansynth/samples/generated_clip_156.wav\n",
            "Saved to /content/gansynth/samples/generated_clip_157.wav\n",
            "Saved to /content/gansynth/samples/generated_clip_158.wav\n",
            "Saved to /content/gansynth/samples/generated_clip_159.wav\n",
            "Saved to /content/gansynth/samples/generated_clip_160.wav\n",
            "Saved to /content/gansynth/samples/generated_clip_161.wav\n",
            "Saved to /content/gansynth/samples/generated_clip_162.wav\n",
            "Saved to /content/gansynth/samples/generated_clip_163.wav\n",
            "Saved to /content/gansynth/samples/generated_clip_164.wav\n",
            "Saved to /content/gansynth/samples/generated_clip_165.wav\n",
            "Saved to /content/gansynth/samples/generated_clip_166.wav\n",
            "Saved to /content/gansynth/samples/generated_clip_167.wav\n",
            "Saved to /content/gansynth/samples/generated_clip_168.wav\n",
            "Saved to /content/gansynth/samples/generated_clip_169.wav\n",
            "Saved to /content/gansynth/samples/generated_clip_170.wav\n",
            "Saved to /content/gansynth/samples/generated_clip_171.wav\n",
            "Saved to /content/gansynth/samples/generated_clip_172.wav\n",
            "Saved to /content/gansynth/samples/generated_clip_173.wav\n",
            "Saved to /content/gansynth/samples/generated_clip_174.wav\n",
            "Saved to /content/gansynth/samples/generated_clip_175.wav\n",
            "Saved to /content/gansynth/samples/generated_clip_176.wav\n",
            "Saved to /content/gansynth/samples/generated_clip_177.wav\n",
            "Saved to /content/gansynth/samples/generated_clip_178.wav\n",
            "Saved to /content/gansynth/samples/generated_clip_179.wav\n",
            "Saved to /content/gansynth/samples/generated_clip_180.wav\n",
            "Saved to /content/gansynth/samples/generated_clip_181.wav\n",
            "Saved to /content/gansynth/samples/generated_clip_182.wav\n",
            "Saved to /content/gansynth/samples/generated_clip_183.wav\n",
            "Saved to /content/gansynth/samples/generated_clip_184.wav\n",
            "Saved to /content/gansynth/samples/generated_clip_185.wav\n",
            "Saved to /content/gansynth/samples/generated_clip_186.wav\n",
            "Saved to /content/gansynth/samples/generated_clip_187.wav\n",
            "Saved to /content/gansynth/samples/generated_clip_188.wav\n",
            "Saved to /content/gansynth/samples/generated_clip_189.wav\n",
            "Saved to /content/gansynth/samples/generated_clip_190.wav\n",
            "Saved to /content/gansynth/samples/generated_clip_191.wav\n",
            "Saved to /content/gansynth/samples/generated_clip_192.wav\n",
            "Saved to /content/gansynth/samples/generated_clip_193.wav\n",
            "Saved to /content/gansynth/samples/generated_clip_194.wav\n",
            "Saved to /content/gansynth/samples/generated_clip_195.wav\n",
            "Saved to /content/gansynth/samples/generated_clip_196.wav\n",
            "Saved to /content/gansynth/samples/generated_clip_197.wav\n",
            "Saved to /content/gansynth/samples/generated_clip_198.wav\n",
            "Saved to /content/gansynth/samples/generated_clip_199.wav\n",
            "Saved to /content/gansynth/samples/generated_clip_200.wav\n",
            "Saved to /content/gansynth/samples/generated_clip_201.wav\n",
            "Saved to /content/gansynth/samples/generated_clip_202.wav\n",
            "Saved to /content/gansynth/samples/generated_clip_203.wav\n",
            "Saved to /content/gansynth/samples/generated_clip_204.wav\n",
            "Saved to /content/gansynth/samples/generated_clip_205.wav\n",
            "Saved to /content/gansynth/samples/generated_clip_206.wav\n",
            "Saved to /content/gansynth/samples/generated_clip_207.wav\n",
            "Saved to /content/gansynth/samples/generated_clip_208.wav\n",
            "Saved to /content/gansynth/samples/generated_clip_209.wav\n",
            "Saved to /content/gansynth/samples/generated_clip_210.wav\n",
            "Saved to /content/gansynth/samples/generated_clip_211.wav\n",
            "Saved to /content/gansynth/samples/generated_clip_212.wav\n",
            "Saved to /content/gansynth/samples/generated_clip_213.wav\n",
            "Saved to /content/gansynth/samples/generated_clip_214.wav\n",
            "Saved to /content/gansynth/samples/generated_clip_215.wav\n",
            "Saved to /content/gansynth/samples/generated_clip_216.wav\n",
            "Saved to /content/gansynth/samples/generated_clip_217.wav\n",
            "Saved to /content/gansynth/samples/generated_clip_218.wav\n",
            "Saved to /content/gansynth/samples/generated_clip_219.wav\n",
            "Saved to /content/gansynth/samples/generated_clip_220.wav\n",
            "Saved to /content/gansynth/samples/generated_clip_221.wav\n",
            "Saved to /content/gansynth/samples/generated_clip_222.wav\n",
            "Saved to /content/gansynth/samples/generated_clip_223.wav\n",
            "Saved to /content/gansynth/samples/generated_clip_224.wav\n",
            "Saved to /content/gansynth/samples/generated_clip_225.wav\n",
            "Saved to /content/gansynth/samples/generated_clip_226.wav\n",
            "Saved to /content/gansynth/samples/generated_clip_227.wav\n",
            "Saved to /content/gansynth/samples/generated_clip_228.wav\n",
            "Saved to /content/gansynth/samples/generated_clip_229.wav\n",
            "Saved to /content/gansynth/samples/generated_clip_230.wav\n",
            "Saved to /content/gansynth/samples/generated_clip_231.wav\n",
            "Saved to /content/gansynth/samples/generated_clip_232.wav\n",
            "Saved to /content/gansynth/samples/generated_clip_233.wav\n",
            "Saved to /content/gansynth/samples/generated_clip_234.wav\n",
            "Saved to /content/gansynth/samples/generated_clip_235.wav\n",
            "Saved to /content/gansynth/samples/generated_clip_236.wav\n",
            "Saved to /content/gansynth/samples/generated_clip_237.wav\n",
            "Saved to /content/gansynth/samples/generated_clip_238.wav\n",
            "Saved to /content/gansynth/samples/generated_clip_239.wav\n",
            "Saved to /content/gansynth/samples/generated_clip_240.wav\n",
            "Saved to /content/gansynth/samples/generated_clip_241.wav\n",
            "Saved to /content/gansynth/samples/generated_clip_242.wav\n",
            "Saved to /content/gansynth/samples/generated_clip_243.wav\n",
            "Saved to /content/gansynth/samples/generated_clip_244.wav\n",
            "Saved to /content/gansynth/samples/generated_clip_245.wav\n",
            "Saved to /content/gansynth/samples/generated_clip_246.wav\n",
            "Saved to /content/gansynth/samples/generated_clip_247.wav\n",
            "Saved to /content/gansynth/samples/generated_clip_248.wav\n",
            "Saved to /content/gansynth/samples/generated_clip_249.wav\n",
            "Saved to /content/gansynth/samples/generated_clip_250.wav\n",
            "Saved to /content/gansynth/samples/generated_clip_251.wav\n",
            "Saved to /content/gansynth/samples/generated_clip_252.wav\n",
            "Saved to /content/gansynth/samples/generated_clip_253.wav\n",
            "Saved to /content/gansynth/samples/generated_clip_254.wav\n",
            "Saved to /content/gansynth/samples/generated_clip_255.wav\n",
            "Saved to /content/gansynth/samples/generated_clip_256.wav\n",
            "Saved to /content/gansynth/samples/generated_clip_257.wav\n",
            "Saved to /content/gansynth/samples/generated_clip_258.wav\n",
            "Saved to /content/gansynth/samples/generated_clip_259.wav\n",
            "Saved to /content/gansynth/samples/generated_clip_260.wav\n",
            "Saved to /content/gansynth/samples/generated_clip_261.wav\n",
            "Saved to /content/gansynth/samples/generated_clip_262.wav\n",
            "Saved to /content/gansynth/samples/generated_clip_263.wav\n",
            "Saved to /content/gansynth/samples/generated_clip_264.wav\n",
            "Saved to /content/gansynth/samples/generated_clip_265.wav\n",
            "Saved to /content/gansynth/samples/generated_clip_266.wav\n",
            "Saved to /content/gansynth/samples/generated_clip_267.wav\n",
            "Saved to /content/gansynth/samples/generated_clip_268.wav\n",
            "Saved to /content/gansynth/samples/generated_clip_269.wav\n",
            "Saved to /content/gansynth/samples/generated_clip_270.wav\n",
            "Saved to /content/gansynth/samples/generated_clip_271.wav\n",
            "Saved to /content/gansynth/samples/generated_clip_272.wav\n",
            "Saved to /content/gansynth/samples/generated_clip_273.wav\n",
            "Saved to /content/gansynth/samples/generated_clip_274.wav\n",
            "Saved to /content/gansynth/samples/generated_clip_275.wav\n",
            "Saved to /content/gansynth/samples/generated_clip_276.wav\n",
            "Saved to /content/gansynth/samples/generated_clip_277.wav\n",
            "Saved to /content/gansynth/samples/generated_clip_278.wav\n",
            "Saved to /content/gansynth/samples/generated_clip_279.wav\n",
            "Saved to /content/gansynth/samples/generated_clip_280.wav\n",
            "Saved to /content/gansynth/samples/generated_clip_281.wav\n",
            "Saved to /content/gansynth/samples/generated_clip_282.wav\n",
            "Saved to /content/gansynth/samples/generated_clip_283.wav\n",
            "Saved to /content/gansynth/samples/generated_clip_284.wav\n",
            "Saved to /content/gansynth/samples/generated_clip_285.wav\n",
            "Saved to /content/gansynth/samples/generated_clip_286.wav\n",
            "Saved to /content/gansynth/samples/generated_clip_287.wav\n",
            "Saved to /content/gansynth/samples/generated_clip_288.wav\n",
            "Saved to /content/gansynth/samples/generated_clip_289.wav\n",
            "Saved to /content/gansynth/samples/generated_clip_290.wav\n",
            "Saved to /content/gansynth/samples/generated_clip_291.wav\n",
            "Saved to /content/gansynth/samples/generated_clip_292.wav\n",
            "Saved to /content/gansynth/samples/generated_clip_293.wav\n",
            "Saved to /content/gansynth/samples/generated_clip_294.wav\n",
            "Saved to /content/gansynth/samples/generated_clip_295.wav\n",
            "Saved to /content/gansynth/samples/generated_clip_296.wav\n",
            "Saved to /content/gansynth/samples/generated_clip_297.wav\n",
            "Saved to /content/gansynth/samples/generated_clip_298.wav\n",
            "Saved to /content/gansynth/samples/generated_clip_299.wav\n",
            "Saved to /content/gansynth/samples/generated_clip_300.wav\n",
            "Saved to /content/gansynth/samples/generated_clip_301.wav\n",
            "Saved to /content/gansynth/samples/generated_clip_302.wav\n",
            "Saved to /content/gansynth/samples/generated_clip_303.wav\n",
            "Saved to /content/gansynth/samples/generated_clip_304.wav\n",
            "Saved to /content/gansynth/samples/generated_clip_305.wav\n",
            "Saved to /content/gansynth/samples/generated_clip_306.wav\n",
            "Saved to /content/gansynth/samples/generated_clip_307.wav\n",
            "Saved to /content/gansynth/samples/generated_clip_308.wav\n",
            "Saved to /content/gansynth/samples/generated_clip_309.wav\n",
            "Saved to /content/gansynth/samples/generated_clip_310.wav\n",
            "Saved to /content/gansynth/samples/generated_clip_311.wav\n",
            "Saved to /content/gansynth/samples/generated_clip_312.wav\n",
            "Saved to /content/gansynth/samples/generated_clip_313.wav\n",
            "Saved to /content/gansynth/samples/generated_clip_314.wav\n",
            "Saved to /content/gansynth/samples/generated_clip_315.wav\n",
            "Saved to /content/gansynth/samples/generated_clip_316.wav\n",
            "Saved to /content/gansynth/samples/generated_clip_317.wav\n",
            "Saved to /content/gansynth/samples/generated_clip_318.wav\n",
            "Saved to /content/gansynth/samples/generated_clip_319.wav\n",
            "Saved to /content/gansynth/samples/generated_clip_320.wav\n",
            "Saved to /content/gansynth/samples/generated_clip_321.wav\n",
            "Saved to /content/gansynth/samples/generated_clip_322.wav\n",
            "Saved to /content/gansynth/samples/generated_clip_323.wav\n",
            "Saved to /content/gansynth/samples/generated_clip_324.wav\n",
            "Saved to /content/gansynth/samples/generated_clip_325.wav\n",
            "Saved to /content/gansynth/samples/generated_clip_326.wav\n",
            "Saved to /content/gansynth/samples/generated_clip_327.wav\n",
            "Saved to /content/gansynth/samples/generated_clip_328.wav\n",
            "Saved to /content/gansynth/samples/generated_clip_329.wav\n",
            "Saved to /content/gansynth/samples/generated_clip_330.wav\n",
            "Saved to /content/gansynth/samples/generated_clip_331.wav\n",
            "Saved to /content/gansynth/samples/generated_clip_332.wav\n",
            "Saved to /content/gansynth/samples/generated_clip_333.wav\n",
            "Saved to /content/gansynth/samples/generated_clip_334.wav\n",
            "Saved to /content/gansynth/samples/generated_clip_335.wav\n",
            "Saved to /content/gansynth/samples/generated_clip_336.wav\n",
            "Saved to /content/gansynth/samples/generated_clip_337.wav\n",
            "Saved to /content/gansynth/samples/generated_clip_338.wav\n",
            "Saved to /content/gansynth/samples/generated_clip_339.wav\n",
            "Saved to /content/gansynth/samples/generated_clip_340.wav\n",
            "Saved to /content/gansynth/samples/generated_clip_341.wav\n",
            "Saved to /content/gansynth/samples/generated_clip_342.wav\n",
            "Saved to /content/gansynth/samples/generated_clip_343.wav\n",
            "Saved to /content/gansynth/samples/generated_clip_344.wav\n",
            "Saved to /content/gansynth/samples/generated_clip_345.wav\n",
            "Saved to /content/gansynth/samples/generated_clip_346.wav\n",
            "Saved to /content/gansynth/samples/generated_clip_347.wav\n",
            "Saved to /content/gansynth/samples/generated_clip_348.wav\n",
            "Saved to /content/gansynth/samples/generated_clip_349.wav\n",
            "Saved to /content/gansynth/samples/generated_clip_350.wav\n",
            "Saved to /content/gansynth/samples/generated_clip_351.wav\n",
            "Saved to /content/gansynth/samples/generated_clip_352.wav\n",
            "Saved to /content/gansynth/samples/generated_clip_353.wav\n",
            "Saved to /content/gansynth/samples/generated_clip_354.wav\n",
            "Saved to /content/gansynth/samples/generated_clip_355.wav\n",
            "Saved to /content/gansynth/samples/generated_clip_356.wav\n",
            "Saved to /content/gansynth/samples/generated_clip_357.wav\n",
            "Saved to /content/gansynth/samples/generated_clip_358.wav\n",
            "Saved to /content/gansynth/samples/generated_clip_359.wav\n",
            "Saved to /content/gansynth/samples/generated_clip_360.wav\n",
            "Saved to /content/gansynth/samples/generated_clip_361.wav\n",
            "Saved to /content/gansynth/samples/generated_clip_362.wav\n",
            "Saved to /content/gansynth/samples/generated_clip_363.wav\n",
            "Saved to /content/gansynth/samples/generated_clip_364.wav\n",
            "Saved to /content/gansynth/samples/generated_clip_365.wav\n",
            "Saved to /content/gansynth/samples/generated_clip_366.wav\n",
            "Saved to /content/gansynth/samples/generated_clip_367.wav\n",
            "Saved to /content/gansynth/samples/generated_clip_368.wav\n",
            "Saved to /content/gansynth/samples/generated_clip_369.wav\n",
            "Saved to /content/gansynth/samples/generated_clip_370.wav\n",
            "Saved to /content/gansynth/samples/generated_clip_371.wav\n",
            "Saved to /content/gansynth/samples/generated_clip_372.wav\n",
            "Saved to /content/gansynth/samples/generated_clip_373.wav\n",
            "Saved to /content/gansynth/samples/generated_clip_374.wav\n",
            "Saved to /content/gansynth/samples/generated_clip_375.wav\n",
            "Saved to /content/gansynth/samples/generated_clip_376.wav\n",
            "Saved to /content/gansynth/samples/generated_clip_377.wav\n",
            "Saved to /content/gansynth/samples/generated_clip_378.wav\n",
            "Saved to /content/gansynth/samples/generated_clip_379.wav\n",
            "Saved to /content/gansynth/samples/generated_clip_380.wav\n",
            "Saved to /content/gansynth/samples/generated_clip_381.wav\n",
            "Saved to /content/gansynth/samples/generated_clip_382.wav\n",
            "Saved to /content/gansynth/samples/generated_clip_383.wav\n",
            "Saved to /content/gansynth/samples/generated_clip_384.wav\n",
            "Saved to /content/gansynth/samples/generated_clip_385.wav\n",
            "Saved to /content/gansynth/samples/generated_clip_386.wav\n",
            "Saved to /content/gansynth/samples/generated_clip_387.wav\n",
            "Saved to /content/gansynth/samples/generated_clip_388.wav\n",
            "Saved to /content/gansynth/samples/generated_clip_389.wav\n",
            "Saved to /content/gansynth/samples/generated_clip_390.wav\n",
            "Saved to /content/gansynth/samples/generated_clip_391.wav\n",
            "Saved to /content/gansynth/samples/generated_clip_392.wav\n",
            "Saved to /content/gansynth/samples/generated_clip_393.wav\n",
            "Saved to /content/gansynth/samples/generated_clip_394.wav\n",
            "Saved to /content/gansynth/samples/generated_clip_395.wav\n",
            "Saved to /content/gansynth/samples/generated_clip_396.wav\n",
            "Saved to /content/gansynth/samples/generated_clip_397.wav\n",
            "Saved to /content/gansynth/samples/generated_clip_398.wav\n",
            "Saved to /content/gansynth/samples/generated_clip_399.wav\n",
            "Saved to /content/gansynth/samples/generated_clip_400.wav\n",
            "Saved to /content/gansynth/samples/generated_clip_401.wav\n",
            "Saved to /content/gansynth/samples/generated_clip_402.wav\n",
            "Saved to /content/gansynth/samples/generated_clip_403.wav\n",
            "Saved to /content/gansynth/samples/generated_clip_404.wav\n",
            "Saved to /content/gansynth/samples/generated_clip_405.wav\n",
            "Saved to /content/gansynth/samples/generated_clip_406.wav\n",
            "Saved to /content/gansynth/samples/generated_clip_407.wav\n",
            "Saved to /content/gansynth/samples/generated_clip_408.wav\n",
            "Saved to /content/gansynth/samples/generated_clip_409.wav\n",
            "Saved to /content/gansynth/samples/generated_clip_410.wav\n",
            "Saved to /content/gansynth/samples/generated_clip_411.wav\n",
            "Saved to /content/gansynth/samples/generated_clip_412.wav\n",
            "Saved to /content/gansynth/samples/generated_clip_413.wav\n",
            "Saved to /content/gansynth/samples/generated_clip_414.wav\n",
            "Saved to /content/gansynth/samples/generated_clip_415.wav\n",
            "Saved to /content/gansynth/samples/generated_clip_416.wav\n",
            "Saved to /content/gansynth/samples/generated_clip_417.wav\n",
            "Saved to /content/gansynth/samples/generated_clip_418.wav\n",
            "Saved to /content/gansynth/samples/generated_clip_419.wav\n",
            "Saved to /content/gansynth/samples/generated_clip_420.wav\n",
            "Saved to /content/gansynth/samples/generated_clip_421.wav\n",
            "Saved to /content/gansynth/samples/generated_clip_422.wav\n",
            "Saved to /content/gansynth/samples/generated_clip_423.wav\n",
            "Saved to /content/gansynth/samples/generated_clip_424.wav\n",
            "Saved to /content/gansynth/samples/generated_clip_425.wav\n",
            "Saved to /content/gansynth/samples/generated_clip_426.wav\n",
            "Saved to /content/gansynth/samples/generated_clip_427.wav\n",
            "Saved to /content/gansynth/samples/generated_clip_428.wav\n",
            "Saved to /content/gansynth/samples/generated_clip_429.wav\n",
            "Saved to /content/gansynth/samples/generated_clip_430.wav\n",
            "Saved to /content/gansynth/samples/generated_clip_431.wav\n",
            "Saved to /content/gansynth/samples/generated_clip_432.wav\n",
            "Saved to /content/gansynth/samples/generated_clip_433.wav\n",
            "Saved to /content/gansynth/samples/generated_clip_434.wav\n",
            "Saved to /content/gansynth/samples/generated_clip_435.wav\n",
            "Saved to /content/gansynth/samples/generated_clip_436.wav\n",
            "Saved to /content/gansynth/samples/generated_clip_437.wav\n",
            "Saved to /content/gansynth/samples/generated_clip_438.wav\n",
            "Saved to /content/gansynth/samples/generated_clip_439.wav\n",
            "Saved to /content/gansynth/samples/generated_clip_440.wav\n",
            "Saved to /content/gansynth/samples/generated_clip_441.wav\n",
            "Saved to /content/gansynth/samples/generated_clip_442.wav\n",
            "Saved to /content/gansynth/samples/generated_clip_443.wav\n",
            "Saved to /content/gansynth/samples/generated_clip_444.wav\n",
            "Saved to /content/gansynth/samples/generated_clip_445.wav\n",
            "Saved to /content/gansynth/samples/generated_clip_446.wav\n",
            "Saved to /content/gansynth/samples/generated_clip_447.wav\n",
            "Saved to /content/gansynth/samples/generated_clip_448.wav\n",
            "Saved to /content/gansynth/samples/generated_clip_449.wav\n",
            "Saved to /content/gansynth/samples/generated_clip_450.wav\n",
            "Saved to /content/gansynth/samples/generated_clip_451.wav\n",
            "Saved to /content/gansynth/samples/generated_clip_452.wav\n",
            "Saved to /content/gansynth/samples/generated_clip_453.wav\n",
            "Saved to /content/gansynth/samples/generated_clip_454.wav\n",
            "Saved to /content/gansynth/samples/generated_clip_455.wav\n",
            "Saved to /content/gansynth/samples/generated_clip_456.wav\n",
            "Saved to /content/gansynth/samples/generated_clip_457.wav\n",
            "Saved to /content/gansynth/samples/generated_clip_458.wav\n",
            "Saved to /content/gansynth/samples/generated_clip_459.wav\n",
            "Saved to /content/gansynth/samples/generated_clip_460.wav\n",
            "Saved to /content/gansynth/samples/generated_clip_461.wav\n",
            "Saved to /content/gansynth/samples/generated_clip_462.wav\n",
            "Saved to /content/gansynth/samples/generated_clip_463.wav\n",
            "Saved to /content/gansynth/samples/generated_clip_464.wav\n",
            "Saved to /content/gansynth/samples/generated_clip_465.wav\n",
            "Saved to /content/gansynth/samples/generated_clip_466.wav\n",
            "Saved to /content/gansynth/samples/generated_clip_467.wav\n",
            "Saved to /content/gansynth/samples/generated_clip_468.wav\n",
            "Saved to /content/gansynth/samples/generated_clip_469.wav\n",
            "Saved to /content/gansynth/samples/generated_clip_470.wav\n",
            "Saved to /content/gansynth/samples/generated_clip_471.wav\n",
            "Saved to /content/gansynth/samples/generated_clip_472.wav\n",
            "Saved to /content/gansynth/samples/generated_clip_473.wav\n",
            "Saved to /content/gansynth/samples/generated_clip_474.wav\n",
            "Saved to /content/gansynth/samples/generated_clip_475.wav\n",
            "Saved to /content/gansynth/samples/generated_clip_476.wav\n",
            "Saved to /content/gansynth/samples/generated_clip_477.wav\n",
            "Saved to /content/gansynth/samples/generated_clip_478.wav\n",
            "Saved to /content/gansynth/samples/generated_clip_479.wav\n",
            "Saved to /content/gansynth/samples/generated_clip_480.wav\n",
            "Saved to /content/gansynth/samples/generated_clip_481.wav\n",
            "Saved to /content/gansynth/samples/generated_clip_482.wav\n",
            "Saved to /content/gansynth/samples/generated_clip_483.wav\n",
            "Saved to /content/gansynth/samples/generated_clip_484.wav\n",
            "Saved to /content/gansynth/samples/generated_clip_485.wav\n",
            "Saved to /content/gansynth/samples/generated_clip_486.wav\n",
            "Saved to /content/gansynth/samples/generated_clip_487.wav\n",
            "Saved to /content/gansynth/samples/generated_clip_488.wav\n",
            "Saved to /content/gansynth/samples/generated_clip_489.wav\n",
            "Saved to /content/gansynth/samples/generated_clip_490.wav\n",
            "Saved to /content/gansynth/samples/generated_clip_491.wav\n",
            "Saved to /content/gansynth/samples/generated_clip_492.wav\n",
            "Saved to /content/gansynth/samples/generated_clip_493.wav\n",
            "Saved to /content/gansynth/samples/generated_clip_494.wav\n",
            "Saved to /content/gansynth/samples/generated_clip_495.wav\n",
            "Saved to /content/gansynth/samples/generated_clip_496.wav\n",
            "Saved to /content/gansynth/samples/generated_clip_497.wav\n",
            "Saved to /content/gansynth/samples/generated_clip_498.wav\n",
            "Saved to /content/gansynth/samples/generated_clip_499.wav\n",
            "Saved to /content/gansynth/samples/generated_clip_500.wav\n",
            "Saved to /content/gansynth/samples/generated_clip_501.wav\n",
            "Saved to /content/gansynth/samples/generated_clip_502.wav\n",
            "Saved to /content/gansynth/samples/generated_clip_503.wav\n",
            "Saved to /content/gansynth/samples/generated_clip_504.wav\n",
            "Saved to /content/gansynth/samples/generated_clip_505.wav\n",
            "Saved to /content/gansynth/samples/generated_clip_506.wav\n",
            "Saved to /content/gansynth/samples/generated_clip_507.wav\n",
            "Saved to /content/gansynth/samples/generated_clip_508.wav\n",
            "Saved to /content/gansynth/samples/generated_clip_509.wav\n",
            "Saved to /content/gansynth/samples/generated_clip_510.wav\n",
            "Saved to /content/gansynth/samples/generated_clip_511.wav\n",
            "Saved to /content/gansynth/samples/generated_clip_512.wav\n",
            "Saved to /content/gansynth/samples/generated_clip_513.wav\n",
            "Saved to /content/gansynth/samples/generated_clip_514.wav\n",
            "Saved to /content/gansynth/samples/generated_clip_515.wav\n",
            "Saved to /content/gansynth/samples/generated_clip_516.wav\n",
            "Saved to /content/gansynth/samples/generated_clip_517.wav\n",
            "Saved to /content/gansynth/samples/generated_clip_518.wav\n",
            "Saved to /content/gansynth/samples/generated_clip_519.wav\n",
            "Saved to /content/gansynth/samples/generated_clip_520.wav\n",
            "Saved to /content/gansynth/samples/generated_clip_521.wav\n",
            "Saved to /content/gansynth/samples/generated_clip_522.wav\n",
            "Saved to /content/gansynth/samples/generated_clip_523.wav\n",
            "Saved to /content/gansynth/samples/generated_clip_524.wav\n",
            "Saved to /content/gansynth/samples/generated_clip_525.wav\n",
            "Saved to /content/gansynth/samples/generated_clip_526.wav\n",
            "Saved to /content/gansynth/samples/generated_clip_527.wav\n",
            "Saved to /content/gansynth/samples/generated_clip_528.wav\n",
            "Saved to /content/gansynth/samples/generated_clip_529.wav\n",
            "Saved to /content/gansynth/samples/generated_clip_530.wav\n",
            "Saved to /content/gansynth/samples/generated_clip_531.wav\n",
            "Saved to /content/gansynth/samples/generated_clip_532.wav\n",
            "Saved to /content/gansynth/samples/generated_clip_533.wav\n",
            "Saved to /content/gansynth/samples/generated_clip_534.wav\n",
            "Saved to /content/gansynth/samples/generated_clip_535.wav\n",
            "Saved to /content/gansynth/samples/generated_clip_536.wav\n",
            "Saved to /content/gansynth/samples/generated_clip_537.wav\n",
            "Saved to /content/gansynth/samples/generated_clip_538.wav\n",
            "Saved to /content/gansynth/samples/generated_clip_539.wav\n",
            "Saved to /content/gansynth/samples/generated_clip_540.wav\n",
            "Saved to /content/gansynth/samples/generated_clip_541.wav\n",
            "Saved to /content/gansynth/samples/generated_clip_542.wav\n",
            "Saved to /content/gansynth/samples/generated_clip_543.wav\n",
            "Saved to /content/gansynth/samples/generated_clip_544.wav\n",
            "Saved to /content/gansynth/samples/generated_clip_545.wav\n",
            "Saved to /content/gansynth/samples/generated_clip_546.wav\n",
            "Saved to /content/gansynth/samples/generated_clip_547.wav\n",
            "Saved to /content/gansynth/samples/generated_clip_548.wav\n",
            "Saved to /content/gansynth/samples/generated_clip_549.wav\n",
            "Saved to /content/gansynth/samples/generated_clip_550.wav\n",
            "Saved to /content/gansynth/samples/generated_clip_551.wav\n",
            "Saved to /content/gansynth/samples/generated_clip_552.wav\n",
            "Saved to /content/gansynth/samples/generated_clip_553.wav\n",
            "Saved to /content/gansynth/samples/generated_clip_554.wav\n",
            "Saved to /content/gansynth/samples/generated_clip_555.wav\n",
            "Saved to /content/gansynth/samples/generated_clip_556.wav\n",
            "Saved to /content/gansynth/samples/generated_clip_557.wav\n",
            "Saved to /content/gansynth/samples/generated_clip_558.wav\n",
            "Saved to /content/gansynth/samples/generated_clip_559.wav\n",
            "Saved to /content/gansynth/samples/generated_clip_560.wav\n",
            "Saved to /content/gansynth/samples/generated_clip_561.wav\n",
            "Saved to /content/gansynth/samples/generated_clip_562.wav\n",
            "Saved to /content/gansynth/samples/generated_clip_563.wav\n",
            "Saved to /content/gansynth/samples/generated_clip_564.wav\n",
            "Saved to /content/gansynth/samples/generated_clip_565.wav\n",
            "Saved to /content/gansynth/samples/generated_clip_566.wav\n",
            "Saved to /content/gansynth/samples/generated_clip_567.wav\n",
            "Saved to /content/gansynth/samples/generated_clip_568.wav\n",
            "Saved to /content/gansynth/samples/generated_clip_569.wav\n",
            "Saved to /content/gansynth/samples/generated_clip_570.wav\n",
            "Saved to /content/gansynth/samples/generated_clip_571.wav\n",
            "Saved to /content/gansynth/samples/generated_clip_572.wav\n",
            "Saved to /content/gansynth/samples/generated_clip_573.wav\n",
            "Saved to /content/gansynth/samples/generated_clip_574.wav\n",
            "Saved to /content/gansynth/samples/generated_clip_575.wav\n",
            "Saved to /content/gansynth/samples/generated_clip_576.wav\n",
            "Saved to /content/gansynth/samples/generated_clip_577.wav\n",
            "Saved to /content/gansynth/samples/generated_clip_578.wav\n",
            "Saved to /content/gansynth/samples/generated_clip_579.wav\n",
            "Saved to /content/gansynth/samples/generated_clip_580.wav\n",
            "Saved to /content/gansynth/samples/generated_clip_581.wav\n",
            "Saved to /content/gansynth/samples/generated_clip_582.wav\n",
            "Saved to /content/gansynth/samples/generated_clip_583.wav\n",
            "Saved to /content/gansynth/samples/generated_clip_584.wav\n",
            "Saved to /content/gansynth/samples/generated_clip_585.wav\n",
            "Saved to /content/gansynth/samples/generated_clip_586.wav\n",
            "Saved to /content/gansynth/samples/generated_clip_587.wav\n",
            "Saved to /content/gansynth/samples/generated_clip_588.wav\n",
            "Saved to /content/gansynth/samples/generated_clip_589.wav\n",
            "Saved to /content/gansynth/samples/generated_clip_590.wav\n",
            "Saved to /content/gansynth/samples/generated_clip_591.wav\n",
            "Saved to /content/gansynth/samples/generated_clip_592.wav\n",
            "Saved to /content/gansynth/samples/generated_clip_593.wav\n",
            "Saved to /content/gansynth/samples/generated_clip_594.wav\n",
            "Saved to /content/gansynth/samples/generated_clip_595.wav\n",
            "Saved to /content/gansynth/samples/generated_clip_596.wav\n",
            "Saved to /content/gansynth/samples/generated_clip_597.wav\n",
            "Saved to /content/gansynth/samples/generated_clip_598.wav\n",
            "Saved to /content/gansynth/samples/generated_clip_599.wav\n",
            "Saved to /content/gansynth/samples/generated_clip_600.wav\n",
            "Saved to /content/gansynth/samples/generated_clip_601.wav\n",
            "Saved to /content/gansynth/samples/generated_clip_602.wav\n",
            "Saved to /content/gansynth/samples/generated_clip_603.wav\n",
            "Saved to /content/gansynth/samples/generated_clip_604.wav\n",
            "Saved to /content/gansynth/samples/generated_clip_605.wav\n",
            "Saved to /content/gansynth/samples/generated_clip_606.wav\n",
            "Saved to /content/gansynth/samples/generated_clip_607.wav\n",
            "Saved to /content/gansynth/samples/generated_clip_608.wav\n",
            "Saved to /content/gansynth/samples/generated_clip_609.wav\n",
            "Saved to /content/gansynth/samples/generated_clip_610.wav\n",
            "Saved to /content/gansynth/samples/generated_clip_611.wav\n",
            "Saved to /content/gansynth/samples/generated_clip_612.wav\n",
            "Saved to /content/gansynth/samples/generated_clip_613.wav\n",
            "Saved to /content/gansynth/samples/generated_clip_614.wav\n",
            "Saved to /content/gansynth/samples/generated_clip_615.wav\n",
            "Saved to /content/gansynth/samples/generated_clip_616.wav\n",
            "Saved to /content/gansynth/samples/generated_clip_617.wav\n",
            "Saved to /content/gansynth/samples/generated_clip_618.wav\n",
            "Saved to /content/gansynth/samples/generated_clip_619.wav\n",
            "Saved to /content/gansynth/samples/generated_clip_620.wav\n",
            "Saved to /content/gansynth/samples/generated_clip_621.wav\n",
            "Saved to /content/gansynth/samples/generated_clip_622.wav\n",
            "Saved to /content/gansynth/samples/generated_clip_623.wav\n",
            "Saved to /content/gansynth/samples/generated_clip_624.wav\n",
            "Saved to /content/gansynth/samples/generated_clip_625.wav\n",
            "Saved to /content/gansynth/samples/generated_clip_626.wav\n",
            "Saved to /content/gansynth/samples/generated_clip_627.wav\n",
            "Saved to /content/gansynth/samples/generated_clip_628.wav\n",
            "Saved to /content/gansynth/samples/generated_clip_629.wav\n",
            "Saved to /content/gansynth/samples/generated_clip_630.wav\n",
            "Saved to /content/gansynth/samples/generated_clip_631.wav\n",
            "Saved to /content/gansynth/samples/generated_clip_632.wav\n",
            "Saved to /content/gansynth/samples/generated_clip_633.wav\n",
            "Saved to /content/gansynth/samples/generated_clip_634.wav\n",
            "Saved to /content/gansynth/samples/generated_clip_635.wav\n",
            "Saved to /content/gansynth/samples/generated_clip_636.wav\n",
            "Saved to /content/gansynth/samples/generated_clip_637.wav\n",
            "Saved to /content/gansynth/samples/generated_clip_638.wav\n",
            "Saved to /content/gansynth/samples/generated_clip_639.wav\n",
            "Saved to /content/gansynth/samples/generated_clip_640.wav\n",
            "Saved to /content/gansynth/samples/generated_clip_641.wav\n",
            "Saved to /content/gansynth/samples/generated_clip_642.wav\n",
            "Saved to /content/gansynth/samples/generated_clip_643.wav\n",
            "Saved to /content/gansynth/samples/generated_clip_644.wav\n",
            "Saved to /content/gansynth/samples/generated_clip_645.wav\n",
            "Saved to /content/gansynth/samples/generated_clip_646.wav\n",
            "Saved to /content/gansynth/samples/generated_clip_647.wav\n",
            "Saved to /content/gansynth/samples/generated_clip_648.wav\n",
            "Saved to /content/gansynth/samples/generated_clip_649.wav\n",
            "Saved to /content/gansynth/samples/generated_clip_650.wav\n",
            "Saved to /content/gansynth/samples/generated_clip_651.wav\n",
            "Saved to /content/gansynth/samples/generated_clip_652.wav\n",
            "Saved to /content/gansynth/samples/generated_clip_653.wav\n",
            "Saved to /content/gansynth/samples/generated_clip_654.wav\n",
            "Saved to /content/gansynth/samples/generated_clip_655.wav\n",
            "Saved to /content/gansynth/samples/generated_clip_656.wav\n",
            "Saved to /content/gansynth/samples/generated_clip_657.wav\n",
            "Saved to /content/gansynth/samples/generated_clip_658.wav\n",
            "Saved to /content/gansynth/samples/generated_clip_659.wav\n",
            "Saved to /content/gansynth/samples/generated_clip_660.wav\n",
            "Saved to /content/gansynth/samples/generated_clip_661.wav\n",
            "Saved to /content/gansynth/samples/generated_clip_662.wav\n",
            "Saved to /content/gansynth/samples/generated_clip_663.wav\n",
            "Saved to /content/gansynth/samples/generated_clip_664.wav\n",
            "Saved to /content/gansynth/samples/generated_clip_665.wav\n",
            "Saved to /content/gansynth/samples/generated_clip_666.wav\n",
            "Saved to /content/gansynth/samples/generated_clip_667.wav\n",
            "Saved to /content/gansynth/samples/generated_clip_668.wav\n",
            "Saved to /content/gansynth/samples/generated_clip_669.wav\n",
            "Saved to /content/gansynth/samples/generated_clip_670.wav\n",
            "Saved to /content/gansynth/samples/generated_clip_671.wav\n",
            "Saved to /content/gansynth/samples/generated_clip_672.wav\n",
            "Saved to /content/gansynth/samples/generated_clip_673.wav\n",
            "Saved to /content/gansynth/samples/generated_clip_674.wav\n",
            "Saved to /content/gansynth/samples/generated_clip_675.wav\n",
            "Saved to /content/gansynth/samples/generated_clip_676.wav\n",
            "Saved to /content/gansynth/samples/generated_clip_677.wav\n",
            "Saved to /content/gansynth/samples/generated_clip_678.wav\n",
            "Saved to /content/gansynth/samples/generated_clip_679.wav\n",
            "Saved to /content/gansynth/samples/generated_clip_680.wav\n",
            "Saved to /content/gansynth/samples/generated_clip_681.wav\n",
            "Saved to /content/gansynth/samples/generated_clip_682.wav\n",
            "Saved to /content/gansynth/samples/generated_clip_683.wav\n",
            "Saved to /content/gansynth/samples/generated_clip_684.wav\n",
            "Saved to /content/gansynth/samples/generated_clip_685.wav\n",
            "Saved to /content/gansynth/samples/generated_clip_686.wav\n",
            "Saved to /content/gansynth/samples/generated_clip_687.wav\n",
            "Saved to /content/gansynth/samples/generated_clip_688.wav\n",
            "Saved to /content/gansynth/samples/generated_clip_689.wav\n",
            "Saved to /content/gansynth/samples/generated_clip_690.wav\n",
            "Saved to /content/gansynth/samples/generated_clip_691.wav\n",
            "Saved to /content/gansynth/samples/generated_clip_692.wav\n",
            "Saved to /content/gansynth/samples/generated_clip_693.wav\n",
            "Saved to /content/gansynth/samples/generated_clip_694.wav\n",
            "Saved to /content/gansynth/samples/generated_clip_695.wav\n",
            "Saved to /content/gansynth/samples/generated_clip_696.wav\n",
            "Saved to /content/gansynth/samples/generated_clip_697.wav\n",
            "Saved to /content/gansynth/samples/generated_clip_698.wav\n",
            "Saved to /content/gansynth/samples/generated_clip_699.wav\n",
            "Saved to /content/gansynth/samples/generated_clip_700.wav\n",
            "Saved to /content/gansynth/samples/generated_clip_701.wav\n",
            "Saved to /content/gansynth/samples/generated_clip_702.wav\n",
            "Saved to /content/gansynth/samples/generated_clip_703.wav\n",
            "Saved to /content/gansynth/samples/generated_clip_704.wav\n",
            "Saved to /content/gansynth/samples/generated_clip_705.wav\n",
            "Saved to /content/gansynth/samples/generated_clip_706.wav\n",
            "Saved to /content/gansynth/samples/generated_clip_707.wav\n",
            "Saved to /content/gansynth/samples/generated_clip_708.wav\n",
            "Saved to /content/gansynth/samples/generated_clip_709.wav\n",
            "Saved to /content/gansynth/samples/generated_clip_710.wav\n",
            "Saved to /content/gansynth/samples/generated_clip_711.wav\n",
            "Saved to /content/gansynth/samples/generated_clip_712.wav\n",
            "Saved to /content/gansynth/samples/generated_clip_713.wav\n",
            "Saved to /content/gansynth/samples/generated_clip_714.wav\n",
            "Saved to /content/gansynth/samples/generated_clip_715.wav\n",
            "Saved to /content/gansynth/samples/generated_clip_716.wav\n",
            "Saved to /content/gansynth/samples/generated_clip_717.wav\n",
            "Saved to /content/gansynth/samples/generated_clip_718.wav\n",
            "Saved to /content/gansynth/samples/generated_clip_719.wav\n",
            "Saved to /content/gansynth/samples/generated_clip_720.wav\n",
            "Saved to /content/gansynth/samples/generated_clip_721.wav\n",
            "Saved to /content/gansynth/samples/generated_clip_722.wav\n",
            "Saved to /content/gansynth/samples/generated_clip_723.wav\n",
            "Saved to /content/gansynth/samples/generated_clip_724.wav\n",
            "Saved to /content/gansynth/samples/generated_clip_725.wav\n",
            "Saved to /content/gansynth/samples/generated_clip_726.wav\n",
            "Saved to /content/gansynth/samples/generated_clip_727.wav\n",
            "Saved to /content/gansynth/samples/generated_clip_728.wav\n",
            "Saved to /content/gansynth/samples/generated_clip_729.wav\n",
            "Saved to /content/gansynth/samples/generated_clip_730.wav\n",
            "Saved to /content/gansynth/samples/generated_clip_731.wav\n",
            "Saved to /content/gansynth/samples/generated_clip_732.wav\n",
            "Saved to /content/gansynth/samples/generated_clip_733.wav\n",
            "Saved to /content/gansynth/samples/generated_clip_734.wav\n",
            "Saved to /content/gansynth/samples/generated_clip_735.wav\n",
            "Saved to /content/gansynth/samples/generated_clip_736.wav\n",
            "Saved to /content/gansynth/samples/generated_clip_737.wav\n",
            "Saved to /content/gansynth/samples/generated_clip_738.wav\n",
            "Saved to /content/gansynth/samples/generated_clip_739.wav\n",
            "Saved to /content/gansynth/samples/generated_clip_740.wav\n",
            "Saved to /content/gansynth/samples/generated_clip_741.wav\n",
            "Saved to /content/gansynth/samples/generated_clip_742.wav\n",
            "Saved to /content/gansynth/samples/generated_clip_743.wav\n",
            "Saved to /content/gansynth/samples/generated_clip_744.wav\n",
            "Saved to /content/gansynth/samples/generated_clip_745.wav\n",
            "Saved to /content/gansynth/samples/generated_clip_746.wav\n",
            "Saved to /content/gansynth/samples/generated_clip_747.wav\n",
            "Saved to /content/gansynth/samples/generated_clip_748.wav\n",
            "Saved to /content/gansynth/samples/generated_clip_749.wav\n",
            "Saved to /content/gansynth/samples/generated_clip_750.wav\n",
            "Saved to /content/gansynth/samples/generated_clip_751.wav\n",
            "Saved to /content/gansynth/samples/generated_clip_752.wav\n",
            "Saved to /content/gansynth/samples/generated_clip_753.wav\n",
            "Saved to /content/gansynth/samples/generated_clip_754.wav\n",
            "Saved to /content/gansynth/samples/generated_clip_755.wav\n",
            "Saved to /content/gansynth/samples/generated_clip_756.wav\n",
            "Saved to /content/gansynth/samples/generated_clip_757.wav\n",
            "Saved to /content/gansynth/samples/generated_clip_758.wav\n",
            "Saved to /content/gansynth/samples/generated_clip_759.wav\n",
            "Saved to /content/gansynth/samples/generated_clip_760.wav\n",
            "Saved to /content/gansynth/samples/generated_clip_761.wav\n",
            "Saved to /content/gansynth/samples/generated_clip_762.wav\n",
            "Saved to /content/gansynth/samples/generated_clip_763.wav\n",
            "Saved to /content/gansynth/samples/generated_clip_764.wav\n",
            "Saved to /content/gansynth/samples/generated_clip_765.wav\n",
            "Saved to /content/gansynth/samples/generated_clip_766.wav\n",
            "Saved to /content/gansynth/samples/generated_clip_767.wav\n",
            "Saved to /content/gansynth/samples/generated_clip_768.wav\n",
            "Saved to /content/gansynth/samples/generated_clip_769.wav\n",
            "Saved to /content/gansynth/samples/generated_clip_770.wav\n",
            "Saved to /content/gansynth/samples/generated_clip_771.wav\n",
            "Saved to /content/gansynth/samples/generated_clip_772.wav\n",
            "Saved to /content/gansynth/samples/generated_clip_773.wav\n",
            "Saved to /content/gansynth/samples/generated_clip_774.wav\n",
            "Saved to /content/gansynth/samples/generated_clip_775.wav\n",
            "Saved to /content/gansynth/samples/generated_clip_776.wav\n",
            "Saved to /content/gansynth/samples/generated_clip_777.wav\n",
            "Saved to /content/gansynth/samples/generated_clip_778.wav\n",
            "Saved to /content/gansynth/samples/generated_clip_779.wav\n",
            "Saved to /content/gansynth/samples/generated_clip_780.wav\n",
            "Saved to /content/gansynth/samples/generated_clip_781.wav\n",
            "Saved to /content/gansynth/samples/generated_clip_782.wav\n",
            "Saved to /content/gansynth/samples/generated_clip_783.wav\n",
            "Saved to /content/gansynth/samples/generated_clip_784.wav\n",
            "Saved to /content/gansynth/samples/generated_clip_785.wav\n",
            "Saved to /content/gansynth/samples/generated_clip_786.wav\n",
            "Saved to /content/gansynth/samples/generated_clip_787.wav\n",
            "Saved to /content/gansynth/samples/generated_clip_788.wav\n",
            "Saved to /content/gansynth/samples/generated_clip_789.wav\n",
            "Saved to /content/gansynth/samples/generated_clip_790.wav\n",
            "Saved to /content/gansynth/samples/generated_clip_791.wav\n",
            "Saved to /content/gansynth/samples/generated_clip_792.wav\n",
            "Saved to /content/gansynth/samples/generated_clip_793.wav\n",
            "Saved to /content/gansynth/samples/generated_clip_794.wav\n",
            "Saved to /content/gansynth/samples/generated_clip_795.wav\n",
            "Saved to /content/gansynth/samples/generated_clip_796.wav\n",
            "Saved to /content/gansynth/samples/generated_clip_797.wav\n",
            "Saved to /content/gansynth/samples/generated_clip_798.wav\n",
            "Saved to /content/gansynth/samples/generated_clip_799.wav\n",
            "Saved to /content/gansynth/samples/generated_clip_800.wav\n",
            "Saved to /content/gansynth/samples/generated_clip_801.wav\n",
            "Saved to /content/gansynth/samples/generated_clip_802.wav\n",
            "Saved to /content/gansynth/samples/generated_clip_803.wav\n",
            "Saved to /content/gansynth/samples/generated_clip_804.wav\n",
            "Saved to /content/gansynth/samples/generated_clip_805.wav\n",
            "Saved to /content/gansynth/samples/generated_clip_806.wav\n",
            "Saved to /content/gansynth/samples/generated_clip_807.wav\n",
            "Saved to /content/gansynth/samples/generated_clip_808.wav\n",
            "Saved to /content/gansynth/samples/generated_clip_809.wav\n",
            "Saved to /content/gansynth/samples/generated_clip_810.wav\n",
            "Saved to /content/gansynth/samples/generated_clip_811.wav\n",
            "Saved to /content/gansynth/samples/generated_clip_812.wav\n",
            "Saved to /content/gansynth/samples/generated_clip_813.wav\n",
            "Saved to /content/gansynth/samples/generated_clip_814.wav\n",
            "Saved to /content/gansynth/samples/generated_clip_815.wav\n",
            "Saved to /content/gansynth/samples/generated_clip_816.wav\n",
            "Saved to /content/gansynth/samples/generated_clip_817.wav\n",
            "Saved to /content/gansynth/samples/generated_clip_818.wav\n",
            "Saved to /content/gansynth/samples/generated_clip_819.wav\n",
            "Saved to /content/gansynth/samples/generated_clip_820.wav\n",
            "Saved to /content/gansynth/samples/generated_clip_821.wav\n",
            "Saved to /content/gansynth/samples/generated_clip_822.wav\n",
            "Saved to /content/gansynth/samples/generated_clip_823.wav\n",
            "Saved to /content/gansynth/samples/generated_clip_824.wav\n",
            "Saved to /content/gansynth/samples/generated_clip_825.wav\n",
            "Saved to /content/gansynth/samples/generated_clip_826.wav\n",
            "Saved to /content/gansynth/samples/generated_clip_827.wav\n",
            "Saved to /content/gansynth/samples/generated_clip_828.wav\n",
            "Saved to /content/gansynth/samples/generated_clip_829.wav\n",
            "Saved to /content/gansynth/samples/generated_clip_830.wav\n",
            "Saved to /content/gansynth/samples/generated_clip_831.wav\n",
            "Saved to /content/gansynth/samples/generated_clip_832.wav\n",
            "Saved to /content/gansynth/samples/generated_clip_833.wav\n",
            "Saved to /content/gansynth/samples/generated_clip_834.wav\n",
            "Saved to /content/gansynth/samples/generated_clip_835.wav\n",
            "Saved to /content/gansynth/samples/generated_clip_836.wav\n",
            "Saved to /content/gansynth/samples/generated_clip_837.wav\n",
            "Saved to /content/gansynth/samples/generated_clip_838.wav\n",
            "Saved to /content/gansynth/samples/generated_clip_839.wav\n",
            "Saved to /content/gansynth/samples/generated_clip_840.wav\n",
            "Saved to /content/gansynth/samples/generated_clip_841.wav\n",
            "Saved to /content/gansynth/samples/generated_clip_842.wav\n",
            "Saved to /content/gansynth/samples/generated_clip_843.wav\n",
            "Saved to /content/gansynth/samples/generated_clip_844.wav\n",
            "Saved to /content/gansynth/samples/generated_clip_845.wav\n",
            "Saved to /content/gansynth/samples/generated_clip_846.wav\n",
            "Saved to /content/gansynth/samples/generated_clip_847.wav\n",
            "Saved to /content/gansynth/samples/generated_clip_848.wav\n",
            "Saved to /content/gansynth/samples/generated_clip_849.wav\n",
            "Saved to /content/gansynth/samples/generated_clip_850.wav\n",
            "Saved to /content/gansynth/samples/generated_clip_851.wav\n",
            "Saved to /content/gansynth/samples/generated_clip_852.wav\n",
            "Saved to /content/gansynth/samples/generated_clip_853.wav\n",
            "Saved to /content/gansynth/samples/generated_clip_854.wav\n",
            "Saved to /content/gansynth/samples/generated_clip_855.wav\n",
            "Saved to /content/gansynth/samples/generated_clip_856.wav\n",
            "Saved to /content/gansynth/samples/generated_clip_857.wav\n",
            "Saved to /content/gansynth/samples/generated_clip_858.wav\n",
            "Saved to /content/gansynth/samples/generated_clip_859.wav\n",
            "Saved to /content/gansynth/samples/generated_clip_860.wav\n",
            "Saved to /content/gansynth/samples/generated_clip_861.wav\n",
            "Saved to /content/gansynth/samples/generated_clip_862.wav\n",
            "Saved to /content/gansynth/samples/generated_clip_863.wav\n",
            "Saved to /content/gansynth/samples/generated_clip_864.wav\n",
            "Saved to /content/gansynth/samples/generated_clip_865.wav\n",
            "Saved to /content/gansynth/samples/generated_clip_866.wav\n",
            "Saved to /content/gansynth/samples/generated_clip_867.wav\n",
            "Saved to /content/gansynth/samples/generated_clip_868.wav\n",
            "Saved to /content/gansynth/samples/generated_clip_869.wav\n",
            "Saved to /content/gansynth/samples/generated_clip_870.wav\n",
            "Saved to /content/gansynth/samples/generated_clip_871.wav\n",
            "Saved to /content/gansynth/samples/generated_clip_872.wav\n",
            "Saved to /content/gansynth/samples/generated_clip_873.wav\n",
            "Saved to /content/gansynth/samples/generated_clip_874.wav\n",
            "Saved to /content/gansynth/samples/generated_clip_875.wav\n",
            "Saved to /content/gansynth/samples/generated_clip_876.wav\n",
            "Saved to /content/gansynth/samples/generated_clip_877.wav\n",
            "Saved to /content/gansynth/samples/generated_clip_878.wav\n",
            "Saved to /content/gansynth/samples/generated_clip_879.wav\n",
            "Saved to /content/gansynth/samples/generated_clip_880.wav\n",
            "Saved to /content/gansynth/samples/generated_clip_881.wav\n",
            "Saved to /content/gansynth/samples/generated_clip_882.wav\n",
            "Saved to /content/gansynth/samples/generated_clip_883.wav\n",
            "Saved to /content/gansynth/samples/generated_clip_884.wav\n",
            "Saved to /content/gansynth/samples/generated_clip_885.wav\n",
            "Saved to /content/gansynth/samples/generated_clip_886.wav\n",
            "Saved to /content/gansynth/samples/generated_clip_887.wav\n",
            "Saved to /content/gansynth/samples/generated_clip_888.wav\n",
            "Saved to /content/gansynth/samples/generated_clip_889.wav\n",
            "Saved to /content/gansynth/samples/generated_clip_890.wav\n",
            "Saved to /content/gansynth/samples/generated_clip_891.wav\n",
            "Saved to /content/gansynth/samples/generated_clip_892.wav\n",
            "Saved to /content/gansynth/samples/generated_clip_893.wav\n",
            "Saved to /content/gansynth/samples/generated_clip_894.wav\n",
            "Saved to /content/gansynth/samples/generated_clip_895.wav\n",
            "Saved to /content/gansynth/samples/generated_clip_896.wav\n",
            "Saved to /content/gansynth/samples/generated_clip_897.wav\n",
            "Saved to /content/gansynth/samples/generated_clip_898.wav\n",
            "Saved to /content/gansynth/samples/generated_clip_899.wav\n",
            "Saved to /content/gansynth/samples/generated_clip_900.wav\n",
            "Saved to /content/gansynth/samples/generated_clip_901.wav\n",
            "Saved to /content/gansynth/samples/generated_clip_902.wav\n",
            "Saved to /content/gansynth/samples/generated_clip_903.wav\n",
            "Saved to /content/gansynth/samples/generated_clip_904.wav\n",
            "Saved to /content/gansynth/samples/generated_clip_905.wav\n",
            "Saved to /content/gansynth/samples/generated_clip_906.wav\n",
            "Saved to /content/gansynth/samples/generated_clip_907.wav\n",
            "Saved to /content/gansynth/samples/generated_clip_908.wav\n",
            "Saved to /content/gansynth/samples/generated_clip_909.wav\n",
            "Saved to /content/gansynth/samples/generated_clip_910.wav\n",
            "Saved to /content/gansynth/samples/generated_clip_911.wav\n",
            "Saved to /content/gansynth/samples/generated_clip_912.wav\n",
            "Saved to /content/gansynth/samples/generated_clip_913.wav\n",
            "Saved to /content/gansynth/samples/generated_clip_914.wav\n",
            "Saved to /content/gansynth/samples/generated_clip_915.wav\n",
            "Saved to /content/gansynth/samples/generated_clip_916.wav\n",
            "Saved to /content/gansynth/samples/generated_clip_917.wav\n",
            "Saved to /content/gansynth/samples/generated_clip_918.wav\n",
            "Saved to /content/gansynth/samples/generated_clip_919.wav\n",
            "Saved to /content/gansynth/samples/generated_clip_920.wav\n",
            "Saved to /content/gansynth/samples/generated_clip_921.wav\n",
            "Saved to /content/gansynth/samples/generated_clip_922.wav\n",
            "Saved to /content/gansynth/samples/generated_clip_923.wav\n",
            "Saved to /content/gansynth/samples/generated_clip_924.wav\n",
            "Saved to /content/gansynth/samples/generated_clip_925.wav\n",
            "Saved to /content/gansynth/samples/generated_clip_926.wav\n",
            "Saved to /content/gansynth/samples/generated_clip_927.wav\n",
            "Saved to /content/gansynth/samples/generated_clip_928.wav\n",
            "Saved to /content/gansynth/samples/generated_clip_929.wav\n",
            "Saved to /content/gansynth/samples/generated_clip_930.wav\n",
            "Saved to /content/gansynth/samples/generated_clip_931.wav\n",
            "Saved to /content/gansynth/samples/generated_clip_932.wav\n",
            "Saved to /content/gansynth/samples/generated_clip_933.wav\n",
            "Saved to /content/gansynth/samples/generated_clip_934.wav\n",
            "Saved to /content/gansynth/samples/generated_clip_935.wav\n",
            "Saved to /content/gansynth/samples/generated_clip_936.wav\n",
            "Saved to /content/gansynth/samples/generated_clip_937.wav\n",
            "Saved to /content/gansynth/samples/generated_clip_938.wav\n",
            "Saved to /content/gansynth/samples/generated_clip_939.wav\n",
            "Saved to /content/gansynth/samples/generated_clip_940.wav\n",
            "Saved to /content/gansynth/samples/generated_clip_941.wav\n",
            "Saved to /content/gansynth/samples/generated_clip_942.wav\n",
            "Saved to /content/gansynth/samples/generated_clip_943.wav\n",
            "Saved to /content/gansynth/samples/generated_clip_944.wav\n",
            "Saved to /content/gansynth/samples/generated_clip_945.wav\n",
            "Saved to /content/gansynth/samples/generated_clip_946.wav\n",
            "Saved to /content/gansynth/samples/generated_clip_947.wav\n",
            "Saved to /content/gansynth/samples/generated_clip_948.wav\n",
            "Saved to /content/gansynth/samples/generated_clip_949.wav\n",
            "Saved to /content/gansynth/samples/generated_clip_950.wav\n",
            "Saved to /content/gansynth/samples/generated_clip_951.wav\n",
            "Saved to /content/gansynth/samples/generated_clip_952.wav\n",
            "Saved to /content/gansynth/samples/generated_clip_953.wav\n",
            "Saved to /content/gansynth/samples/generated_clip_954.wav\n",
            "Saved to /content/gansynth/samples/generated_clip_955.wav\n",
            "Saved to /content/gansynth/samples/generated_clip_956.wav\n",
            "Saved to /content/gansynth/samples/generated_clip_957.wav\n",
            "Saved to /content/gansynth/samples/generated_clip_958.wav\n",
            "Saved to /content/gansynth/samples/generated_clip_959.wav\n",
            "Saved to /content/gansynth/samples/generated_clip_960.wav\n",
            "Saved to /content/gansynth/samples/generated_clip_961.wav\n",
            "Saved to /content/gansynth/samples/generated_clip_962.wav\n",
            "Saved to /content/gansynth/samples/generated_clip_963.wav\n",
            "Saved to /content/gansynth/samples/generated_clip_964.wav\n",
            "Saved to /content/gansynth/samples/generated_clip_965.wav\n",
            "Saved to /content/gansynth/samples/generated_clip_966.wav\n",
            "Saved to /content/gansynth/samples/generated_clip_967.wav\n",
            "Saved to /content/gansynth/samples/generated_clip_968.wav\n",
            "Saved to /content/gansynth/samples/generated_clip_969.wav\n",
            "Saved to /content/gansynth/samples/generated_clip_970.wav\n",
            "Saved to /content/gansynth/samples/generated_clip_971.wav\n",
            "Saved to /content/gansynth/samples/generated_clip_972.wav\n",
            "Saved to /content/gansynth/samples/generated_clip_973.wav\n",
            "Saved to /content/gansynth/samples/generated_clip_974.wav\n",
            "Saved to /content/gansynth/samples/generated_clip_975.wav\n",
            "Saved to /content/gansynth/samples/generated_clip_976.wav\n",
            "Saved to /content/gansynth/samples/generated_clip_977.wav\n",
            "Saved to /content/gansynth/samples/generated_clip_978.wav\n",
            "Saved to /content/gansynth/samples/generated_clip_979.wav\n",
            "Saved to /content/gansynth/samples/generated_clip_980.wav\n",
            "Saved to /content/gansynth/samples/generated_clip_981.wav\n",
            "Saved to /content/gansynth/samples/generated_clip_982.wav\n",
            "Saved to /content/gansynth/samples/generated_clip_983.wav\n",
            "Saved to /content/gansynth/samples/generated_clip_984.wav\n",
            "Saved to /content/gansynth/samples/generated_clip_985.wav\n",
            "Saved to /content/gansynth/samples/generated_clip_986.wav\n",
            "Saved to /content/gansynth/samples/generated_clip_987.wav\n",
            "Saved to /content/gansynth/samples/generated_clip_988.wav\n",
            "Saved to /content/gansynth/samples/generated_clip_989.wav\n",
            "Saved to /content/gansynth/samples/generated_clip_990.wav\n",
            "Saved to /content/gansynth/samples/generated_clip_991.wav\n",
            "Saved to /content/gansynth/samples/generated_clip_992.wav\n",
            "Saved to /content/gansynth/samples/generated_clip_993.wav\n",
            "Saved to /content/gansynth/samples/generated_clip_994.wav\n",
            "Saved to /content/gansynth/samples/generated_clip_995.wav\n",
            "Saved to /content/gansynth/samples/generated_clip_996.wav\n",
            "Saved to /content/gansynth/samples/generated_clip_997.wav\n",
            "Saved to /content/gansynth/samples/generated_clip_998.wav\n",
            "Saved to /content/gansynth/samples/generated_clip_999.wav\n",
            "Saved to /content/gansynth/samples/generated_clip_1000.wav\n",
            "Saved to /content/gansynth/samples/generated_clip_1001.wav\n",
            "Saved to /content/gansynth/samples/generated_clip_1002.wav\n",
            "Saved to /content/gansynth/samples/generated_clip_1003.wav\n",
            "Saved to /content/gansynth/samples/generated_clip_1004.wav\n",
            "Saved to /content/gansynth/samples/generated_clip_1005.wav\n",
            "Saved to /content/gansynth/samples/generated_clip_1006.wav\n",
            "Saved to /content/gansynth/samples/generated_clip_1007.wav\n",
            "Saved to /content/gansynth/samples/generated_clip_1008.wav\n",
            "Saved to /content/gansynth/samples/generated_clip_1009.wav\n",
            "Saved to /content/gansynth/samples/generated_clip_1010.wav\n",
            "Saved to /content/gansynth/samples/generated_clip_1011.wav\n",
            "Saved to /content/gansynth/samples/generated_clip_1012.wav\n",
            "Saved to /content/gansynth/samples/generated_clip_1013.wav\n",
            "Saved to /content/gansynth/samples/generated_clip_1014.wav\n",
            "Saved to /content/gansynth/samples/generated_clip_1015.wav\n",
            "Saved to /content/gansynth/samples/generated_clip_1016.wav\n",
            "Saved to /content/gansynth/samples/generated_clip_1017.wav\n",
            "Saved to /content/gansynth/samples/generated_clip_1018.wav\n",
            "Saved to /content/gansynth/samples/generated_clip_1019.wav\n",
            "Saved to /content/gansynth/samples/generated_clip_1020.wav\n",
            "Saved to /content/gansynth/samples/generated_clip_1021.wav\n",
            "Saved to /content/gansynth/samples/generated_clip_1022.wav\n",
            "Saved to /content/gansynth/samples/generated_clip_1023.wav\n"
          ]
        }
      ],
      "source": [
        "def upload_midi():\n",
        "\n",
        "    if True:\n",
        "      file_list = upload()\n",
        "      midi_path = file_list[0]\n",
        "    else:\n",
        "      midi_path = \"/content/anthem.mid\"\n",
        "      #midi_path = \"/content/gansynth/midi/bach.mid\"\n",
        "      #midi_path = MIDI_SONG_DEFAULT\n",
        "\n",
        "    ns, notes = load_midi(midi_path)\n",
        "    print('Loaded {}'.format(midi_path))\n",
        "    note_seq.plot_sequence(ns)\n",
        "\n",
        "    return ns, notes\n",
        "\n",
        "def generate_n_versions(n, notes):\n",
        "  \n",
        "    latent_vectors = []\n",
        "    generated_audio = []\n",
        "\n",
        "    for i in range(n):\n",
        "        # Get random instrument\n",
        "        if False:\n",
        "            l = int(notes['end_times'][-1] - 100)\n",
        "            print(l)\n",
        "            z_instruments, t_instruments = gu.get_random_instruments(model, notes['end_times'][-1], secs_per_instrument=l)\n",
        "            print(len(z_instruments), len(t_instruments))\n",
        "            z_instruments = np.asarray(z_instruments[:1])\n",
        "            t_instruments = np.asarray([-0.0001, t_instruments[-1]])\n",
        "\n",
        "            # Get latent vectors for each note\n",
        "            z_notes = gu.get_z_notes(notes['start_times'], z_instruments, t_instruments)\n",
        "\n",
        "        z_instrument = model.generate_z(1)\n",
        "        z_notes = np.repeat(z_instrument, notes['pitches'].shape[0], axis=0)\n",
        "\n",
        "        # Makes audio samples with latent vector z\n",
        "        audio_notes = model.generate_samples_from_z(z_notes, notes['pitches'])\n",
        "\n",
        "        print(\"Instrument: {}\".format(i))\n",
        "        \n",
        "        audio_clip = combine_notes(audio_notes,\n",
        "                                  notes['start_times'],\n",
        "                                  notes['end_times'],\n",
        "                                  notes['velocities'], sr=22050)\n",
        "        play(audio_clip, sample_rate=22050)\n",
        "\n",
        "        latent_vectors.append(z_instrument)\n",
        "        generated_audio.append(audio_clip)\n",
        "\n",
        "    return latent_vectors, generated_audio\n",
        "\n",
        "def get_rock_score(song):\n",
        "    pass\n",
        "    # call model\n",
        "    # get rock index\n",
        "    # return\n",
        "\n",
        "ns, notes = upload_midi()\n",
        "z_vectors, audio = generate_n_versions(1024, notes)\n",
        "\n",
        "# Save results\n",
        "fname = os.path.join(output_dir, f'z_vectors.npy')\n",
        "np.save(fname, z_vectors)\n",
        "\n",
        "for i, song in enumerate(audio):\n",
        "    fname = os.path.join(output_dir, f'generated_clip_{i}.wav')\n",
        "    gu.save_wav(song, fname)\n",
        "\n",
        "#rock_scores = [get_rock_score(a) for a in audio]\n",
        "#i = np.argmax(rock_scores)\n",
        "#best_z = z_vectors[i]"
      ]
    },
    {
      "cell_type": "code",
      "source": [
        "# Install the PyDrive wrapper & import libraries.\n",
        "# This only needs to be done once in a notebook.\n",
        "!pip install -U -q PyDrive\n",
        "!pip install httplib2==0.15.0\n",
        "from pydrive.auth import GoogleAuth\n",
        "from pydrive.drive import GoogleDrive\n",
        "from google.colab import auth\n",
        "from oauth2client.client import GoogleCredentials\n",
        "\n",
        "# Authenticate and create the PyDrive client.\n",
        "# This only needs to be done once in a notebook.\n",
        "auth.authenticate_user()\n",
        "gauth = GoogleAuth()\n",
        "gauth.credentials = GoogleCredentials.get_application_default()\n",
        "drive = GoogleDrive(gauth)\n",
        "\n",
        "# Create & upload a file.\n",
        "#!zip /content/gansynth/samples.zip -r /content/gansynth/samples\n",
        "uploaded = drive.CreateFile({'title': 'samples.zip'})\n",
        "uploaded.SetContentFile('/content/gansynth/samples.zip')\n",
        "uploaded.Upload()\n",
        "print('Uploaded file with ID {}'.format(uploaded.get('id')))"
      ],
      "metadata": {
        "colab": {
          "base_uri": "https://localhost:8080/"
        },
        "id": "BqEBcO83LjXe",
        "outputId": "f358a0c3-7572-43a1-b92c-7a19249ffbed"
      },
      "execution_count": null,
      "outputs": [
        {
          "output_type": "stream",
          "name": "stdout",
          "text": [
            "Looking in indexes: https://pypi.org/simple, https://us-python.pkg.dev/colab-wheels/public/simple/\n",
            "Requirement already satisfied: httplib2==0.15.0 in /usr/local/lib/python3.7/dist-packages (0.15.0)\n",
            "Uploaded file with ID 1BzCIJTK_OJhOKTA9HvRqRlRmyGgSzc9C\n"
          ]
        }
      ]
    },
    {
      "cell_type": "code",
      "execution_count": null,
      "metadata": {
        "id": "LERTvylxrKIQ"
      },
      "outputs": [],
      "source": [
        "!zip /content/gansynth/samples.zip -r /content/gansynth/samples\n",
        "download('/content/gansynth/samples.zip')"
      ]
    },
    {
      "cell_type": "markdown",
      "source": [
        "## Loading optimal latent vectors\n",
        "We load the list of sampled latent vectors and extract the best one as scored by the music genre classificator."
      ],
      "metadata": {
        "id": "ZYaBjPHpCUGB"
      }
    },
    {
      "cell_type": "code",
      "source": [
        "import numpy as np\n",
        "\n",
        "best_idx = {\n",
        "    'acoustic': [393, 530, 978, 701, 469, 363, 460, 961, 654, 706],\n",
        "    'all_instruments': [285, 304, 916,  61, 682, 831, 996, 160, 408, 881]\n",
        "}\n",
        "\n",
        "model_type = 'acoustic' if 'acoustic' in CKPT_DIR else 'all_instruments'\n",
        "best_idx = best_idx[model_type][0]\n",
        "\n",
        "print(f'Upload {model_type} z_vectors')\n",
        "z_list = upload()\n",
        "z_list = z_list[0]\n",
        "z_list = np.load(z_list)  \n",
        "\n",
        "print('Upload midi file')\n",
        "midi_path = upload()\n",
        "midi_path = midi_path[0]"
      ],
      "metadata": {
        "colab": {
          "resources": {
            "http://localhost:8080/nbextensions/google.colab/files.js": {
              "data": "Ly8gQ29weXJpZ2h0IDIwMTcgR29vZ2xlIExMQwovLwovLyBMaWNlbnNlZCB1bmRlciB0aGUgQXBhY2hlIExpY2Vuc2UsIFZlcnNpb24gMi4wICh0aGUgIkxpY2Vuc2UiKTsKLy8geW91IG1heSBub3QgdXNlIHRoaXMgZmlsZSBleGNlcHQgaW4gY29tcGxpYW5jZSB3aXRoIHRoZSBMaWNlbnNlLgovLyBZb3UgbWF5IG9idGFpbiBhIGNvcHkgb2YgdGhlIExpY2Vuc2UgYXQKLy8KLy8gICAgICBodHRwOi8vd3d3LmFwYWNoZS5vcmcvbGljZW5zZXMvTElDRU5TRS0yLjAKLy8KLy8gVW5sZXNzIHJlcXVpcmVkIGJ5IGFwcGxpY2FibGUgbGF3IG9yIGFncmVlZCB0byBpbiB3cml0aW5nLCBzb2Z0d2FyZQovLyBkaXN0cmlidXRlZCB1bmRlciB0aGUgTGljZW5zZSBpcyBkaXN0cmlidXRlZCBvbiBhbiAiQVMgSVMiIEJBU0lTLAovLyBXSVRIT1VUIFdBUlJBTlRJRVMgT1IgQ09ORElUSU9OUyBPRiBBTlkgS0lORCwgZWl0aGVyIGV4cHJlc3Mgb3IgaW1wbGllZC4KLy8gU2VlIHRoZSBMaWNlbnNlIGZvciB0aGUgc3BlY2lmaWMgbGFuZ3VhZ2UgZ292ZXJuaW5nIHBlcm1pc3Npb25zIGFuZAovLyBsaW1pdGF0aW9ucyB1bmRlciB0aGUgTGljZW5zZS4KCi8qKgogKiBAZmlsZW92ZXJ2aWV3IEhlbHBlcnMgZm9yIGdvb2dsZS5jb2xhYiBQeXRob24gbW9kdWxlLgogKi8KKGZ1bmN0aW9uKHNjb3BlKSB7CmZ1bmN0aW9uIHNwYW4odGV4dCwgc3R5bGVBdHRyaWJ1dGVzID0ge30pIHsKICBjb25zdCBlbGVtZW50ID0gZG9jdW1lbnQuY3JlYXRlRWxlbWVudCgnc3BhbicpOwogIGVsZW1lbnQudGV4dENvbnRlbnQgPSB0ZXh0OwogIGZvciAoY29uc3Qga2V5IG9mIE9iamVjdC5rZXlzKHN0eWxlQXR0cmlidXRlcykpIHsKICAgIGVsZW1lbnQuc3R5bGVba2V5XSA9IHN0eWxlQXR0cmlidXRlc1trZXldOwogIH0KICByZXR1cm4gZWxlbWVudDsKfQoKLy8gTWF4IG51bWJlciBvZiBieXRlcyB3aGljaCB3aWxsIGJlIHVwbG9hZGVkIGF0IGEgdGltZS4KY29uc3QgTUFYX1BBWUxPQURfU0laRSA9IDEwMCAqIDEwMjQ7CgpmdW5jdGlvbiBfdXBsb2FkRmlsZXMoaW5wdXRJZCwgb3V0cHV0SWQpIHsKICBjb25zdCBzdGVwcyA9IHVwbG9hZEZpbGVzU3RlcChpbnB1dElkLCBvdXRwdXRJZCk7CiAgY29uc3Qgb3V0cHV0RWxlbWVudCA9IGRvY3VtZW50LmdldEVsZW1lbnRCeUlkKG91dHB1dElkKTsKICAvLyBDYWNoZSBzdGVwcyBvbiB0aGUgb3V0cHV0RWxlbWVudCB0byBtYWtlIGl0IGF2YWlsYWJsZSBmb3IgdGhlIG5leHQgY2FsbAogIC8vIHRvIHVwbG9hZEZpbGVzQ29udGludWUgZnJvbSBQeXRob24uCiAgb3V0cHV0RWxlbWVudC5zdGVwcyA9IHN0ZXBzOwoKICByZXR1cm4gX3VwbG9hZEZpbGVzQ29udGludWUob3V0cHV0SWQpOwp9CgovLyBUaGlzIGlzIHJvdWdobHkgYW4gYXN5bmMgZ2VuZXJhdG9yIChub3Qgc3VwcG9ydGVkIGluIHRoZSBicm93c2VyIHlldCksCi8vIHdoZXJlIHRoZXJlIGFyZSBtdWx0aXBsZSBhc3luY2hyb25vdXMgc3RlcHMgYW5kIHRoZSBQeXRob24gc2lkZSBpcyBnb2luZwovLyB0byBwb2xsIGZvciBjb21wbGV0aW9uIG9mIGVhY2ggc3RlcC4KLy8gVGhpcyB1c2VzIGEgUHJvbWlzZSB0byBibG9jayB0aGUgcHl0aG9uIHNpZGUgb24gY29tcGxldGlvbiBvZiBlYWNoIHN0ZXAsCi8vIHRoZW4gcGFzc2VzIHRoZSByZXN1bHQgb2YgdGhlIHByZXZpb3VzIHN0ZXAgYXMgdGhlIGlucHV0IHRvIHRoZSBuZXh0IHN0ZXAuCmZ1bmN0aW9uIF91cGxvYWRGaWxlc0NvbnRpbnVlKG91dHB1dElkKSB7CiAgY29uc3Qgb3V0cHV0RWxlbWVudCA9IGRvY3VtZW50LmdldEVsZW1lbnRCeUlkKG91dHB1dElkKTsKICBjb25zdCBzdGVwcyA9IG91dHB1dEVsZW1lbnQuc3RlcHM7CgogIGNvbnN0IG5leHQgPSBzdGVwcy5uZXh0KG91dHB1dEVsZW1lbnQubGFzdFByb21pc2VWYWx1ZSk7CiAgcmV0dXJuIFByb21pc2UucmVzb2x2ZShuZXh0LnZhbHVlLnByb21pc2UpLnRoZW4oKHZhbHVlKSA9PiB7CiAgICAvLyBDYWNoZSB0aGUgbGFzdCBwcm9taXNlIHZhbHVlIHRvIG1ha2UgaXQgYXZhaWxhYmxlIHRvIHRoZSBuZXh0CiAgICAvLyBzdGVwIG9mIHRoZSBnZW5lcmF0b3IuCiAgICBvdXRwdXRFbGVtZW50Lmxhc3RQcm9taXNlVmFsdWUgPSB2YWx1ZTsKICAgIHJldHVybiBuZXh0LnZhbHVlLnJlc3BvbnNlOwogIH0pOwp9CgovKioKICogR2VuZXJhdG9yIGZ1bmN0aW9uIHdoaWNoIGlzIGNhbGxlZCBiZXR3ZWVuIGVhY2ggYXN5bmMgc3RlcCBvZiB0aGUgdXBsb2FkCiAqIHByb2Nlc3MuCiAqIEBwYXJhbSB7c3RyaW5nfSBpbnB1dElkIEVsZW1lbnQgSUQgb2YgdGhlIGlucHV0IGZpbGUgcGlja2VyIGVsZW1lbnQuCiAqIEBwYXJhbSB7c3RyaW5nfSBvdXRwdXRJZCBFbGVtZW50IElEIG9mIHRoZSBvdXRwdXQgZGlzcGxheS4KICogQHJldHVybiB7IUl0ZXJhYmxlPCFPYmplY3Q+fSBJdGVyYWJsZSBvZiBuZXh0IHN0ZXBzLgogKi8KZnVuY3Rpb24qIHVwbG9hZEZpbGVzU3RlcChpbnB1dElkLCBvdXRwdXRJZCkgewogIGNvbnN0IGlucHV0RWxlbWVudCA9IGRvY3VtZW50LmdldEVsZW1lbnRCeUlkKGlucHV0SWQpOwogIGlucHV0RWxlbWVudC5kaXNhYmxlZCA9IGZhbHNlOwoKICBjb25zdCBvdXRwdXRFbGVtZW50ID0gZG9jdW1lbnQuZ2V0RWxlbWVudEJ5SWQob3V0cHV0SWQpOwogIG91dHB1dEVsZW1lbnQuaW5uZXJIVE1MID0gJyc7CgogIGNvbnN0IHBpY2tlZFByb21pc2UgPSBuZXcgUHJvbWlzZSgocmVzb2x2ZSkgPT4gewogICAgaW5wdXRFbGVtZW50LmFkZEV2ZW50TGlzdGVuZXIoJ2NoYW5nZScsIChlKSA9PiB7CiAgICAgIHJlc29sdmUoZS50YXJnZXQuZmlsZXMpOwogICAgfSk7CiAgfSk7CgogIGNvbnN0IGNhbmNlbCA9IGRvY3VtZW50LmNyZWF0ZUVsZW1lbnQoJ2J1dHRvbicpOwogIGlucHV0RWxlbWVudC5wYXJlbnRFbGVtZW50LmFwcGVuZENoaWxkKGNhbmNlbCk7CiAgY2FuY2VsLnRleHRDb250ZW50ID0gJ0NhbmNlbCB1cGxvYWQnOwogIGNvbnN0IGNhbmNlbFByb21pc2UgPSBuZXcgUHJvbWlzZSgocmVzb2x2ZSkgPT4gewogICAgY2FuY2VsLm9uY2xpY2sgPSAoKSA9PiB7CiAgICAgIHJlc29sdmUobnVsbCk7CiAgICB9OwogIH0pOwoKICAvLyBXYWl0IGZvciB0aGUgdXNlciB0byBwaWNrIHRoZSBmaWxlcy4KICBjb25zdCBmaWxlcyA9IHlpZWxkIHsKICAgIHByb21pc2U6IFByb21pc2UucmFjZShbcGlja2VkUHJvbWlzZSwgY2FuY2VsUHJvbWlzZV0pLAogICAgcmVzcG9uc2U6IHsKICAgICAgYWN0aW9uOiAnc3RhcnRpbmcnLAogICAgfQogIH07CgogIGNhbmNlbC5yZW1vdmUoKTsKCiAgLy8gRGlzYWJsZSB0aGUgaW5wdXQgZWxlbWVudCBzaW5jZSBmdXJ0aGVyIHBpY2tzIGFyZSBub3QgYWxsb3dlZC4KICBpbnB1dEVsZW1lbnQuZGlzYWJsZWQgPSB0cnVlOwoKICBpZiAoIWZpbGVzKSB7CiAgICByZXR1cm4gewogICAgICByZXNwb25zZTogewogICAgICAgIGFjdGlvbjogJ2NvbXBsZXRlJywKICAgICAgfQogICAgfTsKICB9CgogIGZvciAoY29uc3QgZmlsZSBvZiBmaWxlcykgewogICAgY29uc3QgbGkgPSBkb2N1bWVudC5jcmVhdGVFbGVtZW50KCdsaScpOwogICAgbGkuYXBwZW5kKHNwYW4oZmlsZS5uYW1lLCB7Zm9udFdlaWdodDogJ2JvbGQnfSkpOwogICAgbGkuYXBwZW5kKHNwYW4oCiAgICAgICAgYCgke2ZpbGUudHlwZSB8fCAnbi9hJ30pIC0gJHtmaWxlLnNpemV9IGJ5dGVzLCBgICsKICAgICAgICBgbGFzdCBtb2RpZmllZDogJHsKICAgICAgICAgICAgZmlsZS5sYXN0TW9kaWZpZWREYXRlID8gZmlsZS5sYXN0TW9kaWZpZWREYXRlLnRvTG9jYWxlRGF0ZVN0cmluZygpIDoKICAgICAgICAgICAgICAgICAgICAgICAgICAgICAgICAgICAgJ24vYSd9IC0gYCkpOwogICAgY29uc3QgcGVyY2VudCA9IHNwYW4oJzAlIGRvbmUnKTsKICAgIGxpLmFwcGVuZENoaWxkKHBlcmNlbnQpOwoKICAgIG91dHB1dEVsZW1lbnQuYXBwZW5kQ2hpbGQobGkpOwoKICAgIGNvbnN0IGZpbGVEYXRhUHJvbWlzZSA9IG5ldyBQcm9taXNlKChyZXNvbHZlKSA9PiB7CiAgICAgIGNvbnN0IHJlYWRlciA9IG5ldyBGaWxlUmVhZGVyKCk7CiAgICAgIHJlYWRlci5vbmxvYWQgPSAoZSkgPT4gewogICAgICAgIHJlc29sdmUoZS50YXJnZXQucmVzdWx0KTsKICAgICAgfTsKICAgICAgcmVhZGVyLnJlYWRBc0FycmF5QnVmZmVyKGZpbGUpOwogICAgfSk7CiAgICAvLyBXYWl0IGZvciB0aGUgZGF0YSB0byBiZSByZWFkeS4KICAgIGxldCBmaWxlRGF0YSA9IHlpZWxkIHsKICAgICAgcHJvbWlzZTogZmlsZURhdGFQcm9taXNlLAogICAgICByZXNwb25zZTogewogICAgICAgIGFjdGlvbjogJ2NvbnRpbnVlJywKICAgICAgfQogICAgfTsKCiAgICAvLyBVc2UgYSBjaHVua2VkIHNlbmRpbmcgdG8gYXZvaWQgbWVzc2FnZSBzaXplIGxpbWl0cy4gU2VlIGIvNjIxMTU2NjAuCiAgICBsZXQgcG9zaXRpb24gPSAwOwogICAgZG8gewogICAgICBjb25zdCBsZW5ndGggPSBNYXRoLm1pbihmaWxlRGF0YS5ieXRlTGVuZ3RoIC0gcG9zaXRpb24sIE1BWF9QQVlMT0FEX1NJWkUpOwogICAgICBjb25zdCBjaHVuayA9IG5ldyBVaW50OEFycmF5KGZpbGVEYXRhLCBwb3NpdGlvbiwgbGVuZ3RoKTsKICAgICAgcG9zaXRpb24gKz0gbGVuZ3RoOwoKICAgICAgY29uc3QgYmFzZTY0ID0gYnRvYShTdHJpbmcuZnJvbUNoYXJDb2RlLmFwcGx5KG51bGwsIGNodW5rKSk7CiAgICAgIHlpZWxkIHsKICAgICAgICByZXNwb25zZTogewogICAgICAgICAgYWN0aW9uOiAnYXBwZW5kJywKICAgICAgICAgIGZpbGU6IGZpbGUubmFtZSwKICAgICAgICAgIGRhdGE6IGJhc2U2NCwKICAgICAgICB9LAogICAgICB9OwoKICAgICAgbGV0IHBlcmNlbnREb25lID0gZmlsZURhdGEuYnl0ZUxlbmd0aCA9PT0gMCA/CiAgICAgICAgICAxMDAgOgogICAgICAgICAgTWF0aC5yb3VuZCgocG9zaXRpb24gLyBmaWxlRGF0YS5ieXRlTGVuZ3RoKSAqIDEwMCk7CiAgICAgIHBlcmNlbnQudGV4dENvbnRlbnQgPSBgJHtwZXJjZW50RG9uZX0lIGRvbmVgOwoKICAgIH0gd2hpbGUgKHBvc2l0aW9uIDwgZmlsZURhdGEuYnl0ZUxlbmd0aCk7CiAgfQoKICAvLyBBbGwgZG9uZS4KICB5aWVsZCB7CiAgICByZXNwb25zZTogewogICAgICBhY3Rpb246ICdjb21wbGV0ZScsCiAgICB9CiAgfTsKfQoKc2NvcGUuZ29vZ2xlID0gc2NvcGUuZ29vZ2xlIHx8IHt9OwpzY29wZS5nb29nbGUuY29sYWIgPSBzY29wZS5nb29nbGUuY29sYWIgfHwge307CnNjb3BlLmdvb2dsZS5jb2xhYi5fZmlsZXMgPSB7CiAgX3VwbG9hZEZpbGVzLAogIF91cGxvYWRGaWxlc0NvbnRpbnVlLAp9Owp9KShzZWxmKTsK",
              "ok": true,
              "headers": [
                [
                  "content-type",
                  "application/javascript"
                ]
              ],
              "status": 200,
              "status_text": ""
            }
          },
          "base_uri": "https://localhost:8080/",
          "height": 198
        },
        "id": "4RmvXb5pCRMy",
        "outputId": "25ef9de3-6af5-4d80-c960-6e33ebf5ab84"
      },
      "execution_count": null,
      "outputs": [
        {
          "output_type": "stream",
          "name": "stdout",
          "text": [
            "Upload all_instruments z_vectors\n"
          ]
        },
        {
          "output_type": "display_data",
          "data": {
            "text/plain": [
              "<IPython.core.display.HTML object>"
            ],
            "text/html": [
              "\n",
              "     <input type=\"file\" id=\"files-45a97698-04b0-4bc0-8a8d-8a567625a267\" name=\"files[]\" multiple disabled\n",
              "        style=\"border:none\" />\n",
              "     <output id=\"result-45a97698-04b0-4bc0-8a8d-8a567625a267\">\n",
              "      Upload widget is only available when the cell has been executed in the\n",
              "      current browser session. Please rerun this cell to enable.\n",
              "      </output>\n",
              "      <script src=\"/nbextensions/google.colab/files.js\"></script> "
            ]
          },
          "metadata": {}
        },
        {
          "output_type": "stream",
          "name": "stdout",
          "text": [
            "Saving z_vectors.npy to z_vectors (3).npy\n",
            "Writing /content/gansynth/midi/z_vectors.npy\n",
            "Upload midi file\n"
          ]
        },
        {
          "output_type": "display_data",
          "data": {
            "text/plain": [
              "<IPython.core.display.HTML object>"
            ],
            "text/html": [
              "\n",
              "     <input type=\"file\" id=\"files-2706964d-bd20-4344-953c-879025a4537f\" name=\"files[]\" multiple disabled\n",
              "        style=\"border:none\" />\n",
              "     <output id=\"result-2706964d-bd20-4344-953c-879025a4537f\">\n",
              "      Upload widget is only available when the cell has been executed in the\n",
              "      current browser session. Please rerun this cell to enable.\n",
              "      </output>\n",
              "      <script src=\"/nbextensions/google.colab/files.js\"></script> "
            ]
          },
          "metadata": {}
        },
        {
          "output_type": "stream",
          "name": "stdout",
          "text": [
            "Saving Donkey Kong 64 - Jungle Japes Central.mid to Donkey Kong 64 - Jungle Japes Central (2).mid\n",
            "Writing /content/gansynth/midi/Donkey Kong 64 - Jungle Japes Central.mid\n"
          ]
        }
      ]
    },
    {
      "cell_type": "markdown",
      "source": [
        "We then create audio with GANSynth using a midifile and the chosen latent vector."
      ],
      "metadata": {
        "id": "UvN3NwwgDcp4"
      }
    },
    {
      "cell_type": "code",
      "source": [
        "ns, notes = load_midi(midi_path)\n",
        "\n",
        "z_notes = np.repeat(z_list[best_idx], notes['pitches'].shape[0], axis=0)\n",
        "audio_notes = model.generate_samples_from_z(z_notes, notes['pitches'])\n",
        "\n",
        "audio_clip = combine_notes(audio_notes,\n",
        "                          notes['start_times'],\n",
        "                          notes['end_times'],\n",
        "                          notes['velocities'], sr=22050)\n",
        "play(audio_clip, sample_rate=22050)\n",
        "\n",
        "fname = f'{model_type}_final.wav'\n",
        "gu.save_wav(audio_clip, fname)\n",
        "download(fname)"
      ],
      "metadata": {
        "colab": {
          "base_uri": "https://localhost:8080/",
          "height": 110
        },
        "id": "YP4KHNCTDa9T",
        "outputId": "6f60c2c5-5a62-4f04-94e0-1f67e292f10b"
      },
      "execution_count": null,
      "outputs": [
        {
          "output_type": "stream",
          "name": "stdout",
          "text": [
            "generate_samples: generated 1724 samples in 1172.318693637848s\n"
          ]
        },
        {
          "output_type": "display_data",
          "data": {
            "text/plain": [
              "<IPython.core.display.HTML object>"
            ],
            "text/html": [
              "<div id=\"id_2\"> </div>"
            ]
          },
          "metadata": {}
        },
        {
          "output_type": "stream",
          "name": "stdout",
          "text": [
            "Saved to all_instruments_final.wav\n"
          ]
        },
        {
          "output_type": "display_data",
          "data": {
            "text/plain": [
              "<IPython.core.display.Javascript object>"
            ],
            "application/javascript": [
              "\n",
              "    async function download(id, filename, size) {\n",
              "      if (!google.colab.kernel.accessAllowed) {\n",
              "        return;\n",
              "      }\n",
              "      const div = document.createElement('div');\n",
              "      const label = document.createElement('label');\n",
              "      label.textContent = `Downloading \"${filename}\": `;\n",
              "      div.appendChild(label);\n",
              "      const progress = document.createElement('progress');\n",
              "      progress.max = size;\n",
              "      div.appendChild(progress);\n",
              "      document.body.appendChild(div);\n",
              "\n",
              "      const buffers = [];\n",
              "      let downloaded = 0;\n",
              "\n",
              "      const channel = await google.colab.kernel.comms.open(id);\n",
              "      // Send a message to notify the kernel that we're ready.\n",
              "      channel.send({})\n",
              "\n",
              "      for await (const message of channel.messages) {\n",
              "        // Send a message to notify the kernel that we're ready.\n",
              "        channel.send({})\n",
              "        if (message.buffers) {\n",
              "          for (const buffer of message.buffers) {\n",
              "            buffers.push(buffer);\n",
              "            downloaded += buffer.byteLength;\n",
              "            progress.value = downloaded;\n",
              "          }\n",
              "        }\n",
              "      }\n",
              "      const blob = new Blob(buffers, {type: 'application/binary'});\n",
              "      const a = document.createElement('a');\n",
              "      a.href = window.URL.createObjectURL(blob);\n",
              "      a.download = filename;\n",
              "      div.appendChild(a);\n",
              "      a.click();\n",
              "      div.remove();\n",
              "    }\n",
              "  "
            ]
          },
          "metadata": {}
        },
        {
          "output_type": "display_data",
          "data": {
            "text/plain": [
              "<IPython.core.display.Javascript object>"
            ],
            "application/javascript": [
              "download(\"download_50aaa9df-d121-41df-b907-eb1a3108bac1\", \"all_instruments_final.wav\", 22843858)"
            ]
          },
          "metadata": {}
        }
      ]
    }
  ],
  "metadata": {
    "colab": {
      "collapsed_sections": [],
      "name": "Copy of gansynth_external.ipynb",
      "provenance": []
    },
    "kernelspec": {
      "display_name": "Python 3",
      "name": "python3"
    }
  },
  "nbformat": 4,
  "nbformat_minor": 0
}