{
 "cells": [
  {
   "cell_type": "code",
   "execution_count": 73,
   "metadata": {},
   "outputs": [],
   "source": [
    "from pydub import AudioSegment\n",
    "import os"
   ]
  },
  {
   "cell_type": "code",
   "execution_count": 74,
   "metadata": {},
   "outputs": [],
   "source": [
    "def slice_audio(audio_file: str, slice_length: int = 1):\n",
    "    audio = AudioSegment.from_wav(audio_file)\n",
    "    slices = []\n",
    "\n",
    "    for i in range(0, len(audio), slice_length * 1000):\n",
    "        if not i == round(len(audio) / 1000) * 1000:\n",
    "            slices.append(audio[i:i + (slice_length * 1000)])\n",
    "\n",
    "    return slices"
   ]
  },
  {
   "cell_type": "code",
   "execution_count": 75,
   "metadata": {},
   "outputs": [],
   "source": [
    "def export_slices(slices: list, initial_sample_name: str, saving_location: str):\n",
    "    for i in range(len(slices)):\n",
    "        slices[i].export(saving_location + initial_sample_name[:-4] + f\"_{(i + 1)}.wav\", format=\"wav\")"
   ]
  },
  {
   "cell_type": "code",
   "execution_count": 76,
   "metadata": {},
   "outputs": [],
   "source": [
    "def main():\n",
    "    files_location = \"../Data/genres_original/rock/\"\n",
    "    audio_files = [elem.strip() for elem in os.listdir(files_location)]\n",
    "    export_location = \"../data_sliced/three/\"\n",
    "\n",
    "    for audio_file in audio_files:\n",
    "        slices = slice_audio(audio_file=files_location + audio_file, slice_length=3)\n",
    "        export_slices(slices, audio_file, export_location)"
   ]
  },
  {
   "cell_type": "code",
   "execution_count": 77,
   "metadata": {},
   "outputs": [],
   "source": [
    "main()"
   ]
  }
 ],
 "metadata": {
  "interpreter": {
   "hash": "bf1adbe8e335ecf28c0b052e5e1416ce084712442938f8f0b1b1952d47c681a8"
  },
  "kernelspec": {
   "display_name": "Python 3.7.13 ('audio_pi')",
   "language": "python",
   "name": "python3"
  },
  "language_info": {
   "codemirror_mode": {
    "name": "ipython",
    "version": 3
   },
   "file_extension": ".py",
   "mimetype": "text/x-python",
   "name": "python",
   "nbconvert_exporter": "python",
   "pygments_lexer": "ipython3",
   "version": "3.7.13"
  },
  "orig_nbformat": 4
 },
 "nbformat": 4,
 "nbformat_minor": 2
}
