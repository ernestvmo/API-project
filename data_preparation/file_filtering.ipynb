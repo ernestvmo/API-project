{
 "cells": [
  {
   "cell_type": "code",
   "execution_count": 1,
   "metadata": {},
   "outputs": [],
   "source": [
    "import os\n",
    "import shutil"
   ]
  },
  {
   "cell_type": "code",
   "execution_count": 5,
   "metadata": {},
   "outputs": [],
   "source": [
    "def filter_and_copy_files(source, destination):\n",
    "    audio_files = []\n",
    "    for instru_dir in os.listdir(source):\n",
    "        for audio_file in os.listdir(source + instru_dir):\n",
    "            if \"[pop_roc]\" in audio_file:\n",
    "                audio_files.append(instru_dir + '/' + audio_file)\n",
    "                shutil.copyfile(src='/'.join([source, instru_dir, audio_file]), dst='/'.join([destination, audio_file]))\n",
    "    if not len(os.listdir(destination)) == len(audio_files):\n",
    "        raise ValueError(\"SOMETHING WENT WRONG\")\n",
    "    else:\n",
    "        print(f\"{len(audio_files)} elements were copied to {destination}\")"
   ]
  },
  {
   "cell_type": "code",
   "execution_count": 7,
   "metadata": {},
   "outputs": [
    {
     "name": "stdout",
     "output_type": "stream",
     "text": [
      "2476 were copied to ../data/irmas/\n"
     ]
    }
   ],
   "source": [
    "source_path = \"C:/Users/Ernest/Desktop/API Project/Data/IRMAS/IRMAS-TrainingData/\"\n",
    "dest_path = \"../data/irmas/\"\n",
    "\n",
    "filter_and_copy_files(source=source_path, destination=dest_path)"
   ]
  }
 ],
 "metadata": {
  "interpreter": {
   "hash": "bf1adbe8e335ecf28c0b052e5e1416ce084712442938f8f0b1b1952d47c681a8"
  },
  "kernelspec": {
   "display_name": "Python 3.7.13 ('audio_pi')",
   "language": "python",
   "name": "python3"
  },
  "language_info": {
   "codemirror_mode": {
    "name": "ipython",
    "version": 3
   },
   "file_extension": ".py",
   "mimetype": "text/x-python",
   "name": "python",
   "nbconvert_exporter": "python",
   "pygments_lexer": "ipython3",
   "version": "3.7.13"
  },
  "orig_nbformat": 4
 },
 "nbformat": 4,
 "nbformat_minor": 2
}
