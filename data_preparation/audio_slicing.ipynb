{
 "cells": [
  {
   "cell_type": "code",
   "execution_count": 1,
   "metadata": {},
   "outputs": [
    {
     "name": "stderr",
     "output_type": "stream",
     "text": [
      "/opt/miniconda3/envs/mp3net/lib/python3.6/site-packages/pydub/utils.py:170: RuntimeWarning: Couldn't find ffmpeg or avconv - defaulting to ffmpeg, but may not work\n",
      "  warn(\"Couldn't find ffmpeg or avconv - defaulting to ffmpeg, but may not work\", RuntimeWarning)\n"
     ]
    }
   ],
   "source": [
    "from pydub import AudioSegment\n",
    "import os"
   ]
  },
  {
   "cell_type": "code",
   "execution_count": 15,
   "metadata": {},
   "outputs": [],
   "source": [
    "def slice_audio(audio_file: str, slice_length: float = 1):\n",
    "    audio = AudioSegment.from_wav(audio_file)\n",
    "    slices = []\n",
    "\n",
    "    for i in range(0, len(audio), int(slice_length * 1000)):\n",
    "        if not i == round(len(audio) / 1000) * 1000:\n",
    "            slices.append(audio[i:i + int(slice_length * 1000)])\n",
    "\n",
    "    return slices"
   ]
  },
  {
   "cell_type": "code",
   "execution_count": 9,
   "metadata": {},
   "outputs": [],
   "source": [
    "def export_slices(slices: list, initial_sample_name: str, saving_location: str):\n",
    "    for i in range(len(slices)):\n",
    "        slices[i].export(saving_location + initial_sample_name[:-4] + f\"_{(i + 1)}.wav\", format=\"wav\")"
   ]
  },
  {
   "cell_type": "code",
   "execution_count": 10,
   "metadata": {},
   "outputs": [],
   "source": [
    "def main():\n",
    "    files_location = \"../data/temp/\"\n",
    "    audio_files = [elem.strip() for elem in os.listdir(files_location)]\n",
    "    export_location = \"../data/data_mp3net/one/\"\n",
    "\n",
    "    for audio_file in audio_files:\n",
    "        slices = slice_audio(audio_file=files_location + audio_file, slice_length=.5)\n",
    "        export_slices(slices, audio_file, export_location)"
   ]
  },
  {
   "cell_type": "code",
   "execution_count": 14,
   "metadata": {},
   "outputs": [
    {
     "name": "stdout",
     "output_type": "stream",
     "text": [
      "0\n",
      "500\n"
     ]
    }
   ],
   "source": [
    "for i in range(0, 1000, int(0.5 * 1000)):\n",
    "    print(i)"
   ]
  },
  {
   "cell_type": "code",
   "execution_count": 16,
   "metadata": {},
   "outputs": [],
   "source": [
    "main()"
   ]
  }
 ],
 "metadata": {
  "interpreter": {
   "hash": "a6b2e56f0519ae17a00dc02b6a8a6d7dde3c724e6b8021c04dcca72722e10a34"
  },
  "kernelspec": {
   "display_name": "Python 3.6.13 ('mp3net')",
   "language": "python",
   "name": "python3"
  },
  "language_info": {
   "codemirror_mode": {
    "name": "ipython",
    "version": 3
   },
   "file_extension": ".py",
   "mimetype": "text/x-python",
   "name": "python",
   "nbconvert_exporter": "python",
   "pygments_lexer": "ipython3",
   "version": "3.6.13"
  },
  "orig_nbformat": 4
 },
 "nbformat": 4,
 "nbformat_minor": 2
}
